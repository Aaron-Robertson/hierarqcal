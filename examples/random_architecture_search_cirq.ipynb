{
 "cells": [
  {
   "cell_type": "markdown",
   "id": "e1f1b591-8517-44e4-8c2a-bdc7e92334fc",
   "metadata": {},
   "source": [
    "An example for random architecture search, using the default ML example from tensorflow quantum (https://www.tensorflow.org/quantum/tutorials/mnist)"
   ]
  },
  {
   "cell_type": "markdown",
   "id": "1d773890-e2c9-4d75-aa1e-533da92849de",
   "metadata": {},
   "source": [
    "### Setup"
   ]
  },
  {
   "cell_type": "code",
   "execution_count": 8,
   "id": "d8d714fe-1556-4af7-9ff0-61c1a5077ded",
   "metadata": {
    "collapsed": true,
    "jupyter": {
     "outputs_hidden": true
    },
    "tags": []
   },
   "outputs": [
    {
     "name": "stdout",
     "output_type": "stream",
     "text": [
      "Collecting tensorflow==2.7.0\n",
      "  Using cached tensorflow-2.7.0-cp38-cp38-manylinux2010_x86_64.whl (489.6 MB)\n",
      "Requirement already satisfied: tensorboard~=2.6 in /home/matt/.pyenv/versions/3.8.1/envs/test10/lib/python3.8/site-packages (from tensorflow==2.7.0) (2.11.0)\n",
      "Requirement already satisfied: keras-preprocessing>=1.1.1 in /home/matt/.pyenv/versions/3.8.1/envs/test10/lib/python3.8/site-packages (from tensorflow==2.7.0) (1.1.2)\n",
      "Requirement already satisfied: protobuf>=3.9.2 in /home/matt/.pyenv/versions/3.8.1/envs/test10/lib/python3.8/site-packages (from tensorflow==2.7.0) (3.17.3)\n",
      "Requirement already satisfied: six>=1.12.0 in /home/matt/.pyenv/versions/3.8.1/envs/test10/lib/python3.8/site-packages (from tensorflow==2.7.0) (1.16.0)\n",
      "Requirement already satisfied: wrapt>=1.11.0 in /home/matt/.pyenv/versions/3.8.1/envs/test10/lib/python3.8/site-packages (from tensorflow==2.7.0) (1.14.1)\n",
      "Requirement already satisfied: tensorflow-estimator<2.8,~=2.7.0rc0 in /home/matt/.pyenv/versions/3.8.1/envs/test10/lib/python3.8/site-packages (from tensorflow==2.7.0) (2.7.0)\n",
      "Requirement already satisfied: gast<0.5.0,>=0.2.1 in /home/matt/.pyenv/versions/3.8.1/envs/test10/lib/python3.8/site-packages (from tensorflow==2.7.0) (0.4.0)\n",
      "Requirement already satisfied: h5py>=2.9.0 in /home/matt/.pyenv/versions/3.8.1/envs/test10/lib/python3.8/site-packages (from tensorflow==2.7.0) (3.7.0)\n",
      "Requirement already satisfied: libclang>=9.0.1 in /home/matt/.pyenv/versions/3.8.1/envs/test10/lib/python3.8/site-packages (from tensorflow==2.7.0) (14.0.6)\n",
      "Requirement already satisfied: termcolor>=1.1.0 in /home/matt/.pyenv/versions/3.8.1/envs/test10/lib/python3.8/site-packages (from tensorflow==2.7.0) (2.1.1)\n",
      "Requirement already satisfied: grpcio<2.0,>=1.24.3 in /home/matt/.pyenv/versions/3.8.1/envs/test10/lib/python3.8/site-packages (from tensorflow==2.7.0) (1.51.0)\n",
      "Requirement already satisfied: wheel<1.0,>=0.32.0 in /home/matt/.pyenv/versions/3.8.1/envs/test10/lib/python3.8/site-packages (from tensorflow==2.7.0) (0.38.4)\n",
      "Requirement already satisfied: tensorflow-io-gcs-filesystem>=0.21.0 in /home/matt/.pyenv/versions/3.8.1/envs/test10/lib/python3.8/site-packages (from tensorflow==2.7.0) (0.28.0)\n",
      "Requirement already satisfied: flatbuffers<3.0,>=1.12 in /home/matt/.pyenv/versions/3.8.1/envs/test10/lib/python3.8/site-packages (from tensorflow==2.7.0) (2.0.7)\n",
      "Requirement already satisfied: astunparse>=1.6.0 in /home/matt/.pyenv/versions/3.8.1/envs/test10/lib/python3.8/site-packages (from tensorflow==2.7.0) (1.6.3)\n",
      "Requirement already satisfied: typing-extensions>=3.6.6 in /home/matt/.pyenv/versions/3.8.1/envs/test10/lib/python3.8/site-packages (from tensorflow==2.7.0) (4.4.0)\n",
      "Requirement already satisfied: numpy>=1.14.5 in /home/matt/.pyenv/versions/3.8.1/envs/test10/lib/python3.8/site-packages (from tensorflow==2.7.0) (1.23.5)\n",
      "Requirement already satisfied: google-pasta>=0.1.1 in /home/matt/.pyenv/versions/3.8.1/envs/test10/lib/python3.8/site-packages (from tensorflow==2.7.0) (0.2.0)\n",
      "Requirement already satisfied: absl-py>=0.4.0 in /home/matt/.pyenv/versions/3.8.1/envs/test10/lib/python3.8/site-packages (from tensorflow==2.7.0) (1.3.0)\n",
      "Requirement already satisfied: keras<2.8,>=2.7.0rc0 in /home/matt/.pyenv/versions/3.8.1/envs/test10/lib/python3.8/site-packages (from tensorflow==2.7.0) (2.7.0)\n",
      "Requirement already satisfied: opt-einsum>=2.3.2 in /home/matt/.pyenv/versions/3.8.1/envs/test10/lib/python3.8/site-packages (from tensorflow==2.7.0) (3.3.0)\n",
      "Requirement already satisfied: requests<3,>=2.21.0 in /home/matt/.pyenv/versions/3.8.1/envs/test10/lib/python3.8/site-packages (from tensorboard~=2.6->tensorflow==2.7.0) (2.28.1)\n",
      "Requirement already satisfied: google-auth-oauthlib<0.5,>=0.4.1 in /home/matt/.pyenv/versions/3.8.1/envs/test10/lib/python3.8/site-packages (from tensorboard~=2.6->tensorflow==2.7.0) (0.4.6)\n",
      "Requirement already satisfied: setuptools>=41.0.0 in /home/matt/.pyenv/versions/3.8.1/envs/test10/lib/python3.8/site-packages (from tensorboard~=2.6->tensorflow==2.7.0) (62.3.2)\n",
      "Requirement already satisfied: google-auth<3,>=1.6.3 in /home/matt/.pyenv/versions/3.8.1/envs/test10/lib/python3.8/site-packages (from tensorboard~=2.6->tensorflow==2.7.0) (1.18.0)\n",
      "Requirement already satisfied: markdown>=2.6.8 in /home/matt/.pyenv/versions/3.8.1/envs/test10/lib/python3.8/site-packages (from tensorboard~=2.6->tensorflow==2.7.0) (3.4.1)\n",
      "Requirement already satisfied: werkzeug>=1.0.1 in /home/matt/.pyenv/versions/3.8.1/envs/test10/lib/python3.8/site-packages (from tensorboard~=2.6->tensorflow==2.7.0) (2.2.2)\n",
      "Requirement already satisfied: tensorboard-plugin-wit>=1.6.0 in /home/matt/.pyenv/versions/3.8.1/envs/test10/lib/python3.8/site-packages (from tensorboard~=2.6->tensorflow==2.7.0) (1.8.1)\n",
      "Requirement already satisfied: tensorboard-data-server<0.7.0,>=0.6.0 in /home/matt/.pyenv/versions/3.8.1/envs/test10/lib/python3.8/site-packages (from tensorboard~=2.6->tensorflow==2.7.0) (0.6.1)\n",
      "Requirement already satisfied: cachetools<5.0,>=2.0.0 in /home/matt/.pyenv/versions/3.8.1/envs/test10/lib/python3.8/site-packages (from google-auth<3,>=1.6.3->tensorboard~=2.6->tensorflow==2.7.0) (4.2.4)\n",
      "Requirement already satisfied: pyasn1-modules>=0.2.1 in /home/matt/.pyenv/versions/3.8.1/envs/test10/lib/python3.8/site-packages (from google-auth<3,>=1.6.3->tensorboard~=2.6->tensorflow==2.7.0) (0.2.8)\n",
      "Requirement already satisfied: rsa<5,>=3.1.4 in /home/matt/.pyenv/versions/3.8.1/envs/test10/lib/python3.8/site-packages (from google-auth<3,>=1.6.3->tensorboard~=2.6->tensorflow==2.7.0) (4.9)\n",
      "Requirement already satisfied: requests-oauthlib>=0.7.0 in /home/matt/.pyenv/versions/3.8.1/envs/test10/lib/python3.8/site-packages (from google-auth-oauthlib<0.5,>=0.4.1->tensorboard~=2.6->tensorflow==2.7.0) (1.3.1)\n",
      "Requirement already satisfied: importlib-metadata>=4.4 in /home/matt/.pyenv/versions/3.8.1/envs/test10/lib/python3.8/site-packages (from markdown>=2.6.8->tensorboard~=2.6->tensorflow==2.7.0) (5.0.0)\n",
      "Requirement already satisfied: charset-normalizer<3,>=2 in /home/matt/.pyenv/versions/3.8.1/envs/test10/lib/python3.8/site-packages (from requests<3,>=2.21.0->tensorboard~=2.6->tensorflow==2.7.0) (2.1.1)\n",
      "Requirement already satisfied: idna<4,>=2.5 in /home/matt/.pyenv/versions/3.8.1/envs/test10/lib/python3.8/site-packages (from requests<3,>=2.21.0->tensorboard~=2.6->tensorflow==2.7.0) (3.4)\n",
      "Requirement already satisfied: certifi>=2017.4.17 in /home/matt/.pyenv/versions/3.8.1/envs/test10/lib/python3.8/site-packages (from requests<3,>=2.21.0->tensorboard~=2.6->tensorflow==2.7.0) (2022.9.24)\n",
      "Requirement already satisfied: urllib3<1.27,>=1.21.1 in /home/matt/.pyenv/versions/3.8.1/envs/test10/lib/python3.8/site-packages (from requests<3,>=2.21.0->tensorboard~=2.6->tensorflow==2.7.0) (1.26.12)\n",
      "Requirement already satisfied: MarkupSafe>=2.1.1 in /home/matt/.pyenv/versions/3.8.1/envs/test10/lib/python3.8/site-packages (from werkzeug>=1.0.1->tensorboard~=2.6->tensorflow==2.7.0) (2.1.1)\n",
      "Requirement already satisfied: zipp>=0.5 in /home/matt/.pyenv/versions/3.8.1/envs/test10/lib/python3.8/site-packages (from importlib-metadata>=4.4->markdown>=2.6.8->tensorboard~=2.6->tensorflow==2.7.0) (3.10.0)\n",
      "Requirement already satisfied: pyasn1<0.5.0,>=0.4.6 in /home/matt/.pyenv/versions/3.8.1/envs/test10/lib/python3.8/site-packages (from pyasn1-modules>=0.2.1->google-auth<3,>=1.6.3->tensorboard~=2.6->tensorflow==2.7.0) (0.4.8)\n",
      "Requirement already satisfied: oauthlib>=3.0.0 in /home/matt/.pyenv/versions/3.8.1/envs/test10/lib/python3.8/site-packages (from requests-oauthlib>=0.7.0->google-auth-oauthlib<0.5,>=0.4.1->tensorboard~=2.6->tensorflow==2.7.0) (3.2.2)\n",
      "Installing collected packages: tensorflow\n",
      "  Attempting uninstall: tensorflow\n",
      "    Found existing installation: tensorflow 2.7.3\n",
      "    Uninstalling tensorflow-2.7.3:\n",
      "      Successfully uninstalled tensorflow-2.7.3\n",
      "Successfully installed tensorflow-2.7.0\n",
      "Note: you may need to restart the kernel to use updated packages.\n"
     ]
    }
   ],
   "source": [
    "pip install tensorflow==2.7.0"
   ]
  },
  {
   "cell_type": "code",
   "execution_count": null,
   "id": "daf45517-ab54-4e33-96e4-84249ec75d88",
   "metadata": {
    "collapsed": true,
    "jupyter": {
     "outputs_hidden": true
    },
    "tags": []
   },
   "outputs": [
    {
     "name": "stdout",
     "output_type": "stream",
     "text": [
      "Collecting tensorflow-quantum==0.7.2\n",
      "  Using cached tensorflow_quantum-0.7.2-cp38-cp38-manylinux_2_12_x86_64.manylinux2010_x86_64.whl (10.5 MB)\n",
      "Collecting google-auth==1.18.0\n",
      "  Using cached google_auth-1.18.0-py2.py3-none-any.whl (90 kB)\n",
      "Requirement already satisfied: cirq-google>=0.13.1 in /home/matt/.pyenv/versions/3.8.1/envs/test10/lib/python3.8/site-packages (from tensorflow-quantum==0.7.2) (1.0.0)\n",
      "Collecting googleapis-common-protos==1.52.0\n",
      "  Using cached googleapis_common_protos-1.52.0-py2.py3-none-any.whl (100 kB)\n",
      "Collecting protobuf==3.17.3\n",
      "  Using cached protobuf-3.17.3-cp38-cp38-manylinux_2_5_x86_64.manylinux1_x86_64.whl (1.0 MB)\n",
      "Collecting cirq-core==0.13.1\n",
      "  Using cached cirq_core-0.13.1-py3-none-any.whl (1.6 MB)\n",
      "Collecting sympy==1.8\n",
      "  Using cached sympy-1.8-py3-none-any.whl (6.1 MB)\n",
      "Collecting google-api-core==1.21.0\n",
      "  Using cached google_api_core-1.21.0-py2.py3-none-any.whl (90 kB)\n",
      "Requirement already satisfied: networkx~=2.4 in /home/matt/.pyenv/versions/3.8.1/envs/test10/lib/python3.8/site-packages (from cirq-core==0.13.1->tensorflow-quantum==0.7.2) (2.8.8)\n",
      "Requirement already satisfied: matplotlib~=3.0 in /home/matt/.pyenv/versions/3.8.1/envs/test10/lib/python3.8/site-packages (from cirq-core==0.13.1->tensorflow-quantum==0.7.2) (3.5.1)\n",
      "Requirement already satisfied: numpy~=1.16 in /home/matt/.pyenv/versions/3.8.1/envs/test10/lib/python3.8/site-packages (from cirq-core==0.13.1->tensorflow-quantum==0.7.2) (1.23.5)\n",
      "Requirement already satisfied: scipy in /home/matt/.pyenv/versions/3.8.1/envs/test10/lib/python3.8/site-packages (from cirq-core==0.13.1->tensorflow-quantum==0.7.2) (1.9.3)\n",
      "Requirement already satisfied: duet~=0.2.0 in /home/matt/.pyenv/versions/3.8.1/envs/test10/lib/python3.8/site-packages (from cirq-core==0.13.1->tensorflow-quantum==0.7.2) (0.2.7)\n",
      "Requirement already satisfied: tqdm in /home/matt/.pyenv/versions/3.8.1/envs/test10/lib/python3.8/site-packages (from cirq-core==0.13.1->tensorflow-quantum==0.7.2) (4.64.1)\n",
      "Requirement already satisfied: sortedcontainers~=2.0 in /home/matt/.pyenv/versions/3.8.1/envs/test10/lib/python3.8/site-packages (from cirq-core==0.13.1->tensorflow-quantum==0.7.2) (2.4.0)\n",
      "Requirement already satisfied: typing-extensions in /home/matt/.pyenv/versions/3.8.1/envs/test10/lib/python3.8/site-packages (from cirq-core==0.13.1->tensorflow-quantum==0.7.2) (4.4.0)\n",
      "Requirement already satisfied: pandas in /home/matt/.pyenv/versions/3.8.1/envs/test10/lib/python3.8/site-packages (from cirq-core==0.13.1->tensorflow-quantum==0.7.2) (1.5.1)\n",
      "Requirement already satisfied: pytz in /home/matt/.pyenv/versions/3.8.1/envs/test10/lib/python3.8/site-packages (from google-api-core==1.21.0->tensorflow-quantum==0.7.2) (2022.6)\n",
      "Requirement already satisfied: six>=1.10.0 in /home/matt/.pyenv/versions/3.8.1/envs/test10/lib/python3.8/site-packages (from google-api-core==1.21.0->tensorflow-quantum==0.7.2) (1.16.0)\n",
      "Requirement already satisfied: setuptools>=34.0.0 in /home/matt/.pyenv/versions/3.8.1/envs/test10/lib/python3.8/site-packages (from google-api-core==1.21.0->tensorflow-quantum==0.7.2) (62.3.2)\n",
      "Requirement already satisfied: requests<3.0.0dev,>=2.18.0 in /home/matt/.pyenv/versions/3.8.1/envs/test10/lib/python3.8/site-packages (from google-api-core==1.21.0->tensorflow-quantum==0.7.2) (2.28.1)\n",
      "Requirement already satisfied: rsa<5,>=3.1.4 in /home/matt/.pyenv/versions/3.8.1/envs/test10/lib/python3.8/site-packages (from google-auth==1.18.0->tensorflow-quantum==0.7.2) (4.9)\n",
      "Requirement already satisfied: pyasn1-modules>=0.2.1 in /home/matt/.pyenv/versions/3.8.1/envs/test10/lib/python3.8/site-packages (from google-auth==1.18.0->tensorflow-quantum==0.7.2) (0.2.8)\n",
      "Collecting cachetools<5.0,>=2.0.0\n",
      "  Using cached cachetools-4.2.4-py3-none-any.whl (10 kB)\n",
      "Requirement already satisfied: mpmath>=0.19 in /home/matt/.pyenv/versions/3.8.1/envs/test10/lib/python3.8/site-packages (from sympy==1.8->tensorflow-quantum==0.7.2) (1.2.1)\n",
      "Collecting cirq-google>=0.13.1\n",
      "  Using cached cirq_google-0.15.0-py3-none-any.whl (641 kB)\n",
      "  Using cached cirq_google-0.14.1-py3-none-any.whl (541 kB)\n",
      "  Using cached cirq_google-0.14.0-py3-none-any.whl (541 kB)\n",
      "  Using cached cirq_google-0.13.1-py3-none-any.whl (437 kB)\n",
      "Requirement already satisfied: google-api-core[grpc]<2.0.0dev,>=1.14.0 in /home/matt/.pyenv/versions/3.8.1/envs/test10/lib/python3.8/site-packages (from cirq-google>=0.13.1->tensorflow-quantum==0.7.2) (1.33.2)\n",
      "Collecting google-api-core[grpc]<2.0.0dev,>=1.14.0\n",
      "  Using cached google_api_core-1.33.1-py3-none-any.whl (115 kB)\n",
      "  Using cached google_api_core-1.33.0-py3-none-any.whl (115 kB)\n",
      "  Using cached google_api_core-1.32.0-py2.py3-none-any.whl (93 kB)\n",
      "  Using cached google_api_core-1.31.6-py2.py3-none-any.whl (93 kB)\n",
      "  Using cached google_api_core-1.31.5-py2.py3-none-any.whl (93 kB)\n",
      "  Using cached google_api_core-1.31.4-py2.py3-none-any.whl (93 kB)\n",
      "  Using cached google_api_core-1.31.3-py2.py3-none-any.whl (93 kB)\n",
      "  Using cached google_api_core-1.31.2-py2.py3-none-any.whl (93 kB)\n",
      "  Using cached google_api_core-1.31.1-py2.py3-none-any.whl (93 kB)\n",
      "  Using cached google_api_core-1.31.0-py2.py3-none-any.whl (93 kB)\n",
      "  Using cached google_api_core-1.30.0-py2.py3-none-any.whl (93 kB)\n",
      "  Using cached google_api_core-1.29.0-py2.py3-none-any.whl (93 kB)\n",
      "  Using cached google_api_core-1.28.0-py2.py3-none-any.whl (92 kB)\n",
      "  Using cached google_api_core-1.27.0-py2.py3-none-any.whl (93 kB)\n",
      "  Using cached google_api_core-1.26.3-py2.py3-none-any.whl (93 kB)\n",
      "  Using cached google_api_core-1.26.2-py2.py3-none-any.whl (93 kB)\n",
      "  Using cached google_api_core-1.26.1-py2.py3-none-any.whl (92 kB)\n",
      "  Using cached google_api_core-1.26.0-py2.py3-none-any.whl (92 kB)\n",
      "  Using cached google_api_core-1.25.1-py2.py3-none-any.whl (92 kB)\n",
      "  Using cached google_api_core-1.25.0-py2.py3-none-any.whl (92 kB)\n",
      "  Using cached google_api_core-1.24.1-py2.py3-none-any.whl (92 kB)\n",
      "  Using cached google_api_core-1.24.0-py2.py3-none-any.whl (91 kB)\n",
      "  Using cached google_api_core-1.23.0-py2.py3-none-any.whl (91 kB)\n",
      "  Using cached google_api_core-1.22.4-py2.py3-none-any.whl (91 kB)\n",
      "  Using cached google_api_core-1.22.3-py2.py3-none-any.whl (91 kB)\n",
      "  Using cached google_api_core-1.22.2-py2.py3-none-any.whl (91 kB)\n",
      "  Using cached google_api_core-1.22.1-py2.py3-none-any.whl (91 kB)\n",
      "  Using cached google_api_core-1.22.0-py2.py3-none-any.whl (91 kB)\n",
      "Requirement already satisfied: grpcio<2.0dev,>=1.29.0 in /home/matt/.pyenv/versions/3.8.1/envs/test10/lib/python3.8/site-packages (from google-api-core==1.21.0->tensorflow-quantum==0.7.2) (1.51.0)\n",
      "Requirement already satisfied: fonttools>=4.22.0 in /home/matt/.pyenv/versions/3.8.1/envs/test10/lib/python3.8/site-packages (from matplotlib~=3.0->cirq-core==0.13.1->tensorflow-quantum==0.7.2) (4.38.0)\n",
      "Requirement already satisfied: kiwisolver>=1.0.1 in /home/matt/.pyenv/versions/3.8.1/envs/test10/lib/python3.8/site-packages (from matplotlib~=3.0->cirq-core==0.13.1->tensorflow-quantum==0.7.2) (1.4.4)\n",
      "Requirement already satisfied: pillow>=6.2.0 in /home/matt/.pyenv/versions/3.8.1/envs/test10/lib/python3.8/site-packages (from matplotlib~=3.0->cirq-core==0.13.1->tensorflow-quantum==0.7.2) (9.3.0)\n",
      "Requirement already satisfied: packaging>=20.0 in /home/matt/.pyenv/versions/3.8.1/envs/test10/lib/python3.8/site-packages (from matplotlib~=3.0->cirq-core==0.13.1->tensorflow-quantum==0.7.2) (21.3)\n",
      "Requirement already satisfied: pyparsing>=2.2.1 in /home/matt/.pyenv/versions/3.8.1/envs/test10/lib/python3.8/site-packages (from matplotlib~=3.0->cirq-core==0.13.1->tensorflow-quantum==0.7.2) (3.0.9)\n",
      "Requirement already satisfied: python-dateutil>=2.7 in /home/matt/.pyenv/versions/3.8.1/envs/test10/lib/python3.8/site-packages (from matplotlib~=3.0->cirq-core==0.13.1->tensorflow-quantum==0.7.2) (2.8.2)\n",
      "Requirement already satisfied: cycler>=0.10 in /home/matt/.pyenv/versions/3.8.1/envs/test10/lib/python3.8/site-packages (from matplotlib~=3.0->cirq-core==0.13.1->tensorflow-quantum==0.7.2) (0.11.0)\n",
      "Requirement already satisfied: pyasn1<0.5.0,>=0.4.6 in /home/matt/.pyenv/versions/3.8.1/envs/test10/lib/python3.8/site-packages (from pyasn1-modules>=0.2.1->google-auth==1.18.0->tensorflow-quantum==0.7.2) (0.4.8)\n",
      "Requirement already satisfied: certifi>=2017.4.17 in /home/matt/.pyenv/versions/3.8.1/envs/test10/lib/python3.8/site-packages (from requests<3.0.0dev,>=2.18.0->google-api-core==1.21.0->tensorflow-quantum==0.7.2) (2022.9.24)\n",
      "Requirement already satisfied: charset-normalizer<3,>=2 in /home/matt/.pyenv/versions/3.8.1/envs/test10/lib/python3.8/site-packages (from requests<3.0.0dev,>=2.18.0->google-api-core==1.21.0->tensorflow-quantum==0.7.2) (2.1.1)\n",
      "Requirement already satisfied: urllib3<1.27,>=1.21.1 in /home/matt/.pyenv/versions/3.8.1/envs/test10/lib/python3.8/site-packages (from requests<3.0.0dev,>=2.18.0->google-api-core==1.21.0->tensorflow-quantum==0.7.2) (1.26.12)\n",
      "Requirement already satisfied: idna<4,>=2.5 in /home/matt/.pyenv/versions/3.8.1/envs/test10/lib/python3.8/site-packages (from requests<3.0.0dev,>=2.18.0->google-api-core==1.21.0->tensorflow-quantum==0.7.2) (3.4)\n",
      "Installing collected packages: sympy, protobuf, cachetools, googleapis-common-protos, google-auth, google-api-core, cirq-core, cirq-google, tensorflow-quantum\n",
      "  Attempting uninstall: sympy\n",
      "    Found existing installation: sympy 1.11.1\n",
      "    Uninstalling sympy-1.11.1:\n",
      "      Successfully uninstalled sympy-1.11.1\n",
      "  Attempting uninstall: protobuf\n",
      "    Found existing installation: protobuf 3.20.3\n",
      "    Uninstalling protobuf-3.20.3:\n",
      "      Successfully uninstalled protobuf-3.20.3\n",
      "  Attempting uninstall: cachetools\n",
      "    Found existing installation: cachetools 5.2.0\n",
      "    Uninstalling cachetools-5.2.0:\n",
      "      Successfully uninstalled cachetools-5.2.0\n",
      "  Attempting uninstall: googleapis-common-protos\n",
      "    Found existing installation: googleapis-common-protos 1.57.0\n",
      "    Uninstalling googleapis-common-protos-1.57.0:\n",
      "      Successfully uninstalled googleapis-common-protos-1.57.0\n",
      "  Attempting uninstall: google-auth\n",
      "    Found existing installation: google-auth 2.14.1\n",
      "    Uninstalling google-auth-2.14.1:\n",
      "      Successfully uninstalled google-auth-2.14.1\n",
      "  Attempting uninstall: google-api-core\n",
      "    Found existing installation: google-api-core 1.33.2\n",
      "    Uninstalling google-api-core-1.33.2:\n",
      "      Successfully uninstalled google-api-core-1.33.2\n",
      "  Attempting uninstall: cirq-core\n",
      "    Found existing installation: cirq-core 1.0.0\n",
      "    Uninstalling cirq-core-1.0.0:\n",
      "      Successfully uninstalled cirq-core-1.0.0\n",
      "  Attempting uninstall: cirq-google\n",
      "    Found existing installation: cirq-google 1.0.0\n",
      "    Uninstalling cirq-google-1.0.0:\n",
      "      Successfully uninstalled cirq-google-1.0.0\n",
      "\u001b[31mERROR: pip's dependency resolver does not currently take into account all the packages that are installed. This behaviour is the source of the following dependency conflicts.\n",
      "proto-plus 1.22.1 requires protobuf<5.0.0dev,>=3.19.0, but you have protobuf 3.17.3 which is incompatible.\n",
      "cirq 1.0.0 requires cirq-core==1.0.0, but you have cirq-core 0.13.1 which is incompatible.\n",
      "cirq 1.0.0 requires cirq-google==1.0.0, but you have cirq-google 0.13.1 which is incompatible.\n",
      "cirq-web 1.0.0 requires cirq-core==1.0.0, but you have cirq-core 0.13.1 which is incompatible.\n",
      "cirq-rigetti 1.0.0 requires cirq-core==1.0.0, but you have cirq-core 0.13.1 which is incompatible.\n",
      "cirq-pasqal 1.0.0 requires cirq-core==1.0.0, but you have cirq-core 0.13.1 which is incompatible.\n",
      "cirq-ionq 1.0.0 requires cirq-core==1.0.0, but you have cirq-core 0.13.1 which is incompatible.\n",
      "cirq-aqt 1.0.0 requires cirq-core==1.0.0, but you have cirq-core 0.13.1 which is incompatible.\u001b[0m\u001b[31m\n",
      "\u001b[0mSuccessfully installed cachetools-4.2.4 cirq-core-0.13.1 cirq-google-0.13.1 google-api-core-1.21.0 google-auth-1.18.0 googleapis-common-protos-1.52.0 protobuf-3.17.3 sympy-1.8 tensorflow-quantum-0.7.2\n",
      "\u001b[33mWARNING: There was an error checking the latest version of pip.\u001b[0m\u001b[33m\n",
      "\u001b[0mNote: you may need to restart the kernel to use updated packages.\n"
     ]
    }
   ],
   "source": [
    "pip install -U tensorflow-quantum"
   ]
  },
  {
   "cell_type": "code",
   "execution_count": null,
   "id": "7f479850-af88-4179-ace0-0922ed3b537c",
   "metadata": {},
   "outputs": [
    {
     "data": {
      "text/plain": [
       "<module 'pkg_resources' from '/home/matt/.pyenv/versions/test10/lib/python3.8/site-packages/pkg_resources/__init__.py'>"
      ]
     },
     "execution_count": 3,
     "metadata": {},
     "output_type": "execute_result"
    }
   ],
   "source": [
    "# Update package resources to account for version changes.\n",
    "import importlib, pkg_resources\n",
    "importlib.reload(pkg_resources)"
   ]
  },
  {
   "cell_type": "code",
   "execution_count": null,
   "id": "91e214cf-ae69-44fa-a993-dad5d8648526",
   "metadata": {},
   "outputs": [],
   "source": [
    "# Load libraries\n",
    "import sympy\n",
    "import numpy as np"
   ]
  },
  {
   "cell_type": "code",
   "execution_count": null,
   "id": "29b6a12f-3217-49df-8400-51619a1aff8b",
   "metadata": {},
   "outputs": [],
   "source": [
    "# Core library functionality\n",
    "from dynamic_qcnn import (\n",
    "    Qcnn,\n",
    "    Qfree,\n",
    "    Qconv,\n",
    "    Qpool,\n",
    "    Qdense,\n",
    "    plot_graph,\n",
    ")"
   ]
  },
  {
   "cell_type": "code",
   "execution_count": null,
   "id": "98684f11-d32e-4254-9173-b93030ef6bae",
   "metadata": {
    "collapsed": true,
    "jupyter": {
     "outputs_hidden": true
    },
    "tags": []
   },
   "outputs": [
    {
     "ename": "AttributeError",
     "evalue": "partially initialized module 'cirq' has no attribute 'TwoQubitCompilationTargetGateset' (most likely due to a circular import)",
     "output_type": "error",
     "traceback": [
      "\u001b[0;31m---------------------------------------------------------------------------\u001b[0m",
      "\u001b[0;31mAttributeError\u001b[0m                            Traceback (most recent call last)",
      "Cell \u001b[0;32mIn [4], line 2\u001b[0m\n\u001b[1;32m      1\u001b[0m \u001b[38;5;66;03m# Specific to cirq\u001b[39;00m\n\u001b[0;32m----> 2\u001b[0m \u001b[38;5;28;01mfrom\u001b[39;00m \u001b[38;5;21;01mdynamic_qcnn\u001b[39;00m\u001b[38;5;21;01m.\u001b[39;00m\u001b[38;5;21;01mcirq\u001b[39;00m \u001b[38;5;28;01mimport\u001b[39;00m convert_graph_to_circuit_cirq, pretty_cirq_plot\n",
      "File \u001b[0;32m~/.pyenv/versions/test10/lib/python3.8/site-packages/dynamic_qcnn/__init__.py:1\u001b[0m\n\u001b[0;32m----> 1\u001b[0m \u001b[38;5;28;01mfrom\u001b[39;00m \u001b[38;5;21;01m.\u001b[39;00m\u001b[38;5;21;01mcore\u001b[39;00m \u001b[38;5;28;01mimport\u001b[39;00m Qconv, Qdense, Qpool, Qfree, Qcnn, Qmotifs, Qmotif\n\u001b[1;32m      2\u001b[0m \u001b[38;5;28;01mfrom\u001b[39;00m \u001b[38;5;21;01m.\u001b[39;00m\u001b[38;5;21;01mutils\u001b[39;00m \u001b[38;5;28;01mimport\u001b[39;00m plot_qcnn_graphs, plot_graph\n\u001b[1;32m      4\u001b[0m __all__ \u001b[38;5;241m=\u001b[39m [\n\u001b[1;32m      5\u001b[0m     \u001b[38;5;124m\"\u001b[39m\u001b[38;5;124mQcnn\u001b[39m\u001b[38;5;124m\"\u001b[39m,\n\u001b[1;32m      6\u001b[0m     \u001b[38;5;124m\"\u001b[39m\u001b[38;5;124mQconv\u001b[39m\u001b[38;5;124m\"\u001b[39m,\n\u001b[0;32m   (...)\u001b[0m\n\u001b[1;32m     13\u001b[0m     \u001b[38;5;124m\"\u001b[39m\u001b[38;5;124mplot_graph\u001b[39m\u001b[38;5;124m\"\u001b[39m,\n\u001b[1;32m     14\u001b[0m ]\n",
      "File \u001b[0;32m~/.pyenv/versions/test10/lib/python3.8/site-packages/dynamic_qcnn/core.py:8\u001b[0m\n\u001b[1;32m      6\u001b[0m \u001b[38;5;28;01mimport\u001b[39;00m \u001b[38;5;21;01mnumpy\u001b[39;00m \u001b[38;5;28;01mas\u001b[39;00m \u001b[38;5;21;01mnp\u001b[39;00m\n\u001b[1;32m      7\u001b[0m \u001b[38;5;28;01mimport\u001b[39;00m \u001b[38;5;21;01mitertools\u001b[39;00m \u001b[38;5;28;01mas\u001b[39;00m \u001b[38;5;21;01mit\u001b[39;00m\n\u001b[0;32m----> 8\u001b[0m \u001b[38;5;28;01mimport\u001b[39;00m \u001b[38;5;21;01mcirq\u001b[39;00m\n\u001b[1;32m     11\u001b[0m \u001b[38;5;66;03m# TODO remove these functions, use defaults differently\u001b[39;00m\n\u001b[1;32m     12\u001b[0m \u001b[38;5;66;03m# Default pooling circuit\u001b[39;00m\n\u001b[1;32m     13\u001b[0m \u001b[38;5;28;01mdef\u001b[39;00m \u001b[38;5;21mU\u001b[39m(bits, symbols\u001b[38;5;241m=\u001b[39m\u001b[38;5;28;01mNone\u001b[39;00m):\n\u001b[1;32m     14\u001b[0m     \u001b[38;5;66;03m# circuit = QubitCircuit(len(bits))\u001b[39;00m\n\u001b[1;32m     15\u001b[0m     \u001b[38;5;66;03m# circuit.add_gate(\"RZ\", controls=bits[0], targets=bits[1], control_value=symbols[0])\u001b[39;00m\n",
      "File \u001b[0;32m~/.pyenv/versions/test10/lib/python3.8/site-packages/cirq/__init__.py:632\u001b[0m\n\u001b[1;32m    620\u001b[0m \u001b[38;5;28;01mfrom\u001b[39;00m \u001b[38;5;21;01mcirq\u001b[39;00m \u001b[38;5;28;01mimport\u001b[39;00m (\n\u001b[1;32m    621\u001b[0m     testing,\n\u001b[1;32m    622\u001b[0m )\n\u001b[1;32m    624\u001b[0m _compat\u001b[38;5;241m.\u001b[39mdeprecated_submodule(\n\u001b[1;32m    625\u001b[0m     new_module_name\u001b[38;5;241m=\u001b[39m\u001b[38;5;124m'\u001b[39m\u001b[38;5;124mcirq_google\u001b[39m\u001b[38;5;124m'\u001b[39m,\n\u001b[1;32m    626\u001b[0m     old_parent\u001b[38;5;241m=\u001b[39m\u001b[38;5;18m__name__\u001b[39m,\n\u001b[0;32m   (...)\u001b[0m\n\u001b[1;32m    629\u001b[0m     create_attribute\u001b[38;5;241m=\u001b[39m\u001b[38;5;28;01mTrue\u001b[39;00m,\n\u001b[1;32m    630\u001b[0m )\n\u001b[0;32m--> 632\u001b[0m \u001b[43m_compat\u001b[49m\u001b[38;5;241;43m.\u001b[39;49m\u001b[43mdeprecated_submodule\u001b[49m\u001b[43m(\u001b[49m\n\u001b[1;32m    633\u001b[0m \u001b[43m    \u001b[49m\u001b[43mnew_module_name\u001b[49m\u001b[38;5;241;43m=\u001b[39;49m\u001b[38;5;124;43m'\u001b[39;49m\u001b[38;5;124;43mcirq_aqt\u001b[39;49m\u001b[38;5;124;43m'\u001b[39;49m\u001b[43m,\u001b[49m\n\u001b[1;32m    634\u001b[0m \u001b[43m    \u001b[49m\u001b[43mold_parent\u001b[49m\u001b[38;5;241;43m=\u001b[39;49m\u001b[38;5;18;43m__name__\u001b[39;49m\u001b[43m,\u001b[49m\n\u001b[1;32m    635\u001b[0m \u001b[43m    \u001b[49m\u001b[43mold_child\u001b[49m\u001b[38;5;241;43m=\u001b[39;49m\u001b[38;5;124;43m'\u001b[39;49m\u001b[38;5;124;43maqt\u001b[39;49m\u001b[38;5;124;43m'\u001b[39;49m\u001b[43m,\u001b[49m\n\u001b[1;32m    636\u001b[0m \u001b[43m    \u001b[49m\u001b[43mdeadline\u001b[49m\u001b[38;5;241;43m=\u001b[39;49m\u001b[38;5;124;43m\"\u001b[39;49m\u001b[38;5;124;43mv0.14\u001b[39;49m\u001b[38;5;124;43m\"\u001b[39;49m\u001b[43m,\u001b[49m\n\u001b[1;32m    637\u001b[0m \u001b[43m    \u001b[49m\u001b[43mcreate_attribute\u001b[49m\u001b[38;5;241;43m=\u001b[39;49m\u001b[38;5;28;43;01mTrue\u001b[39;49;00m\u001b[43m,\u001b[49m\n\u001b[1;32m    638\u001b[0m \u001b[43m)\u001b[49m\n\u001b[1;32m    641\u001b[0m _compat\u001b[38;5;241m.\u001b[39mdeprecated_submodule(\n\u001b[1;32m    642\u001b[0m     new_module_name\u001b[38;5;241m=\u001b[39m\u001b[38;5;124m'\u001b[39m\u001b[38;5;124mcirq_ionq\u001b[39m\u001b[38;5;124m'\u001b[39m,\n\u001b[1;32m    643\u001b[0m     old_parent\u001b[38;5;241m=\u001b[39m\u001b[38;5;18m__name__\u001b[39m,\n\u001b[0;32m   (...)\u001b[0m\n\u001b[1;32m    646\u001b[0m     create_attribute\u001b[38;5;241m=\u001b[39m\u001b[38;5;28;01mTrue\u001b[39;00m,\n\u001b[1;32m    647\u001b[0m )\n\u001b[1;32m    649\u001b[0m _compat\u001b[38;5;241m.\u001b[39mdeprecated_submodule(\n\u001b[1;32m    650\u001b[0m     new_module_name\u001b[38;5;241m=\u001b[39m\u001b[38;5;124m'\u001b[39m\u001b[38;5;124mcirq_pasqal\u001b[39m\u001b[38;5;124m'\u001b[39m,\n\u001b[1;32m    651\u001b[0m     old_parent\u001b[38;5;241m=\u001b[39m\u001b[38;5;18m__name__\u001b[39m,\n\u001b[0;32m   (...)\u001b[0m\n\u001b[1;32m    654\u001b[0m     create_attribute\u001b[38;5;241m=\u001b[39m\u001b[38;5;28;01mTrue\u001b[39;00m,\n\u001b[1;32m    655\u001b[0m )\n",
      "File \u001b[0;32m~/.pyenv/versions/test10/lib/python3.8/site-packages/cirq/_compat.py:626\u001b[0m, in \u001b[0;36mdeprecated_submodule\u001b[0;34m(new_module_name, old_parent, old_child, deadline, create_attribute)\u001b[0m\n\u001b[1;32m    624\u001b[0m \u001b[38;5;28;01mif\u001b[39;00m create_attribute:\n\u001b[1;32m    625\u001b[0m     \u001b[38;5;28;01mtry\u001b[39;00m:\n\u001b[0;32m--> 626\u001b[0m         new_module \u001b[38;5;241m=\u001b[39m \u001b[43mimportlib\u001b[49m\u001b[38;5;241;43m.\u001b[39;49m\u001b[43mimport_module\u001b[49m\u001b[43m(\u001b[49m\u001b[43mnew_module_name\u001b[49m\u001b[43m)\u001b[49m\n\u001b[1;32m    627\u001b[0m         _setup_deprecated_submodule_attribute(\n\u001b[1;32m    628\u001b[0m             new_module_name, old_parent, old_child, deadline, new_module\n\u001b[1;32m    629\u001b[0m         )\n\u001b[1;32m    630\u001b[0m     \u001b[38;5;28;01mexcept\u001b[39;00m \u001b[38;5;167;01mImportError\u001b[39;00m \u001b[38;5;28;01mas\u001b[39;00m ex:\n",
      "File \u001b[0;32m~/.pyenv/versions/3.8.1/lib/python3.8/importlib/__init__.py:127\u001b[0m, in \u001b[0;36mimport_module\u001b[0;34m(name, package)\u001b[0m\n\u001b[1;32m    125\u001b[0m             \u001b[38;5;28;01mbreak\u001b[39;00m\n\u001b[1;32m    126\u001b[0m         level \u001b[38;5;241m+\u001b[39m\u001b[38;5;241m=\u001b[39m \u001b[38;5;241m1\u001b[39m\n\u001b[0;32m--> 127\u001b[0m \u001b[38;5;28;01mreturn\u001b[39;00m \u001b[43m_bootstrap\u001b[49m\u001b[38;5;241;43m.\u001b[39;49m\u001b[43m_gcd_import\u001b[49m\u001b[43m(\u001b[49m\u001b[43mname\u001b[49m\u001b[43m[\u001b[49m\u001b[43mlevel\u001b[49m\u001b[43m:\u001b[49m\u001b[43m]\u001b[49m\u001b[43m,\u001b[49m\u001b[43m \u001b[49m\u001b[43mpackage\u001b[49m\u001b[43m,\u001b[49m\u001b[43m \u001b[49m\u001b[43mlevel\u001b[49m\u001b[43m)\u001b[49m\n",
      "File \u001b[0;32m~/.pyenv/versions/test10/lib/python3.8/site-packages/cirq_aqt/__init__.py:19\u001b[0m\n\u001b[1;32m     15\u001b[0m \u001b[38;5;124;03m\"\"\"Types and methods related to the AQT ion trap device\"\"\"\u001b[39;00m\n\u001b[1;32m     17\u001b[0m \u001b[38;5;28;01mfrom\u001b[39;00m \u001b[38;5;21;01mcirq_aqt\u001b[39;00m\u001b[38;5;21;01m.\u001b[39;00m\u001b[38;5;21;01m_version\u001b[39;00m \u001b[38;5;28;01mimport\u001b[39;00m __version__\n\u001b[0;32m---> 19\u001b[0m \u001b[38;5;28;01mfrom\u001b[39;00m \u001b[38;5;21;01mcirq_aqt\u001b[39;00m\u001b[38;5;21;01m.\u001b[39;00m\u001b[38;5;21;01maqt_sampler\u001b[39;00m \u001b[38;5;28;01mimport\u001b[39;00m AQTSampler, AQTSamplerLocalSimulator\n\u001b[1;32m     20\u001b[0m \u001b[38;5;28;01mfrom\u001b[39;00m \u001b[38;5;21;01mcirq_aqt\u001b[39;00m\u001b[38;5;21;01m.\u001b[39;00m\u001b[38;5;21;01maqt_device\u001b[39;00m \u001b[38;5;28;01mimport\u001b[39;00m AQTSimulator\n",
      "File \u001b[0;32m~/.pyenv/versions/test10/lib/python3.8/site-packages/cirq_aqt/aqt_sampler.py:34\u001b[0m\n\u001b[1;32m     31\u001b[0m \u001b[38;5;28;01mfrom\u001b[39;00m \u001b[38;5;21;01mrequests\u001b[39;00m \u001b[38;5;28;01mimport\u001b[39;00m put\n\u001b[1;32m     33\u001b[0m \u001b[38;5;28;01mimport\u001b[39;00m \u001b[38;5;21;01mcirq\u001b[39;00m\n\u001b[0;32m---> 34\u001b[0m \u001b[38;5;28;01mfrom\u001b[39;00m \u001b[38;5;21;01mcirq_aqt\u001b[39;00m\u001b[38;5;21;01m.\u001b[39;00m\u001b[38;5;21;01maqt_device\u001b[39;00m \u001b[38;5;28;01mimport\u001b[39;00m AQTSimulator, get_op_string\n\u001b[1;32m     37\u001b[0m \u001b[38;5;28;01mclass\u001b[39;00m \u001b[38;5;21;01mAQTSampler\u001b[39;00m(cirq\u001b[38;5;241m.\u001b[39mSampler):\n\u001b[1;32m     38\u001b[0m     \u001b[38;5;124;03m\"\"\"cirq.Sampler for the AQT ion trap device\u001b[39;00m\n\u001b[1;32m     39\u001b[0m \u001b[38;5;124;03m    This sampler connects to the AQT machine and\u001b[39;00m\n\u001b[1;32m     40\u001b[0m \u001b[38;5;124;03m    runs a single circuit or an entire sweep remotely\u001b[39;00m\n\u001b[1;32m     41\u001b[0m \u001b[38;5;124;03m    \"\"\"\u001b[39;00m\n",
      "File \u001b[0;32m~/.pyenv/versions/test10/lib/python3.8/site-packages/cirq_aqt/aqt_device.py:34\u001b[0m\n\u001b[1;32m     31\u001b[0m \u001b[38;5;28;01mimport\u001b[39;00m \u001b[38;5;21;01mnumpy\u001b[39;00m \u001b[38;5;28;01mas\u001b[39;00m \u001b[38;5;21;01mnp\u001b[39;00m\n\u001b[1;32m     33\u001b[0m \u001b[38;5;28;01mimport\u001b[39;00m \u001b[38;5;21;01mcirq\u001b[39;00m\n\u001b[0;32m---> 34\u001b[0m \u001b[38;5;28;01mfrom\u001b[39;00m \u001b[38;5;21;01mcirq_aqt\u001b[39;00m \u001b[38;5;28;01mimport\u001b[39;00m aqt_device_metadata\n\u001b[1;32m     36\u001b[0m gate_dict \u001b[38;5;241m=\u001b[39m {\u001b[38;5;124m'\u001b[39m\u001b[38;5;124mX\u001b[39m\u001b[38;5;124m'\u001b[39m: cirq\u001b[38;5;241m.\u001b[39mX, \u001b[38;5;124m'\u001b[39m\u001b[38;5;124mY\u001b[39m\u001b[38;5;124m'\u001b[39m: cirq\u001b[38;5;241m.\u001b[39mY, \u001b[38;5;124m'\u001b[39m\u001b[38;5;124mZ\u001b[39m\u001b[38;5;124m'\u001b[39m: cirq\u001b[38;5;241m.\u001b[39mZ, \u001b[38;5;124m'\u001b[39m\u001b[38;5;124mMS\u001b[39m\u001b[38;5;124m'\u001b[39m: cirq\u001b[38;5;241m.\u001b[39mXX, \u001b[38;5;124m'\u001b[39m\u001b[38;5;124mR\u001b[39m\u001b[38;5;124m'\u001b[39m: cirq\u001b[38;5;241m.\u001b[39mPhasedXPowGate}\n\u001b[1;32m     39\u001b[0m \u001b[38;5;28;01mdef\u001b[39;00m \u001b[38;5;21mget_op_string\u001b[39m(op_obj: cirq\u001b[38;5;241m.\u001b[39mOperation) \u001b[38;5;241m-\u001b[39m\u001b[38;5;241m>\u001b[39m \u001b[38;5;28mstr\u001b[39m:\n",
      "File \u001b[0;32m~/.pyenv/versions/test10/lib/python3.8/site-packages/cirq_aqt/aqt_device_metadata.py:24\u001b[0m\n\u001b[1;32m     21\u001b[0m \u001b[38;5;28;01mimport\u001b[39;00m \u001b[38;5;21;01mnetworkx\u001b[39;00m \u001b[38;5;28;01mas\u001b[39;00m \u001b[38;5;21;01mnx\u001b[39;00m\n\u001b[1;32m     23\u001b[0m \u001b[38;5;28;01mimport\u001b[39;00m \u001b[38;5;21;01mcirq\u001b[39;00m\n\u001b[0;32m---> 24\u001b[0m \u001b[38;5;28;01mfrom\u001b[39;00m \u001b[38;5;21;01mcirq_aqt\u001b[39;00m \u001b[38;5;28;01mimport\u001b[39;00m aqt_target_gateset\n\u001b[1;32m     27\u001b[0m \u001b[38;5;28;01mclass\u001b[39;00m \u001b[38;5;21;01mAQTDeviceMetadata\u001b[39;00m(cirq\u001b[38;5;241m.\u001b[39mDeviceMetadata):\n\u001b[1;32m     28\u001b[0m     \u001b[38;5;124;03m\"\"\"Hardware metadata for ion trap device with all-connected qubits placed on a line.\"\"\"\u001b[39;00m\n",
      "File \u001b[0;32m~/.pyenv/versions/test10/lib/python3.8/site-packages/cirq_aqt/aqt_target_gateset.py:26\u001b[0m\n\u001b[1;32m     22\u001b[0m \u001b[38;5;28;01mimport\u001b[39;00m \u001b[38;5;21;01mcirq\u001b[39;00m\n\u001b[1;32m     23\u001b[0m \u001b[38;5;28;01mfrom\u001b[39;00m \u001b[38;5;21;01mcirq\u001b[39;00m\u001b[38;5;21;01m.\u001b[39;00m\u001b[38;5;21;01mprotocols\u001b[39;00m\u001b[38;5;21;01m.\u001b[39;00m\u001b[38;5;21;01mdecompose_protocol\u001b[39;00m \u001b[38;5;28;01mimport\u001b[39;00m DecomposeResult\n\u001b[0;32m---> 26\u001b[0m \u001b[38;5;28;01mclass\u001b[39;00m \u001b[38;5;21;01mAQTTargetGateset\u001b[39;00m(\u001b[43mcirq\u001b[49m\u001b[38;5;241;43m.\u001b[39;49m\u001b[43mTwoQubitCompilationTargetGateset\u001b[49m):\n\u001b[1;32m     27\u001b[0m     \u001b[38;5;124;03m\"\"\"Target gateset accepting XXPowGate + X/Y/Z/PhX single qubit rotations + measurement gates.\u001b[39;00m\n\u001b[1;32m     28\u001b[0m \n\u001b[1;32m     29\u001b[0m \u001b[38;5;124;03m    By default, `cirq_aqt.AQTTargetGateset` will accept and compile unknown\u001b[39;00m\n\u001b[0;32m   (...)\u001b[0m\n\u001b[1;32m     35\u001b[0m \u001b[38;5;124;03m    - `cirq.MeasurementGate`: Measurements.\u001b[39;00m\n\u001b[1;32m     36\u001b[0m \u001b[38;5;124;03m    \"\"\"\u001b[39;00m\n\u001b[1;32m     38\u001b[0m     \u001b[38;5;28;01mdef\u001b[39;00m \u001b[38;5;21m__init__\u001b[39m(\u001b[38;5;28mself\u001b[39m):\n",
      "File \u001b[0;32m~/.pyenv/versions/test10/lib/python3.8/site-packages/cirq/_compat.py:685\u001b[0m, in \u001b[0;36m_setup_deprecated_submodule_attribute.<locals>.Wrapped.__getattr__\u001b[0;34m(self, name)\u001b[0m\n\u001b[1;32m    681\u001b[0m \u001b[38;5;28;01mif\u001b[39;00m name \u001b[38;5;241m==\u001b[39m old_child:\n\u001b[1;32m    682\u001b[0m     _deduped_module_warn_or_error(\n\u001b[1;32m    683\u001b[0m         \u001b[38;5;124mf\u001b[39m\u001b[38;5;124m\"\u001b[39m\u001b[38;5;132;01m{\u001b[39;00mold_parent\u001b[38;5;132;01m}\u001b[39;00m\u001b[38;5;124m.\u001b[39m\u001b[38;5;132;01m{\u001b[39;00mold_child\u001b[38;5;132;01m}\u001b[39;00m\u001b[38;5;124m\"\u001b[39m, new_module_name, deadline\n\u001b[1;32m    684\u001b[0m     )\n\u001b[0;32m--> 685\u001b[0m \u001b[38;5;28;01mreturn\u001b[39;00m \u001b[38;5;28;43mgetattr\u001b[39;49m\u001b[43m(\u001b[49m\u001b[43mparent_module\u001b[49m\u001b[43m,\u001b[49m\u001b[43m \u001b[49m\u001b[43mname\u001b[49m\u001b[43m)\u001b[49m\n",
      "\u001b[0;31mAttributeError\u001b[0m: partially initialized module 'cirq' has no attribute 'TwoQubitCompilationTargetGateset' (most likely due to a circular import)"
     ]
    }
   ],
   "source": [
    "# Specific to cirq\n",
    "import tensorflow as tf\n",
    "import tensorflow_quantum as tfq\n",
    "import cirq\n",
    "from cirq.contrib.svg import SVGCircuit\n",
    "from dynamic_qcnn.cirq import convert_graph_to_circuit_cirq, pretty_cirq_plot"
   ]
  },
  {
   "cell_type": "code",
   "execution_count": null,
   "id": "791d7b3c-6cfa-452a-a311-8aedd2e761d8",
   "metadata": {},
   "outputs": [],
   "source": [
    "(x_train, y_train), (x_test, y_test) = tf.keras.datasets.mnist.load_data()\n",
    "\n",
    "# Rescale the images from [0,255] to the [0.0,1.0] range.\n",
    "x_train, x_test = x_train[..., np.newaxis]/255.0, x_test[..., np.newaxis]/255.0\n",
    "\n",
    "print(\"Number of original training examples:\", len(x_train))\n",
    "print(\"Number of original test examples:\", len(x_test))"
   ]
  },
  {
   "cell_type": "code",
   "execution_count": null,
   "id": "bcb1b9e5-1415-45bc-8c4a-799bde95bb0c",
   "metadata": {},
   "outputs": [],
   "source": [
    "def filter_36(x, y):\n",
    "    keep = (y == 3) | (y == 6)\n",
    "    x, y = x[keep], y[keep]\n",
    "    y = y == 3\n",
    "    return x,y"
   ]
  },
  {
   "cell_type": "code",
   "execution_count": null,
   "id": "923c5f1f-de0d-41ef-8df2-d4cdc612b381",
   "metadata": {},
   "outputs": [],
   "source": [
    "x_train, y_train = filter_36(x_train, y_train)\n",
    "x_test, y_test = filter_36(x_test, y_test)\n",
    "\n",
    "print(\"Number of filtered training examples:\", len(x_train))\n",
    "print(\"Number of filtered test examples:\", len(x_test))"
   ]
  },
  {
   "cell_type": "code",
   "execution_count": null,
   "id": "d7fa07f7-3bdb-4cbe-aab4-9f4ab38941b1",
   "metadata": {},
   "outputs": [],
   "source": [
    "print(y_train[0])\n",
    "\n",
    "plt.imshow(x_train[0, :, :, 0])\n",
    "plt.colorbar()"
   ]
  },
  {
   "cell_type": "code",
   "execution_count": null,
   "id": "92b4fbbd-d034-4022-9ede-340f302f6c08",
   "metadata": {},
   "outputs": [],
   "source": [
    "x_train_small = tf.image.resize(x_train, (4,4)).numpy()\n",
    "x_test_small = tf.image.resize(x_test, (4,4)).numpy()"
   ]
  },
  {
   "cell_type": "code",
   "execution_count": null,
   "id": "41414f94-3efd-4c00-9789-ceca485ad8e0",
   "metadata": {},
   "outputs": [],
   "source": [
    "print(y_train[0])\n",
    "\n",
    "plt.imshow(x_train_small[0,:,:,0], vmin=0, vmax=1)\n",
    "plt.colorbar()"
   ]
  },
  {
   "cell_type": "code",
   "execution_count": null,
   "id": "f5ee16e4-73b3-43dc-849d-9a4566917def",
   "metadata": {},
   "outputs": [],
   "source": [
    "THRESHOLD = 0.5\n",
    "\n",
    "x_train_bin = np.array(x_train_nocon > THRESHOLD, dtype=np.float32)\n",
    "x_test_bin = np.array(x_test_small > THRESHOLD, dtype=np.float32)"
   ]
  },
  {
   "cell_type": "code",
   "execution_count": null,
   "id": "936d2958-062c-4859-bc23-ae5b8b8c3942",
   "metadata": {},
   "outputs": [],
   "source": [
    "def convert_to_circuit(image):\n",
    "    \"\"\"Encode truncated classical image into quantum datapoint.\"\"\"\n",
    "    values = np.ndarray.flatten(image)\n",
    "    qubits = cirq.GridQubit.rect(4, 4)\n",
    "    circuit = cirq.Circuit()\n",
    "    for i, value in enumerate(values):\n",
    "        if value:\n",
    "            circuit.append(cirq.X(qubits[i]))\n",
    "    return circuit\n",
    "\n",
    "\n",
    "x_train_circ = [convert_to_circuit(x) for x in x_train_bin]\n",
    "x_test_circ = [convert_to_circuit(x) for x in x_test_bin]"
   ]
  },
  {
   "cell_type": "code",
   "execution_count": null,
   "id": "48c9f2bb-a520-492e-9d54-9b5445477a0d",
   "metadata": {},
   "outputs": [],
   "source": [
    "SVGCircuit(x_train_circ[0])"
   ]
  },
  {
   "cell_type": "code",
   "execution_count": null,
   "id": "f0eea2dc-8531-488f-93b8-c432d0a5752c",
   "metadata": {},
   "outputs": [],
   "source": [
    "x_train_tfcirc = tfq.convert_to_tensor(x_train_circ)\n",
    "x_test_tfcirc = tfq.convert_to_tensor(x_test_circ)"
   ]
  },
  {
   "cell_type": "code",
   "execution_count": null,
   "id": "03b0f9ae-767b-4f86-b524-07a71eeb3290",
   "metadata": {},
   "outputs": [],
   "source": [
    "# More structure\n",
    "import random\n",
    "import operator\n",
    "from functools import reduce\n",
    "from dynamic_qcnn import Qmotifs\n",
    "\n",
    "N = 8\n",
    "M = Qcnn(N)\n",
    "n = len(M.tail.Q_avail)\n",
    "while n > 1:\n",
    "    p = [\n",
    "        Qpool(s_p, filter=i_filter)\n",
    "        for i_filter in (\"right\", \"left\", \"even\", \"odd\", \"inside\", \"outside\")\n",
    "        for s_p in range(n)\n",
    "    ]\n",
    "    c = [\n",
    "        Qconv(stride=s_c, step=s_t, offset=s_o)\n",
    "        for s_c in range(1, n, 1)\n",
    "        for s_t in range(1, 2, 1)\n",
    "        for s_o in range(n)\n",
    "    ]  # + [Qdense()]\n",
    "    M = M + random.choice(c) + random.choice(p)\n",
    "    n = len(M.head.Q_avail)\n",
    "\n",
    "circuit, symbols = convert_graph_to_circuit_cirq(M)\n",
    "SVGCircuit(circuit)"
   ]
  },
  {
   "cell_type": "code",
   "execution_count": null,
   "id": "5059b865-181a-494e-9e5f-ccd10d66c351",
   "metadata": {},
   "outputs": [],
   "source": [
    "# Build the Keras model.\n",
    "model = tf.keras.Sequential([\n",
    "    # The input is the data-circuit, encoded as a tf.string\n",
    "    tf.keras.layers.Input(shape=(), dtype=tf.string),\n",
    "    # The PQC layer returns the expected value of the readout gate, range [-1,1].\n",
    "    tfq.layers.PQC(model_circuit, model_readout),\n",
    "])"
   ]
  },
  {
   "cell_type": "code",
   "execution_count": null,
   "id": "39fb098e-c0d7-491b-9ccb-786034fcae0f",
   "metadata": {},
   "outputs": [],
   "source": [
    "def hinge_accuracy(y_true, y_pred):\n",
    "    y_true = tf.squeeze(y_true) > 0.0\n",
    "    y_pred = tf.squeeze(y_pred) > 0.0\n",
    "    result = tf.cast(y_true == y_pred, tf.float32)\n",
    "\n",
    "    return tf.reduce_mean(result)"
   ]
  },
  {
   "cell_type": "code",
   "execution_count": null,
   "id": "8d0a77d6-a374-43f7-875c-c61e9aa84464",
   "metadata": {},
   "outputs": [],
   "source": [
    "model.compile(\n",
    "    loss=tf.keras.losses.Hinge(),\n",
    "    optimizer=tf.keras.optimizers.Adam(),\n",
    "    metrics=[hinge_accuracy])"
   ]
  },
  {
   "cell_type": "code",
   "execution_count": null,
   "id": "0a2fc53e-f00e-471e-84b6-751e60440d42",
   "metadata": {},
   "outputs": [],
   "source": [
    "print(model.summary())"
   ]
  },
  {
   "cell_type": "code",
   "execution_count": null,
   "id": "64bf0288-8eab-4109-bc5e-28a2116ceb8e",
   "metadata": {},
   "outputs": [],
   "source": [
    "EPOCHS = 3\n",
    "BATCH_SIZE = 32\n",
    "\n",
    "NUM_EXAMPLES = len(x_train_tfcirc)"
   ]
  },
  {
   "cell_type": "code",
   "execution_count": null,
   "id": "c3c6893b-41a3-49a2-884d-91032644cf53",
   "metadata": {},
   "outputs": [],
   "source": [
    "x_train_tfcirc_sub = x_train_tfcirc[:NUM_EXAMPLES]\n",
    "y_train_hinge_sub = y_train_hinge[:NUM_EXAMPLES]"
   ]
  },
  {
   "cell_type": "code",
   "execution_count": null,
   "id": "c8b85d62-e830-469b-8318-de7d158709ae",
   "metadata": {},
   "outputs": [],
   "source": [
    "qnn_history = model.fit(\n",
    "      x_train_tfcirc_sub, y_train_hinge_sub,\n",
    "      batch_size=32,\n",
    "      epochs=EPOCHS,\n",
    "      verbose=1,\n",
    "      validation_data=(x_test_tfcirc, y_test_hinge))\n",
    "\n",
    "qnn_results = model.evaluate(x_test_tfcirc, y_test)"
   ]
  }
 ],
 "metadata": {
  "kernelspec": {
   "display_name": "test10",
   "language": "python",
   "name": "test10"
  },
  "language_info": {
   "codemirror_mode": {
    "name": "ipython",
    "version": 3
   },
   "file_extension": ".py",
   "mimetype": "text/x-python",
   "name": "python",
   "nbconvert_exporter": "python",
   "pygments_lexer": "ipython3",
   "version": "3.8.1"
  }
 },
 "nbformat": 4,
 "nbformat_minor": 5
}
