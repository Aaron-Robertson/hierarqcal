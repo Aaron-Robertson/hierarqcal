{
 "cells": [
  {
   "cell_type": "markdown",
   "metadata": {},
   "source": [
    "## Google Cirq qcnn example\n",
    "\n",
    "This notebook shows how to use the `quantum_estimators` package to generate Quantum Convolutional Neural Networks (QCNNs) using [cirq](https://quantumai.google/cirq) and [tensorflow quantum](https://www.tensorflow.org/quantum/overview). The package implements the QCNN as a [keras layer](https://keras.io/api/layers/) that contains logic for generating it's circuit architecture via hyperparamaters while managing the variational circuit paramaters. It's imported as follows: `from quantum_estimators import Qcnn_cirq as Qcnn`. \n",
    "\n",
    "The example shown is a binary classification model that distinguishes between two musical genres using the well known GTZAN dataset."
   ]
  },
  {
   "cell_type": "code",
   "execution_count": 1,
   "metadata": {},
   "outputs": [
    {
     "name": "stderr",
     "output_type": "stream",
     "text": [
      "2022-08-17 08:44:07.243916: W tensorflow/stream_executor/platform/default/dso_loader.cc:64] Could not load dynamic library 'libcudart.so.11.0'; dlerror: libcudart.so.11.0: cannot open shared object file: No such file or directory\n",
      "2022-08-17 08:44:07.243961: I tensorflow/stream_executor/cuda/cudart_stub.cc:29] Ignore above cudart dlerror if you do not have a GPU set up on your machine.\n",
      "2022-08-17 08:44:08.312057: W tensorflow/stream_executor/platform/default/dso_loader.cc:64] Could not load dynamic library 'libcuda.so.1'; dlerror: libcuda.so.1: cannot open shared object file: No such file or directory\n",
      "2022-08-17 08:44:08.312110: W tensorflow/stream_executor/cuda/cuda_driver.cc:269] failed call to cuInit: UNKNOWN ERROR (303)\n",
      "2022-08-17 08:44:08.312133: I tensorflow/stream_executor/cuda/cuda_diagnostics.cc:156] kernel driver does not appear to be running on this host (Enigma): /proc/driver/nvidia/version does not exist\n",
      "2022-08-17 08:44:08.312411: I tensorflow/core/platform/cpu_feature_guard.cc:151] This TensorFlow binary is optimized with oneAPI Deep Neural Network Library (oneDNN) to use the following CPU instructions in performance-critical operations:  AVX2 AVX512F FMA\n",
      "To enable them in other operations, rebuild TensorFlow with the appropriate compiler flags.\n"
     ]
    }
   ],
   "source": [
    "# Load libraries\n",
    "import sympy\n",
    "import numpy as np\n",
    "from collections import namedtuple\n",
    "import pandas as pd\n",
    "import cirq\n",
    "import tensorflow as tf\n",
    "import tensorflow_quantum as tfq\n",
    "from tensorflow import keras\n",
    "from sklearn.model_selection import train_test_split\n",
    "\n",
    "# visualization tools\n",
    "%matplotlib inline\n",
    "import matplotlib.pyplot as plt"
   ]
  },
  {
   "cell_type": "markdown",
   "metadata": {},
   "source": [
    "### Experimental setup"
   ]
  },
  {
   "cell_type": "markdown",
   "metadata": {},
   "source": [
    "The dataset contains statistics from 1000 audio tracks, each being a 30-second recording of some song. Each song is given a label of one of the following ten musical genres: **blues, classical, country, disco, hiphop, jazz, metal, pop, reggae, rock**. See [marsyas](https://github.com/marsyas/website/blob/master/downloads/data-sets.rst) and [kaggle](https://www.kaggle.com/datasets/andradaolteanu/gtzan-dataset-music-genre-classification) for more info.\n",
    "\n",
    "We'll build a model to distinguish **rock** from **reggae**"
   ]
  },
  {
   "cell_type": "code",
   "execution_count": 2,
   "metadata": {},
   "outputs": [
    {
     "data": {
      "text/html": [
       "<div>\n",
       "<style scoped>\n",
       "    .dataframe tbody tr th:only-of-type {\n",
       "        vertical-align: middle;\n",
       "    }\n",
       "\n",
       "    .dataframe tbody tr th {\n",
       "        vertical-align: top;\n",
       "    }\n",
       "\n",
       "    .dataframe thead th {\n",
       "        text-align: right;\n",
       "    }\n",
       "</style>\n",
       "<table border=\"1\" class=\"dataframe\">\n",
       "  <thead>\n",
       "    <tr style=\"text-align: right;\">\n",
       "      <th></th>\n",
       "      <th>filename</th>\n",
       "      <th>length</th>\n",
       "      <th>chroma_stft_mean</th>\n",
       "      <th>chroma_stft_var</th>\n",
       "      <th>rms_mean</th>\n",
       "      <th>rms_var</th>\n",
       "      <th>spectral_centroid_mean</th>\n",
       "      <th>spectral_centroid_var</th>\n",
       "      <th>spectral_bandwidth_mean</th>\n",
       "      <th>spectral_bandwidth_var</th>\n",
       "      <th>...</th>\n",
       "      <th>mfcc16_var</th>\n",
       "      <th>mfcc17_mean</th>\n",
       "      <th>mfcc17_var</th>\n",
       "      <th>mfcc18_mean</th>\n",
       "      <th>mfcc18_var</th>\n",
       "      <th>mfcc19_mean</th>\n",
       "      <th>mfcc19_var</th>\n",
       "      <th>mfcc20_mean</th>\n",
       "      <th>mfcc20_var</th>\n",
       "      <th>label</th>\n",
       "    </tr>\n",
       "  </thead>\n",
       "  <tbody>\n",
       "    <tr>\n",
       "      <th>0</th>\n",
       "      <td>blues.00000.wav</td>\n",
       "      <td>661794</td>\n",
       "      <td>0.350088</td>\n",
       "      <td>0.088757</td>\n",
       "      <td>0.130228</td>\n",
       "      <td>0.002827</td>\n",
       "      <td>1784.165850</td>\n",
       "      <td>129774.064525</td>\n",
       "      <td>2002.449060</td>\n",
       "      <td>85882.761315</td>\n",
       "      <td>...</td>\n",
       "      <td>52.420910</td>\n",
       "      <td>-1.690215</td>\n",
       "      <td>36.524071</td>\n",
       "      <td>-0.408979</td>\n",
       "      <td>41.597103</td>\n",
       "      <td>-2.303523</td>\n",
       "      <td>55.062923</td>\n",
       "      <td>1.221291</td>\n",
       "      <td>46.936035</td>\n",
       "      <td>blues</td>\n",
       "    </tr>\n",
       "    <tr>\n",
       "      <th>1</th>\n",
       "      <td>blues.00001.wav</td>\n",
       "      <td>661794</td>\n",
       "      <td>0.340914</td>\n",
       "      <td>0.094980</td>\n",
       "      <td>0.095948</td>\n",
       "      <td>0.002373</td>\n",
       "      <td>1530.176679</td>\n",
       "      <td>375850.073649</td>\n",
       "      <td>2039.036516</td>\n",
       "      <td>213843.755497</td>\n",
       "      <td>...</td>\n",
       "      <td>55.356403</td>\n",
       "      <td>-0.731125</td>\n",
       "      <td>60.314529</td>\n",
       "      <td>0.295073</td>\n",
       "      <td>48.120598</td>\n",
       "      <td>-0.283518</td>\n",
       "      <td>51.106190</td>\n",
       "      <td>0.531217</td>\n",
       "      <td>45.786282</td>\n",
       "      <td>blues</td>\n",
       "    </tr>\n",
       "    <tr>\n",
       "      <th>2</th>\n",
       "      <td>blues.00002.wav</td>\n",
       "      <td>661794</td>\n",
       "      <td>0.363637</td>\n",
       "      <td>0.085275</td>\n",
       "      <td>0.175570</td>\n",
       "      <td>0.002746</td>\n",
       "      <td>1552.811865</td>\n",
       "      <td>156467.643368</td>\n",
       "      <td>1747.702312</td>\n",
       "      <td>76254.192257</td>\n",
       "      <td>...</td>\n",
       "      <td>40.598766</td>\n",
       "      <td>-7.729093</td>\n",
       "      <td>47.639427</td>\n",
       "      <td>-1.816407</td>\n",
       "      <td>52.382141</td>\n",
       "      <td>-3.439720</td>\n",
       "      <td>46.639660</td>\n",
       "      <td>-2.231258</td>\n",
       "      <td>30.573025</td>\n",
       "      <td>blues</td>\n",
       "    </tr>\n",
       "    <tr>\n",
       "      <th>3</th>\n",
       "      <td>blues.00003.wav</td>\n",
       "      <td>661794</td>\n",
       "      <td>0.404785</td>\n",
       "      <td>0.093999</td>\n",
       "      <td>0.141093</td>\n",
       "      <td>0.006346</td>\n",
       "      <td>1070.106615</td>\n",
       "      <td>184355.942417</td>\n",
       "      <td>1596.412872</td>\n",
       "      <td>166441.494769</td>\n",
       "      <td>...</td>\n",
       "      <td>44.427753</td>\n",
       "      <td>-3.319597</td>\n",
       "      <td>50.206673</td>\n",
       "      <td>0.636965</td>\n",
       "      <td>37.319130</td>\n",
       "      <td>-0.619121</td>\n",
       "      <td>37.259739</td>\n",
       "      <td>-3.407448</td>\n",
       "      <td>31.949339</td>\n",
       "      <td>blues</td>\n",
       "    </tr>\n",
       "    <tr>\n",
       "      <th>4</th>\n",
       "      <td>blues.00004.wav</td>\n",
       "      <td>661794</td>\n",
       "      <td>0.308526</td>\n",
       "      <td>0.087841</td>\n",
       "      <td>0.091529</td>\n",
       "      <td>0.002303</td>\n",
       "      <td>1835.004266</td>\n",
       "      <td>343399.939274</td>\n",
       "      <td>1748.172116</td>\n",
       "      <td>88445.209036</td>\n",
       "      <td>...</td>\n",
       "      <td>86.099236</td>\n",
       "      <td>-5.454034</td>\n",
       "      <td>75.269707</td>\n",
       "      <td>-0.916874</td>\n",
       "      <td>53.613918</td>\n",
       "      <td>-4.404827</td>\n",
       "      <td>62.910812</td>\n",
       "      <td>-11.703234</td>\n",
       "      <td>55.195160</td>\n",
       "      <td>blues</td>\n",
       "    </tr>\n",
       "  </tbody>\n",
       "</table>\n",
       "<p>5 rows × 60 columns</p>\n",
       "</div>"
      ],
      "text/plain": [
       "          filename  length  chroma_stft_mean  chroma_stft_var  rms_mean  \\\n",
       "0  blues.00000.wav  661794          0.350088         0.088757  0.130228   \n",
       "1  blues.00001.wav  661794          0.340914         0.094980  0.095948   \n",
       "2  blues.00002.wav  661794          0.363637         0.085275  0.175570   \n",
       "3  blues.00003.wav  661794          0.404785         0.093999  0.141093   \n",
       "4  blues.00004.wav  661794          0.308526         0.087841  0.091529   \n",
       "\n",
       "    rms_var  spectral_centroid_mean  spectral_centroid_var  \\\n",
       "0  0.002827             1784.165850          129774.064525   \n",
       "1  0.002373             1530.176679          375850.073649   \n",
       "2  0.002746             1552.811865          156467.643368   \n",
       "3  0.006346             1070.106615          184355.942417   \n",
       "4  0.002303             1835.004266          343399.939274   \n",
       "\n",
       "   spectral_bandwidth_mean  spectral_bandwidth_var  ...  mfcc16_var  \\\n",
       "0              2002.449060            85882.761315  ...   52.420910   \n",
       "1              2039.036516           213843.755497  ...   55.356403   \n",
       "2              1747.702312            76254.192257  ...   40.598766   \n",
       "3              1596.412872           166441.494769  ...   44.427753   \n",
       "4              1748.172116            88445.209036  ...   86.099236   \n",
       "\n",
       "   mfcc17_mean  mfcc17_var  mfcc18_mean  mfcc18_var  mfcc19_mean  mfcc19_var  \\\n",
       "0    -1.690215   36.524071    -0.408979   41.597103    -2.303523   55.062923   \n",
       "1    -0.731125   60.314529     0.295073   48.120598    -0.283518   51.106190   \n",
       "2    -7.729093   47.639427    -1.816407   52.382141    -3.439720   46.639660   \n",
       "3    -3.319597   50.206673     0.636965   37.319130    -0.619121   37.259739   \n",
       "4    -5.454034   75.269707    -0.916874   53.613918    -4.404827   62.910812   \n",
       "\n",
       "   mfcc20_mean  mfcc20_var  label  \n",
       "0     1.221291   46.936035  blues  \n",
       "1     0.531217   45.786282  blues  \n",
       "2    -2.231258   30.573025  blues  \n",
       "3    -3.407448   31.949339  blues  \n",
       "4   -11.703234   55.195160  blues  \n",
       "\n",
       "[5 rows x 60 columns]"
      ]
     },
     "execution_count": 2,
     "metadata": {},
     "output_type": "execute_result"
    }
   ],
   "source": [
    "# Specify data path\n",
    "path = \"../data/gtzan_30s_stats.csv\"\n",
    "# Specify genres to build classification model from, options are:\n",
    "# blues, classical, country, disco, hiphop, jazz, metal, pop, reggae, rock \n",
    "target_pair = [\"rock\", \"reggae\"]\n",
    "# Read data\n",
    "raw = pd.read_csv(path)\n",
    "raw.head()"
   ]
  },
  {
   "cell_type": "code",
   "execution_count": 3,
   "metadata": {},
   "outputs": [],
   "source": [
    "# Specify target column\n",
    "target = \"label\"\n",
    "# Specify columns to remove\n",
    "columns_to_remove = [\"filename\", \"length\", target]"
   ]
  },
  {
   "cell_type": "markdown",
   "metadata": {},
   "source": [
    "For the data cleaning component we split the data into a test and train set and remove unnecesary columns. "
   ]
  },
  {
   "cell_type": "code",
   "execution_count": 4,
   "metadata": {},
   "outputs": [],
   "source": [
    "# Seperate X (features) and y (target) from dataset\n",
    "y = raw.loc[:, target]\n",
    "X = raw.drop(columns_to_remove, axis=1)\n",
    "# Split data into train and test sets\n",
    "X_train, X_test, y_train, y_test = train_test_split(\n",
    "    X,\n",
    "    y,\n",
    "    test_size=0.3,\n",
    "    random_state=42,\n",
    ")\n",
    "# Use a named typle to keep track of the changes to train and test samples\n",
    "Samples = namedtuple(\"Samples\", [\"X_train\", \"y_train\", \"X_test\", \"y_test\"])\n",
    "# samples_raw is an instance of Samples, containing the raw samples\n",
    "# access train features by samples_raw.X_train\n",
    "samples_raw = Samples(X_train, y_train, X_test, y_test)"
   ]
  },
  {
   "cell_type": "markdown",
   "metadata": {},
   "source": [
    "Next we filter out all genres except those specified by `target_pair`."
   ]
  },
  {
   "cell_type": "code",
   "execution_count": 5,
   "metadata": {},
   "outputs": [],
   "source": [
    "# Filter out unneccesary data, only store songs with labels specified in target_pair\n",
    "train_filter = np.where(\n",
    "    (samples_raw.y_train == target_pair[0]) | (samples_raw.y_train == target_pair[1])\n",
    ")\n",
    "test_filter = np.where(\n",
    "    (samples_raw.y_test == target_pair[0]) | (samples_raw.y_test == target_pair[1])\n",
    ")\n",
    "X_train_filtered, X_test_filtered = (\n",
    "    samples_raw.X_train.iloc[train_filter],\n",
    "    samples_raw.X_test.iloc[test_filter],\n",
    ")\n",
    "y_train_filtered, y_test_filtered = (\n",
    "    samples_raw.y_train.iloc[train_filter],\n",
    "    samples_raw.y_test.iloc[test_filter],\n",
    ")\n",
    "# Convert target to binary int values, (genre_1, genre_2)->(0,1)\n",
    "y_train_filtered = np.where(y_train_filtered == target_pair[1], 1, 0)\n",
    "y_test_filtered = np.where(y_test_filtered == target_pair[1], 1, 0)\n",
    "# samples_filtered now contains the latest X, y train and test data\n",
    "samples_filtered = Samples(\n",
    "    X_train_filtered, y_train_filtered, X_test_filtered, y_test_filtered\n",
    ")"
   ]
  },
  {
   "cell_type": "markdown",
   "metadata": {},
   "source": [
    "### Preprocessing"
   ]
  },
  {
   "cell_type": "markdown",
   "metadata": {},
   "source": [
    "**Feature Scaling and Selection**\n",
    "\n",
    "Here we manually select $8$ features to build the model on and then scale them to range between $[0,\\frac{\\pi}{2}]$. The selection can be automated with strategies like PCA or tree based methods using [sklearn pipelines](https://scikit-learn.org/stable/modules/generated/sklearn.pipeline.Pipeline.html). Even though we just scale the data, the code is presented in such a way so that it's easy to add other pipeline steps."
   ]
  },
  {
   "cell_type": "code",
   "execution_count": 6,
   "metadata": {},
   "outputs": [],
   "source": [
    "# Specify features to build model on\n",
    "features = ['mfcc2_var', 'mfcc3_var', 'mfcc4_var', 'mfcc5_var', 'mfcc7_var',\n",
    "       'mfcc8_var', 'mfcc11_mean', 'mfcc13_mean']\n",
    "X_train_selected = np.array(samples_filtered.X_train[features])\n",
    "X_test_selected = np.array(samples_filtered.X_test[features])\n",
    "\n",
    "samples_selected = Samples(\n",
    "    X_train_selected, samples_filtered.y_train, X_test_selected, samples_filtered.y_test\n",
    ")"
   ]
  },
  {
   "cell_type": "code",
   "execution_count": 7,
   "metadata": {},
   "outputs": [],
   "source": [
    "from sklearn.preprocessing import MinMaxScaler\n",
    "from sklearn.pipeline import Pipeline\n",
    "# Create a pipeline_list which will contain preprocessing steps\n",
    "pipeline_list = []\n",
    "# For now we only scale the data, but more complicated pipelines can be constructed with this pattern\n",
    "scaler = (\n",
    "    \"minmax\",\n",
    "    MinMaxScaler(feature_range=[0, np.pi / 2]),\n",
    ")\n",
    "pipeline_list.append(scaler)\n",
    "pipeline = Pipeline(pipeline_list)\n",
    "# Fit pipeline\n",
    "pipeline.fit(samples_selected.X_train, samples_selected.y_train)\n",
    "# Transform data\n",
    "X_train_tfd = pipeline.transform(samples_selected.X_train)\n",
    "X_test_tfd = pipeline.transform(samples_selected.X_test)\n",
    "samples_tfd = Samples(\n",
    "    X_train_tfd, samples_selected.y_train, X_test_tfd, samples_selected.y_test\n",
    ")"
   ]
  },
  {
   "cell_type": "markdown",
   "metadata": {},
   "source": [
    "### Encode data into a quantum state"
   ]
  },
  {
   "cell_type": "code",
   "execution_count": 8,
   "metadata": {},
   "outputs": [],
   "source": [
    "def qubit_encoding(x, gate=cirq.rx):\n",
    "    circuit = cirq.Circuit()\n",
    "    for i, value in enumerate(x):\n",
    "        qubit = cirq.LineQubit(i)\n",
    "        circuit.append(gate(value).on(qubit))\n",
    "\n",
    "    return circuit  \n",
    "\n",
    "X_train_encoded = tfq.convert_to_tensor([qubit_encoding(x) for x in samples_tfd.X_train])\n",
    "X_test_encoded = tfq.convert_to_tensor([qubit_encoding(x) for x in samples_tfd.X_test])\n",
    "\n",
    "samples_encoded = Samples(\n",
    "    X_train_encoded, samples_tfd.y_train, X_test_encoded, samples_tfd.y_test\n",
    ")"
   ]
  },
  {
   "cell_type": "markdown",
   "metadata": {},
   "source": [
    "### Build model"
   ]
  },
  {
   "cell_type": "code",
   "execution_count": 30,
   "metadata": {},
   "outputs": [
    {
     "name": "stdout",
     "output_type": "stream",
     "text": [
      "Convolution unitary:\n"
     ]
    },
    {
     "data": {
      "image/svg+xml": [
       "<svg xmlns=\"http://www.w3.org/2000/svg\" width=\"179.61578125\" height=\"100.0\"><line x1=\"30.0\" x2=\"149.61578125\" y1=\"25.0\" y2=\"25.0\" stroke=\"#1967d2\" stroke-width=\"1\" /><line x1=\"30.0\" x2=\"149.61578125\" y1=\"75.0\" y2=\"75.0\" stroke=\"#1967d2\" stroke-width=\"1\" /><line x1=\"99.807890625\" x2=\"99.807890625\" y1=\"25.0\" y2=\"75.0\" stroke=\"black\" stroke-width=\"3\" /><rect x=\"10.0\" y=\"5.0\" width=\"40\" height=\"40\" stroke=\"black\" fill=\"white\" stroke-width=\"0\" /><text x=\"30.0\" y=\"25.0\" dominant-baseline=\"middle\" text-anchor=\"middle\" font-size=\"14px\" font-family=\"Arial\">1: </text><rect x=\"10.0\" y=\"55.0\" width=\"40\" height=\"40\" stroke=\"black\" fill=\"white\" stroke-width=\"0\" /><text x=\"30.0\" y=\"75.0\" dominant-baseline=\"middle\" text-anchor=\"middle\" font-size=\"14px\" font-family=\"Arial\">2: </text><circle cx=\"99.807890625\" cy=\"25.0\" r=\"10.0\" /><rect x=\"70.0\" y=\"55.0\" width=\"59.61578125\" height=\"40\" stroke=\"black\" fill=\"white\" stroke-width=\"1\" /><text x=\"99.807890625\" y=\"75.0\" dominant-baseline=\"middle\" text-anchor=\"middle\" font-size=\"14px\" font-family=\"Arial\">Rz(x_0)</text></svg>"
      ],
      "text/plain": [
       "<cirq.contrib.svg.svg.SVGCircuit at 0x7f70fc165e50>"
      ]
     },
     "execution_count": 30,
     "metadata": {},
     "output_type": "execute_result"
    }
   ],
   "source": [
    "from cirq.contrib.svg import SVGCircuit\n",
    "# Default Convolution\n",
    "bits=(1,2)\n",
    "circuit = cirq.Circuit()\n",
    "q0, q1 = cirq.LineQubit(bits[0]), cirq.LineQubit(bits[1])\n",
    "circuit += cirq.rz(symbols[0]).on(q1).controlled_by(q0)\n",
    "print(\"Convolution unitary:\")\n",
    "SVGCircuit(circuit)"
   ]
  },
  {
   "cell_type": "code",
   "execution_count": 31,
   "metadata": {},
   "outputs": [
    {
     "name": "stdout",
     "output_type": "stream",
     "text": [
      "Pooling unitary:\n"
     ]
    },
    {
     "data": {
      "image/svg+xml": [
       "<svg xmlns=\"http://www.w3.org/2000/svg\" width=\"160.0\" height=\"100.0\"><line x1=\"30.0\" x2=\"130.0\" y1=\"25.0\" y2=\"25.0\" stroke=\"#1967d2\" stroke-width=\"1\" /><line x1=\"30.0\" x2=\"130.0\" y1=\"75.0\" y2=\"75.0\" stroke=\"#1967d2\" stroke-width=\"1\" /><line x1=\"90.0\" x2=\"90.0\" y1=\"25.0\" y2=\"75.0\" stroke=\"black\" stroke-width=\"3\" /><rect x=\"10.0\" y=\"5.0\" width=\"40\" height=\"40\" stroke=\"black\" fill=\"white\" stroke-width=\"0\" /><text x=\"30.0\" y=\"25.0\" dominant-baseline=\"middle\" text-anchor=\"middle\" font-size=\"14px\" font-family=\"Arial\">1: </text><rect x=\"10.0\" y=\"55.0\" width=\"40\" height=\"40\" stroke=\"black\" fill=\"white\" stroke-width=\"0\" /><text x=\"30.0\" y=\"75.0\" dominant-baseline=\"middle\" text-anchor=\"middle\" font-size=\"14px\" font-family=\"Arial\">2: </text><circle cx=\"90.0\" cy=\"25.0\" r=\"10.0\" /><rect x=\"70.0\" y=\"55.0\" width=\"40\" height=\"40\" stroke=\"black\" fill=\"white\" stroke-width=\"1\" /><text x=\"90.0\" y=\"75.0\" dominant-baseline=\"middle\" text-anchor=\"middle\" font-size=\"18px\" font-family=\"Arial\">X</text></svg>"
      ],
      "text/plain": [
       "<cirq.contrib.svg.svg.SVGCircuit at 0x7f70fc558a00>"
      ]
     },
     "execution_count": 31,
     "metadata": {},
     "output_type": "execute_result"
    }
   ],
   "source": [
    "bits = (1,2)\n",
    "circuit = cirq.Circuit()\n",
    "q0, q1 = cirq.LineQubit(bits[0]), cirq.LineQubit(bits[1])\n",
    "circuit += cirq.CNOT(q0, q1)\n",
    "print(\"Pooling unitary:\")\n",
    "SVGCircuit(circuit)"
   ]
  },
  {
   "cell_type": "markdown",
   "metadata": {},
   "source": [
    "Build a simple 4 qubit QCNN"
   ]
  },
  {
   "cell_type": "code",
   "execution_count": 32,
   "metadata": {},
   "outputs": [
    {
     "name": "stdout",
     "output_type": "stream",
     "text": [
      "Simple 4 qubit QCNN:\n"
     ]
    },
    {
     "data": {
      "image/svg+xml": [
       "<svg xmlns=\"http://www.w3.org/2000/svg\" width=\"678.07890625\" height=\"200.0\"><line x1=\"30.0\" x2=\"648.07890625\" y1=\"25.0\" y2=\"25.0\" stroke=\"#1967d2\" stroke-width=\"1\" /><line x1=\"30.0\" x2=\"648.07890625\" y1=\"75.0\" y2=\"75.0\" stroke=\"#1967d2\" stroke-width=\"1\" /><line x1=\"30.0\" x2=\"648.07890625\" y1=\"125.0\" y2=\"125.0\" stroke=\"#1967d2\" stroke-width=\"1\" /><line x1=\"30.0\" x2=\"648.07890625\" y1=\"175.0\" y2=\"175.0\" stroke=\"#1967d2\" stroke-width=\"1\" /><line x1=\"99.807890625\" x2=\"99.807890625\" y1=\"25.0\" y2=\"75.0\" stroke=\"black\" stroke-width=\"3\" /><line x1=\"179.423671875\" x2=\"179.423671875\" y1=\"75.0\" y2=\"125.0\" stroke=\"black\" stroke-width=\"3\" /><line x1=\"259.039453125\" x2=\"259.039453125\" y1=\"125.0\" y2=\"175.0\" stroke=\"black\" stroke-width=\"3\" /><line x1=\"338.65523437499996\" x2=\"338.65523437499996\" y1=\"25.0\" y2=\"175.0\" stroke=\"black\" stroke-width=\"3\" /><line x1=\"408.463125\" x2=\"408.463125\" y1=\"25.0\" y2=\"175.0\" stroke=\"black\" stroke-width=\"3\" /><line x1=\"468.463125\" x2=\"468.463125\" y1=\"75.0\" y2=\"125.0\" stroke=\"black\" stroke-width=\"3\" /><line x1=\"538.271015625\" x2=\"538.271015625\" y1=\"25.0\" y2=\"75.0\" stroke=\"black\" stroke-width=\"3\" /><line x1=\"608.07890625\" x2=\"608.07890625\" y1=\"25.0\" y2=\"75.0\" stroke=\"black\" stroke-width=\"3\" /><rect x=\"10.0\" y=\"5.0\" width=\"40\" height=\"40\" stroke=\"black\" fill=\"white\" stroke-width=\"0\" /><text x=\"30.0\" y=\"25.0\" dominant-baseline=\"middle\" text-anchor=\"middle\" font-size=\"14px\" font-family=\"Arial\">1: </text><rect x=\"10.0\" y=\"55.0\" width=\"40\" height=\"40\" stroke=\"black\" fill=\"white\" stroke-width=\"0\" /><text x=\"30.0\" y=\"75.0\" dominant-baseline=\"middle\" text-anchor=\"middle\" font-size=\"14px\" font-family=\"Arial\">2: </text><rect x=\"10.0\" y=\"105.0\" width=\"40\" height=\"40\" stroke=\"black\" fill=\"white\" stroke-width=\"0\" /><text x=\"30.0\" y=\"125.0\" dominant-baseline=\"middle\" text-anchor=\"middle\" font-size=\"14px\" font-family=\"Arial\">3: </text><rect x=\"10.0\" y=\"155.0\" width=\"40\" height=\"40\" stroke=\"black\" fill=\"white\" stroke-width=\"0\" /><text x=\"30.0\" y=\"175.0\" dominant-baseline=\"middle\" text-anchor=\"middle\" font-size=\"14px\" font-family=\"Arial\">4: </text><circle cx=\"99.807890625\" cy=\"25.0\" r=\"10.0\" /><rect x=\"70.0\" y=\"55.0\" width=\"59.61578125\" height=\"40\" stroke=\"black\" fill=\"white\" stroke-width=\"1\" /><text x=\"99.807890625\" y=\"75.0\" dominant-baseline=\"middle\" text-anchor=\"middle\" font-size=\"14px\" font-family=\"Arial\">Rz(x_0)</text><circle cx=\"179.423671875\" cy=\"75.0\" r=\"10.0\" /><rect x=\"149.61578125\" y=\"105.0\" width=\"59.61578125\" height=\"40\" stroke=\"black\" fill=\"white\" stroke-width=\"1\" /><text x=\"179.423671875\" y=\"125.0\" dominant-baseline=\"middle\" text-anchor=\"middle\" font-size=\"14px\" font-family=\"Arial\">Rz(x_0)</text><circle cx=\"259.039453125\" cy=\"125.0\" r=\"10.0\" /><rect x=\"229.23156250000002\" y=\"155.0\" width=\"59.61578125\" height=\"40\" stroke=\"black\" fill=\"white\" stroke-width=\"1\" /><text x=\"259.039453125\" y=\"175.0\" dominant-baseline=\"middle\" text-anchor=\"middle\" font-size=\"14px\" font-family=\"Arial\">Rz(x_0)</text><circle cx=\"338.65523437499996\" cy=\"175.0\" r=\"10.0\" /><rect x=\"308.84734374999994\" y=\"5.0\" width=\"59.61578125\" height=\"40\" stroke=\"black\" fill=\"white\" stroke-width=\"1\" /><text x=\"338.65523437499996\" y=\"25.0\" dominant-baseline=\"middle\" text-anchor=\"middle\" font-size=\"14px\" font-family=\"Arial\">Rz(x_0)</text><circle cx=\"408.463125\" cy=\"175.0\" r=\"10.0\" /><rect x=\"388.463125\" y=\"5.0\" width=\"40\" height=\"40\" stroke=\"black\" fill=\"white\" stroke-width=\"1\" /><text x=\"408.463125\" y=\"25.0\" dominant-baseline=\"middle\" text-anchor=\"middle\" font-size=\"18px\" font-family=\"Arial\">X</text><circle cx=\"468.463125\" cy=\"125.0\" r=\"10.0\" /><rect x=\"448.463125\" y=\"55.0\" width=\"40\" height=\"40\" stroke=\"black\" fill=\"white\" stroke-width=\"1\" /><text x=\"468.463125\" y=\"75.0\" dominant-baseline=\"middle\" text-anchor=\"middle\" font-size=\"18px\" font-family=\"Arial\">X</text><circle cx=\"538.271015625\" cy=\"25.0\" r=\"10.0\" /><rect x=\"508.463125\" y=\"55.0\" width=\"59.61578125\" height=\"40\" stroke=\"black\" fill=\"white\" stroke-width=\"1\" /><text x=\"538.271015625\" y=\"75.0\" dominant-baseline=\"middle\" text-anchor=\"middle\" font-size=\"14px\" font-family=\"Arial\">Rz(x_1)</text><circle cx=\"608.07890625\" cy=\"75.0\" r=\"10.0\" /><rect x=\"588.07890625\" y=\"5.0\" width=\"40\" height=\"40\" stroke=\"black\" fill=\"white\" stroke-width=\"1\" /><text x=\"608.07890625\" y=\"25.0\" dominant-baseline=\"middle\" text-anchor=\"middle\" font-size=\"18px\" font-family=\"Arial\">X</text></svg>"
      ],
      "text/plain": [
       "<cirq.contrib.svg.svg.SVGCircuit at 0x7f70fc558bb0>"
      ]
     },
     "execution_count": 32,
     "metadata": {},
     "output_type": "execute_result"
    }
   ],
   "source": [
    "from quantum_estimators import Qcnn_cirq as Qcnn\n",
    "from quantum_estimators import QConv, QPool, convert_graph_to_circuit_cirq, binary_tree_r, plot_graph\n",
    "\n",
    "head_graph, _ = binary_tree_r(4)\n",
    "circuit, symbols = convert_graph_to_circuit_cirq(head_graph)\n",
    "SVGCircuit(circuit)"
   ]
  },
  {
   "cell_type": "markdown",
   "metadata": {},
   "source": [
    "Scale up the same model, and alternate architectures"
   ]
  },
  {
   "cell_type": "code",
   "execution_count": 34,
   "metadata": {},
   "outputs": [
    {
     "data": {
      "image/svg+xml": [
       "<svg xmlns=\"http://www.w3.org/2000/svg\" width=\"1555.0051562500003\" height=\"400.0\"><line x1=\"30.0\" x2=\"1525.0051562500003\" y1=\"25.0\" y2=\"25.0\" stroke=\"#1967d2\" stroke-width=\"1\" /><line x1=\"30.0\" x2=\"1525.0051562500003\" y1=\"75.0\" y2=\"75.0\" stroke=\"#1967d2\" stroke-width=\"1\" /><line x1=\"30.0\" x2=\"1525.0051562500003\" y1=\"125.0\" y2=\"125.0\" stroke=\"#1967d2\" stroke-width=\"1\" /><line x1=\"30.0\" x2=\"1525.0051562500003\" y1=\"175.0\" y2=\"175.0\" stroke=\"#1967d2\" stroke-width=\"1\" /><line x1=\"30.0\" x2=\"1525.0051562500003\" y1=\"225.0\" y2=\"225.0\" stroke=\"#1967d2\" stroke-width=\"1\" /><line x1=\"30.0\" x2=\"1525.0051562500003\" y1=\"275.0\" y2=\"275.0\" stroke=\"#1967d2\" stroke-width=\"1\" /><line x1=\"30.0\" x2=\"1525.0051562500003\" y1=\"325.0\" y2=\"325.0\" stroke=\"#1967d2\" stroke-width=\"1\" /><line x1=\"30.0\" x2=\"1525.0051562500003\" y1=\"375.0\" y2=\"375.0\" stroke=\"#1967d2\" stroke-width=\"1\" /><line x1=\"99.807890625\" x2=\"99.807890625\" y1=\"25.0\" y2=\"75.0\" stroke=\"black\" stroke-width=\"3\" /><line x1=\"179.423671875\" x2=\"179.423671875\" y1=\"75.0\" y2=\"125.0\" stroke=\"black\" stroke-width=\"3\" /><line x1=\"259.039453125\" x2=\"259.039453125\" y1=\"125.0\" y2=\"175.0\" stroke=\"black\" stroke-width=\"3\" /><line x1=\"338.65523437499996\" x2=\"338.65523437499996\" y1=\"175.0\" y2=\"225.0\" stroke=\"black\" stroke-width=\"3\" /><line x1=\"418.271015625\" x2=\"418.271015625\" y1=\"225.0\" y2=\"275.0\" stroke=\"black\" stroke-width=\"3\" /><line x1=\"497.88679687499996\" x2=\"497.88679687499996\" y1=\"275.0\" y2=\"325.0\" stroke=\"black\" stroke-width=\"3\" /><line x1=\"577.502578125\" x2=\"577.502578125\" y1=\"325.0\" y2=\"375.0\" stroke=\"black\" stroke-width=\"3\" /><line x1=\"657.118359375\" x2=\"657.118359375\" y1=\"25.0\" y2=\"375.0\" stroke=\"black\" stroke-width=\"3\" /><line x1=\"726.92625\" x2=\"726.92625\" y1=\"25.0\" y2=\"375.0\" stroke=\"black\" stroke-width=\"3\" /><line x1=\"786.92625\" x2=\"786.92625\" y1=\"75.0\" y2=\"325.0\" stroke=\"black\" stroke-width=\"3\" /><line x1=\"846.92625\" x2=\"846.92625\" y1=\"125.0\" y2=\"275.0\" stroke=\"black\" stroke-width=\"3\" /><line x1=\"906.92625\" x2=\"906.92625\" y1=\"175.0\" y2=\"225.0\" stroke=\"black\" stroke-width=\"3\" /><line x1=\"976.734140625\" x2=\"976.734140625\" y1=\"25.0\" y2=\"75.0\" stroke=\"black\" stroke-width=\"3\" /><line x1=\"1056.349921875\" x2=\"1056.349921875\" y1=\"75.0\" y2=\"125.0\" stroke=\"black\" stroke-width=\"3\" /><line x1=\"1135.9657031250001\" x2=\"1135.9657031250001\" y1=\"125.0\" y2=\"175.0\" stroke=\"black\" stroke-width=\"3\" /><line x1=\"1215.5814843750002\" x2=\"1215.5814843750002\" y1=\"25.0\" y2=\"175.0\" stroke=\"black\" stroke-width=\"3\" /><line x1=\"1285.3893750000002\" x2=\"1285.3893750000002\" y1=\"25.0\" y2=\"175.0\" stroke=\"black\" stroke-width=\"3\" /><line x1=\"1345.3893750000002\" x2=\"1345.3893750000002\" y1=\"75.0\" y2=\"125.0\" stroke=\"black\" stroke-width=\"3\" /><line x1=\"1415.1972656250002\" x2=\"1415.1972656250002\" y1=\"25.0\" y2=\"75.0\" stroke=\"black\" stroke-width=\"3\" /><line x1=\"1485.0051562500003\" x2=\"1485.0051562500003\" y1=\"25.0\" y2=\"75.0\" stroke=\"black\" stroke-width=\"3\" /><rect x=\"10.0\" y=\"5.0\" width=\"40\" height=\"40\" stroke=\"black\" fill=\"white\" stroke-width=\"0\" /><text x=\"30.0\" y=\"25.0\" dominant-baseline=\"middle\" text-anchor=\"middle\" font-size=\"14px\" font-family=\"Arial\">1: </text><rect x=\"10.0\" y=\"55.0\" width=\"40\" height=\"40\" stroke=\"black\" fill=\"white\" stroke-width=\"0\" /><text x=\"30.0\" y=\"75.0\" dominant-baseline=\"middle\" text-anchor=\"middle\" font-size=\"14px\" font-family=\"Arial\">2: </text><rect x=\"10.0\" y=\"105.0\" width=\"40\" height=\"40\" stroke=\"black\" fill=\"white\" stroke-width=\"0\" /><text x=\"30.0\" y=\"125.0\" dominant-baseline=\"middle\" text-anchor=\"middle\" font-size=\"14px\" font-family=\"Arial\">3: </text><rect x=\"10.0\" y=\"155.0\" width=\"40\" height=\"40\" stroke=\"black\" fill=\"white\" stroke-width=\"0\" /><text x=\"30.0\" y=\"175.0\" dominant-baseline=\"middle\" text-anchor=\"middle\" font-size=\"14px\" font-family=\"Arial\">4: </text><rect x=\"10.0\" y=\"205.0\" width=\"40\" height=\"40\" stroke=\"black\" fill=\"white\" stroke-width=\"0\" /><text x=\"30.0\" y=\"225.0\" dominant-baseline=\"middle\" text-anchor=\"middle\" font-size=\"14px\" font-family=\"Arial\">5: </text><rect x=\"10.0\" y=\"255.0\" width=\"40\" height=\"40\" stroke=\"black\" fill=\"white\" stroke-width=\"0\" /><text x=\"30.0\" y=\"275.0\" dominant-baseline=\"middle\" text-anchor=\"middle\" font-size=\"14px\" font-family=\"Arial\">6: </text><rect x=\"10.0\" y=\"305.0\" width=\"40\" height=\"40\" stroke=\"black\" fill=\"white\" stroke-width=\"0\" /><text x=\"30.0\" y=\"325.0\" dominant-baseline=\"middle\" text-anchor=\"middle\" font-size=\"14px\" font-family=\"Arial\">7: </text><rect x=\"10.0\" y=\"355.0\" width=\"40\" height=\"40\" stroke=\"black\" fill=\"white\" stroke-width=\"0\" /><text x=\"30.0\" y=\"375.0\" dominant-baseline=\"middle\" text-anchor=\"middle\" font-size=\"14px\" font-family=\"Arial\">8: </text><circle cx=\"99.807890625\" cy=\"25.0\" r=\"10.0\" /><rect x=\"70.0\" y=\"55.0\" width=\"59.61578125\" height=\"40\" stroke=\"black\" fill=\"white\" stroke-width=\"1\" /><text x=\"99.807890625\" y=\"75.0\" dominant-baseline=\"middle\" text-anchor=\"middle\" font-size=\"14px\" font-family=\"Arial\">Rz(x_0)</text><circle cx=\"179.423671875\" cy=\"75.0\" r=\"10.0\" /><rect x=\"149.61578125\" y=\"105.0\" width=\"59.61578125\" height=\"40\" stroke=\"black\" fill=\"white\" stroke-width=\"1\" /><text x=\"179.423671875\" y=\"125.0\" dominant-baseline=\"middle\" text-anchor=\"middle\" font-size=\"14px\" font-family=\"Arial\">Rz(x_0)</text><circle cx=\"259.039453125\" cy=\"125.0\" r=\"10.0\" /><rect x=\"229.23156250000002\" y=\"155.0\" width=\"59.61578125\" height=\"40\" stroke=\"black\" fill=\"white\" stroke-width=\"1\" /><text x=\"259.039453125\" y=\"175.0\" dominant-baseline=\"middle\" text-anchor=\"middle\" font-size=\"14px\" font-family=\"Arial\">Rz(x_0)</text><circle cx=\"338.65523437499996\" cy=\"175.0\" r=\"10.0\" /><rect x=\"308.84734374999994\" y=\"205.0\" width=\"59.61578125\" height=\"40\" stroke=\"black\" fill=\"white\" stroke-width=\"1\" /><text x=\"338.65523437499996\" y=\"225.0\" dominant-baseline=\"middle\" text-anchor=\"middle\" font-size=\"14px\" font-family=\"Arial\">Rz(x_0)</text><circle cx=\"418.271015625\" cy=\"225.0\" r=\"10.0\" /><rect x=\"388.463125\" y=\"255.0\" width=\"59.61578125\" height=\"40\" stroke=\"black\" fill=\"white\" stroke-width=\"1\" /><text x=\"418.271015625\" y=\"275.0\" dominant-baseline=\"middle\" text-anchor=\"middle\" font-size=\"14px\" font-family=\"Arial\">Rz(x_0)</text><circle cx=\"497.88679687499996\" cy=\"275.0\" r=\"10.0\" /><rect x=\"468.07890624999993\" y=\"305.0\" width=\"59.61578125\" height=\"40\" stroke=\"black\" fill=\"white\" stroke-width=\"1\" /><text x=\"497.88679687499996\" y=\"325.0\" dominant-baseline=\"middle\" text-anchor=\"middle\" font-size=\"14px\" font-family=\"Arial\">Rz(x_0)</text><circle cx=\"577.502578125\" cy=\"325.0\" r=\"10.0\" /><rect x=\"547.6946875\" y=\"355.0\" width=\"59.61578125\" height=\"40\" stroke=\"black\" fill=\"white\" stroke-width=\"1\" /><text x=\"577.502578125\" y=\"375.0\" dominant-baseline=\"middle\" text-anchor=\"middle\" font-size=\"14px\" font-family=\"Arial\">Rz(x_0)</text><circle cx=\"657.118359375\" cy=\"375.0\" r=\"10.0\" /><rect x=\"627.3104687499999\" y=\"5.0\" width=\"59.61578125\" height=\"40\" stroke=\"black\" fill=\"white\" stroke-width=\"1\" /><text x=\"657.118359375\" y=\"25.0\" dominant-baseline=\"middle\" text-anchor=\"middle\" font-size=\"14px\" font-family=\"Arial\">Rz(x_0)</text><circle cx=\"726.92625\" cy=\"375.0\" r=\"10.0\" /><rect x=\"706.92625\" y=\"5.0\" width=\"40\" height=\"40\" stroke=\"black\" fill=\"white\" stroke-width=\"1\" /><text x=\"726.92625\" y=\"25.0\" dominant-baseline=\"middle\" text-anchor=\"middle\" font-size=\"18px\" font-family=\"Arial\">X</text><circle cx=\"786.92625\" cy=\"325.0\" r=\"10.0\" /><rect x=\"766.92625\" y=\"55.0\" width=\"40\" height=\"40\" stroke=\"black\" fill=\"white\" stroke-width=\"1\" /><text x=\"786.92625\" y=\"75.0\" dominant-baseline=\"middle\" text-anchor=\"middle\" font-size=\"18px\" font-family=\"Arial\">X</text><circle cx=\"846.92625\" cy=\"275.0\" r=\"10.0\" /><rect x=\"826.92625\" y=\"105.0\" width=\"40\" height=\"40\" stroke=\"black\" fill=\"white\" stroke-width=\"1\" /><text x=\"846.92625\" y=\"125.0\" dominant-baseline=\"middle\" text-anchor=\"middle\" font-size=\"18px\" font-family=\"Arial\">X</text><circle cx=\"906.92625\" cy=\"225.0\" r=\"10.0\" /><rect x=\"886.92625\" y=\"155.0\" width=\"40\" height=\"40\" stroke=\"black\" fill=\"white\" stroke-width=\"1\" /><text x=\"906.92625\" y=\"175.0\" dominant-baseline=\"middle\" text-anchor=\"middle\" font-size=\"18px\" font-family=\"Arial\">X</text><circle cx=\"976.734140625\" cy=\"25.0\" r=\"10.0\" /><rect x=\"946.92625\" y=\"55.0\" width=\"59.61578125\" height=\"40\" stroke=\"black\" fill=\"white\" stroke-width=\"1\" /><text x=\"976.734140625\" y=\"75.0\" dominant-baseline=\"middle\" text-anchor=\"middle\" font-size=\"14px\" font-family=\"Arial\">Rz(x_1)</text><circle cx=\"1056.349921875\" cy=\"75.0\" r=\"10.0\" /><rect x=\"1026.54203125\" y=\"105.0\" width=\"59.61578125\" height=\"40\" stroke=\"black\" fill=\"white\" stroke-width=\"1\" /><text x=\"1056.349921875\" y=\"125.0\" dominant-baseline=\"middle\" text-anchor=\"middle\" font-size=\"14px\" font-family=\"Arial\">Rz(x_1)</text><circle cx=\"1135.9657031250001\" cy=\"125.0\" r=\"10.0\" /><rect x=\"1106.1578125\" y=\"155.0\" width=\"59.61578125\" height=\"40\" stroke=\"black\" fill=\"white\" stroke-width=\"1\" /><text x=\"1135.9657031250001\" y=\"175.0\" dominant-baseline=\"middle\" text-anchor=\"middle\" font-size=\"14px\" font-family=\"Arial\">Rz(x_1)</text><circle cx=\"1215.5814843750002\" cy=\"175.0\" r=\"10.0\" /><rect x=\"1185.7735937500001\" y=\"5.0\" width=\"59.61578125\" height=\"40\" stroke=\"black\" fill=\"white\" stroke-width=\"1\" /><text x=\"1215.5814843750002\" y=\"25.0\" dominant-baseline=\"middle\" text-anchor=\"middle\" font-size=\"14px\" font-family=\"Arial\">Rz(x_1)</text><circle cx=\"1285.3893750000002\" cy=\"175.0\" r=\"10.0\" /><rect x=\"1265.3893750000002\" y=\"5.0\" width=\"40\" height=\"40\" stroke=\"black\" fill=\"white\" stroke-width=\"1\" /><text x=\"1285.3893750000002\" y=\"25.0\" dominant-baseline=\"middle\" text-anchor=\"middle\" font-size=\"18px\" font-family=\"Arial\">X</text><circle cx=\"1345.3893750000002\" cy=\"125.0\" r=\"10.0\" /><rect x=\"1325.3893750000002\" y=\"55.0\" width=\"40\" height=\"40\" stroke=\"black\" fill=\"white\" stroke-width=\"1\" /><text x=\"1345.3893750000002\" y=\"75.0\" dominant-baseline=\"middle\" text-anchor=\"middle\" font-size=\"18px\" font-family=\"Arial\">X</text><circle cx=\"1415.1972656250002\" cy=\"25.0\" r=\"10.0\" /><rect x=\"1385.3893750000002\" y=\"55.0\" width=\"59.61578125\" height=\"40\" stroke=\"black\" fill=\"white\" stroke-width=\"1\" /><text x=\"1415.1972656250002\" y=\"75.0\" dominant-baseline=\"middle\" text-anchor=\"middle\" font-size=\"14px\" font-family=\"Arial\">Rz(x_2)</text><circle cx=\"1485.0051562500003\" cy=\"75.0\" r=\"10.0\" /><rect x=\"1465.0051562500003\" y=\"5.0\" width=\"40\" height=\"40\" stroke=\"black\" fill=\"white\" stroke-width=\"1\" /><text x=\"1485.0051562500003\" y=\"25.0\" dominant-baseline=\"middle\" text-anchor=\"middle\" font-size=\"18px\" font-family=\"Arial\">X</text></svg>"
      ],
      "text/plain": [
       "<cirq.contrib.svg.svg.SVGCircuit at 0x7f70fc58b310>"
      ]
     },
     "execution_count": 34,
     "metadata": {},
     "output_type": "execute_result"
    }
   ],
   "source": [
    "head_graph, _ = binary_tree_r(8, s_c=1, s_p=0, pool_filter=\"right\")\n",
    "# head_graph, _ = binary_tree_r(8, s_c=1, s_p=0, pool_filter=\"left\")\n",
    "# head_graph, _ = binary_tree_r(8, s_c=3, s_p=2, pool_filter=\"left\")\n",
    "# head_graph, _ = binary_tree_r(8, s_c=1, s_p=0, pool_filter=\"inside\")\n",
    "# head_graph, _ = binary_tree_r(8, s_c=1, s_p=0, pool_filter=\"outside\")\n",
    "circuit, symbols = convert_graph_to_circuit_cirq(head_graph)\n",
    "SVGCircuit(circuit)"
   ]
  },
  {
   "cell_type": "code",
   "execution_count": 11,
   "metadata": {},
   "outputs": [
    {
     "data": {
      "image/svg+xml": [
       "<svg xmlns=\"http://www.w3.org/2000/svg\" width=\"736.92625\" height=\"400.0\"><line x1=\"30.0\" x2=\"706.92625\" y1=\"25.0\" y2=\"25.0\" stroke=\"#1967d2\" stroke-width=\"1\" /><line x1=\"30.0\" x2=\"706.92625\" y1=\"75.0\" y2=\"75.0\" stroke=\"#1967d2\" stroke-width=\"1\" /><line x1=\"30.0\" x2=\"706.92625\" y1=\"125.0\" y2=\"125.0\" stroke=\"#1967d2\" stroke-width=\"1\" /><line x1=\"30.0\" x2=\"706.92625\" y1=\"175.0\" y2=\"175.0\" stroke=\"#1967d2\" stroke-width=\"1\" /><line x1=\"30.0\" x2=\"706.92625\" y1=\"225.0\" y2=\"225.0\" stroke=\"#1967d2\" stroke-width=\"1\" /><line x1=\"30.0\" x2=\"706.92625\" y1=\"275.0\" y2=\"275.0\" stroke=\"#1967d2\" stroke-width=\"1\" /><line x1=\"30.0\" x2=\"706.92625\" y1=\"325.0\" y2=\"325.0\" stroke=\"#1967d2\" stroke-width=\"1\" /><line x1=\"30.0\" x2=\"706.92625\" y1=\"375.0\" y2=\"375.0\" stroke=\"#1967d2\" stroke-width=\"1\" /><line x1=\"99.807890625\" x2=\"99.807890625\" y1=\"25.0\" y2=\"75.0\" stroke=\"black\" stroke-width=\"3\" /><line x1=\"179.423671875\" x2=\"179.423671875\" y1=\"75.0\" y2=\"125.0\" stroke=\"black\" stroke-width=\"3\" /><line x1=\"259.039453125\" x2=\"259.039453125\" y1=\"125.0\" y2=\"175.0\" stroke=\"black\" stroke-width=\"3\" /><line x1=\"338.65523437499996\" x2=\"338.65523437499996\" y1=\"175.0\" y2=\"225.0\" stroke=\"black\" stroke-width=\"3\" /><line x1=\"418.271015625\" x2=\"418.271015625\" y1=\"225.0\" y2=\"275.0\" stroke=\"black\" stroke-width=\"3\" /><line x1=\"497.88679687499996\" x2=\"497.88679687499996\" y1=\"275.0\" y2=\"325.0\" stroke=\"black\" stroke-width=\"3\" /><line x1=\"577.502578125\" x2=\"577.502578125\" y1=\"325.0\" y2=\"375.0\" stroke=\"black\" stroke-width=\"3\" /><line x1=\"657.118359375\" x2=\"657.118359375\" y1=\"25.0\" y2=\"375.0\" stroke=\"black\" stroke-width=\"3\" /><rect x=\"10.0\" y=\"5.0\" width=\"40\" height=\"40\" stroke=\"black\" fill=\"white\" stroke-width=\"0\" /><text x=\"30.0\" y=\"25.0\" dominant-baseline=\"middle\" text-anchor=\"middle\" font-size=\"14px\" font-family=\"Arial\">1: </text><rect x=\"10.0\" y=\"55.0\" width=\"40\" height=\"40\" stroke=\"black\" fill=\"white\" stroke-width=\"0\" /><text x=\"30.0\" y=\"75.0\" dominant-baseline=\"middle\" text-anchor=\"middle\" font-size=\"14px\" font-family=\"Arial\">2: </text><rect x=\"10.0\" y=\"105.0\" width=\"40\" height=\"40\" stroke=\"black\" fill=\"white\" stroke-width=\"0\" /><text x=\"30.0\" y=\"125.0\" dominant-baseline=\"middle\" text-anchor=\"middle\" font-size=\"14px\" font-family=\"Arial\">3: </text><rect x=\"10.0\" y=\"155.0\" width=\"40\" height=\"40\" stroke=\"black\" fill=\"white\" stroke-width=\"0\" /><text x=\"30.0\" y=\"175.0\" dominant-baseline=\"middle\" text-anchor=\"middle\" font-size=\"14px\" font-family=\"Arial\">4: </text><rect x=\"10.0\" y=\"205.0\" width=\"40\" height=\"40\" stroke=\"black\" fill=\"white\" stroke-width=\"0\" /><text x=\"30.0\" y=\"225.0\" dominant-baseline=\"middle\" text-anchor=\"middle\" font-size=\"14px\" font-family=\"Arial\">5: </text><rect x=\"10.0\" y=\"255.0\" width=\"40\" height=\"40\" stroke=\"black\" fill=\"white\" stroke-width=\"0\" /><text x=\"30.0\" y=\"275.0\" dominant-baseline=\"middle\" text-anchor=\"middle\" font-size=\"14px\" font-family=\"Arial\">6: </text><rect x=\"10.0\" y=\"305.0\" width=\"40\" height=\"40\" stroke=\"black\" fill=\"white\" stroke-width=\"0\" /><text x=\"30.0\" y=\"325.0\" dominant-baseline=\"middle\" text-anchor=\"middle\" font-size=\"14px\" font-family=\"Arial\">7: </text><rect x=\"10.0\" y=\"355.0\" width=\"40\" height=\"40\" stroke=\"black\" fill=\"white\" stroke-width=\"0\" /><text x=\"30.0\" y=\"375.0\" dominant-baseline=\"middle\" text-anchor=\"middle\" font-size=\"14px\" font-family=\"Arial\">8: </text><circle cx=\"99.807890625\" cy=\"25.0\" r=\"10.0\" /><rect x=\"70.0\" y=\"55.0\" width=\"59.61578125\" height=\"40\" stroke=\"black\" fill=\"white\" stroke-width=\"1\" /><text x=\"99.807890625\" y=\"75.0\" dominant-baseline=\"middle\" text-anchor=\"middle\" font-size=\"14px\" font-family=\"Arial\">Rz(x_0)</text><circle cx=\"179.423671875\" cy=\"75.0\" r=\"10.0\" /><rect x=\"149.61578125\" y=\"105.0\" width=\"59.61578125\" height=\"40\" stroke=\"black\" fill=\"white\" stroke-width=\"1\" /><text x=\"179.423671875\" y=\"125.0\" dominant-baseline=\"middle\" text-anchor=\"middle\" font-size=\"14px\" font-family=\"Arial\">Rz(x_0)</text><circle cx=\"259.039453125\" cy=\"125.0\" r=\"10.0\" /><rect x=\"229.23156250000002\" y=\"155.0\" width=\"59.61578125\" height=\"40\" stroke=\"black\" fill=\"white\" stroke-width=\"1\" /><text x=\"259.039453125\" y=\"175.0\" dominant-baseline=\"middle\" text-anchor=\"middle\" font-size=\"14px\" font-family=\"Arial\">Rz(x_0)</text><circle cx=\"338.65523437499996\" cy=\"175.0\" r=\"10.0\" /><rect x=\"308.84734374999994\" y=\"205.0\" width=\"59.61578125\" height=\"40\" stroke=\"black\" fill=\"white\" stroke-width=\"1\" /><text x=\"338.65523437499996\" y=\"225.0\" dominant-baseline=\"middle\" text-anchor=\"middle\" font-size=\"14px\" font-family=\"Arial\">Rz(x_0)</text><circle cx=\"418.271015625\" cy=\"225.0\" r=\"10.0\" /><rect x=\"388.463125\" y=\"255.0\" width=\"59.61578125\" height=\"40\" stroke=\"black\" fill=\"white\" stroke-width=\"1\" /><text x=\"418.271015625\" y=\"275.0\" dominant-baseline=\"middle\" text-anchor=\"middle\" font-size=\"14px\" font-family=\"Arial\">Rz(x_0)</text><circle cx=\"497.88679687499996\" cy=\"275.0\" r=\"10.0\" /><rect x=\"468.07890624999993\" y=\"305.0\" width=\"59.61578125\" height=\"40\" stroke=\"black\" fill=\"white\" stroke-width=\"1\" /><text x=\"497.88679687499996\" y=\"325.0\" dominant-baseline=\"middle\" text-anchor=\"middle\" font-size=\"14px\" font-family=\"Arial\">Rz(x_0)</text><circle cx=\"577.502578125\" cy=\"325.0\" r=\"10.0\" /><rect x=\"547.6946875\" y=\"355.0\" width=\"59.61578125\" height=\"40\" stroke=\"black\" fill=\"white\" stroke-width=\"1\" /><text x=\"577.502578125\" y=\"375.0\" dominant-baseline=\"middle\" text-anchor=\"middle\" font-size=\"14px\" font-family=\"Arial\">Rz(x_0)</text><circle cx=\"657.118359375\" cy=\"375.0\" r=\"10.0\" /><rect x=\"627.3104687499999\" y=\"5.0\" width=\"59.61578125\" height=\"40\" stroke=\"black\" fill=\"white\" stroke-width=\"1\" /><text x=\"657.118359375\" y=\"25.0\" dominant-baseline=\"middle\" text-anchor=\"middle\" font-size=\"14px\" font-family=\"Arial\">Rz(x_0)</text></svg>"
      ],
      "text/plain": [
       "<cirq.contrib.svg.svg.SVGCircuit at 0x7f70fd19b850>"
      ]
     },
     "execution_count": 11,
     "metadata": {},
     "output_type": "execute_result"
    }
   ],
   "source": [
    "base = QConv(8)\n",
    "# base = QConv(8, stride=3)\n",
    "SVGCircuit(convert_graph_to_circuit_cirq(base)[0])"
   ]
  },
  {
   "cell_type": "code",
   "execution_count": 21,
   "metadata": {},
   "outputs": [
    {
     "data": {
      "image/svg+xml": [
       "<svg xmlns=\"http://www.w3.org/2000/svg\" width=\"736.92625\" height=\"400.0\"><line x1=\"30.0\" x2=\"706.92625\" y1=\"25.0\" y2=\"25.0\" stroke=\"#1967d2\" stroke-width=\"1\" /><line x1=\"30.0\" x2=\"706.92625\" y1=\"75.0\" y2=\"75.0\" stroke=\"#1967d2\" stroke-width=\"1\" /><line x1=\"30.0\" x2=\"706.92625\" y1=\"125.0\" y2=\"125.0\" stroke=\"#1967d2\" stroke-width=\"1\" /><line x1=\"30.0\" x2=\"706.92625\" y1=\"175.0\" y2=\"175.0\" stroke=\"#1967d2\" stroke-width=\"1\" /><line x1=\"30.0\" x2=\"706.92625\" y1=\"225.0\" y2=\"225.0\" stroke=\"#1967d2\" stroke-width=\"1\" /><line x1=\"30.0\" x2=\"706.92625\" y1=\"275.0\" y2=\"275.0\" stroke=\"#1967d2\" stroke-width=\"1\" /><line x1=\"30.0\" x2=\"706.92625\" y1=\"325.0\" y2=\"325.0\" stroke=\"#1967d2\" stroke-width=\"1\" /><line x1=\"30.0\" x2=\"706.92625\" y1=\"375.0\" y2=\"375.0\" stroke=\"#1967d2\" stroke-width=\"1\" /><line x1=\"99.807890625\" x2=\"99.807890625\" y1=\"25.0\" y2=\"75.0\" stroke=\"black\" stroke-width=\"3\" /><line x1=\"179.423671875\" x2=\"179.423671875\" y1=\"75.0\" y2=\"125.0\" stroke=\"black\" stroke-width=\"3\" /><line x1=\"259.039453125\" x2=\"259.039453125\" y1=\"125.0\" y2=\"175.0\" stroke=\"black\" stroke-width=\"3\" /><line x1=\"338.65523437499996\" x2=\"338.65523437499996\" y1=\"175.0\" y2=\"225.0\" stroke=\"black\" stroke-width=\"3\" /><line x1=\"418.271015625\" x2=\"418.271015625\" y1=\"225.0\" y2=\"275.0\" stroke=\"black\" stroke-width=\"3\" /><line x1=\"497.88679687499996\" x2=\"497.88679687499996\" y1=\"275.0\" y2=\"325.0\" stroke=\"black\" stroke-width=\"3\" /><line x1=\"577.502578125\" x2=\"577.502578125\" y1=\"325.0\" y2=\"375.0\" stroke=\"black\" stroke-width=\"3\" /><line x1=\"657.118359375\" x2=\"657.118359375\" y1=\"25.0\" y2=\"375.0\" stroke=\"black\" stroke-width=\"3\" /><rect x=\"10.0\" y=\"5.0\" width=\"40\" height=\"40\" stroke=\"black\" fill=\"white\" stroke-width=\"0\" /><text x=\"30.0\" y=\"25.0\" dominant-baseline=\"middle\" text-anchor=\"middle\" font-size=\"14px\" font-family=\"Arial\">1: </text><rect x=\"10.0\" y=\"55.0\" width=\"40\" height=\"40\" stroke=\"black\" fill=\"white\" stroke-width=\"0\" /><text x=\"30.0\" y=\"75.0\" dominant-baseline=\"middle\" text-anchor=\"middle\" font-size=\"14px\" font-family=\"Arial\">2: </text><rect x=\"10.0\" y=\"105.0\" width=\"40\" height=\"40\" stroke=\"black\" fill=\"white\" stroke-width=\"0\" /><text x=\"30.0\" y=\"125.0\" dominant-baseline=\"middle\" text-anchor=\"middle\" font-size=\"14px\" font-family=\"Arial\">3: </text><rect x=\"10.0\" y=\"155.0\" width=\"40\" height=\"40\" stroke=\"black\" fill=\"white\" stroke-width=\"0\" /><text x=\"30.0\" y=\"175.0\" dominant-baseline=\"middle\" text-anchor=\"middle\" font-size=\"14px\" font-family=\"Arial\">4: </text><rect x=\"10.0\" y=\"205.0\" width=\"40\" height=\"40\" stroke=\"black\" fill=\"white\" stroke-width=\"0\" /><text x=\"30.0\" y=\"225.0\" dominant-baseline=\"middle\" text-anchor=\"middle\" font-size=\"14px\" font-family=\"Arial\">5: </text><rect x=\"10.0\" y=\"255.0\" width=\"40\" height=\"40\" stroke=\"black\" fill=\"white\" stroke-width=\"0\" /><text x=\"30.0\" y=\"275.0\" dominant-baseline=\"middle\" text-anchor=\"middle\" font-size=\"14px\" font-family=\"Arial\">6: </text><rect x=\"10.0\" y=\"305.0\" width=\"40\" height=\"40\" stroke=\"black\" fill=\"white\" stroke-width=\"0\" /><text x=\"30.0\" y=\"325.0\" dominant-baseline=\"middle\" text-anchor=\"middle\" font-size=\"14px\" font-family=\"Arial\">7: </text><rect x=\"10.0\" y=\"355.0\" width=\"40\" height=\"40\" stroke=\"black\" fill=\"white\" stroke-width=\"0\" /><text x=\"30.0\" y=\"375.0\" dominant-baseline=\"middle\" text-anchor=\"middle\" font-size=\"14px\" font-family=\"Arial\">8: </text><circle cx=\"99.807890625\" cy=\"25.0\" r=\"10.0\" /><rect x=\"70.0\" y=\"55.0\" width=\"59.61578125\" height=\"40\" stroke=\"black\" fill=\"white\" stroke-width=\"1\" /><text x=\"99.807890625\" y=\"75.0\" dominant-baseline=\"middle\" text-anchor=\"middle\" font-size=\"14px\" font-family=\"Arial\">Rz(x_0)</text><circle cx=\"179.423671875\" cy=\"75.0\" r=\"10.0\" /><rect x=\"149.61578125\" y=\"105.0\" width=\"59.61578125\" height=\"40\" stroke=\"black\" fill=\"white\" stroke-width=\"1\" /><text x=\"179.423671875\" y=\"125.0\" dominant-baseline=\"middle\" text-anchor=\"middle\" font-size=\"14px\" font-family=\"Arial\">Rz(x_0)</text><circle cx=\"259.039453125\" cy=\"125.0\" r=\"10.0\" /><rect x=\"229.23156250000002\" y=\"155.0\" width=\"59.61578125\" height=\"40\" stroke=\"black\" fill=\"white\" stroke-width=\"1\" /><text x=\"259.039453125\" y=\"175.0\" dominant-baseline=\"middle\" text-anchor=\"middle\" font-size=\"14px\" font-family=\"Arial\">Rz(x_0)</text><circle cx=\"338.65523437499996\" cy=\"175.0\" r=\"10.0\" /><rect x=\"308.84734374999994\" y=\"205.0\" width=\"59.61578125\" height=\"40\" stroke=\"black\" fill=\"white\" stroke-width=\"1\" /><text x=\"338.65523437499996\" y=\"225.0\" dominant-baseline=\"middle\" text-anchor=\"middle\" font-size=\"14px\" font-family=\"Arial\">Rz(x_0)</text><circle cx=\"418.271015625\" cy=\"225.0\" r=\"10.0\" /><rect x=\"388.463125\" y=\"255.0\" width=\"59.61578125\" height=\"40\" stroke=\"black\" fill=\"white\" stroke-width=\"1\" /><text x=\"418.271015625\" y=\"275.0\" dominant-baseline=\"middle\" text-anchor=\"middle\" font-size=\"14px\" font-family=\"Arial\">Rz(x_0)</text><circle cx=\"497.88679687499996\" cy=\"275.0\" r=\"10.0\" /><rect x=\"468.07890624999993\" y=\"305.0\" width=\"59.61578125\" height=\"40\" stroke=\"black\" fill=\"white\" stroke-width=\"1\" /><text x=\"497.88679687499996\" y=\"325.0\" dominant-baseline=\"middle\" text-anchor=\"middle\" font-size=\"14px\" font-family=\"Arial\">Rz(x_0)</text><circle cx=\"577.502578125\" cy=\"325.0\" r=\"10.0\" /><rect x=\"547.6946875\" y=\"355.0\" width=\"59.61578125\" height=\"40\" stroke=\"black\" fill=\"white\" stroke-width=\"1\" /><text x=\"577.502578125\" y=\"375.0\" dominant-baseline=\"middle\" text-anchor=\"middle\" font-size=\"14px\" font-family=\"Arial\">Rz(x_0)</text><circle cx=\"657.118359375\" cy=\"375.0\" r=\"10.0\" /><rect x=\"627.3104687499999\" y=\"5.0\" width=\"59.61578125\" height=\"40\" stroke=\"black\" fill=\"white\" stroke-width=\"1\" /><text x=\"657.118359375\" y=\"25.0\" dominant-baseline=\"middle\" text-anchor=\"middle\" font-size=\"14px\" font-family=\"Arial\">Rz(x_0)</text></svg>"
      ],
      "text/plain": [
       "<cirq.contrib.svg.svg.SVGCircuit at 0x7f70fc598e80>"
      ]
     },
     "execution_count": 21,
     "metadata": {},
     "output_type": "execute_result"
    }
   ],
   "source": [
    "base = QConv(8)\n",
    "\n",
    "# QConv(QPool(QConv(QPool(QConv(base, stride=3),pool_filter=\"right\")),pool_filter=\"100000000\"))\n",
    "# QConv(QPool(QConv(base, stride=3), pool_filter=\"11100000\"))\n",
    "SVGCircuit(convert_graph_to_circuit_cirq(base)[0])"
   ]
  },
  {
   "cell_type": "code",
   "execution_count": 41,
   "metadata": {},
   "outputs": [],
   "source": [
    "# Default pooling circuit\n",
    "def V(bits, symbols=None):\n",
    "    circuit = cirq.Circuit()\n",
    "    q0, q1 = cirq.LineQubit(bits[0]), cirq.LineQubit(bits[1])\n",
    "    circuit += cirq.rz(symbols[0]).on(q1).controlled_by(q0)\n",
    "    circuit += cirq.X(q0)\n",
    "    circuit += cirq.rx(symbols[1]).on(q1).controlled_by(q0)\n",
    "    return circuit\n",
    "\n",
    "\n",
    "# Default convolution circuit\n",
    "def U(bits, symbols=None):\n",
    "    circuit = cirq.Circuit()\n",
    "    q0, q1 = cirq.LineQubit(bits[0]), cirq.LineQubit(bits[1])\n",
    "    circuit += cirq.rx(symbols[0]).on(q0)\n",
    "    circuit += cirq.rx(symbols[1]).on(q1)\n",
    "    circuit += cirq.rz(symbols[2]).on(q0)\n",
    "    circuit += cirq.rz(symbols[3]).on(q1)\n",
    "    circuit += cirq.rz(symbols[4]).on(q1).controlled_by(q0)\n",
    "    circuit += cirq.rz(symbols[5]).on(q0).controlled_by(q1)\n",
    "    circuit += cirq.rx(symbols[6]).on(q0)\n",
    "    circuit += cirq.rx(symbols[7]).on(q1)\n",
    "    circuit += cirq.rz(symbols[8]).on(q0)\n",
    "    circuit += cirq.rz(symbols[9]).on(q1)\n",
    "    return circuit"
   ]
  },
  {
   "cell_type": "code",
   "execution_count": 23,
   "metadata": {},
   "outputs": [
    {
     "data": {
      "image/svg+xml": [
       "<svg xmlns=\"http://www.w3.org/2000/svg\" width=\"8267.475117187485\" height=\"400.0\"><line x1=\"30.0\" x2=\"8237.475117187485\" y1=\"25.0\" y2=\"25.0\" stroke=\"#1967d2\" stroke-width=\"1\" /><line x1=\"30.0\" x2=\"8237.475117187485\" y1=\"75.0\" y2=\"75.0\" stroke=\"#1967d2\" stroke-width=\"1\" /><line x1=\"30.0\" x2=\"8237.475117187485\" y1=\"125.0\" y2=\"125.0\" stroke=\"#1967d2\" stroke-width=\"1\" /><line x1=\"30.0\" x2=\"8237.475117187485\" y1=\"175.0\" y2=\"175.0\" stroke=\"#1967d2\" stroke-width=\"1\" /><line x1=\"30.0\" x2=\"8237.475117187485\" y1=\"225.0\" y2=\"225.0\" stroke=\"#1967d2\" stroke-width=\"1\" /><line x1=\"30.0\" x2=\"8237.475117187485\" y1=\"275.0\" y2=\"275.0\" stroke=\"#1967d2\" stroke-width=\"1\" /><line x1=\"30.0\" x2=\"8237.475117187485\" y1=\"325.0\" y2=\"325.0\" stroke=\"#1967d2\" stroke-width=\"1\" /><line x1=\"30.0\" x2=\"8237.475117187485\" y1=\"375.0\" y2=\"375.0\" stroke=\"#1967d2\" stroke-width=\"1\" /><line x1=\"259.9759765625\" x2=\"259.9759765625\" y1=\"25.0\" y2=\"275.0\" stroke=\"black\" stroke-width=\"3\" /><line x1=\"339.59175781249996\" x2=\"339.59175781249996\" y1=\"25.0\" y2=\"275.0\" stroke=\"black\" stroke-width=\"3\" /><line x1=\"739.5437109375\" x2=\"739.5437109375\" y1=\"75.0\" y2=\"325.0\" stroke=\"black\" stroke-width=\"3\" /><line x1=\"819.1594921875001\" x2=\"819.1594921875001\" y1=\"75.0\" y2=\"325.0\" stroke=\"black\" stroke-width=\"3\" /><line x1=\"1219.1114453125003\" x2=\"1219.1114453125003\" y1=\"125.0\" y2=\"375.0\" stroke=\"black\" stroke-width=\"3\" /><line x1=\"1298.7272265625004\" x2=\"1298.7272265625004\" y1=\"125.0\" y2=\"375.0\" stroke=\"black\" stroke-width=\"3\" /><line x1=\"1698.6791796875007\" x2=\"1698.6791796875007\" y1=\"25.0\" y2=\"175.0\" stroke=\"black\" stroke-width=\"3\" /><line x1=\"1778.2949609375007\" x2=\"1778.2949609375007\" y1=\"25.0\" y2=\"175.0\" stroke=\"black\" stroke-width=\"3\" /><line x1=\"2178.2469140625008\" x2=\"2178.2469140625008\" y1=\"75.0\" y2=\"225.0\" stroke=\"black\" stroke-width=\"3\" /><line x1=\"2257.862695312501\" x2=\"2257.862695312501\" y1=\"75.0\" y2=\"225.0\" stroke=\"black\" stroke-width=\"3\" /><line x1=\"2657.814648437501\" x2=\"2657.814648437501\" y1=\"125.0\" y2=\"275.0\" stroke=\"black\" stroke-width=\"3\" /><line x1=\"2737.430429687501\" x2=\"2737.430429687501\" y1=\"125.0\" y2=\"275.0\" stroke=\"black\" stroke-width=\"3\" /><line x1=\"3137.3823828125014\" x2=\"3137.3823828125014\" y1=\"175.0\" y2=\"325.0\" stroke=\"black\" stroke-width=\"3\" /><line x1=\"3216.9981640625015\" x2=\"3216.9981640625015\" y1=\"175.0\" y2=\"325.0\" stroke=\"black\" stroke-width=\"3\" /><line x1=\"3616.9501171875017\" x2=\"3616.9501171875017\" y1=\"225.0\" y2=\"375.0\" stroke=\"black\" stroke-width=\"3\" /><line x1=\"3696.565898437502\" x2=\"3696.565898437502\" y1=\"225.0\" y2=\"375.0\" stroke=\"black\" stroke-width=\"3\" /><line x1=\"3940.803378906252\" x2=\"3940.803378906252\" y1=\"25.0\" y2=\"375.0\" stroke=\"black\" stroke-width=\"3\" /><line x1=\"4089.794648437502\" x2=\"4089.794648437502\" y1=\"25.0\" y2=\"375.0\" stroke=\"black\" stroke-width=\"3\" /><line x1=\"4178.785917968752\" x2=\"4178.785917968752\" y1=\"75.0\" y2=\"325.0\" stroke=\"black\" stroke-width=\"3\" /><line x1=\"4327.777187500002\" x2=\"4327.777187500002\" y1=\"75.0\" y2=\"325.0\" stroke=\"black\" stroke-width=\"3\" /><line x1=\"4416.768457031251\" x2=\"4416.768457031251\" y1=\"125.0\" y2=\"275.0\" stroke=\"black\" stroke-width=\"3\" /><line x1=\"4565.759726562501\" x2=\"4565.759726562501\" y1=\"125.0\" y2=\"275.0\" stroke=\"black\" stroke-width=\"3\" /><line x1=\"4654.7509960937505\" x2=\"4654.7509960937505\" y1=\"175.0\" y2=\"225.0\" stroke=\"black\" stroke-width=\"3\" /><line x1=\"4803.742265625\" x2=\"4803.742265625\" y1=\"175.0\" y2=\"225.0\" stroke=\"black\" stroke-width=\"3\" /><line x1=\"5070.716074218749\" x2=\"5070.716074218749\" y1=\"25.0\" y2=\"75.0\" stroke=\"black\" stroke-width=\"3\" /><line x1=\"5159.2390820312485\" x2=\"5159.2390820312485\" y1=\"25.0\" y2=\"75.0\" stroke=\"black\" stroke-width=\"3\" /><line x1=\"5603.7271679687465\" x2=\"5603.7271679687465\" y1=\"75.0\" y2=\"125.0\" stroke=\"black\" stroke-width=\"3\" /><line x1=\"5692.250175781246\" x2=\"5692.250175781246\" y1=\"75.0\" y2=\"125.0\" stroke=\"black\" stroke-width=\"3\" /><line x1=\"6136.738261718744\" x2=\"6136.738261718744\" y1=\"125.0\" y2=\"175.0\" stroke=\"black\" stroke-width=\"3\" /><line x1=\"6225.261269531244\" x2=\"6225.261269531244\" y1=\"125.0\" y2=\"175.0\" stroke=\"black\" stroke-width=\"3\" /><line x1=\"6669.749355468742\" x2=\"6669.749355468742\" y1=\"25.0\" y2=\"175.0\" stroke=\"black\" stroke-width=\"3\" /><line x1=\"6758.272363281241\" x2=\"6758.272363281241\" y1=\"25.0\" y2=\"175.0\" stroke=\"black\" stroke-width=\"3\" /><line x1=\"7024.77791015624\" x2=\"7024.77791015624\" y1=\"25.0\" y2=\"175.0\" stroke=\"black\" stroke-width=\"3\" /><line x1=\"7173.76917968749\" x2=\"7173.76917968749\" y1=\"25.0\" y2=\"175.0\" stroke=\"black\" stroke-width=\"3\" /><line x1=\"7262.760449218739\" x2=\"7262.760449218739\" y1=\"75.0\" y2=\"125.0\" stroke=\"black\" stroke-width=\"3\" /><line x1=\"7411.751718749989\" x2=\"7411.751718749989\" y1=\"75.0\" y2=\"125.0\" stroke=\"black\" stroke-width=\"3\" /><line x1=\"7678.725527343738\" x2=\"7678.725527343738\" y1=\"25.0\" y2=\"75.0\" stroke=\"black\" stroke-width=\"3\" /><line x1=\"7767.248535156237\" x2=\"7767.248535156237\" y1=\"25.0\" y2=\"75.0\" stroke=\"black\" stroke-width=\"3\" /><line x1=\"8033.754082031236\" x2=\"8033.754082031236\" y1=\"25.0\" y2=\"75.0\" stroke=\"black\" stroke-width=\"3\" /><line x1=\"8182.745351562486\" x2=\"8182.745351562486\" y1=\"25.0\" y2=\"75.0\" stroke=\"black\" stroke-width=\"3\" /><rect x=\"10.0\" y=\"5.0\" width=\"40\" height=\"40\" stroke=\"black\" fill=\"white\" stroke-width=\"0\" /><text x=\"30.0\" y=\"25.0\" dominant-baseline=\"middle\" text-anchor=\"middle\" font-size=\"14px\" font-family=\"Arial\">1: </text><rect x=\"10.0\" y=\"55.0\" width=\"40\" height=\"40\" stroke=\"black\" fill=\"white\" stroke-width=\"0\" /><text x=\"30.0\" y=\"75.0\" dominant-baseline=\"middle\" text-anchor=\"middle\" font-size=\"14px\" font-family=\"Arial\">2: </text><rect x=\"10.0\" y=\"105.0\" width=\"40\" height=\"40\" stroke=\"black\" fill=\"white\" stroke-width=\"0\" /><text x=\"30.0\" y=\"125.0\" dominant-baseline=\"middle\" text-anchor=\"middle\" font-size=\"14px\" font-family=\"Arial\">3: </text><rect x=\"10.0\" y=\"155.0\" width=\"40\" height=\"40\" stroke=\"black\" fill=\"white\" stroke-width=\"0\" /><text x=\"30.0\" y=\"175.0\" dominant-baseline=\"middle\" text-anchor=\"middle\" font-size=\"14px\" font-family=\"Arial\">4: </text><rect x=\"10.0\" y=\"205.0\" width=\"40\" height=\"40\" stroke=\"black\" fill=\"white\" stroke-width=\"0\" /><text x=\"30.0\" y=\"225.0\" dominant-baseline=\"middle\" text-anchor=\"middle\" font-size=\"14px\" font-family=\"Arial\">5: </text><rect x=\"10.0\" y=\"255.0\" width=\"40\" height=\"40\" stroke=\"black\" fill=\"white\" stroke-width=\"0\" /><text x=\"30.0\" y=\"275.0\" dominant-baseline=\"middle\" text-anchor=\"middle\" font-size=\"14px\" font-family=\"Arial\">6: </text><rect x=\"10.0\" y=\"305.0\" width=\"40\" height=\"40\" stroke=\"black\" fill=\"white\" stroke-width=\"0\" /><text x=\"30.0\" y=\"325.0\" dominant-baseline=\"middle\" text-anchor=\"middle\" font-size=\"14px\" font-family=\"Arial\">7: </text><rect x=\"10.0\" y=\"355.0\" width=\"40\" height=\"40\" stroke=\"black\" fill=\"white\" stroke-width=\"0\" /><text x=\"30.0\" y=\"375.0\" dominant-baseline=\"middle\" text-anchor=\"middle\" font-size=\"14px\" font-family=\"Arial\">8: </text><rect x=\"70.0\" y=\"5.0\" width=\"60.5523046875\" height=\"40\" stroke=\"black\" fill=\"white\" stroke-width=\"1\" /><text x=\"100.27615234375\" y=\"25.0\" dominant-baseline=\"middle\" text-anchor=\"middle\" font-size=\"14px\" font-family=\"Arial\">Rx(x_0)</text><rect x=\"70.0\" y=\"255.0\" width=\"60.5523046875\" height=\"40\" stroke=\"black\" fill=\"white\" stroke-width=\"1\" /><text x=\"100.27615234375\" y=\"275.0\" dominant-baseline=\"middle\" text-anchor=\"middle\" font-size=\"14px\" font-family=\"Arial\">Rx(x_1)</text><rect x=\"150.5523046875\" y=\"5.0\" width=\"59.61578125\" height=\"40\" stroke=\"black\" fill=\"white\" stroke-width=\"1\" /><text x=\"180.3601953125\" y=\"25.0\" dominant-baseline=\"middle\" text-anchor=\"middle\" font-size=\"14px\" font-family=\"Arial\">Rz(x_2)</text><rect x=\"150.5523046875\" y=\"255.0\" width=\"59.61578125\" height=\"40\" stroke=\"black\" fill=\"white\" stroke-width=\"1\" /><text x=\"180.3601953125\" y=\"275.0\" dominant-baseline=\"middle\" text-anchor=\"middle\" font-size=\"14px\" font-family=\"Arial\">Rz(x_3)</text><circle cx=\"259.9759765625\" cy=\"25.0\" r=\"10.0\" /><rect x=\"230.16808593750002\" y=\"255.0\" width=\"59.61578125\" height=\"40\" stroke=\"black\" fill=\"white\" stroke-width=\"1\" /><text x=\"259.9759765625\" y=\"275.0\" dominant-baseline=\"middle\" text-anchor=\"middle\" font-size=\"14px\" font-family=\"Arial\">Rz(x_4)</text><circle cx=\"339.59175781249996\" cy=\"275.0\" r=\"10.0\" /><rect x=\"309.78386718749994\" y=\"5.0\" width=\"59.61578125\" height=\"40\" stroke=\"black\" fill=\"white\" stroke-width=\"1\" /><text x=\"339.59175781249996\" y=\"25.0\" dominant-baseline=\"middle\" text-anchor=\"middle\" font-size=\"14px\" font-family=\"Arial\">Rz(x_5)</text><rect x=\"389.3996484375\" y=\"5.0\" width=\"60.5523046875\" height=\"40\" stroke=\"black\" fill=\"white\" stroke-width=\"1\" /><text x=\"419.67580078125\" y=\"25.0\" dominant-baseline=\"middle\" text-anchor=\"middle\" font-size=\"14px\" font-family=\"Arial\">Rx(x_6)</text><rect x=\"389.3996484375\" y=\"255.0\" width=\"60.5523046875\" height=\"40\" stroke=\"black\" fill=\"white\" stroke-width=\"1\" /><text x=\"419.67580078125\" y=\"275.0\" dominant-baseline=\"middle\" text-anchor=\"middle\" font-size=\"14px\" font-family=\"Arial\">Rx(x_7)</text><rect x=\"469.95195312499993\" y=\"5.0\" width=\"59.61578125\" height=\"40\" stroke=\"black\" fill=\"white\" stroke-width=\"1\" /><text x=\"499.75984374999996\" y=\"25.0\" dominant-baseline=\"middle\" text-anchor=\"middle\" font-size=\"14px\" font-family=\"Arial\">Rz(x_8)</text><rect x=\"469.95195312499993\" y=\"255.0\" width=\"59.61578125\" height=\"40\" stroke=\"black\" fill=\"white\" stroke-width=\"1\" /><text x=\"499.75984374999996\" y=\"275.0\" dominant-baseline=\"middle\" text-anchor=\"middle\" font-size=\"14px\" font-family=\"Arial\">Rz(x_9)</text><rect x=\"549.567734375\" y=\"55.0\" width=\"60.5523046875\" height=\"40\" stroke=\"black\" fill=\"white\" stroke-width=\"1\" /><text x=\"579.84388671875\" y=\"75.0\" dominant-baseline=\"middle\" text-anchor=\"middle\" font-size=\"14px\" font-family=\"Arial\">Rx(x_0)</text><rect x=\"549.567734375\" y=\"305.0\" width=\"60.5523046875\" height=\"40\" stroke=\"black\" fill=\"white\" stroke-width=\"1\" /><text x=\"579.84388671875\" y=\"325.0\" dominant-baseline=\"middle\" text-anchor=\"middle\" font-size=\"14px\" font-family=\"Arial\">Rx(x_1)</text><rect x=\"630.1200390624999\" y=\"55.0\" width=\"59.61578125\" height=\"40\" stroke=\"black\" fill=\"white\" stroke-width=\"1\" /><text x=\"659.9279296875\" y=\"75.0\" dominant-baseline=\"middle\" text-anchor=\"middle\" font-size=\"14px\" font-family=\"Arial\">Rz(x_2)</text><rect x=\"630.1200390624999\" y=\"305.0\" width=\"59.61578125\" height=\"40\" stroke=\"black\" fill=\"white\" stroke-width=\"1\" /><text x=\"659.9279296875\" y=\"325.0\" dominant-baseline=\"middle\" text-anchor=\"middle\" font-size=\"14px\" font-family=\"Arial\">Rz(x_3)</text><circle cx=\"739.5437109375\" cy=\"75.0\" r=\"10.0\" /><rect x=\"709.7358203125\" y=\"305.0\" width=\"59.61578125\" height=\"40\" stroke=\"black\" fill=\"white\" stroke-width=\"1\" /><text x=\"739.5437109375\" y=\"325.0\" dominant-baseline=\"middle\" text-anchor=\"middle\" font-size=\"14px\" font-family=\"Arial\">Rz(x_4)</text><circle cx=\"819.1594921875001\" cy=\"325.0\" r=\"10.0\" /><rect x=\"789.3516015625\" y=\"55.0\" width=\"59.61578125\" height=\"40\" stroke=\"black\" fill=\"white\" stroke-width=\"1\" /><text x=\"819.1594921875001\" y=\"75.0\" dominant-baseline=\"middle\" text-anchor=\"middle\" font-size=\"14px\" font-family=\"Arial\">Rz(x_5)</text><rect x=\"868.9673828125001\" y=\"55.0\" width=\"60.5523046875\" height=\"40\" stroke=\"black\" fill=\"white\" stroke-width=\"1\" /><text x=\"899.2435351562501\" y=\"75.0\" dominant-baseline=\"middle\" text-anchor=\"middle\" font-size=\"14px\" font-family=\"Arial\">Rx(x_6)</text><rect x=\"868.9673828125001\" y=\"305.0\" width=\"60.5523046875\" height=\"40\" stroke=\"black\" fill=\"white\" stroke-width=\"1\" /><text x=\"899.2435351562501\" y=\"325.0\" dominant-baseline=\"middle\" text-anchor=\"middle\" font-size=\"14px\" font-family=\"Arial\">Rx(x_7)</text><rect x=\"949.5196875000001\" y=\"55.0\" width=\"59.61578125\" height=\"40\" stroke=\"black\" fill=\"white\" stroke-width=\"1\" /><text x=\"979.3275781250002\" y=\"75.0\" dominant-baseline=\"middle\" text-anchor=\"middle\" font-size=\"14px\" font-family=\"Arial\">Rz(x_8)</text><rect x=\"949.5196875000001\" y=\"305.0\" width=\"59.61578125\" height=\"40\" stroke=\"black\" fill=\"white\" stroke-width=\"1\" /><text x=\"979.3275781250002\" y=\"325.0\" dominant-baseline=\"middle\" text-anchor=\"middle\" font-size=\"14px\" font-family=\"Arial\">Rz(x_9)</text><rect x=\"1029.1354687500002\" y=\"105.0\" width=\"60.5523046875\" height=\"40\" stroke=\"black\" fill=\"white\" stroke-width=\"1\" /><text x=\"1059.4116210937502\" y=\"125.0\" dominant-baseline=\"middle\" text-anchor=\"middle\" font-size=\"14px\" font-family=\"Arial\">Rx(x_0)</text><rect x=\"1029.1354687500002\" y=\"355.0\" width=\"60.5523046875\" height=\"40\" stroke=\"black\" fill=\"white\" stroke-width=\"1\" /><text x=\"1059.4116210937502\" y=\"375.0\" dominant-baseline=\"middle\" text-anchor=\"middle\" font-size=\"14px\" font-family=\"Arial\">Rx(x_1)</text><rect x=\"1109.6877734375003\" y=\"105.0\" width=\"59.61578125\" height=\"40\" stroke=\"black\" fill=\"white\" stroke-width=\"1\" /><text x=\"1139.4956640625003\" y=\"125.0\" dominant-baseline=\"middle\" text-anchor=\"middle\" font-size=\"14px\" font-family=\"Arial\">Rz(x_2)</text><rect x=\"1109.6877734375003\" y=\"355.0\" width=\"59.61578125\" height=\"40\" stroke=\"black\" fill=\"white\" stroke-width=\"1\" /><text x=\"1139.4956640625003\" y=\"375.0\" dominant-baseline=\"middle\" text-anchor=\"middle\" font-size=\"14px\" font-family=\"Arial\">Rz(x_3)</text><circle cx=\"1219.1114453125003\" cy=\"125.0\" r=\"10.0\" /><rect x=\"1189.3035546875003\" y=\"355.0\" width=\"59.61578125\" height=\"40\" stroke=\"black\" fill=\"white\" stroke-width=\"1\" /><text x=\"1219.1114453125003\" y=\"375.0\" dominant-baseline=\"middle\" text-anchor=\"middle\" font-size=\"14px\" font-family=\"Arial\">Rz(x_4)</text><circle cx=\"1298.7272265625004\" cy=\"375.0\" r=\"10.0\" /><rect x=\"1268.9193359375004\" y=\"105.0\" width=\"59.61578125\" height=\"40\" stroke=\"black\" fill=\"white\" stroke-width=\"1\" /><text x=\"1298.7272265625004\" y=\"125.0\" dominant-baseline=\"middle\" text-anchor=\"middle\" font-size=\"14px\" font-family=\"Arial\">Rz(x_5)</text><rect x=\"1348.5351171875004\" y=\"105.0\" width=\"60.5523046875\" height=\"40\" stroke=\"black\" fill=\"white\" stroke-width=\"1\" /><text x=\"1378.8112695312504\" y=\"125.0\" dominant-baseline=\"middle\" text-anchor=\"middle\" font-size=\"14px\" font-family=\"Arial\">Rx(x_6)</text><rect x=\"1348.5351171875004\" y=\"355.0\" width=\"60.5523046875\" height=\"40\" stroke=\"black\" fill=\"white\" stroke-width=\"1\" /><text x=\"1378.8112695312504\" y=\"375.0\" dominant-baseline=\"middle\" text-anchor=\"middle\" font-size=\"14px\" font-family=\"Arial\">Rx(x_7)</text><rect x=\"1429.0874218750005\" y=\"105.0\" width=\"59.61578125\" height=\"40\" stroke=\"black\" fill=\"white\" stroke-width=\"1\" /><text x=\"1458.8953125000005\" y=\"125.0\" dominant-baseline=\"middle\" text-anchor=\"middle\" font-size=\"14px\" font-family=\"Arial\">Rz(x_8)</text><rect x=\"1429.0874218750005\" y=\"355.0\" width=\"59.61578125\" height=\"40\" stroke=\"black\" fill=\"white\" stroke-width=\"1\" /><text x=\"1458.8953125000005\" y=\"375.0\" dominant-baseline=\"middle\" text-anchor=\"middle\" font-size=\"14px\" font-family=\"Arial\">Rz(x_9)</text><rect x=\"1508.7032031250005\" y=\"155.0\" width=\"60.5523046875\" height=\"40\" stroke=\"black\" fill=\"white\" stroke-width=\"1\" /><text x=\"1538.9793554687506\" y=\"175.0\" dominant-baseline=\"middle\" text-anchor=\"middle\" font-size=\"14px\" font-family=\"Arial\">Rx(x_0)</text><rect x=\"1508.7032031250005\" y=\"5.0\" width=\"60.5523046875\" height=\"40\" stroke=\"black\" fill=\"white\" stroke-width=\"1\" /><text x=\"1538.9793554687506\" y=\"25.0\" dominant-baseline=\"middle\" text-anchor=\"middle\" font-size=\"14px\" font-family=\"Arial\">Rx(x_1)</text><rect x=\"1589.2555078125006\" y=\"155.0\" width=\"59.61578125\" height=\"40\" stroke=\"black\" fill=\"white\" stroke-width=\"1\" /><text x=\"1619.0633984375006\" y=\"175.0\" dominant-baseline=\"middle\" text-anchor=\"middle\" font-size=\"14px\" font-family=\"Arial\">Rz(x_2)</text><rect x=\"1589.2555078125006\" y=\"5.0\" width=\"59.61578125\" height=\"40\" stroke=\"black\" fill=\"white\" stroke-width=\"1\" /><text x=\"1619.0633984375006\" y=\"25.0\" dominant-baseline=\"middle\" text-anchor=\"middle\" font-size=\"14px\" font-family=\"Arial\">Rz(x_3)</text><circle cx=\"1698.6791796875007\" cy=\"175.0\" r=\"10.0\" /><rect x=\"1668.8712890625006\" y=\"5.0\" width=\"59.61578125\" height=\"40\" stroke=\"black\" fill=\"white\" stroke-width=\"1\" /><text x=\"1698.6791796875007\" y=\"25.0\" dominant-baseline=\"middle\" text-anchor=\"middle\" font-size=\"14px\" font-family=\"Arial\">Rz(x_4)</text><circle cx=\"1778.2949609375007\" cy=\"25.0\" r=\"10.0\" /><rect x=\"1748.4870703125007\" y=\"155.0\" width=\"59.61578125\" height=\"40\" stroke=\"black\" fill=\"white\" stroke-width=\"1\" /><text x=\"1778.2949609375007\" y=\"175.0\" dominant-baseline=\"middle\" text-anchor=\"middle\" font-size=\"14px\" font-family=\"Arial\">Rz(x_5)</text><rect x=\"1828.1028515625007\" y=\"155.0\" width=\"60.5523046875\" height=\"40\" stroke=\"black\" fill=\"white\" stroke-width=\"1\" /><text x=\"1858.3790039062508\" y=\"175.0\" dominant-baseline=\"middle\" text-anchor=\"middle\" font-size=\"14px\" font-family=\"Arial\">Rx(x_6)</text><rect x=\"1828.1028515625007\" y=\"5.0\" width=\"60.5523046875\" height=\"40\" stroke=\"black\" fill=\"white\" stroke-width=\"1\" /><text x=\"1858.3790039062508\" y=\"25.0\" dominant-baseline=\"middle\" text-anchor=\"middle\" font-size=\"14px\" font-family=\"Arial\">Rx(x_7)</text><rect x=\"1908.6551562500008\" y=\"155.0\" width=\"59.61578125\" height=\"40\" stroke=\"black\" fill=\"white\" stroke-width=\"1\" /><text x=\"1938.4630468750008\" y=\"175.0\" dominant-baseline=\"middle\" text-anchor=\"middle\" font-size=\"14px\" font-family=\"Arial\">Rz(x_8)</text><rect x=\"1908.6551562500008\" y=\"5.0\" width=\"59.61578125\" height=\"40\" stroke=\"black\" fill=\"white\" stroke-width=\"1\" /><text x=\"1938.4630468750008\" y=\"25.0\" dominant-baseline=\"middle\" text-anchor=\"middle\" font-size=\"14px\" font-family=\"Arial\">Rz(x_9)</text><rect x=\"1988.2709375000009\" y=\"205.0\" width=\"60.5523046875\" height=\"40\" stroke=\"black\" fill=\"white\" stroke-width=\"1\" /><text x=\"2018.5470898437509\" y=\"225.0\" dominant-baseline=\"middle\" text-anchor=\"middle\" font-size=\"14px\" font-family=\"Arial\">Rx(x_0)</text><rect x=\"1988.2709375000009\" y=\"55.0\" width=\"60.5523046875\" height=\"40\" stroke=\"black\" fill=\"white\" stroke-width=\"1\" /><text x=\"2018.5470898437509\" y=\"75.0\" dominant-baseline=\"middle\" text-anchor=\"middle\" font-size=\"14px\" font-family=\"Arial\">Rx(x_1)</text><rect x=\"2068.823242187501\" y=\"205.0\" width=\"59.61578125\" height=\"40\" stroke=\"black\" fill=\"white\" stroke-width=\"1\" /><text x=\"2098.6311328125007\" y=\"225.0\" dominant-baseline=\"middle\" text-anchor=\"middle\" font-size=\"14px\" font-family=\"Arial\">Rz(x_2)</text><rect x=\"2068.823242187501\" y=\"55.0\" width=\"59.61578125\" height=\"40\" stroke=\"black\" fill=\"white\" stroke-width=\"1\" /><text x=\"2098.6311328125007\" y=\"75.0\" dominant-baseline=\"middle\" text-anchor=\"middle\" font-size=\"14px\" font-family=\"Arial\">Rz(x_3)</text><circle cx=\"2178.2469140625008\" cy=\"225.0\" r=\"10.0\" /><rect x=\"2148.439023437501\" y=\"55.0\" width=\"59.61578125\" height=\"40\" stroke=\"black\" fill=\"white\" stroke-width=\"1\" /><text x=\"2178.2469140625008\" y=\"75.0\" dominant-baseline=\"middle\" text-anchor=\"middle\" font-size=\"14px\" font-family=\"Arial\">Rz(x_4)</text><circle cx=\"2257.862695312501\" cy=\"75.0\" r=\"10.0\" /><rect x=\"2228.054804687501\" y=\"205.0\" width=\"59.61578125\" height=\"40\" stroke=\"black\" fill=\"white\" stroke-width=\"1\" /><text x=\"2257.862695312501\" y=\"225.0\" dominant-baseline=\"middle\" text-anchor=\"middle\" font-size=\"14px\" font-family=\"Arial\">Rz(x_5)</text><rect x=\"2307.670585937501\" y=\"205.0\" width=\"60.5523046875\" height=\"40\" stroke=\"black\" fill=\"white\" stroke-width=\"1\" /><text x=\"2337.946738281251\" y=\"225.0\" dominant-baseline=\"middle\" text-anchor=\"middle\" font-size=\"14px\" font-family=\"Arial\">Rx(x_6)</text><rect x=\"2307.670585937501\" y=\"55.0\" width=\"60.5523046875\" height=\"40\" stroke=\"black\" fill=\"white\" stroke-width=\"1\" /><text x=\"2337.946738281251\" y=\"75.0\" dominant-baseline=\"middle\" text-anchor=\"middle\" font-size=\"14px\" font-family=\"Arial\">Rx(x_7)</text><rect x=\"2388.222890625001\" y=\"205.0\" width=\"59.61578125\" height=\"40\" stroke=\"black\" fill=\"white\" stroke-width=\"1\" /><text x=\"2418.030781250001\" y=\"225.0\" dominant-baseline=\"middle\" text-anchor=\"middle\" font-size=\"14px\" font-family=\"Arial\">Rz(x_8)</text><rect x=\"2388.222890625001\" y=\"55.0\" width=\"59.61578125\" height=\"40\" stroke=\"black\" fill=\"white\" stroke-width=\"1\" /><text x=\"2418.030781250001\" y=\"75.0\" dominant-baseline=\"middle\" text-anchor=\"middle\" font-size=\"14px\" font-family=\"Arial\">Rz(x_9)</text><rect x=\"2467.838671875001\" y=\"255.0\" width=\"60.5523046875\" height=\"40\" stroke=\"black\" fill=\"white\" stroke-width=\"1\" /><text x=\"2498.114824218751\" y=\"275.0\" dominant-baseline=\"middle\" text-anchor=\"middle\" font-size=\"14px\" font-family=\"Arial\">Rx(x_0)</text><rect x=\"2467.838671875001\" y=\"105.0\" width=\"60.5523046875\" height=\"40\" stroke=\"black\" fill=\"white\" stroke-width=\"1\" /><text x=\"2498.114824218751\" y=\"125.0\" dominant-baseline=\"middle\" text-anchor=\"middle\" font-size=\"14px\" font-family=\"Arial\">Rx(x_1)</text><rect x=\"2548.3909765625012\" y=\"255.0\" width=\"59.61578125\" height=\"40\" stroke=\"black\" fill=\"white\" stroke-width=\"1\" /><text x=\"2578.198867187501\" y=\"275.0\" dominant-baseline=\"middle\" text-anchor=\"middle\" font-size=\"14px\" font-family=\"Arial\">Rz(x_2)</text><rect x=\"2548.3909765625012\" y=\"105.0\" width=\"59.61578125\" height=\"40\" stroke=\"black\" fill=\"white\" stroke-width=\"1\" /><text x=\"2578.198867187501\" y=\"125.0\" dominant-baseline=\"middle\" text-anchor=\"middle\" font-size=\"14px\" font-family=\"Arial\">Rz(x_3)</text><circle cx=\"2657.814648437501\" cy=\"275.0\" r=\"10.0\" /><rect x=\"2628.0067578125013\" y=\"105.0\" width=\"59.61578125\" height=\"40\" stroke=\"black\" fill=\"white\" stroke-width=\"1\" /><text x=\"2657.814648437501\" y=\"125.0\" dominant-baseline=\"middle\" text-anchor=\"middle\" font-size=\"14px\" font-family=\"Arial\">Rz(x_4)</text><circle cx=\"2737.430429687501\" cy=\"125.0\" r=\"10.0\" /><rect x=\"2707.6225390625013\" y=\"255.0\" width=\"59.61578125\" height=\"40\" stroke=\"black\" fill=\"white\" stroke-width=\"1\" /><text x=\"2737.430429687501\" y=\"275.0\" dominant-baseline=\"middle\" text-anchor=\"middle\" font-size=\"14px\" font-family=\"Arial\">Rz(x_5)</text><rect x=\"2787.2383203125014\" y=\"255.0\" width=\"60.5523046875\" height=\"40\" stroke=\"black\" fill=\"white\" stroke-width=\"1\" /><text x=\"2817.514472656251\" y=\"275.0\" dominant-baseline=\"middle\" text-anchor=\"middle\" font-size=\"14px\" font-family=\"Arial\">Rx(x_6)</text><rect x=\"2787.2383203125014\" y=\"105.0\" width=\"60.5523046875\" height=\"40\" stroke=\"black\" fill=\"white\" stroke-width=\"1\" /><text x=\"2817.514472656251\" y=\"125.0\" dominant-baseline=\"middle\" text-anchor=\"middle\" font-size=\"14px\" font-family=\"Arial\">Rx(x_7)</text><rect x=\"2867.7906250000015\" y=\"255.0\" width=\"59.61578125\" height=\"40\" stroke=\"black\" fill=\"white\" stroke-width=\"1\" /><text x=\"2897.5985156250013\" y=\"275.0\" dominant-baseline=\"middle\" text-anchor=\"middle\" font-size=\"14px\" font-family=\"Arial\">Rz(x_8)</text><rect x=\"2867.7906250000015\" y=\"105.0\" width=\"59.61578125\" height=\"40\" stroke=\"black\" fill=\"white\" stroke-width=\"1\" /><text x=\"2897.5985156250013\" y=\"125.0\" dominant-baseline=\"middle\" text-anchor=\"middle\" font-size=\"14px\" font-family=\"Arial\">Rz(x_9)</text><rect x=\"2947.4064062500015\" y=\"305.0\" width=\"60.5523046875\" height=\"40\" stroke=\"black\" fill=\"white\" stroke-width=\"1\" /><text x=\"2977.6825585937513\" y=\"325.0\" dominant-baseline=\"middle\" text-anchor=\"middle\" font-size=\"14px\" font-family=\"Arial\">Rx(x_0)</text><rect x=\"2947.4064062500015\" y=\"155.0\" width=\"60.5523046875\" height=\"40\" stroke=\"black\" fill=\"white\" stroke-width=\"1\" /><text x=\"2977.6825585937513\" y=\"175.0\" dominant-baseline=\"middle\" text-anchor=\"middle\" font-size=\"14px\" font-family=\"Arial\">Rx(x_1)</text><rect x=\"3027.9587109375016\" y=\"305.0\" width=\"59.61578125\" height=\"40\" stroke=\"black\" fill=\"white\" stroke-width=\"1\" /><text x=\"3057.7666015625014\" y=\"325.0\" dominant-baseline=\"middle\" text-anchor=\"middle\" font-size=\"14px\" font-family=\"Arial\">Rz(x_2)</text><rect x=\"3027.9587109375016\" y=\"155.0\" width=\"59.61578125\" height=\"40\" stroke=\"black\" fill=\"white\" stroke-width=\"1\" /><text x=\"3057.7666015625014\" y=\"175.0\" dominant-baseline=\"middle\" text-anchor=\"middle\" font-size=\"14px\" font-family=\"Arial\">Rz(x_3)</text><circle cx=\"3137.3823828125014\" cy=\"325.0\" r=\"10.0\" /><rect x=\"3107.5744921875016\" y=\"155.0\" width=\"59.61578125\" height=\"40\" stroke=\"black\" fill=\"white\" stroke-width=\"1\" /><text x=\"3137.3823828125014\" y=\"175.0\" dominant-baseline=\"middle\" text-anchor=\"middle\" font-size=\"14px\" font-family=\"Arial\">Rz(x_4)</text><circle cx=\"3216.9981640625015\" cy=\"175.0\" r=\"10.0\" /><rect x=\"3187.1902734375017\" y=\"305.0\" width=\"59.61578125\" height=\"40\" stroke=\"black\" fill=\"white\" stroke-width=\"1\" /><text x=\"3216.9981640625015\" y=\"325.0\" dominant-baseline=\"middle\" text-anchor=\"middle\" font-size=\"14px\" font-family=\"Arial\">Rz(x_5)</text><rect x=\"3266.8060546875017\" y=\"305.0\" width=\"60.5523046875\" height=\"40\" stroke=\"black\" fill=\"white\" stroke-width=\"1\" /><text x=\"3297.0822070312515\" y=\"325.0\" dominant-baseline=\"middle\" text-anchor=\"middle\" font-size=\"14px\" font-family=\"Arial\">Rx(x_6)</text><rect x=\"3266.8060546875017\" y=\"155.0\" width=\"60.5523046875\" height=\"40\" stroke=\"black\" fill=\"white\" stroke-width=\"1\" /><text x=\"3297.0822070312515\" y=\"175.0\" dominant-baseline=\"middle\" text-anchor=\"middle\" font-size=\"14px\" font-family=\"Arial\">Rx(x_7)</text><rect x=\"3347.358359375002\" y=\"305.0\" width=\"59.61578125\" height=\"40\" stroke=\"black\" fill=\"white\" stroke-width=\"1\" /><text x=\"3377.1662500000016\" y=\"325.0\" dominant-baseline=\"middle\" text-anchor=\"middle\" font-size=\"14px\" font-family=\"Arial\">Rz(x_8)</text><rect x=\"3347.358359375002\" y=\"155.0\" width=\"59.61578125\" height=\"40\" stroke=\"black\" fill=\"white\" stroke-width=\"1\" /><text x=\"3377.1662500000016\" y=\"175.0\" dominant-baseline=\"middle\" text-anchor=\"middle\" font-size=\"14px\" font-family=\"Arial\">Rz(x_9)</text><rect x=\"3426.974140625002\" y=\"355.0\" width=\"60.5523046875\" height=\"40\" stroke=\"black\" fill=\"white\" stroke-width=\"1\" /><text x=\"3457.2502929687516\" y=\"375.0\" dominant-baseline=\"middle\" text-anchor=\"middle\" font-size=\"14px\" font-family=\"Arial\">Rx(x_0)</text><rect x=\"3426.974140625002\" y=\"205.0\" width=\"60.5523046875\" height=\"40\" stroke=\"black\" fill=\"white\" stroke-width=\"1\" /><text x=\"3457.2502929687516\" y=\"225.0\" dominant-baseline=\"middle\" text-anchor=\"middle\" font-size=\"14px\" font-family=\"Arial\">Rx(x_1)</text><rect x=\"3507.526445312502\" y=\"355.0\" width=\"59.61578125\" height=\"40\" stroke=\"black\" fill=\"white\" stroke-width=\"1\" /><text x=\"3537.3343359375017\" y=\"375.0\" dominant-baseline=\"middle\" text-anchor=\"middle\" font-size=\"14px\" font-family=\"Arial\">Rz(x_2)</text><rect x=\"3507.526445312502\" y=\"205.0\" width=\"59.61578125\" height=\"40\" stroke=\"black\" fill=\"white\" stroke-width=\"1\" /><text x=\"3537.3343359375017\" y=\"225.0\" dominant-baseline=\"middle\" text-anchor=\"middle\" font-size=\"14px\" font-family=\"Arial\">Rz(x_3)</text><circle cx=\"3616.9501171875017\" cy=\"375.0\" r=\"10.0\" /><rect x=\"3587.142226562502\" y=\"205.0\" width=\"59.61578125\" height=\"40\" stroke=\"black\" fill=\"white\" stroke-width=\"1\" /><text x=\"3616.9501171875017\" y=\"225.0\" dominant-baseline=\"middle\" text-anchor=\"middle\" font-size=\"14px\" font-family=\"Arial\">Rz(x_4)</text><circle cx=\"3696.565898437502\" cy=\"225.0\" r=\"10.0\" /><rect x=\"3666.758007812502\" y=\"355.0\" width=\"59.61578125\" height=\"40\" stroke=\"black\" fill=\"white\" stroke-width=\"1\" /><text x=\"3696.565898437502\" y=\"375.0\" dominant-baseline=\"middle\" text-anchor=\"middle\" font-size=\"14px\" font-family=\"Arial\">Rz(x_5)</text><rect x=\"3746.373789062502\" y=\"355.0\" width=\"60.5523046875\" height=\"40\" stroke=\"black\" fill=\"white\" stroke-width=\"1\" /><text x=\"3776.649941406252\" y=\"375.0\" dominant-baseline=\"middle\" text-anchor=\"middle\" font-size=\"14px\" font-family=\"Arial\">Rx(x_6)</text><rect x=\"3746.373789062502\" y=\"205.0\" width=\"60.5523046875\" height=\"40\" stroke=\"black\" fill=\"white\" stroke-width=\"1\" /><text x=\"3776.649941406252\" y=\"225.0\" dominant-baseline=\"middle\" text-anchor=\"middle\" font-size=\"14px\" font-family=\"Arial\">Rx(x_7)</text><rect x=\"3826.926093750002\" y=\"355.0\" width=\"59.61578125\" height=\"40\" stroke=\"black\" fill=\"white\" stroke-width=\"1\" /><text x=\"3856.733984375002\" y=\"375.0\" dominant-baseline=\"middle\" text-anchor=\"middle\" font-size=\"14px\" font-family=\"Arial\">Rz(x_8)</text><rect x=\"3826.926093750002\" y=\"205.0\" width=\"59.61578125\" height=\"40\" stroke=\"black\" fill=\"white\" stroke-width=\"1\" /><text x=\"3856.733984375002\" y=\"225.0\" dominant-baseline=\"middle\" text-anchor=\"middle\" font-size=\"14px\" font-family=\"Arial\">Rz(x_9)</text><circle cx=\"3940.803378906252\" cy=\"375.0\" r=\"10.0\" /><rect x=\"3906.541875000002\" y=\"5.0\" width=\"68.5230078125\" height=\"40\" stroke=\"black\" fill=\"white\" stroke-width=\"1\" /><text x=\"3940.803378906252\" y=\"25.0\" dominant-baseline=\"middle\" text-anchor=\"middle\" font-size=\"14px\" font-family=\"Arial\">Rz(x_10)</text><rect x=\"3995.064882812502\" y=\"355.0\" width=\"40\" height=\"40\" stroke=\"black\" fill=\"white\" stroke-width=\"1\" /><text x=\"4015.064882812502\" y=\"375.0\" dominant-baseline=\"middle\" text-anchor=\"middle\" font-size=\"18px\" font-family=\"Arial\">X</text><circle cx=\"4089.794648437502\" cy=\"375.0\" r=\"10.0\" /><rect x=\"4055.064882812502\" y=\"5.0\" width=\"69.45953125\" height=\"40\" stroke=\"black\" fill=\"white\" stroke-width=\"1\" /><text x=\"4089.794648437502\" y=\"25.0\" dominant-baseline=\"middle\" text-anchor=\"middle\" font-size=\"14px\" font-family=\"Arial\">Rx(x_11)</text><circle cx=\"4178.785917968752\" cy=\"325.0\" r=\"10.0\" /><rect x=\"4144.524414062502\" y=\"55.0\" width=\"68.5230078125\" height=\"40\" stroke=\"black\" fill=\"white\" stroke-width=\"1\" /><text x=\"4178.785917968752\" y=\"75.0\" dominant-baseline=\"middle\" text-anchor=\"middle\" font-size=\"14px\" font-family=\"Arial\">Rz(x_10)</text><rect x=\"4233.047421875001\" y=\"305.0\" width=\"40\" height=\"40\" stroke=\"black\" fill=\"white\" stroke-width=\"1\" /><text x=\"4253.047421875001\" y=\"325.0\" dominant-baseline=\"middle\" text-anchor=\"middle\" font-size=\"18px\" font-family=\"Arial\">X</text><circle cx=\"4327.777187500002\" cy=\"325.0\" r=\"10.0\" /><rect x=\"4293.047421875001\" y=\"55.0\" width=\"69.45953125\" height=\"40\" stroke=\"black\" fill=\"white\" stroke-width=\"1\" /><text x=\"4327.777187500002\" y=\"75.0\" dominant-baseline=\"middle\" text-anchor=\"middle\" font-size=\"14px\" font-family=\"Arial\">Rx(x_11)</text><circle cx=\"4416.768457031251\" cy=\"275.0\" r=\"10.0\" /><rect x=\"4382.506953125001\" y=\"105.0\" width=\"68.5230078125\" height=\"40\" stroke=\"black\" fill=\"white\" stroke-width=\"1\" /><text x=\"4416.768457031251\" y=\"125.0\" dominant-baseline=\"middle\" text-anchor=\"middle\" font-size=\"14px\" font-family=\"Arial\">Rz(x_10)</text><rect x=\"4471.029960937501\" y=\"255.0\" width=\"40\" height=\"40\" stroke=\"black\" fill=\"white\" stroke-width=\"1\" /><text x=\"4491.029960937501\" y=\"275.0\" dominant-baseline=\"middle\" text-anchor=\"middle\" font-size=\"18px\" font-family=\"Arial\">X</text><circle cx=\"4565.759726562501\" cy=\"275.0\" r=\"10.0\" /><rect x=\"4531.029960937501\" y=\"105.0\" width=\"69.45953125\" height=\"40\" stroke=\"black\" fill=\"white\" stroke-width=\"1\" /><text x=\"4565.759726562501\" y=\"125.0\" dominant-baseline=\"middle\" text-anchor=\"middle\" font-size=\"14px\" font-family=\"Arial\">Rx(x_11)</text><circle cx=\"4654.7509960937505\" cy=\"225.0\" r=\"10.0\" /><rect x=\"4620.4894921875\" y=\"155.0\" width=\"68.5230078125\" height=\"40\" stroke=\"black\" fill=\"white\" stroke-width=\"1\" /><text x=\"4654.7509960937505\" y=\"175.0\" dominant-baseline=\"middle\" text-anchor=\"middle\" font-size=\"14px\" font-family=\"Arial\">Rz(x_10)</text><rect x=\"4709.0125\" y=\"205.0\" width=\"40\" height=\"40\" stroke=\"black\" fill=\"white\" stroke-width=\"1\" /><text x=\"4729.0125\" y=\"225.0\" dominant-baseline=\"middle\" text-anchor=\"middle\" font-size=\"18px\" font-family=\"Arial\">X</text><circle cx=\"4803.742265625\" cy=\"225.0\" r=\"10.0\" /><rect x=\"4769.0125\" y=\"155.0\" width=\"69.45953125\" height=\"40\" stroke=\"black\" fill=\"white\" stroke-width=\"1\" /><text x=\"4803.742265625\" y=\"175.0\" dominant-baseline=\"middle\" text-anchor=\"middle\" font-size=\"14px\" font-family=\"Arial\">Rx(x_11)</text><rect x=\"4858.472031249999\" y=\"5.0\" width=\"69.45953125\" height=\"40\" stroke=\"black\" fill=\"white\" stroke-width=\"1\" /><text x=\"4893.201796875\" y=\"25.0\" dominant-baseline=\"middle\" text-anchor=\"middle\" font-size=\"14px\" font-family=\"Arial\">Rx(x_12)</text><rect x=\"4858.472031249999\" y=\"55.0\" width=\"69.45953125\" height=\"40\" stroke=\"black\" fill=\"white\" stroke-width=\"1\" /><text x=\"4893.201796875\" y=\"75.0\" dominant-baseline=\"middle\" text-anchor=\"middle\" font-size=\"14px\" font-family=\"Arial\">Rx(x_13)</text><rect x=\"4947.931562499999\" y=\"5.0\" width=\"68.5230078125\" height=\"40\" stroke=\"black\" fill=\"white\" stroke-width=\"1\" /><text x=\"4982.193066406249\" y=\"25.0\" dominant-baseline=\"middle\" text-anchor=\"middle\" font-size=\"14px\" font-family=\"Arial\">Rz(x_14)</text><rect x=\"4947.931562499999\" y=\"55.0\" width=\"68.5230078125\" height=\"40\" stroke=\"black\" fill=\"white\" stroke-width=\"1\" /><text x=\"4982.193066406249\" y=\"75.0\" dominant-baseline=\"middle\" text-anchor=\"middle\" font-size=\"14px\" font-family=\"Arial\">Rz(x_15)</text><circle cx=\"5070.716074218749\" cy=\"25.0\" r=\"10.0\" /><rect x=\"5036.454570312499\" y=\"55.0\" width=\"68.5230078125\" height=\"40\" stroke=\"black\" fill=\"white\" stroke-width=\"1\" /><text x=\"5070.716074218749\" y=\"75.0\" dominant-baseline=\"middle\" text-anchor=\"middle\" font-size=\"14px\" font-family=\"Arial\">Rz(x_16)</text><circle cx=\"5159.2390820312485\" cy=\"75.0\" r=\"10.0\" /><rect x=\"5124.977578124998\" y=\"5.0\" width=\"68.5230078125\" height=\"40\" stroke=\"black\" fill=\"white\" stroke-width=\"1\" /><text x=\"5159.2390820312485\" y=\"25.0\" dominant-baseline=\"middle\" text-anchor=\"middle\" font-size=\"14px\" font-family=\"Arial\">Rz(x_17)</text><rect x=\"5213.500585937498\" y=\"5.0\" width=\"69.45953125\" height=\"40\" stroke=\"black\" fill=\"white\" stroke-width=\"1\" /><text x=\"5248.230351562498\" y=\"25.0\" dominant-baseline=\"middle\" text-anchor=\"middle\" font-size=\"14px\" font-family=\"Arial\">Rx(x_18)</text><rect x=\"5213.500585937498\" y=\"55.0\" width=\"69.45953125\" height=\"40\" stroke=\"black\" fill=\"white\" stroke-width=\"1\" /><text x=\"5248.230351562498\" y=\"75.0\" dominant-baseline=\"middle\" text-anchor=\"middle\" font-size=\"14px\" font-family=\"Arial\">Rx(x_19)</text><rect x=\"5302.960117187497\" y=\"5.0\" width=\"68.5230078125\" height=\"40\" stroke=\"black\" fill=\"white\" stroke-width=\"1\" /><text x=\"5337.221621093748\" y=\"25.0\" dominant-baseline=\"middle\" text-anchor=\"middle\" font-size=\"14px\" font-family=\"Arial\">Rz(x_20)</text><rect x=\"5302.960117187497\" y=\"55.0\" width=\"68.5230078125\" height=\"40\" stroke=\"black\" fill=\"white\" stroke-width=\"1\" /><text x=\"5337.221621093748\" y=\"75.0\" dominant-baseline=\"middle\" text-anchor=\"middle\" font-size=\"14px\" font-family=\"Arial\">Rz(x_21)</text><rect x=\"5391.483124999997\" y=\"55.0\" width=\"69.45953125\" height=\"40\" stroke=\"black\" fill=\"white\" stroke-width=\"1\" /><text x=\"5426.212890624997\" y=\"75.0\" dominant-baseline=\"middle\" text-anchor=\"middle\" font-size=\"14px\" font-family=\"Arial\">Rx(x_12)</text><rect x=\"5391.483124999997\" y=\"105.0\" width=\"69.45953125\" height=\"40\" stroke=\"black\" fill=\"white\" stroke-width=\"1\" /><text x=\"5426.212890624997\" y=\"125.0\" dominant-baseline=\"middle\" text-anchor=\"middle\" font-size=\"14px\" font-family=\"Arial\">Rx(x_13)</text><rect x=\"5480.942656249997\" y=\"55.0\" width=\"68.5230078125\" height=\"40\" stroke=\"black\" fill=\"white\" stroke-width=\"1\" /><text x=\"5515.204160156247\" y=\"75.0\" dominant-baseline=\"middle\" text-anchor=\"middle\" font-size=\"14px\" font-family=\"Arial\">Rz(x_14)</text><rect x=\"5480.942656249997\" y=\"105.0\" width=\"68.5230078125\" height=\"40\" stroke=\"black\" fill=\"white\" stroke-width=\"1\" /><text x=\"5515.204160156247\" y=\"125.0\" dominant-baseline=\"middle\" text-anchor=\"middle\" font-size=\"14px\" font-family=\"Arial\">Rz(x_15)</text><circle cx=\"5603.7271679687465\" cy=\"75.0\" r=\"10.0\" /><rect x=\"5569.465664062496\" y=\"105.0\" width=\"68.5230078125\" height=\"40\" stroke=\"black\" fill=\"white\" stroke-width=\"1\" /><text x=\"5603.7271679687465\" y=\"125.0\" dominant-baseline=\"middle\" text-anchor=\"middle\" font-size=\"14px\" font-family=\"Arial\">Rz(x_16)</text><circle cx=\"5692.250175781246\" cy=\"125.0\" r=\"10.0\" /><rect x=\"5657.988671874996\" y=\"55.0\" width=\"68.5230078125\" height=\"40\" stroke=\"black\" fill=\"white\" stroke-width=\"1\" /><text x=\"5692.250175781246\" y=\"75.0\" dominant-baseline=\"middle\" text-anchor=\"middle\" font-size=\"14px\" font-family=\"Arial\">Rz(x_17)</text><rect x=\"5746.511679687495\" y=\"55.0\" width=\"69.45953125\" height=\"40\" stroke=\"black\" fill=\"white\" stroke-width=\"1\" /><text x=\"5781.241445312496\" y=\"75.0\" dominant-baseline=\"middle\" text-anchor=\"middle\" font-size=\"14px\" font-family=\"Arial\">Rx(x_18)</text><rect x=\"5746.511679687495\" y=\"105.0\" width=\"69.45953125\" height=\"40\" stroke=\"black\" fill=\"white\" stroke-width=\"1\" /><text x=\"5781.241445312496\" y=\"125.0\" dominant-baseline=\"middle\" text-anchor=\"middle\" font-size=\"14px\" font-family=\"Arial\">Rx(x_19)</text><rect x=\"5835.971210937495\" y=\"55.0\" width=\"68.5230078125\" height=\"40\" stroke=\"black\" fill=\"white\" stroke-width=\"1\" /><text x=\"5870.232714843745\" y=\"75.0\" dominant-baseline=\"middle\" text-anchor=\"middle\" font-size=\"14px\" font-family=\"Arial\">Rz(x_20)</text><rect x=\"5835.971210937495\" y=\"105.0\" width=\"68.5230078125\" height=\"40\" stroke=\"black\" fill=\"white\" stroke-width=\"1\" /><text x=\"5870.232714843745\" y=\"125.0\" dominant-baseline=\"middle\" text-anchor=\"middle\" font-size=\"14px\" font-family=\"Arial\">Rz(x_21)</text><rect x=\"5924.494218749995\" y=\"105.0\" width=\"69.45953125\" height=\"40\" stroke=\"black\" fill=\"white\" stroke-width=\"1\" /><text x=\"5959.223984374995\" y=\"125.0\" dominant-baseline=\"middle\" text-anchor=\"middle\" font-size=\"14px\" font-family=\"Arial\">Rx(x_12)</text><rect x=\"5924.494218749995\" y=\"155.0\" width=\"69.45953125\" height=\"40\" stroke=\"black\" fill=\"white\" stroke-width=\"1\" /><text x=\"5959.223984374995\" y=\"175.0\" dominant-baseline=\"middle\" text-anchor=\"middle\" font-size=\"14px\" font-family=\"Arial\">Rx(x_13)</text><rect x=\"6013.953749999994\" y=\"105.0\" width=\"68.5230078125\" height=\"40\" stroke=\"black\" fill=\"white\" stroke-width=\"1\" /><text x=\"6048.2152539062445\" y=\"125.0\" dominant-baseline=\"middle\" text-anchor=\"middle\" font-size=\"14px\" font-family=\"Arial\">Rz(x_14)</text><rect x=\"6013.953749999994\" y=\"155.0\" width=\"68.5230078125\" height=\"40\" stroke=\"black\" fill=\"white\" stroke-width=\"1\" /><text x=\"6048.2152539062445\" y=\"175.0\" dominant-baseline=\"middle\" text-anchor=\"middle\" font-size=\"14px\" font-family=\"Arial\">Rz(x_15)</text><circle cx=\"6136.738261718744\" cy=\"125.0\" r=\"10.0\" /><rect x=\"6102.476757812494\" y=\"155.0\" width=\"68.5230078125\" height=\"40\" stroke=\"black\" fill=\"white\" stroke-width=\"1\" /><text x=\"6136.738261718744\" y=\"175.0\" dominant-baseline=\"middle\" text-anchor=\"middle\" font-size=\"14px\" font-family=\"Arial\">Rz(x_16)</text><circle cx=\"6225.261269531244\" cy=\"175.0\" r=\"10.0\" /><rect x=\"6190.999765624993\" y=\"105.0\" width=\"68.5230078125\" height=\"40\" stroke=\"black\" fill=\"white\" stroke-width=\"1\" /><text x=\"6225.261269531244\" y=\"125.0\" dominant-baseline=\"middle\" text-anchor=\"middle\" font-size=\"14px\" font-family=\"Arial\">Rz(x_17)</text><rect x=\"6279.522773437493\" y=\"105.0\" width=\"69.45953125\" height=\"40\" stroke=\"black\" fill=\"white\" stroke-width=\"1\" /><text x=\"6314.252539062493\" y=\"125.0\" dominant-baseline=\"middle\" text-anchor=\"middle\" font-size=\"14px\" font-family=\"Arial\">Rx(x_18)</text><rect x=\"6279.522773437493\" y=\"155.0\" width=\"69.45953125\" height=\"40\" stroke=\"black\" fill=\"white\" stroke-width=\"1\" /><text x=\"6314.252539062493\" y=\"175.0\" dominant-baseline=\"middle\" text-anchor=\"middle\" font-size=\"14px\" font-family=\"Arial\">Rx(x_19)</text><rect x=\"6368.982304687493\" y=\"105.0\" width=\"68.5230078125\" height=\"40\" stroke=\"black\" fill=\"white\" stroke-width=\"1\" /><text x=\"6403.243808593743\" y=\"125.0\" dominant-baseline=\"middle\" text-anchor=\"middle\" font-size=\"14px\" font-family=\"Arial\">Rz(x_20)</text><rect x=\"6368.982304687493\" y=\"155.0\" width=\"68.5230078125\" height=\"40\" stroke=\"black\" fill=\"white\" stroke-width=\"1\" /><text x=\"6403.243808593743\" y=\"175.0\" dominant-baseline=\"middle\" text-anchor=\"middle\" font-size=\"14px\" font-family=\"Arial\">Rz(x_21)</text><rect x=\"6457.505312499992\" y=\"155.0\" width=\"69.45953125\" height=\"40\" stroke=\"black\" fill=\"white\" stroke-width=\"1\" /><text x=\"6492.2350781249925\" y=\"175.0\" dominant-baseline=\"middle\" text-anchor=\"middle\" font-size=\"14px\" font-family=\"Arial\">Rx(x_12)</text><rect x=\"6457.505312499992\" y=\"5.0\" width=\"69.45953125\" height=\"40\" stroke=\"black\" fill=\"white\" stroke-width=\"1\" /><text x=\"6492.2350781249925\" y=\"25.0\" dominant-baseline=\"middle\" text-anchor=\"middle\" font-size=\"14px\" font-family=\"Arial\">Rx(x_13)</text><rect x=\"6546.964843749992\" y=\"155.0\" width=\"68.5230078125\" height=\"40\" stroke=\"black\" fill=\"white\" stroke-width=\"1\" /><text x=\"6581.226347656242\" y=\"175.0\" dominant-baseline=\"middle\" text-anchor=\"middle\" font-size=\"14px\" font-family=\"Arial\">Rz(x_14)</text><rect x=\"6546.964843749992\" y=\"5.0\" width=\"68.5230078125\" height=\"40\" stroke=\"black\" fill=\"white\" stroke-width=\"1\" /><text x=\"6581.226347656242\" y=\"25.0\" dominant-baseline=\"middle\" text-anchor=\"middle\" font-size=\"14px\" font-family=\"Arial\">Rz(x_15)</text><circle cx=\"6669.749355468742\" cy=\"175.0\" r=\"10.0\" /><rect x=\"6635.487851562491\" y=\"5.0\" width=\"68.5230078125\" height=\"40\" stroke=\"black\" fill=\"white\" stroke-width=\"1\" /><text x=\"6669.749355468742\" y=\"25.0\" dominant-baseline=\"middle\" text-anchor=\"middle\" font-size=\"14px\" font-family=\"Arial\">Rz(x_16)</text><circle cx=\"6758.272363281241\" cy=\"25.0\" r=\"10.0\" /><rect x=\"6724.010859374991\" y=\"155.0\" width=\"68.5230078125\" height=\"40\" stroke=\"black\" fill=\"white\" stroke-width=\"1\" /><text x=\"6758.272363281241\" y=\"175.0\" dominant-baseline=\"middle\" text-anchor=\"middle\" font-size=\"14px\" font-family=\"Arial\">Rz(x_17)</text><rect x=\"6812.533867187491\" y=\"155.0\" width=\"69.45953125\" height=\"40\" stroke=\"black\" fill=\"white\" stroke-width=\"1\" /><text x=\"6847.263632812491\" y=\"175.0\" dominant-baseline=\"middle\" text-anchor=\"middle\" font-size=\"14px\" font-family=\"Arial\">Rx(x_18)</text><rect x=\"6812.533867187491\" y=\"5.0\" width=\"69.45953125\" height=\"40\" stroke=\"black\" fill=\"white\" stroke-width=\"1\" /><text x=\"6847.263632812491\" y=\"25.0\" dominant-baseline=\"middle\" text-anchor=\"middle\" font-size=\"14px\" font-family=\"Arial\">Rx(x_19)</text><rect x=\"6901.99339843749\" y=\"155.0\" width=\"68.5230078125\" height=\"40\" stroke=\"black\" fill=\"white\" stroke-width=\"1\" /><text x=\"6936.2549023437405\" y=\"175.0\" dominant-baseline=\"middle\" text-anchor=\"middle\" font-size=\"14px\" font-family=\"Arial\">Rz(x_20)</text><rect x=\"6901.99339843749\" y=\"5.0\" width=\"68.5230078125\" height=\"40\" stroke=\"black\" fill=\"white\" stroke-width=\"1\" /><text x=\"6936.2549023437405\" y=\"25.0\" dominant-baseline=\"middle\" text-anchor=\"middle\" font-size=\"14px\" font-family=\"Arial\">Rz(x_21)</text><circle cx=\"7024.77791015624\" cy=\"175.0\" r=\"10.0\" /><rect x=\"6990.51640624999\" y=\"5.0\" width=\"68.5230078125\" height=\"40\" stroke=\"black\" fill=\"white\" stroke-width=\"1\" /><text x=\"7024.77791015624\" y=\"25.0\" dominant-baseline=\"middle\" text-anchor=\"middle\" font-size=\"14px\" font-family=\"Arial\">Rz(x_22)</text><rect x=\"7079.039414062489\" y=\"155.0\" width=\"40\" height=\"40\" stroke=\"black\" fill=\"white\" stroke-width=\"1\" /><text x=\"7099.039414062489\" y=\"175.0\" dominant-baseline=\"middle\" text-anchor=\"middle\" font-size=\"18px\" font-family=\"Arial\">X</text><circle cx=\"7173.76917968749\" cy=\"175.0\" r=\"10.0\" /><rect x=\"7139.039414062489\" y=\"5.0\" width=\"69.45953125\" height=\"40\" stroke=\"black\" fill=\"white\" stroke-width=\"1\" /><text x=\"7173.76917968749\" y=\"25.0\" dominant-baseline=\"middle\" text-anchor=\"middle\" font-size=\"14px\" font-family=\"Arial\">Rx(x_23)</text><circle cx=\"7262.760449218739\" cy=\"125.0\" r=\"10.0\" /><rect x=\"7228.498945312489\" y=\"55.0\" width=\"68.5230078125\" height=\"40\" stroke=\"black\" fill=\"white\" stroke-width=\"1\" /><text x=\"7262.760449218739\" y=\"75.0\" dominant-baseline=\"middle\" text-anchor=\"middle\" font-size=\"14px\" font-family=\"Arial\">Rz(x_22)</text><rect x=\"7317.021953124989\" y=\"105.0\" width=\"40\" height=\"40\" stroke=\"black\" fill=\"white\" stroke-width=\"1\" /><text x=\"7337.021953124989\" y=\"125.0\" dominant-baseline=\"middle\" text-anchor=\"middle\" font-size=\"18px\" font-family=\"Arial\">X</text><circle cx=\"7411.751718749989\" cy=\"125.0\" r=\"10.0\" /><rect x=\"7377.021953124989\" y=\"55.0\" width=\"69.45953125\" height=\"40\" stroke=\"black\" fill=\"white\" stroke-width=\"1\" /><text x=\"7411.751718749989\" y=\"75.0\" dominant-baseline=\"middle\" text-anchor=\"middle\" font-size=\"14px\" font-family=\"Arial\">Rx(x_23)</text><rect x=\"7466.481484374988\" y=\"5.0\" width=\"69.45953125\" height=\"40\" stroke=\"black\" fill=\"white\" stroke-width=\"1\" /><text x=\"7501.2112499999885\" y=\"25.0\" dominant-baseline=\"middle\" text-anchor=\"middle\" font-size=\"14px\" font-family=\"Arial\">Rx(x_24)</text><rect x=\"7466.481484374988\" y=\"55.0\" width=\"69.45953125\" height=\"40\" stroke=\"black\" fill=\"white\" stroke-width=\"1\" /><text x=\"7501.2112499999885\" y=\"75.0\" dominant-baseline=\"middle\" text-anchor=\"middle\" font-size=\"14px\" font-family=\"Arial\">Rx(x_25)</text><rect x=\"7555.941015624988\" y=\"5.0\" width=\"68.5230078125\" height=\"40\" stroke=\"black\" fill=\"white\" stroke-width=\"1\" /><text x=\"7590.202519531238\" y=\"25.0\" dominant-baseline=\"middle\" text-anchor=\"middle\" font-size=\"14px\" font-family=\"Arial\">Rz(x_26)</text><rect x=\"7555.941015624988\" y=\"55.0\" width=\"68.5230078125\" height=\"40\" stroke=\"black\" fill=\"white\" stroke-width=\"1\" /><text x=\"7590.202519531238\" y=\"75.0\" dominant-baseline=\"middle\" text-anchor=\"middle\" font-size=\"14px\" font-family=\"Arial\">Rz(x_27)</text><circle cx=\"7678.725527343738\" cy=\"25.0\" r=\"10.0\" /><rect x=\"7644.464023437487\" y=\"55.0\" width=\"68.5230078125\" height=\"40\" stroke=\"black\" fill=\"white\" stroke-width=\"1\" /><text x=\"7678.725527343738\" y=\"75.0\" dominant-baseline=\"middle\" text-anchor=\"middle\" font-size=\"14px\" font-family=\"Arial\">Rz(x_28)</text><circle cx=\"7767.248535156237\" cy=\"75.0\" r=\"10.0\" /><rect x=\"7732.987031249987\" y=\"5.0\" width=\"68.5230078125\" height=\"40\" stroke=\"black\" fill=\"white\" stroke-width=\"1\" /><text x=\"7767.248535156237\" y=\"25.0\" dominant-baseline=\"middle\" text-anchor=\"middle\" font-size=\"14px\" font-family=\"Arial\">Rz(x_29)</text><rect x=\"7821.510039062487\" y=\"5.0\" width=\"69.45953125\" height=\"40\" stroke=\"black\" fill=\"white\" stroke-width=\"1\" /><text x=\"7856.239804687487\" y=\"25.0\" dominant-baseline=\"middle\" text-anchor=\"middle\" font-size=\"14px\" font-family=\"Arial\">Rx(x_30)</text><rect x=\"7821.510039062487\" y=\"55.0\" width=\"69.45953125\" height=\"40\" stroke=\"black\" fill=\"white\" stroke-width=\"1\" /><text x=\"7856.239804687487\" y=\"75.0\" dominant-baseline=\"middle\" text-anchor=\"middle\" font-size=\"14px\" font-family=\"Arial\">Rx(x_31)</text><rect x=\"7910.969570312486\" y=\"5.0\" width=\"68.5230078125\" height=\"40\" stroke=\"black\" fill=\"white\" stroke-width=\"1\" /><text x=\"7945.2310742187365\" y=\"25.0\" dominant-baseline=\"middle\" text-anchor=\"middle\" font-size=\"14px\" font-family=\"Arial\">Rz(x_32)</text><rect x=\"7910.969570312486\" y=\"55.0\" width=\"68.5230078125\" height=\"40\" stroke=\"black\" fill=\"white\" stroke-width=\"1\" /><text x=\"7945.2310742187365\" y=\"75.0\" dominant-baseline=\"middle\" text-anchor=\"middle\" font-size=\"14px\" font-family=\"Arial\">Rz(x_33)</text><circle cx=\"8033.754082031236\" cy=\"75.0\" r=\"10.0\" /><rect x=\"7999.492578124986\" y=\"5.0\" width=\"68.5230078125\" height=\"40\" stroke=\"black\" fill=\"white\" stroke-width=\"1\" /><text x=\"8033.754082031236\" y=\"25.0\" dominant-baseline=\"middle\" text-anchor=\"middle\" font-size=\"14px\" font-family=\"Arial\">Rz(x_34)</text><rect x=\"8088.015585937485\" y=\"55.0\" width=\"40\" height=\"40\" stroke=\"black\" fill=\"white\" stroke-width=\"1\" /><text x=\"8108.015585937485\" y=\"75.0\" dominant-baseline=\"middle\" text-anchor=\"middle\" font-size=\"18px\" font-family=\"Arial\">X</text><circle cx=\"8182.745351562486\" cy=\"75.0\" r=\"10.0\" /><rect x=\"8148.015585937485\" y=\"5.0\" width=\"69.45953125\" height=\"40\" stroke=\"black\" fill=\"white\" stroke-width=\"1\" /><text x=\"8182.745351562486\" y=\"25.0\" dominant-baseline=\"middle\" text-anchor=\"middle\" font-size=\"14px\" font-family=\"Arial\">Rx(x_35)</text></svg>"
      ],
      "text/plain": [
       "<cirq.contrib.svg.svg.SVGCircuit at 0x7f70fc5a25e0>"
      ]
     },
     "execution_count": 23,
     "metadata": {},
     "output_type": "execute_result"
    }
   ],
   "source": [
    "# head_graph, _ = binary_tree_r(8, convolution_mapping={1:(U,10)}, pooling_mapping={1:(V,2)})\n",
    "head_graph, _ = binary_tree_r(8, pool_filter=\"right\", s_c=5, convolution_mapping={1:(U,10)}, pooling_mapping={1:(V,2)})\n",
    "circuit, symbols = convert_graph_to_circuit_cirq(head_graph)\n",
    "SVGCircuit(circuit)"
   ]
  },
  {
   "cell_type": "code",
   "execution_count": 24,
   "metadata": {},
   "outputs": [
    {
     "data": {
      "image/png": "[encoded data removed]",
      "text/plain": [
       "<Figure size 504x504 with 1 Axes>"
      ]
     },
     "metadata": {},
     "output_type": "display_data"
    }
   ],
   "source": [
    "base = QConv(8, stride=1)\n",
    "plot_graph(base)\n",
    "# plot_graph(QPool(base,pool_filter=\"10000100\"))\n",
    "# plot_graph(QConv(QPool(base,pool_filter=\"10000100\")))\n",
    "# plot_graph(QPool(QConv(QPool(base,pool_filter=\"10000100\")), pool_filter=\"odd\"))\n",
    "# plot_graph(QConv(QPool(QConv(QPool(base,pool_filter=\"10000100\")), pool_filter=\"odd\")))"
   ]
  },
  {
   "cell_type": "code",
   "execution_count": 56,
   "metadata": {},
   "outputs": [],
   "source": [
    "# === Specify hyperparamaters ===\n",
    "# Number of qubits (since we're using qubit encoding ensure there is a one-one mapping between feature and qubit)\n",
    "n_q = 8\n",
    "# Convolution Stride\n",
    "s_c = 5\n",
    "# Pooling Stride\n",
    "s_p = 0\n",
    "# Pooling Filter, options: right, left, inside, outside, even, odd\n",
    "pool_filter = \"right\"\n",
    "\n",
    "head_graph, tail_graph = binary_tree_r(n_q=n_q, s_c=s_c, s_p=s_p, pool_filter=pool_filter, convolution_mapping={1:(U,10)}, pooling_mapping={1:(V,2)})\n",
    "readout = readout = cirq.LineQubit(tail_graph.E[0][1])\n",
    "circuit, symbols = convert_graph_to_circuit_cirq(head_graph)\n",
    "\n",
    "model = tf.keras.Sequential(\n",
    "        [\n",
    "            # The Qcnn layer returns the expected value of the readout gate, range [-1,1]. By default readout is criq.Z and the model determines\n",
    "            # which qubit to measure based on the one that's left over\n",
    "            Qcnn(\n",
    "                circuit=circuit,\n",
    "                symbols=symbols,\n",
    "                readout=readout\n",
    "            ),\n",
    "            # Convert expectation values to lie between 0 and 1\n",
    "            tf.keras.layers.Rescaling(1.0 / 2, offset=.5),\n",
    "        ]\n",
    "    )"
   ]
  },
  {
   "cell_type": "code",
   "execution_count": 57,
   "metadata": {
    "scrolled": true,
    "tags": []
   },
   "outputs": [
    {
     "name": "stdout",
     "output_type": "stream",
     "text": [
      "Epoch 1/100\n",
      "5/5 [==============================] - 1s 73ms/step - loss: 0.7654 - binary_accuracy: 0.5147\n",
      "Epoch 2/100\n",
      "5/5 [==============================] - 0s 73ms/step - loss: 0.7599 - binary_accuracy: 0.5147\n",
      "Epoch 3/100\n",
      "5/5 [==============================] - 0s 76ms/step - loss: 0.7548 - binary_accuracy: 0.5147\n",
      "Epoch 4/100\n",
      "5/5 [==============================] - 0s 83ms/step - loss: 0.7494 - binary_accuracy: 0.5074\n",
      "Epoch 5/100\n",
      "5/5 [==============================] - 0s 73ms/step - loss: 0.7439 - binary_accuracy: 0.5074\n",
      "Epoch 6/100\n",
      "5/5 [==============================] - 0s 76ms/step - loss: 0.7390 - binary_accuracy: 0.5074\n",
      "Epoch 7/100\n",
      "5/5 [==============================] - 0s 75ms/step - loss: 0.7348 - binary_accuracy: 0.5000\n",
      "Epoch 8/100\n",
      "5/5 [==============================] - 0s 75ms/step - loss: 0.7297 - binary_accuracy: 0.5000\n",
      "Epoch 9/100\n",
      "5/5 [==============================] - 0s 73ms/step - loss: 0.7257 - binary_accuracy: 0.4779\n",
      "Epoch 10/100\n",
      "5/5 [==============================] - 0s 75ms/step - loss: 0.7213 - binary_accuracy: 0.4632\n",
      "Epoch 11/100\n",
      "5/5 [==============================] - 0s 71ms/step - loss: 0.7166 - binary_accuracy: 0.4559\n",
      "Epoch 12/100\n",
      "5/5 [==============================] - 0s 69ms/step - loss: 0.7124 - binary_accuracy: 0.4485\n",
      "Epoch 13/100\n",
      "5/5 [==============================] - 0s 72ms/step - loss: 0.7079 - binary_accuracy: 0.4191\n",
      "Epoch 14/100\n",
      "5/5 [==============================] - 0s 70ms/step - loss: 0.7021 - binary_accuracy: 0.4191\n",
      "Epoch 15/100\n",
      "5/5 [==============================] - 0s 72ms/step - loss: 0.6972 - binary_accuracy: 0.4044\n",
      "Epoch 16/100\n",
      "5/5 [==============================] - 0s 73ms/step - loss: 0.6913 - binary_accuracy: 0.4632\n",
      "Epoch 17/100\n",
      "5/5 [==============================] - 0s 74ms/step - loss: 0.6862 - binary_accuracy: 0.5882\n",
      "Epoch 18/100\n",
      "5/5 [==============================] - 0s 79ms/step - loss: 0.6800 - binary_accuracy: 0.6471\n",
      "Epoch 19/100\n",
      "5/5 [==============================] - 0s 79ms/step - loss: 0.6747 - binary_accuracy: 0.6618\n",
      "Epoch 20/100\n",
      "5/5 [==============================] - 0s 72ms/step - loss: 0.6689 - binary_accuracy: 0.6544\n",
      "Epoch 21/100\n",
      "5/5 [==============================] - 0s 79ms/step - loss: 0.6634 - binary_accuracy: 0.6618\n",
      "Epoch 22/100\n",
      "5/5 [==============================] - 0s 75ms/step - loss: 0.6580 - binary_accuracy: 0.6838\n",
      "Epoch 23/100\n",
      "5/5 [==============================] - 0s 75ms/step - loss: 0.6529 - binary_accuracy: 0.6985\n",
      "Epoch 24/100\n",
      "5/5 [==============================] - 0s 71ms/step - loss: 0.6478 - binary_accuracy: 0.7206\n",
      "Epoch 25/100\n",
      "5/5 [==============================] - 0s 73ms/step - loss: 0.6430 - binary_accuracy: 0.7426\n",
      "Epoch 26/100\n",
      "5/5 [==============================] - 0s 80ms/step - loss: 0.6387 - binary_accuracy: 0.7941\n",
      "Epoch 27/100\n",
      "5/5 [==============================] - 0s 86ms/step - loss: 0.6347 - binary_accuracy: 0.8382\n",
      "Epoch 28/100\n",
      "5/5 [==============================] - 0s 86ms/step - loss: 0.6311 - binary_accuracy: 0.8456\n",
      "Epoch 29/100\n",
      "5/5 [==============================] - 0s 90ms/step - loss: 0.6278 - binary_accuracy: 0.8603\n",
      "Epoch 30/100\n",
      "5/5 [==============================] - 0s 91ms/step - loss: 0.6245 - binary_accuracy: 0.8750\n",
      "Epoch 31/100\n",
      "5/5 [==============================] - 0s 98ms/step - loss: 0.6216 - binary_accuracy: 0.8603\n",
      "Epoch 32/100\n",
      "5/5 [==============================] - 0s 94ms/step - loss: 0.6193 - binary_accuracy: 0.8750\n",
      "Epoch 33/100\n",
      "5/5 [==============================] - 0s 89ms/step - loss: 0.6170 - binary_accuracy: 0.8750\n",
      "Epoch 34/100\n",
      "5/5 [==============================] - 0s 90ms/step - loss: 0.6147 - binary_accuracy: 0.8824\n",
      "Epoch 35/100\n",
      "5/5 [==============================] - 0s 85ms/step - loss: 0.6129 - binary_accuracy: 0.8750\n",
      "Epoch 36/100\n",
      "5/5 [==============================] - 0s 86ms/step - loss: 0.6110 - binary_accuracy: 0.8750\n",
      "Epoch 37/100\n",
      "5/5 [==============================] - 0s 87ms/step - loss: 0.6093 - binary_accuracy: 0.8676\n",
      "Epoch 38/100\n",
      "5/5 [==============================] - 0s 89ms/step - loss: 0.6076 - binary_accuracy: 0.8750\n",
      "Epoch 39/100\n",
      "5/5 [==============================] - 0s 90ms/step - loss: 0.6061 - binary_accuracy: 0.8676\n",
      "Epoch 40/100\n",
      "5/5 [==============================] - 0s 84ms/step - loss: 0.6047 - binary_accuracy: 0.8750\n",
      "Epoch 41/100\n",
      "5/5 [==============================] - 0s 86ms/step - loss: 0.6032 - binary_accuracy: 0.8897\n",
      "Epoch 42/100\n",
      "5/5 [==============================] - 0s 87ms/step - loss: 0.6019 - binary_accuracy: 0.8824\n",
      "Epoch 43/100\n",
      "5/5 [==============================] - 0s 93ms/step - loss: 0.6006 - binary_accuracy: 0.8824\n",
      "Epoch 44/100\n",
      "5/5 [==============================] - 0s 85ms/step - loss: 0.5992 - binary_accuracy: 0.8750\n",
      "Epoch 45/100\n",
      "5/5 [==============================] - 0s 86ms/step - loss: 0.5980 - binary_accuracy: 0.8750\n",
      "Epoch 46/100\n",
      "5/5 [==============================] - 0s 85ms/step - loss: 0.5967 - binary_accuracy: 0.8750\n",
      "Epoch 47/100\n",
      "5/5 [==============================] - 0s 86ms/step - loss: 0.5955 - binary_accuracy: 0.8824\n",
      "Epoch 48/100\n",
      "5/5 [==============================] - 1s 93ms/step - loss: 0.5944 - binary_accuracy: 0.8824\n",
      "Epoch 49/100\n",
      "5/5 [==============================] - 0s 83ms/step - loss: 0.5932 - binary_accuracy: 0.8897\n",
      "Epoch 50/100\n",
      "5/5 [==============================] - 0s 81ms/step - loss: 0.5923 - binary_accuracy: 0.8750\n",
      "Epoch 51/100\n",
      "5/5 [==============================] - 0s 78ms/step - loss: 0.5912 - binary_accuracy: 0.8824\n",
      "Epoch 52/100\n",
      "5/5 [==============================] - 1s 113ms/step - loss: 0.5902 - binary_accuracy: 0.8824\n",
      "Epoch 53/100\n",
      "5/5 [==============================] - 0s 81ms/step - loss: 0.5891 - binary_accuracy: 0.8824\n",
      "Epoch 54/100\n",
      "5/5 [==============================] - 0s 88ms/step - loss: 0.5882 - binary_accuracy: 0.8897\n",
      "Epoch 55/100\n",
      "5/5 [==============================] - 0s 95ms/step - loss: 0.5872 - binary_accuracy: 0.8824\n",
      "Epoch 56/100\n",
      "5/5 [==============================] - 0s 82ms/step - loss: 0.5863 - binary_accuracy: 0.8824\n",
      "Epoch 57/100\n",
      "5/5 [==============================] - 0s 95ms/step - loss: 0.5855 - binary_accuracy: 0.8824\n",
      "Epoch 58/100\n",
      "5/5 [==============================] - 0s 84ms/step - loss: 0.5844 - binary_accuracy: 0.8824\n",
      "Epoch 59/100\n",
      "5/5 [==============================] - 0s 83ms/step - loss: 0.5836 - binary_accuracy: 0.8824\n",
      "Epoch 60/100\n",
      "5/5 [==============================] - 0s 83ms/step - loss: 0.5828 - binary_accuracy: 0.8750\n",
      "Epoch 61/100\n",
      "5/5 [==============================] - 1s 98ms/step - loss: 0.5819 - binary_accuracy: 0.8750\n",
      "Epoch 62/100\n",
      "5/5 [==============================] - 1s 163ms/step - loss: 0.5812 - binary_accuracy: 0.8824\n",
      "Epoch 63/100\n",
      "5/5 [==============================] - 1s 106ms/step - loss: 0.5802 - binary_accuracy: 0.8824\n",
      "Epoch 64/100\n",
      "5/5 [==============================] - 1s 100ms/step - loss: 0.5796 - binary_accuracy: 0.8750\n",
      "Epoch 65/100\n",
      "5/5 [==============================] - 1s 109ms/step - loss: 0.5789 - binary_accuracy: 0.8750\n",
      "Epoch 66/100\n",
      "5/5 [==============================] - 0s 87ms/step - loss: 0.5781 - binary_accuracy: 0.8824\n",
      "Epoch 67/100\n",
      "5/5 [==============================] - 0s 79ms/step - loss: 0.5773 - binary_accuracy: 0.8824\n",
      "Epoch 68/100\n",
      "5/5 [==============================] - 0s 87ms/step - loss: 0.5766 - binary_accuracy: 0.8824\n",
      "Epoch 69/100\n",
      "5/5 [==============================] - 0s 73ms/step - loss: 0.5758 - binary_accuracy: 0.8824\n",
      "Epoch 70/100\n",
      "5/5 [==============================] - 0s 76ms/step - loss: 0.5752 - binary_accuracy: 0.8824\n",
      "Epoch 71/100\n",
      "5/5 [==============================] - 0s 79ms/step - loss: 0.5744 - binary_accuracy: 0.8824\n",
      "Epoch 72/100\n",
      "5/5 [==============================] - 0s 78ms/step - loss: 0.5738 - binary_accuracy: 0.8750\n",
      "Epoch 73/100\n",
      "5/5 [==============================] - 0s 83ms/step - loss: 0.5732 - binary_accuracy: 0.8824\n",
      "Epoch 74/100\n",
      "5/5 [==============================] - 0s 81ms/step - loss: 0.5724 - binary_accuracy: 0.8824\n",
      "Epoch 75/100\n",
      "5/5 [==============================] - 0s 80ms/step - loss: 0.5718 - binary_accuracy: 0.8824\n",
      "Epoch 76/100\n",
      "5/5 [==============================] - 1s 107ms/step - loss: 0.5712 - binary_accuracy: 0.8824\n",
      "Epoch 77/100\n",
      "5/5 [==============================] - 0s 87ms/step - loss: 0.5706 - binary_accuracy: 0.8824\n",
      "Epoch 78/100\n",
      "5/5 [==============================] - 0s 79ms/step - loss: 0.5700 - binary_accuracy: 0.8824\n",
      "Epoch 79/100\n",
      "5/5 [==============================] - 0s 86ms/step - loss: 0.5693 - binary_accuracy: 0.8824\n",
      "Epoch 80/100\n",
      "5/5 [==============================] - 0s 77ms/step - loss: 0.5687 - binary_accuracy: 0.8824\n",
      "Epoch 81/100\n",
      "5/5 [==============================] - 0s 73ms/step - loss: 0.5681 - binary_accuracy: 0.8971\n",
      "Epoch 82/100\n",
      "5/5 [==============================] - 0s 87ms/step - loss: 0.5676 - binary_accuracy: 0.9044\n",
      "Epoch 83/100\n",
      "5/5 [==============================] - 0s 78ms/step - loss: 0.5669 - binary_accuracy: 0.8971\n",
      "Epoch 84/100\n",
      "5/5 [==============================] - 0s 78ms/step - loss: 0.5663 - binary_accuracy: 0.8971\n",
      "Epoch 85/100\n",
      "5/5 [==============================] - 0s 75ms/step - loss: 0.5656 - binary_accuracy: 0.8971\n",
      "Epoch 86/100\n",
      "5/5 [==============================] - 0s 81ms/step - loss: 0.5652 - binary_accuracy: 0.8897\n",
      "Epoch 87/100\n",
      "5/5 [==============================] - 0s 79ms/step - loss: 0.5645 - binary_accuracy: 0.8750\n",
      "Epoch 88/100\n",
      "5/5 [==============================] - 0s 74ms/step - loss: 0.5640 - binary_accuracy: 0.8824\n",
      "Epoch 89/100\n",
      "5/5 [==============================] - 0s 78ms/step - loss: 0.5634 - binary_accuracy: 0.8824\n",
      "Epoch 90/100\n",
      "5/5 [==============================] - 0s 81ms/step - loss: 0.5628 - binary_accuracy: 0.8824\n",
      "Epoch 91/100\n",
      "5/5 [==============================] - 0s 93ms/step - loss: 0.5622 - binary_accuracy: 0.8971\n",
      "Epoch 92/100\n",
      "5/5 [==============================] - 1s 103ms/step - loss: 0.5618 - binary_accuracy: 0.9191\n",
      "Epoch 93/100\n",
      "5/5 [==============================] - 0s 83ms/step - loss: 0.5615 - binary_accuracy: 0.9191\n",
      "Epoch 94/100\n",
      "5/5 [==============================] - 0s 81ms/step - loss: 0.5607 - binary_accuracy: 0.9118\n",
      "Epoch 95/100\n",
      "5/5 [==============================] - 0s 85ms/step - loss: 0.5601 - binary_accuracy: 0.9118\n",
      "Epoch 96/100\n",
      "5/5 [==============================] - 0s 95ms/step - loss: 0.5596 - binary_accuracy: 0.9118\n",
      "Epoch 97/100\n",
      "5/5 [==============================] - 0s 96ms/step - loss: 0.5590 - binary_accuracy: 0.9191\n",
      "Epoch 98/100\n",
      "5/5 [==============================] - 0s 84ms/step - loss: 0.5584 - binary_accuracy: 0.9118\n",
      "Epoch 99/100\n",
      "5/5 [==============================] - 0s 88ms/step - loss: 0.5584 - binary_accuracy: 0.8971\n",
      "Epoch 100/100\n",
      "5/5 [==============================] - 1s 104ms/step - loss: 0.5577 - binary_accuracy: 0.8897\n"
     ]
    },
    {
     "data": {
      "text/plain": [
       "<keras.callbacks.History at 0x7f70e01ebfd0>"
      ]
     },
     "execution_count": 57,
     "metadata": {},
     "output_type": "execute_result"
    }
   ],
   "source": [
    "model.compile(\n",
    "    optimizer=\"Adam\",\n",
    "    loss=\"binary_crossentropy\",\n",
    "    metrics=[tf.keras.metrics.BinaryAccuracy(threshold=0.5)],\n",
    ")\n",
    "# model.run_eagerly = True\n",
    "model.fit(x=samples_encoded.X_train, y=samples_encoded.y_train, epochs=100)"
   ]
  },
  {
   "cell_type": "markdown",
   "metadata": {},
   "source": [
    "### Evaluate"
   ]
  },
  {
   "cell_type": "code",
   "execution_count": 58,
   "metadata": {},
   "outputs": [
    {
     "name": "stdout",
     "output_type": "stream",
     "text": [
      "Model: \"sequential_6\"\n",
      "_________________________________________________________________\n",
      " Layer (type)                Output Shape              Param #   \n",
      "=================================================================\n",
      " qcnn (Qcnn)                 (None, 1)                 36        \n",
      "                                                                 \n",
      " rescaling_6 (Rescaling)     (None, 1)                 0         \n",
      "                                                                 \n",
      "=================================================================\n",
      "Total params: 36\n",
      "Trainable params: 36\n",
      "Non-trainable params: 0\n",
      "_________________________________________________________________\n",
      "[<tf.Variable 'Variable:0' shape=(1, 36) dtype=float32, numpy=\n",
      "array([[3.2533762 , 5.6073647 , 2.7940311 , 1.0418135 , 4.575899  ,\n",
      "        0.8212394 , 2.9860163 , 5.909063  , 2.8149662 , 4.4884863 ,\n",
      "        5.3304176 , 2.9366925 , 1.1710094 , 1.9346514 , 3.0088136 ,\n",
      "        4.149653  , 0.82164717, 0.59574133, 4.1128626 , 4.9478626 ,\n",
      "        5.302008  , 3.4420578 , 4.722304  , 4.497883  , 1.557886  ,\n",
      "        1.4233524 , 5.0241766 , 4.7729607 , 3.7227023 , 5.600578  ,\n",
      "        2.0682676 , 5.84078   , 0.9313152 , 6.5131702 , 3.9433122 ,\n",
      "        4.359511  ]], dtype=float32)>]\n",
      "WARNING:tensorflow:5 out of the last 9 calls to <function Model.make_test_function.<locals>.test_function at 0x7f70e02369d0> triggered tf.function retracing. Tracing is expensive and the excessive number of tracings could be due to (1) creating @tf.function repeatedly in a loop, (2) passing tensors with different shapes, (3) passing Python objects instead of tensors. For (1), please define your @tf.function outside of the loop. For (2), @tf.function has experimental_relax_shapes=True option that relaxes argument shapes that can avoid unnecessary retracing. For (3), please refer to https://www.tensorflow.org/guide/function#controlling_retracing and https://www.tensorflow.org/api_docs/python/tf/function for  more details.\n",
      "2/2 [==============================] - 0s 66ms/step - loss: 0.5955 - binary_accuracy: 0.7812\n",
      "[0.5955464839935303, 0.78125]\n"
     ]
    }
   ],
   "source": [
    "model.summary()\n",
    "print(model.trainable_variables)\n",
    "\n",
    "qcnn_results = model.evaluate(samples_encoded.X_test, samples_encoded.y_test)\n",
    "# results.append([f\"{s_c}_{s_p}_{pool_filter}\", qcnn_results])\n",
    "print(qcnn_results)\n"
   ]
  },
  {
   "cell_type": "code",
   "execution_count": null,
   "metadata": {},
   "outputs": [],
   "source": [
    "SVGCircuit(circuit)"
   ]
  },
  {
   "cell_type": "code",
   "execution_count": null,
   "metadata": {},
   "outputs": [],
   "source": []
  }
 ],
 "metadata": {
  "kernelspec": {
   "display_name": "env_cirq",
   "language": "python",
   "name": "env_cirq"
  },
  "language_info": {
   "codemirror_mode": {
    "name": "ipython",
    "version": 3
   },
   "file_extension": ".py",
   "mimetype": "text/x-python",
   "name": "python",
   "nbconvert_exporter": "python",
   "pygments_lexer": "ipython3",
   "version": "3.8.1"
  }
 },
 "nbformat": 4,
 "nbformat_minor": 4
}
