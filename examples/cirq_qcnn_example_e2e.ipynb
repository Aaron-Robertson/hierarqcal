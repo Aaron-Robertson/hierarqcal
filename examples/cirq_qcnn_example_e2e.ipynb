{
 "cells": [
  {
   "cell_type": "markdown",
   "metadata": {},
   "source": [
    "## Google Cirq Dynamic QCNNs\n",
    "\n",
    "This notebook shows how to use the `quantum_estimators` package to generate Quantum Convolutional Neural Networks (QCNNs) using [cirq](https://quantumai.google/cirq) and [tensorflow quantum](https://www.tensorflow.org/quantum/overview). The core functionality is two primitive operations or cells (`QConv` for convolutions and `QPool` for pooling) which can be dynamically stacked ontop each to create a full QCNN. Then there are functions like `binary_tree_r` to generate families QCNNs using this core functionality. The tool helps with the following:\n",
    " - **Architecture search space design:** it's easy to define and generate families of QCNNs that capture different design motifs such that a system can greedily/intelligently search through them.\n",
    " - **Accessibility and usability of the QCNN:** the tool abstracts away a lot of details enabling different levels of interaction for QCNN modelling. It's also library agnostic and can be used with any QML library.\n",
    "\n",
    "The example shown is a binary classification model that distinguishes between two musical genres using the well known GTZAN dataset."
   ]
  },
  {
   "cell_type": "markdown",
   "metadata": {},
   "source": [
    "___\n",
    "*A cute robot building itself with artifical intelligence, pencil drawing -  generated with* [Dall$\\cdot$E 2](https://openai.com/dall-e-2/)\n",
    "\n",
    "<img src=\"../img/DALL·E 2022-08-17 11.48.32 - A cute robot building itself with artifical intelligence, pencil drawing.png\" alt=\"drawing\" width=\"200\"/>"
   ]
  },
  {
   "cell_type": "code",
   "execution_count": 1,
   "metadata": {},
   "outputs": [
    {
     "name": "stderr",
     "output_type": "stream",
     "text": [
      "2022-10-11 07:57:51.321395: W tensorflow/stream_executor/platform/default/dso_loader.cc:64] Could not load dynamic library 'libcudart.so.11.0'; dlerror: libcudart.so.11.0: cannot open shared object file: No such file or directory\n",
      "2022-10-11 07:57:51.321442: I tensorflow/stream_executor/cuda/cudart_stub.cc:29] Ignore above cudart dlerror if you do not have a GPU set up on your machine.\n",
      "2022-10-11 07:57:52.373846: W tensorflow/stream_executor/platform/default/dso_loader.cc:64] Could not load dynamic library 'libcuda.so.1'; dlerror: libcuda.so.1: cannot open shared object file: No such file or directory\n",
      "2022-10-11 07:57:52.373883: W tensorflow/stream_executor/cuda/cuda_driver.cc:269] failed call to cuInit: UNKNOWN ERROR (303)\n",
      "2022-10-11 07:57:52.373906: I tensorflow/stream_executor/cuda/cuda_diagnostics.cc:156] kernel driver does not appear to be running on this host (Enigma): /proc/driver/nvidia/version does not exist\n",
      "2022-10-11 07:57:52.374104: I tensorflow/core/platform/cpu_feature_guard.cc:151] This TensorFlow binary is optimized with oneAPI Deep Neural Network Library (oneDNN) to use the following CPU instructions in performance-critical operations:  AVX2 AVX512F FMA\n",
      "To enable them in other operations, rebuild TensorFlow with the appropriate compiler flags.\n"
     ]
    }
   ],
   "source": [
    "# Load libraries\n",
    "import sympy\n",
    "import numpy as np\n",
    "from collections import namedtuple\n",
    "import pandas as pd\n",
    "import cirq\n",
    "import tensorflow as tf\n",
    "import tensorflow_quantum as tfq\n",
    "from tensorflow import keras\n",
    "from sklearn.model_selection import train_test_split\n",
    "\n",
    "# visualization tools\n",
    "%matplotlib inline\n",
    "import matplotlib.pyplot as plt"
   ]
  },
  {
   "cell_type": "markdown",
   "metadata": {},
   "source": [
    "### Experimental setup"
   ]
  },
  {
   "cell_type": "markdown",
   "metadata": {},
   "source": [
    "The dataset contains statistics from 1000 audio tracks, each being a 30-second recording of some song. Each song is given a label of one of the following ten musical genres: **blues, classical, country, disco, hiphop, jazz, metal, pop, reggae, rock**. See [marsyas](https://github.com/marsyas/website/blob/master/downloads/data-sets.rst) and [kaggle](https://www.kaggle.com/datasets/andradaolteanu/gtzan-dataset-music-genre-classification) for more info.\n",
    "\n",
    "We'll build a model to distinguish **rock** from **reggae**"
   ]
  },
  {
   "cell_type": "code",
   "execution_count": 2,
   "metadata": {},
   "outputs": [
    {
     "data": {
      "text/html": [
       "<div>\n",
       "<style scoped>\n",
       "    .dataframe tbody tr th:only-of-type {\n",
       "        vertical-align: middle;\n",
       "    }\n",
       "\n",
       "    .dataframe tbody tr th {\n",
       "        vertical-align: top;\n",
       "    }\n",
       "\n",
       "    .dataframe thead th {\n",
       "        text-align: right;\n",
       "    }\n",
       "</style>\n",
       "<table border=\"1\" class=\"dataframe\">\n",
       "  <thead>\n",
       "    <tr style=\"text-align: right;\">\n",
       "      <th></th>\n",
       "      <th>filename</th>\n",
       "      <th>length</th>\n",
       "      <th>chroma_stft_mean</th>\n",
       "      <th>chroma_stft_var</th>\n",
       "      <th>rms_mean</th>\n",
       "      <th>rms_var</th>\n",
       "      <th>spectral_centroid_mean</th>\n",
       "      <th>spectral_centroid_var</th>\n",
       "      <th>spectral_bandwidth_mean</th>\n",
       "      <th>spectral_bandwidth_var</th>\n",
       "      <th>...</th>\n",
       "      <th>mfcc16_var</th>\n",
       "      <th>mfcc17_mean</th>\n",
       "      <th>mfcc17_var</th>\n",
       "      <th>mfcc18_mean</th>\n",
       "      <th>mfcc18_var</th>\n",
       "      <th>mfcc19_mean</th>\n",
       "      <th>mfcc19_var</th>\n",
       "      <th>mfcc20_mean</th>\n",
       "      <th>mfcc20_var</th>\n",
       "      <th>label</th>\n",
       "    </tr>\n",
       "  </thead>\n",
       "  <tbody>\n",
       "    <tr>\n",
       "      <th>0</th>\n",
       "      <td>blues.00000.wav</td>\n",
       "      <td>661794</td>\n",
       "      <td>0.350088</td>\n",
       "      <td>0.088757</td>\n",
       "      <td>0.130228</td>\n",
       "      <td>0.002827</td>\n",
       "      <td>1784.165850</td>\n",
       "      <td>129774.064525</td>\n",
       "      <td>2002.449060</td>\n",
       "      <td>85882.761315</td>\n",
       "      <td>...</td>\n",
       "      <td>52.420910</td>\n",
       "      <td>-1.690215</td>\n",
       "      <td>36.524071</td>\n",
       "      <td>-0.408979</td>\n",
       "      <td>41.597103</td>\n",
       "      <td>-2.303523</td>\n",
       "      <td>55.062923</td>\n",
       "      <td>1.221291</td>\n",
       "      <td>46.936035</td>\n",
       "      <td>blues</td>\n",
       "    </tr>\n",
       "    <tr>\n",
       "      <th>1</th>\n",
       "      <td>blues.00001.wav</td>\n",
       "      <td>661794</td>\n",
       "      <td>0.340914</td>\n",
       "      <td>0.094980</td>\n",
       "      <td>0.095948</td>\n",
       "      <td>0.002373</td>\n",
       "      <td>1530.176679</td>\n",
       "      <td>375850.073649</td>\n",
       "      <td>2039.036516</td>\n",
       "      <td>213843.755497</td>\n",
       "      <td>...</td>\n",
       "      <td>55.356403</td>\n",
       "      <td>-0.731125</td>\n",
       "      <td>60.314529</td>\n",
       "      <td>0.295073</td>\n",
       "      <td>48.120598</td>\n",
       "      <td>-0.283518</td>\n",
       "      <td>51.106190</td>\n",
       "      <td>0.531217</td>\n",
       "      <td>45.786282</td>\n",
       "      <td>blues</td>\n",
       "    </tr>\n",
       "    <tr>\n",
       "      <th>2</th>\n",
       "      <td>blues.00002.wav</td>\n",
       "      <td>661794</td>\n",
       "      <td>0.363637</td>\n",
       "      <td>0.085275</td>\n",
       "      <td>0.175570</td>\n",
       "      <td>0.002746</td>\n",
       "      <td>1552.811865</td>\n",
       "      <td>156467.643368</td>\n",
       "      <td>1747.702312</td>\n",
       "      <td>76254.192257</td>\n",
       "      <td>...</td>\n",
       "      <td>40.598766</td>\n",
       "      <td>-7.729093</td>\n",
       "      <td>47.639427</td>\n",
       "      <td>-1.816407</td>\n",
       "      <td>52.382141</td>\n",
       "      <td>-3.439720</td>\n",
       "      <td>46.639660</td>\n",
       "      <td>-2.231258</td>\n",
       "      <td>30.573025</td>\n",
       "      <td>blues</td>\n",
       "    </tr>\n",
       "    <tr>\n",
       "      <th>3</th>\n",
       "      <td>blues.00003.wav</td>\n",
       "      <td>661794</td>\n",
       "      <td>0.404785</td>\n",
       "      <td>0.093999</td>\n",
       "      <td>0.141093</td>\n",
       "      <td>0.006346</td>\n",
       "      <td>1070.106615</td>\n",
       "      <td>184355.942417</td>\n",
       "      <td>1596.412872</td>\n",
       "      <td>166441.494769</td>\n",
       "      <td>...</td>\n",
       "      <td>44.427753</td>\n",
       "      <td>-3.319597</td>\n",
       "      <td>50.206673</td>\n",
       "      <td>0.636965</td>\n",
       "      <td>37.319130</td>\n",
       "      <td>-0.619121</td>\n",
       "      <td>37.259739</td>\n",
       "      <td>-3.407448</td>\n",
       "      <td>31.949339</td>\n",
       "      <td>blues</td>\n",
       "    </tr>\n",
       "    <tr>\n",
       "      <th>4</th>\n",
       "      <td>blues.00004.wav</td>\n",
       "      <td>661794</td>\n",
       "      <td>0.308526</td>\n",
       "      <td>0.087841</td>\n",
       "      <td>0.091529</td>\n",
       "      <td>0.002303</td>\n",
       "      <td>1835.004266</td>\n",
       "      <td>343399.939274</td>\n",
       "      <td>1748.172116</td>\n",
       "      <td>88445.209036</td>\n",
       "      <td>...</td>\n",
       "      <td>86.099236</td>\n",
       "      <td>-5.454034</td>\n",
       "      <td>75.269707</td>\n",
       "      <td>-0.916874</td>\n",
       "      <td>53.613918</td>\n",
       "      <td>-4.404827</td>\n",
       "      <td>62.910812</td>\n",
       "      <td>-11.703234</td>\n",
       "      <td>55.195160</td>\n",
       "      <td>blues</td>\n",
       "    </tr>\n",
       "  </tbody>\n",
       "</table>\n",
       "<p>5 rows × 60 columns</p>\n",
       "</div>"
      ],
      "text/plain": [
       "          filename  length  chroma_stft_mean  chroma_stft_var  rms_mean  \\\n",
       "0  blues.00000.wav  661794          0.350088         0.088757  0.130228   \n",
       "1  blues.00001.wav  661794          0.340914         0.094980  0.095948   \n",
       "2  blues.00002.wav  661794          0.363637         0.085275  0.175570   \n",
       "3  blues.00003.wav  661794          0.404785         0.093999  0.141093   \n",
       "4  blues.00004.wav  661794          0.308526         0.087841  0.091529   \n",
       "\n",
       "    rms_var  spectral_centroid_mean  spectral_centroid_var  \\\n",
       "0  0.002827             1784.165850          129774.064525   \n",
       "1  0.002373             1530.176679          375850.073649   \n",
       "2  0.002746             1552.811865          156467.643368   \n",
       "3  0.006346             1070.106615          184355.942417   \n",
       "4  0.002303             1835.004266          343399.939274   \n",
       "\n",
       "   spectral_bandwidth_mean  spectral_bandwidth_var  ...  mfcc16_var  \\\n",
       "0              2002.449060            85882.761315  ...   52.420910   \n",
       "1              2039.036516           213843.755497  ...   55.356403   \n",
       "2              1747.702312            76254.192257  ...   40.598766   \n",
       "3              1596.412872           166441.494769  ...   44.427753   \n",
       "4              1748.172116            88445.209036  ...   86.099236   \n",
       "\n",
       "   mfcc17_mean  mfcc17_var  mfcc18_mean  mfcc18_var  mfcc19_mean  mfcc19_var  \\\n",
       "0    -1.690215   36.524071    -0.408979   41.597103    -2.303523   55.062923   \n",
       "1    -0.731125   60.314529     0.295073   48.120598    -0.283518   51.106190   \n",
       "2    -7.729093   47.639427    -1.816407   52.382141    -3.439720   46.639660   \n",
       "3    -3.319597   50.206673     0.636965   37.319130    -0.619121   37.259739   \n",
       "4    -5.454034   75.269707    -0.916874   53.613918    -4.404827   62.910812   \n",
       "\n",
       "   mfcc20_mean  mfcc20_var  label  \n",
       "0     1.221291   46.936035  blues  \n",
       "1     0.531217   45.786282  blues  \n",
       "2    -2.231258   30.573025  blues  \n",
       "3    -3.407448   31.949339  blues  \n",
       "4   -11.703234   55.195160  blues  \n",
       "\n",
       "[5 rows x 60 columns]"
      ]
     },
     "execution_count": 2,
     "metadata": {},
     "output_type": "execute_result"
    }
   ],
   "source": [
    "# Specify data path\n",
    "path = \"../data/gtzan_30s_stats.csv\"\n",
    "# Specify genres to build classification model from, options are:\n",
    "# blues, classical, country, disco, hiphop, jazz, metal, pop, reggae, rock\n",
    "target_pair = [\"rock\", \"reggae\"]\n",
    "# Read data\n",
    "raw = pd.read_csv(path)\n",
    "raw.head()"
   ]
  },
  {
   "cell_type": "code",
   "execution_count": 3,
   "metadata": {},
   "outputs": [],
   "source": [
    "# Specify target column\n",
    "target = \"label\"\n",
    "# Specify columns to remove\n",
    "columns_to_remove = [\"filename\", \"length\", target]"
   ]
  },
  {
   "cell_type": "markdown",
   "metadata": {},
   "source": [
    "For the data cleaning component we split the data into a test and train set and remove unnecesary columns. "
   ]
  },
  {
   "cell_type": "code",
   "execution_count": 4,
   "metadata": {},
   "outputs": [],
   "source": [
    "# Seperate X (features) and y (target) from dataset\n",
    "y = raw.loc[:, target]\n",
    "X = raw.drop(columns_to_remove, axis=1)\n",
    "# Split data into train and test sets\n",
    "X_train, X_test, y_train, y_test = train_test_split(\n",
    "    X,\n",
    "    y,\n",
    "    test_size=0.3,\n",
    "    random_state=42,\n",
    ")\n",
    "# Use a named typle to keep track of the changes to train and test samples\n",
    "Samples = namedtuple(\"Samples\", [\"X_train\", \"y_train\", \"X_test\", \"y_test\"])\n",
    "# samples_raw is an instance of Samples, containing the raw samples\n",
    "# access train features by samples_raw.X_train\n",
    "samples_raw = Samples(X_train, y_train, X_test, y_test)"
   ]
  },
  {
   "cell_type": "markdown",
   "metadata": {},
   "source": [
    "Next we filter out all genres except those specified by `target_pair`."
   ]
  },
  {
   "cell_type": "code",
   "execution_count": 5,
   "metadata": {},
   "outputs": [],
   "source": [
    "# Filter out unneccesary data, only store songs with labels specified in target_pair\n",
    "train_filter = np.where(\n",
    "    (samples_raw.y_train == target_pair[0]) | (samples_raw.y_train == target_pair[1])\n",
    ")\n",
    "test_filter = np.where(\n",
    "    (samples_raw.y_test == target_pair[0]) | (samples_raw.y_test == target_pair[1])\n",
    ")\n",
    "X_train_filtered, X_test_filtered = (\n",
    "    samples_raw.X_train.iloc[train_filter],\n",
    "    samples_raw.X_test.iloc[test_filter],\n",
    ")\n",
    "y_train_filtered, y_test_filtered = (\n",
    "    samples_raw.y_train.iloc[train_filter],\n",
    "    samples_raw.y_test.iloc[test_filter],\n",
    ")\n",
    "# Convert target to binary int values, (genre_1, genre_2)->(0,1)\n",
    "y_train_filtered = np.where(y_train_filtered == target_pair[1], 1, 0)\n",
    "y_test_filtered = np.where(y_test_filtered == target_pair[1], 1, 0)\n",
    "# samples_filtered now contains the latest X, y train and test data\n",
    "samples_filtered = Samples(\n",
    "    X_train_filtered, y_train_filtered, X_test_filtered, y_test_filtered\n",
    ")"
   ]
  },
  {
   "cell_type": "markdown",
   "metadata": {},
   "source": [
    "### Preprocessing"
   ]
  },
  {
   "cell_type": "markdown",
   "metadata": {},
   "source": [
    "**Feature Scaling and Selection**\n",
    "\n",
    "Here we manually select $8$ features to build the model on and then scale them to range between $[0,\\frac{\\pi}{2}]$. The selection can be automated with strategies like PCA or tree based methods using [sklearn pipelines](https://scikit-learn.org/stable/modules/generated/sklearn.pipeline.Pipeline.html). Even though we just scale the data, the code is presented in such a way so that it's easy to add other pipeline steps."
   ]
  },
  {
   "cell_type": "code",
   "execution_count": 6,
   "metadata": {},
   "outputs": [],
   "source": [
    "# Specify features to build model on\n",
    "features = [\n",
    "    \"mfcc2_var\",\n",
    "    \"mfcc3_var\",\n",
    "    \"mfcc4_var\",\n",
    "    \"mfcc5_var\",\n",
    "    \"mfcc7_var\",\n",
    "    \"mfcc8_var\",\n",
    "    \"mfcc11_mean\",\n",
    "    \"mfcc13_mean\",\n",
    "]\n",
    "X_train_selected = np.array(samples_filtered.X_train[features])\n",
    "X_test_selected = np.array(samples_filtered.X_test[features])\n",
    "\n",
    "samples_selected = Samples(\n",
    "    X_train_selected, samples_filtered.y_train, X_test_selected, samples_filtered.y_test\n",
    ")"
   ]
  },
  {
   "cell_type": "code",
   "execution_count": 7,
   "metadata": {},
   "outputs": [],
   "source": [
    "from sklearn.preprocessing import MinMaxScaler\n",
    "from sklearn.pipeline import Pipeline\n",
    "\n",
    "# Create a pipeline_list which will contain preprocessing steps\n",
    "pipeline_list = []\n",
    "# For now we only scale the data, but more complicated pipelines can be constructed with this pattern\n",
    "scaler = (\n",
    "    \"minmax\",\n",
    "    MinMaxScaler(feature_range=[0, np.pi / 2]),\n",
    ")\n",
    "pipeline_list.append(scaler)\n",
    "pipeline = Pipeline(pipeline_list)\n",
    "# Fit pipeline\n",
    "pipeline.fit(samples_selected.X_train, samples_selected.y_train)\n",
    "# Transform data\n",
    "X_train_tfd = pipeline.transform(samples_selected.X_train)\n",
    "X_test_tfd = pipeline.transform(samples_selected.X_test)\n",
    "samples_tfd = Samples(\n",
    "    X_train_tfd, samples_selected.y_train, X_test_tfd, samples_selected.y_test\n",
    ")"
   ]
  },
  {
   "cell_type": "markdown",
   "metadata": {},
   "source": [
    "### Encode data into a quantum state"
   ]
  },
  {
   "cell_type": "code",
   "execution_count": 8,
   "metadata": {},
   "outputs": [],
   "source": [
    "def qubit_encoding(x, gate=cirq.rx):\n",
    "    circuit = cirq.Circuit()\n",
    "    for i, value in enumerate(x):\n",
    "        qubit = cirq.LineQubit(i)\n",
    "        circuit.append(gate(value).on(qubit))\n",
    "\n",
    "    return circuit\n",
    "\n",
    "\n",
    "X_train_encoded = tfq.convert_to_tensor(\n",
    "    [qubit_encoding(x) for x in samples_tfd.X_train]\n",
    ")\n",
    "X_test_encoded = tfq.convert_to_tensor([qubit_encoding(x) for x in samples_tfd.X_test])\n",
    "\n",
    "samples_encoded = Samples(\n",
    "    X_train_encoded, samples_tfd.y_train, X_test_encoded, samples_tfd.y_test\n",
    ")"
   ]
  },
  {
   "cell_type": "markdown",
   "metadata": {},
   "source": [
    "### Build model\n",
    "\n",
    "Before building the model, we'll showcase some of the functionality through examples. For illustration purposes we use a simple $CR_z(\\theta)$ gate for convolutions and a CNOT for pooling. These are chosen arbitrarily, when using the tool the user can to send a function containing the sequence of gates constituting a convolution or pooling operation. This function may be built with any QML library such as `Cirq`, `Qiskit` or `Pennylane`."
   ]
  },
  {
   "cell_type": "code",
   "execution_count": 9,
   "metadata": {
    "tags": []
   },
   "outputs": [
    {
     "name": "stderr",
     "output_type": "stream",
     "text": [
      "findfont: Font family ['Arial'] not found. Falling back to DejaVu Sans.\n"
     ]
    },
    {
     "name": "stdout",
     "output_type": "stream",
     "text": [
      "Convolution unitary:\n"
     ]
    },
    {
     "data": {
      "image/svg+xml": [
       "<svg xmlns=\"http://www.w3.org/2000/svg\" width=\"179.61578125\" height=\"100.0\"><line x1=\"30.0\" x2=\"149.61578125\" y1=\"25.0\" y2=\"25.0\" stroke=\"#1967d2\" stroke-width=\"1\" /><line x1=\"30.0\" x2=\"149.61578125\" y1=\"75.0\" y2=\"75.0\" stroke=\"#1967d2\" stroke-width=\"1\" /><line x1=\"99.807890625\" x2=\"99.807890625\" y1=\"25.0\" y2=\"75.0\" stroke=\"black\" stroke-width=\"3\" /><rect x=\"10.0\" y=\"5.0\" width=\"40\" height=\"40\" stroke=\"black\" fill=\"white\" stroke-width=\"0\" /><text x=\"30.0\" y=\"25.0\" dominant-baseline=\"middle\" text-anchor=\"middle\" font-size=\"14px\" font-family=\"Arial\">1: </text><rect x=\"10.0\" y=\"55.0\" width=\"40\" height=\"40\" stroke=\"black\" fill=\"white\" stroke-width=\"0\" /><text x=\"30.0\" y=\"75.0\" dominant-baseline=\"middle\" text-anchor=\"middle\" font-size=\"14px\" font-family=\"Arial\">2: </text><circle cx=\"99.807890625\" cy=\"25.0\" r=\"10.0\" /><rect x=\"70.0\" y=\"55.0\" width=\"59.61578125\" height=\"40\" stroke=\"black\" fill=\"white\" stroke-width=\"1\" /><text x=\"99.807890625\" y=\"75.0\" dominant-baseline=\"middle\" text-anchor=\"middle\" font-size=\"14px\" font-family=\"Arial\">Rz(x_0)</text></svg>"
      ],
      "text/plain": [
       "<cirq.contrib.svg.svg.SVGCircuit at 0x7fd50870ce20>"
      ]
     },
     "execution_count": 9,
     "metadata": {},
     "output_type": "execute_result"
    }
   ],
   "source": [
    "from cirq.contrib.svg import SVGCircuit\n",
    "\n",
    "# Default Convolution\n",
    "bits = (1, 2)\n",
    "symbols = sympy.symbols(\"x_0:2\")\n",
    "circuit = cirq.Circuit()\n",
    "q0, q1 = cirq.LineQubit(bits[0]), cirq.LineQubit(bits[1])\n",
    "circuit += cirq.rz(symbols[0]).on(q1).controlled_by(q0)\n",
    "print(\"Convolution unitary:\")\n",
    "SVGCircuit(circuit)"
   ]
  },
  {
   "cell_type": "code",
   "execution_count": 10,
   "metadata": {
    "tags": []
   },
   "outputs": [
    {
     "name": "stdout",
     "output_type": "stream",
     "text": [
      "Pooling unitary:\n"
     ]
    },
    {
     "data": {
      "image/svg+xml": [
       "<svg xmlns=\"http://www.w3.org/2000/svg\" width=\"160.0\" height=\"100.0\"><line x1=\"30.0\" x2=\"130.0\" y1=\"25.0\" y2=\"25.0\" stroke=\"#1967d2\" stroke-width=\"1\" /><line x1=\"30.0\" x2=\"130.0\" y1=\"75.0\" y2=\"75.0\" stroke=\"#1967d2\" stroke-width=\"1\" /><line x1=\"90.0\" x2=\"90.0\" y1=\"25.0\" y2=\"75.0\" stroke=\"black\" stroke-width=\"3\" /><rect x=\"10.0\" y=\"5.0\" width=\"40\" height=\"40\" stroke=\"black\" fill=\"white\" stroke-width=\"0\" /><text x=\"30.0\" y=\"25.0\" dominant-baseline=\"middle\" text-anchor=\"middle\" font-size=\"14px\" font-family=\"Arial\">1: </text><rect x=\"10.0\" y=\"55.0\" width=\"40\" height=\"40\" stroke=\"black\" fill=\"white\" stroke-width=\"0\" /><text x=\"30.0\" y=\"75.0\" dominant-baseline=\"middle\" text-anchor=\"middle\" font-size=\"14px\" font-family=\"Arial\">2: </text><circle cx=\"90.0\" cy=\"25.0\" r=\"10.0\" /><rect x=\"70.0\" y=\"55.0\" width=\"40\" height=\"40\" stroke=\"black\" fill=\"white\" stroke-width=\"1\" /><text x=\"90.0\" y=\"75.0\" dominant-baseline=\"middle\" text-anchor=\"middle\" font-size=\"18px\" font-family=\"Arial\">X</text></svg>"
      ],
      "text/plain": [
       "<cirq.contrib.svg.svg.SVGCircuit at 0x7fd5086da070>"
      ]
     },
     "execution_count": 10,
     "metadata": {},
     "output_type": "execute_result"
    }
   ],
   "source": [
    "bits = (1, 2)\n",
    "circuit = cirq.Circuit()\n",
    "q0, q1 = cirq.LineQubit(bits[0]), cirq.LineQubit(bits[1])\n",
    "circuit += cirq.CNOT(q0, q1)\n",
    "print(\"Pooling unitary:\")\n",
    "SVGCircuit(circuit)"
   ]
  },
  {
   "cell_type": "code",
   "execution_count": 11,
   "metadata": {},
   "outputs": [],
   "source": [
    "import cirq\n",
    "# Default pooling circuit\n",
    "def V(bits, symbols=None):\n",
    "    circuit = cirq.Circuit()\n",
    "    q0, q1 = cirq.LineQubit(bits[0]), cirq.LineQubit(bits[1])\n",
    "    circuit += cirq.rz(symbols[0]).on(q1).controlled_by(q0)\n",
    "    circuit += cirq.X(q0)\n",
    "    circuit += cirq.rx(symbols[1]).on(q1).controlled_by(q0)\n",
    "    return circuit\n",
    "\n",
    "\n",
    "# Default convolution circuit\n",
    "def U(bits, symbols=None):\n",
    "    circuit = cirq.Circuit()\n",
    "    q0, q1 = cirq.LineQubit(bits[0]), cirq.LineQubit(bits[1])\n",
    "    circuit += cirq.H(q0)\n",
    "    circuit += cirq.H(q1)\n",
    "    circuit += cirq.CZ(q0,q1)\n",
    "    circuit += cirq.rx(symbols[0]).on(q0)\n",
    "    circuit += cirq.rx(symbols[1]).on(q1)\n",
    "    return circuit"
   ]
  },
  {
   "cell_type": "code",
   "execution_count": 12,
   "metadata": {},
   "outputs": [],
   "source": [
    "# nq = 8\n",
    "# qcnn = Qcnn(nq)\n",
    "# m1 = QConv(1) + QPool(filter=\"right\")\n",
    "# m2 = QConv(2) + QPool(filter=\"right\")\n",
    "# m3= QFree(8)+ m1*3\n",
    "# m4 = m3+m3+m3 +QFree(16) +m1*4\n",
    "# circuit, symbols = convert_graph_to_circuit_cirq(m4 )\n",
    "# SVGCircuit(circuit)"
   ]
  },
  {
   "cell_type": "code",
   "execution_count": null,
   "metadata": {},
   "outputs": [],
   "source": []
  },
  {
   "cell_type": "code",
   "execution_count": 13,
   "metadata": {},
   "outputs": [
    {
     "data": {
      "image/svg+xml": [
       "<svg xmlns=\"http://www.w3.org/2000/svg\" width=\"17264.078906250015\" height=\"400.0\"><line x1=\"30.0\" x2=\"17234.078906250015\" y1=\"25.0\" y2=\"25.0\" stroke=\"#1967d2\" stroke-width=\"1\" /><line x1=\"30.0\" x2=\"17234.078906250015\" y1=\"75.0\" y2=\"75.0\" stroke=\"#1967d2\" stroke-width=\"1\" /><line x1=\"30.0\" x2=\"17234.078906250015\" y1=\"125.0\" y2=\"125.0\" stroke=\"#1967d2\" stroke-width=\"1\" /><line x1=\"30.0\" x2=\"17234.078906250015\" y1=\"175.0\" y2=\"175.0\" stroke=\"#1967d2\" stroke-width=\"1\" /><line x1=\"30.0\" x2=\"17234.078906250015\" y1=\"225.0\" y2=\"225.0\" stroke=\"#1967d2\" stroke-width=\"1\" /><line x1=\"30.0\" x2=\"17234.078906250015\" y1=\"275.0\" y2=\"275.0\" stroke=\"#1967d2\" stroke-width=\"1\" /><line x1=\"30.0\" x2=\"17234.078906250015\" y1=\"325.0\" y2=\"325.0\" stroke=\"#1967d2\" stroke-width=\"1\" /><line x1=\"30.0\" x2=\"17234.078906250015\" y1=\"375.0\" y2=\"375.0\" stroke=\"#1967d2\" stroke-width=\"1\" /><line x1=\"99.807890625\" x2=\"99.807890625\" y1=\"25.0\" y2=\"125.0\" stroke=\"black\" stroke-width=\"3\" /><line x1=\"179.423671875\" x2=\"179.423671875\" y1=\"75.0\" y2=\"175.0\" stroke=\"black\" stroke-width=\"3\" /><line x1=\"259.039453125\" x2=\"259.039453125\" y1=\"125.0\" y2=\"225.0\" stroke=\"black\" stroke-width=\"3\" /><line x1=\"338.65523437499996\" x2=\"338.65523437499996\" y1=\"175.0\" y2=\"275.0\" stroke=\"black\" stroke-width=\"3\" /><line x1=\"418.271015625\" x2=\"418.271015625\" y1=\"225.0\" y2=\"325.0\" stroke=\"black\" stroke-width=\"3\" /><line x1=\"497.88679687499996\" x2=\"497.88679687499996\" y1=\"275.0\" y2=\"375.0\" stroke=\"black\" stroke-width=\"3\" /><line x1=\"577.502578125\" x2=\"577.502578125\" y1=\"25.0\" y2=\"325.0\" stroke=\"black\" stroke-width=\"3\" /><line x1=\"657.118359375\" x2=\"657.118359375\" y1=\"75.0\" y2=\"375.0\" stroke=\"black\" stroke-width=\"3\" /><line x1=\"736.734140625\" x2=\"736.734140625\" y1=\"25.0\" y2=\"125.0\" stroke=\"black\" stroke-width=\"3\" /><line x1=\"816.3499218750001\" x2=\"816.3499218750001\" y1=\"75.0\" y2=\"175.0\" stroke=\"black\" stroke-width=\"3\" /><line x1=\"895.9657031250001\" x2=\"895.9657031250001\" y1=\"125.0\" y2=\"225.0\" stroke=\"black\" stroke-width=\"3\" /><line x1=\"975.5814843750002\" x2=\"975.5814843750002\" y1=\"175.0\" y2=\"275.0\" stroke=\"black\" stroke-width=\"3\" /><line x1=\"1055.1972656250002\" x2=\"1055.1972656250002\" y1=\"225.0\" y2=\"325.0\" stroke=\"black\" stroke-width=\"3\" /><line x1=\"1134.8130468750003\" x2=\"1134.8130468750003\" y1=\"275.0\" y2=\"375.0\" stroke=\"black\" stroke-width=\"3\" /><line x1=\"1214.4288281250003\" x2=\"1214.4288281250003\" y1=\"25.0\" y2=\"325.0\" stroke=\"black\" stroke-width=\"3\" /><line x1=\"1294.0446093750004\" x2=\"1294.0446093750004\" y1=\"75.0\" y2=\"375.0\" stroke=\"black\" stroke-width=\"3\" /><line x1=\"1373.6603906250004\" x2=\"1373.6603906250004\" y1=\"25.0\" y2=\"75.0\" stroke=\"black\" stroke-width=\"3\" /><line x1=\"1453.2761718750005\" x2=\"1453.2761718750005\" y1=\"75.0\" y2=\"125.0\" stroke=\"black\" stroke-width=\"3\" /><line x1=\"1532.8919531250006\" x2=\"1532.8919531250006\" y1=\"125.0\" y2=\"175.0\" stroke=\"black\" stroke-width=\"3\" /><line x1=\"1612.5077343750006\" x2=\"1612.5077343750006\" y1=\"175.0\" y2=\"225.0\" stroke=\"black\" stroke-width=\"3\" /><line x1=\"1692.1235156250007\" x2=\"1692.1235156250007\" y1=\"225.0\" y2=\"275.0\" stroke=\"black\" stroke-width=\"3\" /><line x1=\"1771.7392968750007\" x2=\"1771.7392968750007\" y1=\"275.0\" y2=\"325.0\" stroke=\"black\" stroke-width=\"3\" /><line x1=\"1851.3550781250008\" x2=\"1851.3550781250008\" y1=\"325.0\" y2=\"375.0\" stroke=\"black\" stroke-width=\"3\" /><line x1=\"1930.9708593750008\" x2=\"1930.9708593750008\" y1=\"25.0\" y2=\"375.0\" stroke=\"black\" stroke-width=\"3\" /><line x1=\"2000.7787500000009\" x2=\"2000.7787500000009\" y1=\"25.0\" y2=\"375.0\" stroke=\"black\" stroke-width=\"3\" /><line x1=\"2060.778750000001\" x2=\"2060.778750000001\" y1=\"75.0\" y2=\"325.0\" stroke=\"black\" stroke-width=\"3\" /><line x1=\"2120.778750000001\" x2=\"2120.778750000001\" y1=\"125.0\" y2=\"275.0\" stroke=\"black\" stroke-width=\"3\" /><line x1=\"2180.778750000001\" x2=\"2180.778750000001\" y1=\"175.0\" y2=\"225.0\" stroke=\"black\" stroke-width=\"3\" /><line x1=\"2250.5866406250007\" x2=\"2250.5866406250007\" y1=\"25.0\" y2=\"125.0\" stroke=\"black\" stroke-width=\"3\" /><line x1=\"2330.2024218750007\" x2=\"2330.2024218750007\" y1=\"75.0\" y2=\"175.0\" stroke=\"black\" stroke-width=\"3\" /><line x1=\"2409.8182031250008\" x2=\"2409.8182031250008\" y1=\"25.0\" y2=\"125.0\" stroke=\"black\" stroke-width=\"3\" /><line x1=\"2489.433984375001\" x2=\"2489.433984375001\" y1=\"75.0\" y2=\"175.0\" stroke=\"black\" stroke-width=\"3\" /><line x1=\"2569.049765625001\" x2=\"2569.049765625001\" y1=\"25.0\" y2=\"125.0\" stroke=\"black\" stroke-width=\"3\" /><line x1=\"2648.665546875001\" x2=\"2648.665546875001\" y1=\"75.0\" y2=\"175.0\" stroke=\"black\" stroke-width=\"3\" /><line x1=\"2728.281328125001\" x2=\"2728.281328125001\" y1=\"25.0\" y2=\"125.0\" stroke=\"black\" stroke-width=\"3\" /><line x1=\"2807.897109375001\" x2=\"2807.897109375001\" y1=\"75.0\" y2=\"175.0\" stroke=\"black\" stroke-width=\"3\" /><line x1=\"2887.512890625001\" x2=\"2887.512890625001\" y1=\"25.0\" y2=\"75.0\" stroke=\"black\" stroke-width=\"3\" /><line x1=\"2967.128671875001\" x2=\"2967.128671875001\" y1=\"75.0\" y2=\"125.0\" stroke=\"black\" stroke-width=\"3\" /><line x1=\"3046.744453125001\" x2=\"3046.744453125001\" y1=\"125.0\" y2=\"175.0\" stroke=\"black\" stroke-width=\"3\" /><line x1=\"3126.3602343750013\" x2=\"3126.3602343750013\" y1=\"25.0\" y2=\"175.0\" stroke=\"black\" stroke-width=\"3\" /><line x1=\"3196.1681250000015\" x2=\"3196.1681250000015\" y1=\"25.0\" y2=\"175.0\" stroke=\"black\" stroke-width=\"3\" /><line x1=\"3256.1681250000015\" x2=\"3256.1681250000015\" y1=\"75.0\" y2=\"125.0\" stroke=\"black\" stroke-width=\"3\" /><line x1=\"3325.9760156250013\" x2=\"3325.9760156250013\" y1=\"25.0\" y2=\"125.0\" stroke=\"black\" stroke-width=\"3\" /><line x1=\"3405.5917968750014\" x2=\"3405.5917968750014\" y1=\"75.0\" y2=\"175.0\" stroke=\"black\" stroke-width=\"3\" /><line x1=\"3485.2075781250014\" x2=\"3485.2075781250014\" y1=\"125.0\" y2=\"225.0\" stroke=\"black\" stroke-width=\"3\" /><line x1=\"3564.8233593750015\" x2=\"3564.8233593750015\" y1=\"175.0\" y2=\"275.0\" stroke=\"black\" stroke-width=\"3\" /><line x1=\"3644.4391406250015\" x2=\"3644.4391406250015\" y1=\"225.0\" y2=\"325.0\" stroke=\"black\" stroke-width=\"3\" /><line x1=\"3724.0549218750016\" x2=\"3724.0549218750016\" y1=\"275.0\" y2=\"375.0\" stroke=\"black\" stroke-width=\"3\" /><line x1=\"3803.6707031250016\" x2=\"3803.6707031250016\" y1=\"25.0\" y2=\"325.0\" stroke=\"black\" stroke-width=\"3\" /><line x1=\"3883.2864843750017\" x2=\"3883.2864843750017\" y1=\"75.0\" y2=\"375.0\" stroke=\"black\" stroke-width=\"3\" /><line x1=\"3962.9022656250017\" x2=\"3962.9022656250017\" y1=\"25.0\" y2=\"125.0\" stroke=\"black\" stroke-width=\"3\" /><line x1=\"4042.518046875002\" x2=\"4042.518046875002\" y1=\"75.0\" y2=\"175.0\" stroke=\"black\" stroke-width=\"3\" /><line x1=\"4122.133828125002\" x2=\"4122.133828125002\" y1=\"125.0\" y2=\"225.0\" stroke=\"black\" stroke-width=\"3\" /><line x1=\"4201.749609375002\" x2=\"4201.749609375002\" y1=\"175.0\" y2=\"275.0\" stroke=\"black\" stroke-width=\"3\" /><line x1=\"4281.365390625002\" x2=\"4281.365390625002\" y1=\"225.0\" y2=\"325.0\" stroke=\"black\" stroke-width=\"3\" /><line x1=\"4360.981171875002\" x2=\"4360.981171875002\" y1=\"275.0\" y2=\"375.0\" stroke=\"black\" stroke-width=\"3\" /><line x1=\"4440.596953125001\" x2=\"4440.596953125001\" y1=\"25.0\" y2=\"325.0\" stroke=\"black\" stroke-width=\"3\" /><line x1=\"4520.212734375001\" x2=\"4520.212734375001\" y1=\"75.0\" y2=\"375.0\" stroke=\"black\" stroke-width=\"3\" /><line x1=\"4599.828515625\" x2=\"4599.828515625\" y1=\"25.0\" y2=\"75.0\" stroke=\"black\" stroke-width=\"3\" /><line x1=\"4679.444296875\" x2=\"4679.444296875\" y1=\"75.0\" y2=\"125.0\" stroke=\"black\" stroke-width=\"3\" /><line x1=\"4759.060078125\" x2=\"4759.060078125\" y1=\"125.0\" y2=\"175.0\" stroke=\"black\" stroke-width=\"3\" /><line x1=\"4838.675859374999\" x2=\"4838.675859374999\" y1=\"175.0\" y2=\"225.0\" stroke=\"black\" stroke-width=\"3\" /><line x1=\"4918.291640624999\" x2=\"4918.291640624999\" y1=\"225.0\" y2=\"275.0\" stroke=\"black\" stroke-width=\"3\" /><line x1=\"4997.907421874998\" x2=\"4997.907421874998\" y1=\"275.0\" y2=\"325.0\" stroke=\"black\" stroke-width=\"3\" /><line x1=\"5077.523203124998\" x2=\"5077.523203124998\" y1=\"325.0\" y2=\"375.0\" stroke=\"black\" stroke-width=\"3\" /><line x1=\"5157.138984374998\" x2=\"5157.138984374998\" y1=\"25.0\" y2=\"375.0\" stroke=\"black\" stroke-width=\"3\" /><line x1=\"5226.946874999997\" x2=\"5226.946874999997\" y1=\"25.0\" y2=\"375.0\" stroke=\"black\" stroke-width=\"3\" /><line x1=\"5286.946874999997\" x2=\"5286.946874999997\" y1=\"75.0\" y2=\"325.0\" stroke=\"black\" stroke-width=\"3\" /><line x1=\"5346.946874999997\" x2=\"5346.946874999997\" y1=\"125.0\" y2=\"275.0\" stroke=\"black\" stroke-width=\"3\" /><line x1=\"5406.946874999997\" x2=\"5406.946874999997\" y1=\"175.0\" y2=\"225.0\" stroke=\"black\" stroke-width=\"3\" /><line x1=\"5476.754765624997\" x2=\"5476.754765624997\" y1=\"25.0\" y2=\"125.0\" stroke=\"black\" stroke-width=\"3\" /><line x1=\"5556.370546874997\" x2=\"5556.370546874997\" y1=\"75.0\" y2=\"175.0\" stroke=\"black\" stroke-width=\"3\" /><line x1=\"5635.986328124996\" x2=\"5635.986328124996\" y1=\"25.0\" y2=\"125.0\" stroke=\"black\" stroke-width=\"3\" /><line x1=\"5715.602109374996\" x2=\"5715.602109374996\" y1=\"75.0\" y2=\"175.0\" stroke=\"black\" stroke-width=\"3\" /><line x1=\"5799.671503906246\" x2=\"5799.671503906246\" y1=\"25.0\" y2=\"125.0\" stroke=\"black\" stroke-width=\"3\" /><line x1=\"5888.194511718745\" x2=\"5888.194511718745\" y1=\"75.0\" y2=\"175.0\" stroke=\"black\" stroke-width=\"3\" /><line x1=\"5976.717519531245\" x2=\"5976.717519531245\" y1=\"25.0\" y2=\"125.0\" stroke=\"black\" stroke-width=\"3\" /><line x1=\"6065.240527343744\" x2=\"6065.240527343744\" y1=\"75.0\" y2=\"175.0\" stroke=\"black\" stroke-width=\"3\" /><line x1=\"6153.763535156244\" x2=\"6153.763535156244\" y1=\"25.0\" y2=\"75.0\" stroke=\"black\" stroke-width=\"3\" /><line x1=\"6242.286542968744\" x2=\"6242.286542968744\" y1=\"75.0\" y2=\"125.0\" stroke=\"black\" stroke-width=\"3\" /><line x1=\"6330.809550781243\" x2=\"6330.809550781243\" y1=\"125.0\" y2=\"175.0\" stroke=\"black\" stroke-width=\"3\" /><line x1=\"6419.332558593743\" x2=\"6419.332558593743\" y1=\"25.0\" y2=\"175.0\" stroke=\"black\" stroke-width=\"3\" /><line x1=\"6493.594062499992\" x2=\"6493.594062499992\" y1=\"25.0\" y2=\"175.0\" stroke=\"black\" stroke-width=\"3\" /><line x1=\"6553.594062499992\" x2=\"6553.594062499992\" y1=\"75.0\" y2=\"125.0\" stroke=\"black\" stroke-width=\"3\" /><line x1=\"6627.855566406242\" x2=\"6627.855566406242\" y1=\"25.0\" y2=\"125.0\" stroke=\"black\" stroke-width=\"3\" /><line x1=\"6716.378574218742\" x2=\"6716.378574218742\" y1=\"75.0\" y2=\"175.0\" stroke=\"black\" stroke-width=\"3\" /><line x1=\"6804.901582031242\" x2=\"6804.901582031242\" y1=\"125.0\" y2=\"225.0\" stroke=\"black\" stroke-width=\"3\" /><line x1=\"6893.424589843741\" x2=\"6893.424589843741\" y1=\"175.0\" y2=\"275.0\" stroke=\"black\" stroke-width=\"3\" /><line x1=\"6981.947597656241\" x2=\"6981.947597656241\" y1=\"225.0\" y2=\"325.0\" stroke=\"black\" stroke-width=\"3\" /><line x1=\"7070.47060546874\" x2=\"7070.47060546874\" y1=\"275.0\" y2=\"375.0\" stroke=\"black\" stroke-width=\"3\" /><line x1=\"7158.99361328124\" x2=\"7158.99361328124\" y1=\"25.0\" y2=\"325.0\" stroke=\"black\" stroke-width=\"3\" /><line x1=\"7247.51662109374\" x2=\"7247.51662109374\" y1=\"75.0\" y2=\"375.0\" stroke=\"black\" stroke-width=\"3\" /><line x1=\"7336.039628906239\" x2=\"7336.039628906239\" y1=\"25.0\" y2=\"125.0\" stroke=\"black\" stroke-width=\"3\" /><line x1=\"7424.562636718739\" x2=\"7424.562636718739\" y1=\"75.0\" y2=\"175.0\" stroke=\"black\" stroke-width=\"3\" /><line x1=\"7513.085644531238\" x2=\"7513.085644531238\" y1=\"125.0\" y2=\"225.0\" stroke=\"black\" stroke-width=\"3\" /><line x1=\"7601.608652343738\" x2=\"7601.608652343738\" y1=\"175.0\" y2=\"275.0\" stroke=\"black\" stroke-width=\"3\" /><line x1=\"7690.131660156238\" x2=\"7690.131660156238\" y1=\"225.0\" y2=\"325.0\" stroke=\"black\" stroke-width=\"3\" /><line x1=\"7778.654667968737\" x2=\"7778.654667968737\" y1=\"275.0\" y2=\"375.0\" stroke=\"black\" stroke-width=\"3\" /><line x1=\"7867.177675781237\" x2=\"7867.177675781237\" y1=\"25.0\" y2=\"325.0\" stroke=\"black\" stroke-width=\"3\" /><line x1=\"7955.700683593736\" x2=\"7955.700683593736\" y1=\"75.0\" y2=\"375.0\" stroke=\"black\" stroke-width=\"3\" /><line x1=\"8044.223691406236\" x2=\"8044.223691406236\" y1=\"25.0\" y2=\"75.0\" stroke=\"black\" stroke-width=\"3\" /><line x1=\"8132.746699218736\" x2=\"8132.746699218736\" y1=\"75.0\" y2=\"125.0\" stroke=\"black\" stroke-width=\"3\" /><line x1=\"8221.269707031235\" x2=\"8221.269707031235\" y1=\"125.0\" y2=\"175.0\" stroke=\"black\" stroke-width=\"3\" /><line x1=\"8309.792714843734\" x2=\"8309.792714843734\" y1=\"175.0\" y2=\"225.0\" stroke=\"black\" stroke-width=\"3\" /><line x1=\"8398.315722656234\" x2=\"8398.315722656234\" y1=\"225.0\" y2=\"275.0\" stroke=\"black\" stroke-width=\"3\" /><line x1=\"8486.838730468735\" x2=\"8486.838730468735\" y1=\"275.0\" y2=\"325.0\" stroke=\"black\" stroke-width=\"3\" /><line x1=\"8575.361738281235\" x2=\"8575.361738281235\" y1=\"325.0\" y2=\"375.0\" stroke=\"black\" stroke-width=\"3\" /><line x1=\"8663.884746093736\" x2=\"8663.884746093736\" y1=\"25.0\" y2=\"375.0\" stroke=\"black\" stroke-width=\"3\" /><line x1=\"8738.146249999987\" x2=\"8738.146249999987\" y1=\"25.0\" y2=\"375.0\" stroke=\"black\" stroke-width=\"3\" /><line x1=\"8798.146249999987\" x2=\"8798.146249999987\" y1=\"75.0\" y2=\"325.0\" stroke=\"black\" stroke-width=\"3\" /><line x1=\"8858.146249999987\" x2=\"8858.146249999987\" y1=\"125.0\" y2=\"275.0\" stroke=\"black\" stroke-width=\"3\" /><line x1=\"8918.146249999987\" x2=\"8918.146249999987\" y1=\"175.0\" y2=\"225.0\" stroke=\"black\" stroke-width=\"3\" /><line x1=\"8992.407753906236\" x2=\"8992.407753906236\" y1=\"25.0\" y2=\"125.0\" stroke=\"black\" stroke-width=\"3\" /><line x1=\"9080.930761718737\" x2=\"9080.930761718737\" y1=\"75.0\" y2=\"175.0\" stroke=\"black\" stroke-width=\"3\" /><line x1=\"9169.453769531237\" x2=\"9169.453769531237\" y1=\"25.0\" y2=\"125.0\" stroke=\"black\" stroke-width=\"3\" /><line x1=\"9257.976777343738\" x2=\"9257.976777343738\" y1=\"75.0\" y2=\"175.0\" stroke=\"black\" stroke-width=\"3\" /><line x1=\"9346.499785156238\" x2=\"9346.499785156238\" y1=\"25.0\" y2=\"125.0\" stroke=\"black\" stroke-width=\"3\" /><line x1=\"9435.022792968739\" x2=\"9435.022792968739\" y1=\"75.0\" y2=\"175.0\" stroke=\"black\" stroke-width=\"3\" /><line x1=\"9523.54580078124\" x2=\"9523.54580078124\" y1=\"25.0\" y2=\"125.0\" stroke=\"black\" stroke-width=\"3\" /><line x1=\"9612.06880859374\" x2=\"9612.06880859374\" y1=\"75.0\" y2=\"175.0\" stroke=\"black\" stroke-width=\"3\" /><line x1=\"9700.59181640624\" x2=\"9700.59181640624\" y1=\"25.0\" y2=\"75.0\" stroke=\"black\" stroke-width=\"3\" /><line x1=\"9789.114824218741\" x2=\"9789.114824218741\" y1=\"75.0\" y2=\"125.0\" stroke=\"black\" stroke-width=\"3\" /><line x1=\"9877.637832031241\" x2=\"9877.637832031241\" y1=\"125.0\" y2=\"175.0\" stroke=\"black\" stroke-width=\"3\" /><line x1=\"9966.160839843742\" x2=\"9966.160839843742\" y1=\"25.0\" y2=\"175.0\" stroke=\"black\" stroke-width=\"3\" /><line x1=\"10040.422343749993\" x2=\"10040.422343749993\" y1=\"25.0\" y2=\"175.0\" stroke=\"black\" stroke-width=\"3\" /><line x1=\"10100.422343749993\" x2=\"10100.422343749993\" y1=\"75.0\" y2=\"125.0\" stroke=\"black\" stroke-width=\"3\" /><line x1=\"10174.683847656243\" x2=\"10174.683847656243\" y1=\"25.0\" y2=\"125.0\" stroke=\"black\" stroke-width=\"3\" /><line x1=\"10263.206855468743\" x2=\"10263.206855468743\" y1=\"75.0\" y2=\"175.0\" stroke=\"black\" stroke-width=\"3\" /><line x1=\"10351.729863281244\" x2=\"10351.729863281244\" y1=\"125.0\" y2=\"225.0\" stroke=\"black\" stroke-width=\"3\" /><line x1=\"10440.252871093744\" x2=\"10440.252871093744\" y1=\"175.0\" y2=\"275.0\" stroke=\"black\" stroke-width=\"3\" /><line x1=\"10528.775878906245\" x2=\"10528.775878906245\" y1=\"225.0\" y2=\"325.0\" stroke=\"black\" stroke-width=\"3\" /><line x1=\"10617.298886718745\" x2=\"10617.298886718745\" y1=\"275.0\" y2=\"375.0\" stroke=\"black\" stroke-width=\"3\" /><line x1=\"10705.821894531246\" x2=\"10705.821894531246\" y1=\"25.0\" y2=\"325.0\" stroke=\"black\" stroke-width=\"3\" /><line x1=\"10794.344902343746\" x2=\"10794.344902343746\" y1=\"75.0\" y2=\"375.0\" stroke=\"black\" stroke-width=\"3\" /><line x1=\"10882.867910156247\" x2=\"10882.867910156247\" y1=\"25.0\" y2=\"125.0\" stroke=\"black\" stroke-width=\"3\" /><line x1=\"10971.390917968747\" x2=\"10971.390917968747\" y1=\"75.0\" y2=\"175.0\" stroke=\"black\" stroke-width=\"3\" /><line x1=\"11059.913925781248\" x2=\"11059.913925781248\" y1=\"125.0\" y2=\"225.0\" stroke=\"black\" stroke-width=\"3\" /><line x1=\"11148.436933593748\" x2=\"11148.436933593748\" y1=\"175.0\" y2=\"275.0\" stroke=\"black\" stroke-width=\"3\" /><line x1=\"11236.959941406249\" x2=\"11236.959941406249\" y1=\"225.0\" y2=\"325.0\" stroke=\"black\" stroke-width=\"3\" /><line x1=\"11325.48294921875\" x2=\"11325.48294921875\" y1=\"275.0\" y2=\"375.0\" stroke=\"black\" stroke-width=\"3\" /><line x1=\"11414.00595703125\" x2=\"11414.00595703125\" y1=\"25.0\" y2=\"325.0\" stroke=\"black\" stroke-width=\"3\" /><line x1=\"11502.52896484375\" x2=\"11502.52896484375\" y1=\"75.0\" y2=\"375.0\" stroke=\"black\" stroke-width=\"3\" /><line x1=\"11591.05197265625\" x2=\"11591.05197265625\" y1=\"25.0\" y2=\"75.0\" stroke=\"black\" stroke-width=\"3\" /><line x1=\"11679.574980468751\" x2=\"11679.574980468751\" y1=\"75.0\" y2=\"125.0\" stroke=\"black\" stroke-width=\"3\" /><line x1=\"11768.097988281252\" x2=\"11768.097988281252\" y1=\"125.0\" y2=\"175.0\" stroke=\"black\" stroke-width=\"3\" /><line x1=\"11856.620996093752\" x2=\"11856.620996093752\" y1=\"175.0\" y2=\"225.0\" stroke=\"black\" stroke-width=\"3\" /><line x1=\"11945.144003906253\" x2=\"11945.144003906253\" y1=\"225.0\" y2=\"275.0\" stroke=\"black\" stroke-width=\"3\" /><line x1=\"12033.667011718753\" x2=\"12033.667011718753\" y1=\"275.0\" y2=\"325.0\" stroke=\"black\" stroke-width=\"3\" /><line x1=\"12122.190019531254\" x2=\"12122.190019531254\" y1=\"325.0\" y2=\"375.0\" stroke=\"black\" stroke-width=\"3\" /><line x1=\"12210.713027343754\" x2=\"12210.713027343754\" y1=\"25.0\" y2=\"375.0\" stroke=\"black\" stroke-width=\"3\" /><line x1=\"12284.974531250005\" x2=\"12284.974531250005\" y1=\"25.0\" y2=\"375.0\" stroke=\"black\" stroke-width=\"3\" /><line x1=\"12344.974531250005\" x2=\"12344.974531250005\" y1=\"75.0\" y2=\"325.0\" stroke=\"black\" stroke-width=\"3\" /><line x1=\"12404.974531250005\" x2=\"12404.974531250005\" y1=\"125.0\" y2=\"275.0\" stroke=\"black\" stroke-width=\"3\" /><line x1=\"12464.974531250005\" x2=\"12464.974531250005\" y1=\"175.0\" y2=\"225.0\" stroke=\"black\" stroke-width=\"3\" /><line x1=\"12539.236035156255\" x2=\"12539.236035156255\" y1=\"25.0\" y2=\"125.0\" stroke=\"black\" stroke-width=\"3\" /><line x1=\"12627.759042968755\" x2=\"12627.759042968755\" y1=\"75.0\" y2=\"175.0\" stroke=\"black\" stroke-width=\"3\" /><line x1=\"12716.282050781256\" x2=\"12716.282050781256\" y1=\"25.0\" y2=\"125.0\" stroke=\"black\" stroke-width=\"3\" /><line x1=\"12804.805058593756\" x2=\"12804.805058593756\" y1=\"75.0\" y2=\"175.0\" stroke=\"black\" stroke-width=\"3\" /><line x1=\"12893.328066406257\" x2=\"12893.328066406257\" y1=\"25.0\" y2=\"125.0\" stroke=\"black\" stroke-width=\"3\" /><line x1=\"12981.851074218757\" x2=\"12981.851074218757\" y1=\"75.0\" y2=\"175.0\" stroke=\"black\" stroke-width=\"3\" /><line x1=\"13070.374082031258\" x2=\"13070.374082031258\" y1=\"25.0\" y2=\"125.0\" stroke=\"black\" stroke-width=\"3\" /><line x1=\"13158.897089843758\" x2=\"13158.897089843758\" y1=\"75.0\" y2=\"175.0\" stroke=\"black\" stroke-width=\"3\" /><line x1=\"13247.420097656259\" x2=\"13247.420097656259\" y1=\"25.0\" y2=\"75.0\" stroke=\"black\" stroke-width=\"3\" /><line x1=\"13335.94310546876\" x2=\"13335.94310546876\" y1=\"75.0\" y2=\"125.0\" stroke=\"black\" stroke-width=\"3\" /><line x1=\"13424.46611328126\" x2=\"13424.46611328126\" y1=\"125.0\" y2=\"175.0\" stroke=\"black\" stroke-width=\"3\" /><line x1=\"13512.98912109376\" x2=\"13512.98912109376\" y1=\"25.0\" y2=\"175.0\" stroke=\"black\" stroke-width=\"3\" /><line x1=\"13587.250625000011\" x2=\"13587.250625000011\" y1=\"25.0\" y2=\"175.0\" stroke=\"black\" stroke-width=\"3\" /><line x1=\"13647.250625000011\" x2=\"13647.250625000011\" y1=\"75.0\" y2=\"125.0\" stroke=\"black\" stroke-width=\"3\" /><line x1=\"13721.51212890626\" x2=\"13721.51212890626\" y1=\"25.0\" y2=\"125.0\" stroke=\"black\" stroke-width=\"3\" /><line x1=\"13810.035136718761\" x2=\"13810.035136718761\" y1=\"75.0\" y2=\"175.0\" stroke=\"black\" stroke-width=\"3\" /><line x1=\"13898.558144531262\" x2=\"13898.558144531262\" y1=\"125.0\" y2=\"225.0\" stroke=\"black\" stroke-width=\"3\" /><line x1=\"13987.081152343762\" x2=\"13987.081152343762\" y1=\"175.0\" y2=\"275.0\" stroke=\"black\" stroke-width=\"3\" /><line x1=\"14075.604160156263\" x2=\"14075.604160156263\" y1=\"225.0\" y2=\"325.0\" stroke=\"black\" stroke-width=\"3\" /><line x1=\"14164.127167968763\" x2=\"14164.127167968763\" y1=\"275.0\" y2=\"375.0\" stroke=\"black\" stroke-width=\"3\" /><line x1=\"14252.650175781264\" x2=\"14252.650175781264\" y1=\"25.0\" y2=\"325.0\" stroke=\"black\" stroke-width=\"3\" /><line x1=\"14341.173183593764\" x2=\"14341.173183593764\" y1=\"75.0\" y2=\"375.0\" stroke=\"black\" stroke-width=\"3\" /><line x1=\"14429.696191406265\" x2=\"14429.696191406265\" y1=\"25.0\" y2=\"125.0\" stroke=\"black\" stroke-width=\"3\" /><line x1=\"14518.219199218765\" x2=\"14518.219199218765\" y1=\"75.0\" y2=\"175.0\" stroke=\"black\" stroke-width=\"3\" /><line x1=\"14606.742207031266\" x2=\"14606.742207031266\" y1=\"125.0\" y2=\"225.0\" stroke=\"black\" stroke-width=\"3\" /><line x1=\"14695.265214843766\" x2=\"14695.265214843766\" y1=\"175.0\" y2=\"275.0\" stroke=\"black\" stroke-width=\"3\" /><line x1=\"14783.788222656267\" x2=\"14783.788222656267\" y1=\"225.0\" y2=\"325.0\" stroke=\"black\" stroke-width=\"3\" /><line x1=\"14872.311230468767\" x2=\"14872.311230468767\" y1=\"275.0\" y2=\"375.0\" stroke=\"black\" stroke-width=\"3\" /><line x1=\"14960.834238281268\" x2=\"14960.834238281268\" y1=\"25.0\" y2=\"325.0\" stroke=\"black\" stroke-width=\"3\" /><line x1=\"15049.357246093768\" x2=\"15049.357246093768\" y1=\"75.0\" y2=\"375.0\" stroke=\"black\" stroke-width=\"3\" /><line x1=\"15137.880253906269\" x2=\"15137.880253906269\" y1=\"25.0\" y2=\"75.0\" stroke=\"black\" stroke-width=\"3\" /><line x1=\"15226.40326171877\" x2=\"15226.40326171877\" y1=\"75.0\" y2=\"125.0\" stroke=\"black\" stroke-width=\"3\" /><line x1=\"15314.92626953127\" x2=\"15314.92626953127\" y1=\"125.0\" y2=\"175.0\" stroke=\"black\" stroke-width=\"3\" /><line x1=\"15403.44927734377\" x2=\"15403.44927734377\" y1=\"175.0\" y2=\"225.0\" stroke=\"black\" stroke-width=\"3\" /><line x1=\"15491.972285156271\" x2=\"15491.972285156271\" y1=\"225.0\" y2=\"275.0\" stroke=\"black\" stroke-width=\"3\" /><line x1=\"15580.495292968772\" x2=\"15580.495292968772\" y1=\"275.0\" y2=\"325.0\" stroke=\"black\" stroke-width=\"3\" /><line x1=\"15669.018300781272\" x2=\"15669.018300781272\" y1=\"325.0\" y2=\"375.0\" stroke=\"black\" stroke-width=\"3\" /><line x1=\"15757.541308593773\" x2=\"15757.541308593773\" y1=\"25.0\" y2=\"375.0\" stroke=\"black\" stroke-width=\"3\" /><line x1=\"15831.802812500024\" x2=\"15831.802812500024\" y1=\"25.0\" y2=\"375.0\" stroke=\"black\" stroke-width=\"3\" /><line x1=\"15891.802812500024\" x2=\"15891.802812500024\" y1=\"75.0\" y2=\"325.0\" stroke=\"black\" stroke-width=\"3\" /><line x1=\"15951.802812500024\" x2=\"15951.802812500024\" y1=\"125.0\" y2=\"275.0\" stroke=\"black\" stroke-width=\"3\" /><line x1=\"16011.802812500024\" x2=\"16011.802812500024\" y1=\"175.0\" y2=\"225.0\" stroke=\"black\" stroke-width=\"3\" /><line x1=\"16086.064316406273\" x2=\"16086.064316406273\" y1=\"25.0\" y2=\"125.0\" stroke=\"black\" stroke-width=\"3\" /><line x1=\"16174.587324218774\" x2=\"16174.587324218774\" y1=\"75.0\" y2=\"175.0\" stroke=\"black\" stroke-width=\"3\" /><line x1=\"16263.110332031274\" x2=\"16263.110332031274\" y1=\"25.0\" y2=\"125.0\" stroke=\"black\" stroke-width=\"3\" /><line x1=\"16351.633339843775\" x2=\"16351.633339843775\" y1=\"75.0\" y2=\"175.0\" stroke=\"black\" stroke-width=\"3\" /><line x1=\"16440.156347656277\" x2=\"16440.156347656277\" y1=\"25.0\" y2=\"125.0\" stroke=\"black\" stroke-width=\"3\" /><line x1=\"16528.679355468776\" x2=\"16528.679355468776\" y1=\"75.0\" y2=\"175.0\" stroke=\"black\" stroke-width=\"3\" /><line x1=\"16617.202363281274\" x2=\"16617.202363281274\" y1=\"25.0\" y2=\"125.0\" stroke=\"black\" stroke-width=\"3\" /><line x1=\"16705.725371093773\" x2=\"16705.725371093773\" y1=\"75.0\" y2=\"175.0\" stroke=\"black\" stroke-width=\"3\" /><line x1=\"16794.24837890627\" x2=\"16794.24837890627\" y1=\"25.0\" y2=\"75.0\" stroke=\"black\" stroke-width=\"3\" /><line x1=\"16882.77138671877\" x2=\"16882.77138671877\" y1=\"75.0\" y2=\"125.0\" stroke=\"black\" stroke-width=\"3\" /><line x1=\"16971.29439453127\" x2=\"16971.29439453127\" y1=\"125.0\" y2=\"175.0\" stroke=\"black\" stroke-width=\"3\" /><line x1=\"17059.817402343768\" x2=\"17059.817402343768\" y1=\"25.0\" y2=\"175.0\" stroke=\"black\" stroke-width=\"3\" /><line x1=\"17134.078906250015\" x2=\"17134.078906250015\" y1=\"25.0\" y2=\"175.0\" stroke=\"black\" stroke-width=\"3\" /><line x1=\"17194.078906250015\" x2=\"17194.078906250015\" y1=\"75.0\" y2=\"125.0\" stroke=\"black\" stroke-width=\"3\" /><rect x=\"10.0\" y=\"5.0\" width=\"40\" height=\"40\" stroke=\"black\" fill=\"white\" stroke-width=\"0\" /><text x=\"30.0\" y=\"25.0\" dominant-baseline=\"middle\" text-anchor=\"middle\" font-size=\"14px\" font-family=\"Arial\">1: </text><rect x=\"10.0\" y=\"55.0\" width=\"40\" height=\"40\" stroke=\"black\" fill=\"white\" stroke-width=\"0\" /><text x=\"30.0\" y=\"75.0\" dominant-baseline=\"middle\" text-anchor=\"middle\" font-size=\"14px\" font-family=\"Arial\">2: </text><rect x=\"10.0\" y=\"105.0\" width=\"40\" height=\"40\" stroke=\"black\" fill=\"white\" stroke-width=\"0\" /><text x=\"30.0\" y=\"125.0\" dominant-baseline=\"middle\" text-anchor=\"middle\" font-size=\"14px\" font-family=\"Arial\">3: </text><rect x=\"10.0\" y=\"155.0\" width=\"40\" height=\"40\" stroke=\"black\" fill=\"white\" stroke-width=\"0\" /><text x=\"30.0\" y=\"175.0\" dominant-baseline=\"middle\" text-anchor=\"middle\" font-size=\"14px\" font-family=\"Arial\">4: </text><rect x=\"10.0\" y=\"205.0\" width=\"40\" height=\"40\" stroke=\"black\" fill=\"white\" stroke-width=\"0\" /><text x=\"30.0\" y=\"225.0\" dominant-baseline=\"middle\" text-anchor=\"middle\" font-size=\"14px\" font-family=\"Arial\">5: </text><rect x=\"10.0\" y=\"255.0\" width=\"40\" height=\"40\" stroke=\"black\" fill=\"white\" stroke-width=\"0\" /><text x=\"30.0\" y=\"275.0\" dominant-baseline=\"middle\" text-anchor=\"middle\" font-size=\"14px\" font-family=\"Arial\">6: </text><rect x=\"10.0\" y=\"305.0\" width=\"40\" height=\"40\" stroke=\"black\" fill=\"white\" stroke-width=\"0\" /><text x=\"30.0\" y=\"325.0\" dominant-baseline=\"middle\" text-anchor=\"middle\" font-size=\"14px\" font-family=\"Arial\">7: </text><rect x=\"10.0\" y=\"355.0\" width=\"40\" height=\"40\" stroke=\"black\" fill=\"white\" stroke-width=\"0\" /><text x=\"30.0\" y=\"375.0\" dominant-baseline=\"middle\" text-anchor=\"middle\" font-size=\"14px\" font-family=\"Arial\">8: </text><circle cx=\"99.807890625\" cy=\"25.0\" r=\"10.0\" /><rect x=\"70.0\" y=\"105.0\" width=\"59.61578125\" height=\"40\" stroke=\"black\" fill=\"white\" stroke-width=\"1\" /><text x=\"99.807890625\" y=\"125.0\" dominant-baseline=\"middle\" text-anchor=\"middle\" font-size=\"14px\" font-family=\"Arial\">Rz(x_0)</text><circle cx=\"179.423671875\" cy=\"75.0\" r=\"10.0\" /><rect x=\"149.61578125\" y=\"155.0\" width=\"59.61578125\" height=\"40\" stroke=\"black\" fill=\"white\" stroke-width=\"1\" /><text x=\"179.423671875\" y=\"175.0\" dominant-baseline=\"middle\" text-anchor=\"middle\" font-size=\"14px\" font-family=\"Arial\">Rz(x_0)</text><circle cx=\"259.039453125\" cy=\"125.0\" r=\"10.0\" /><rect x=\"229.23156250000002\" y=\"205.0\" width=\"59.61578125\" height=\"40\" stroke=\"black\" fill=\"white\" stroke-width=\"1\" /><text x=\"259.039453125\" y=\"225.0\" dominant-baseline=\"middle\" text-anchor=\"middle\" font-size=\"14px\" font-family=\"Arial\">Rz(x_0)</text><circle cx=\"338.65523437499996\" cy=\"175.0\" r=\"10.0\" /><rect x=\"308.84734374999994\" y=\"255.0\" width=\"59.61578125\" height=\"40\" stroke=\"black\" fill=\"white\" stroke-width=\"1\" /><text x=\"338.65523437499996\" y=\"275.0\" dominant-baseline=\"middle\" text-anchor=\"middle\" font-size=\"14px\" font-family=\"Arial\">Rz(x_0)</text><circle cx=\"418.271015625\" cy=\"225.0\" r=\"10.0\" /><rect x=\"388.463125\" y=\"305.0\" width=\"59.61578125\" height=\"40\" stroke=\"black\" fill=\"white\" stroke-width=\"1\" /><text x=\"418.271015625\" y=\"325.0\" dominant-baseline=\"middle\" text-anchor=\"middle\" font-size=\"14px\" font-family=\"Arial\">Rz(x_0)</text><circle cx=\"497.88679687499996\" cy=\"275.0\" r=\"10.0\" /><rect x=\"468.07890624999993\" y=\"355.0\" width=\"59.61578125\" height=\"40\" stroke=\"black\" fill=\"white\" stroke-width=\"1\" /><text x=\"497.88679687499996\" y=\"375.0\" dominant-baseline=\"middle\" text-anchor=\"middle\" font-size=\"14px\" font-family=\"Arial\">Rz(x_0)</text><circle cx=\"577.502578125\" cy=\"325.0\" r=\"10.0\" /><rect x=\"547.6946875\" y=\"5.0\" width=\"59.61578125\" height=\"40\" stroke=\"black\" fill=\"white\" stroke-width=\"1\" /><text x=\"577.502578125\" y=\"25.0\" dominant-baseline=\"middle\" text-anchor=\"middle\" font-size=\"14px\" font-family=\"Arial\">Rz(x_0)</text><circle cx=\"657.118359375\" cy=\"375.0\" r=\"10.0\" /><rect x=\"627.3104687499999\" y=\"55.0\" width=\"59.61578125\" height=\"40\" stroke=\"black\" fill=\"white\" stroke-width=\"1\" /><text x=\"657.118359375\" y=\"75.0\" dominant-baseline=\"middle\" text-anchor=\"middle\" font-size=\"14px\" font-family=\"Arial\">Rz(x_0)</text><circle cx=\"736.734140625\" cy=\"25.0\" r=\"10.0\" /><rect x=\"706.92625\" y=\"105.0\" width=\"59.61578125\" height=\"40\" stroke=\"black\" fill=\"white\" stroke-width=\"1\" /><text x=\"736.734140625\" y=\"125.0\" dominant-baseline=\"middle\" text-anchor=\"middle\" font-size=\"14px\" font-family=\"Arial\">Rz(x_1)</text><circle cx=\"816.3499218750001\" cy=\"75.0\" r=\"10.0\" /><rect x=\"786.54203125\" y=\"155.0\" width=\"59.61578125\" height=\"40\" stroke=\"black\" fill=\"white\" stroke-width=\"1\" /><text x=\"816.3499218750001\" y=\"175.0\" dominant-baseline=\"middle\" text-anchor=\"middle\" font-size=\"14px\" font-family=\"Arial\">Rz(x_1)</text><circle cx=\"895.9657031250001\" cy=\"125.0\" r=\"10.0\" /><rect x=\"866.1578125000001\" y=\"205.0\" width=\"59.61578125\" height=\"40\" stroke=\"black\" fill=\"white\" stroke-width=\"1\" /><text x=\"895.9657031250001\" y=\"225.0\" dominant-baseline=\"middle\" text-anchor=\"middle\" font-size=\"14px\" font-family=\"Arial\">Rz(x_1)</text><circle cx=\"975.5814843750002\" cy=\"175.0\" r=\"10.0\" /><rect x=\"945.7735937500001\" y=\"255.0\" width=\"59.61578125\" height=\"40\" stroke=\"black\" fill=\"white\" stroke-width=\"1\" /><text x=\"975.5814843750002\" y=\"275.0\" dominant-baseline=\"middle\" text-anchor=\"middle\" font-size=\"14px\" font-family=\"Arial\">Rz(x_1)</text><circle cx=\"1055.1972656250002\" cy=\"225.0\" r=\"10.0\" /><rect x=\"1025.3893750000002\" y=\"305.0\" width=\"59.61578125\" height=\"40\" stroke=\"black\" fill=\"white\" stroke-width=\"1\" /><text x=\"1055.1972656250002\" y=\"325.0\" dominant-baseline=\"middle\" text-anchor=\"middle\" font-size=\"14px\" font-family=\"Arial\">Rz(x_1)</text><circle cx=\"1134.8130468750003\" cy=\"275.0\" r=\"10.0\" /><rect x=\"1105.0051562500003\" y=\"355.0\" width=\"59.61578125\" height=\"40\" stroke=\"black\" fill=\"white\" stroke-width=\"1\" /><text x=\"1134.8130468750003\" y=\"375.0\" dominant-baseline=\"middle\" text-anchor=\"middle\" font-size=\"14px\" font-family=\"Arial\">Rz(x_1)</text><circle cx=\"1214.4288281250003\" cy=\"325.0\" r=\"10.0\" /><rect x=\"1184.6209375000003\" y=\"5.0\" width=\"59.61578125\" height=\"40\" stroke=\"black\" fill=\"white\" stroke-width=\"1\" /><text x=\"1214.4288281250003\" y=\"25.0\" dominant-baseline=\"middle\" text-anchor=\"middle\" font-size=\"14px\" font-family=\"Arial\">Rz(x_1)</text><circle cx=\"1294.0446093750004\" cy=\"375.0\" r=\"10.0\" /><rect x=\"1264.2367187500004\" y=\"55.0\" width=\"59.61578125\" height=\"40\" stroke=\"black\" fill=\"white\" stroke-width=\"1\" /><text x=\"1294.0446093750004\" y=\"75.0\" dominant-baseline=\"middle\" text-anchor=\"middle\" font-size=\"14px\" font-family=\"Arial\">Rz(x_1)</text><circle cx=\"1373.6603906250004\" cy=\"25.0\" r=\"10.0\" /><rect x=\"1343.8525000000004\" y=\"55.0\" width=\"59.61578125\" height=\"40\" stroke=\"black\" fill=\"white\" stroke-width=\"1\" /><text x=\"1373.6603906250004\" y=\"75.0\" dominant-baseline=\"middle\" text-anchor=\"middle\" font-size=\"14px\" font-family=\"Arial\">Rz(x_2)</text><circle cx=\"1453.2761718750005\" cy=\"75.0\" r=\"10.0\" /><rect x=\"1423.4682812500005\" y=\"105.0\" width=\"59.61578125\" height=\"40\" stroke=\"black\" fill=\"white\" stroke-width=\"1\" /><text x=\"1453.2761718750005\" y=\"125.0\" dominant-baseline=\"middle\" text-anchor=\"middle\" font-size=\"14px\" font-family=\"Arial\">Rz(x_2)</text><circle cx=\"1532.8919531250006\" cy=\"125.0\" r=\"10.0\" /><rect x=\"1503.0840625000005\" y=\"155.0\" width=\"59.61578125\" height=\"40\" stroke=\"black\" fill=\"white\" stroke-width=\"1\" /><text x=\"1532.8919531250006\" y=\"175.0\" dominant-baseline=\"middle\" text-anchor=\"middle\" font-size=\"14px\" font-family=\"Arial\">Rz(x_2)</text><circle cx=\"1612.5077343750006\" cy=\"175.0\" r=\"10.0\" /><rect x=\"1582.6998437500006\" y=\"205.0\" width=\"59.61578125\" height=\"40\" stroke=\"black\" fill=\"white\" stroke-width=\"1\" /><text x=\"1612.5077343750006\" y=\"225.0\" dominant-baseline=\"middle\" text-anchor=\"middle\" font-size=\"14px\" font-family=\"Arial\">Rz(x_2)</text><circle cx=\"1692.1235156250007\" cy=\"225.0\" r=\"10.0\" /><rect x=\"1662.3156250000006\" y=\"255.0\" width=\"59.61578125\" height=\"40\" stroke=\"black\" fill=\"white\" stroke-width=\"1\" /><text x=\"1692.1235156250007\" y=\"275.0\" dominant-baseline=\"middle\" text-anchor=\"middle\" font-size=\"14px\" font-family=\"Arial\">Rz(x_2)</text><circle cx=\"1771.7392968750007\" cy=\"275.0\" r=\"10.0\" /><rect x=\"1741.9314062500007\" y=\"305.0\" width=\"59.61578125\" height=\"40\" stroke=\"black\" fill=\"white\" stroke-width=\"1\" /><text x=\"1771.7392968750007\" y=\"325.0\" dominant-baseline=\"middle\" text-anchor=\"middle\" font-size=\"14px\" font-family=\"Arial\">Rz(x_2)</text><circle cx=\"1851.3550781250008\" cy=\"325.0\" r=\"10.0\" /><rect x=\"1821.5471875000007\" y=\"355.0\" width=\"59.61578125\" height=\"40\" stroke=\"black\" fill=\"white\" stroke-width=\"1\" /><text x=\"1851.3550781250008\" y=\"375.0\" dominant-baseline=\"middle\" text-anchor=\"middle\" font-size=\"14px\" font-family=\"Arial\">Rz(x_2)</text><circle cx=\"1930.9708593750008\" cy=\"375.0\" r=\"10.0\" /><rect x=\"1901.1629687500008\" y=\"5.0\" width=\"59.61578125\" height=\"40\" stroke=\"black\" fill=\"white\" stroke-width=\"1\" /><text x=\"1930.9708593750008\" y=\"25.0\" dominant-baseline=\"middle\" text-anchor=\"middle\" font-size=\"14px\" font-family=\"Arial\">Rz(x_2)</text><circle cx=\"2000.7787500000009\" cy=\"375.0\" r=\"10.0\" /><rect x=\"1980.7787500000009\" y=\"5.0\" width=\"40\" height=\"40\" stroke=\"black\" fill=\"white\" stroke-width=\"1\" /><text x=\"2000.7787500000009\" y=\"25.0\" dominant-baseline=\"middle\" text-anchor=\"middle\" font-size=\"18px\" font-family=\"Arial\">X</text><circle cx=\"2060.778750000001\" cy=\"325.0\" r=\"10.0\" /><rect x=\"2040.7787500000009\" y=\"55.0\" width=\"40\" height=\"40\" stroke=\"black\" fill=\"white\" stroke-width=\"1\" /><text x=\"2060.778750000001\" y=\"75.0\" dominant-baseline=\"middle\" text-anchor=\"middle\" font-size=\"18px\" font-family=\"Arial\">X</text><circle cx=\"2120.778750000001\" cy=\"275.0\" r=\"10.0\" /><rect x=\"2100.778750000001\" y=\"105.0\" width=\"40\" height=\"40\" stroke=\"black\" fill=\"white\" stroke-width=\"1\" /><text x=\"2120.778750000001\" y=\"125.0\" dominant-baseline=\"middle\" text-anchor=\"middle\" font-size=\"18px\" font-family=\"Arial\">X</text><circle cx=\"2180.778750000001\" cy=\"225.0\" r=\"10.0\" /><rect x=\"2160.778750000001\" y=\"155.0\" width=\"40\" height=\"40\" stroke=\"black\" fill=\"white\" stroke-width=\"1\" /><text x=\"2180.778750000001\" y=\"175.0\" dominant-baseline=\"middle\" text-anchor=\"middle\" font-size=\"18px\" font-family=\"Arial\">X</text><circle cx=\"2250.5866406250007\" cy=\"25.0\" r=\"10.0\" /><rect x=\"2220.778750000001\" y=\"105.0\" width=\"59.61578125\" height=\"40\" stroke=\"black\" fill=\"white\" stroke-width=\"1\" /><text x=\"2250.5866406250007\" y=\"125.0\" dominant-baseline=\"middle\" text-anchor=\"middle\" font-size=\"14px\" font-family=\"Arial\">Rz(x_3)</text><circle cx=\"2330.2024218750007\" cy=\"75.0\" r=\"10.0\" /><rect x=\"2300.394531250001\" y=\"155.0\" width=\"59.61578125\" height=\"40\" stroke=\"black\" fill=\"white\" stroke-width=\"1\" /><text x=\"2330.2024218750007\" y=\"175.0\" dominant-baseline=\"middle\" text-anchor=\"middle\" font-size=\"14px\" font-family=\"Arial\">Rz(x_3)</text><circle cx=\"2409.8182031250008\" cy=\"125.0\" r=\"10.0\" /><rect x=\"2380.010312500001\" y=\"5.0\" width=\"59.61578125\" height=\"40\" stroke=\"black\" fill=\"white\" stroke-width=\"1\" /><text x=\"2409.8182031250008\" y=\"25.0\" dominant-baseline=\"middle\" text-anchor=\"middle\" font-size=\"14px\" font-family=\"Arial\">Rz(x_3)</text><circle cx=\"2489.433984375001\" cy=\"175.0\" r=\"10.0\" /><rect x=\"2459.626093750001\" y=\"55.0\" width=\"59.61578125\" height=\"40\" stroke=\"black\" fill=\"white\" stroke-width=\"1\" /><text x=\"2489.433984375001\" y=\"75.0\" dominant-baseline=\"middle\" text-anchor=\"middle\" font-size=\"14px\" font-family=\"Arial\">Rz(x_3)</text><circle cx=\"2569.049765625001\" cy=\"25.0\" r=\"10.0\" /><rect x=\"2539.241875000001\" y=\"105.0\" width=\"59.61578125\" height=\"40\" stroke=\"black\" fill=\"white\" stroke-width=\"1\" /><text x=\"2569.049765625001\" y=\"125.0\" dominant-baseline=\"middle\" text-anchor=\"middle\" font-size=\"14px\" font-family=\"Arial\">Rz(x_4)</text><circle cx=\"2648.665546875001\" cy=\"75.0\" r=\"10.0\" /><rect x=\"2618.857656250001\" y=\"155.0\" width=\"59.61578125\" height=\"40\" stroke=\"black\" fill=\"white\" stroke-width=\"1\" /><text x=\"2648.665546875001\" y=\"175.0\" dominant-baseline=\"middle\" text-anchor=\"middle\" font-size=\"14px\" font-family=\"Arial\">Rz(x_4)</text><circle cx=\"2728.281328125001\" cy=\"125.0\" r=\"10.0\" /><rect x=\"2698.473437500001\" y=\"5.0\" width=\"59.61578125\" height=\"40\" stroke=\"black\" fill=\"white\" stroke-width=\"1\" /><text x=\"2728.281328125001\" y=\"25.0\" dominant-baseline=\"middle\" text-anchor=\"middle\" font-size=\"14px\" font-family=\"Arial\">Rz(x_4)</text><circle cx=\"2807.897109375001\" cy=\"175.0\" r=\"10.0\" /><rect x=\"2778.0892187500012\" y=\"55.0\" width=\"59.61578125\" height=\"40\" stroke=\"black\" fill=\"white\" stroke-width=\"1\" /><text x=\"2807.897109375001\" y=\"75.0\" dominant-baseline=\"middle\" text-anchor=\"middle\" font-size=\"14px\" font-family=\"Arial\">Rz(x_4)</text><circle cx=\"2887.512890625001\" cy=\"25.0\" r=\"10.0\" /><rect x=\"2857.7050000000013\" y=\"55.0\" width=\"59.61578125\" height=\"40\" stroke=\"black\" fill=\"white\" stroke-width=\"1\" /><text x=\"2887.512890625001\" y=\"75.0\" dominant-baseline=\"middle\" text-anchor=\"middle\" font-size=\"14px\" font-family=\"Arial\">Rz(x_5)</text><circle cx=\"2967.128671875001\" cy=\"75.0\" r=\"10.0\" /><rect x=\"2937.3207812500013\" y=\"105.0\" width=\"59.61578125\" height=\"40\" stroke=\"black\" fill=\"white\" stroke-width=\"1\" /><text x=\"2967.128671875001\" y=\"125.0\" dominant-baseline=\"middle\" text-anchor=\"middle\" font-size=\"14px\" font-family=\"Arial\">Rz(x_5)</text><circle cx=\"3046.744453125001\" cy=\"125.0\" r=\"10.0\" /><rect x=\"3016.9365625000014\" y=\"155.0\" width=\"59.61578125\" height=\"40\" stroke=\"black\" fill=\"white\" stroke-width=\"1\" /><text x=\"3046.744453125001\" y=\"175.0\" dominant-baseline=\"middle\" text-anchor=\"middle\" font-size=\"14px\" font-family=\"Arial\">Rz(x_5)</text><circle cx=\"3126.3602343750013\" cy=\"175.0\" r=\"10.0\" /><rect x=\"3096.5523437500015\" y=\"5.0\" width=\"59.61578125\" height=\"40\" stroke=\"black\" fill=\"white\" stroke-width=\"1\" /><text x=\"3126.3602343750013\" y=\"25.0\" dominant-baseline=\"middle\" text-anchor=\"middle\" font-size=\"14px\" font-family=\"Arial\">Rz(x_5)</text><circle cx=\"3196.1681250000015\" cy=\"175.0\" r=\"10.0\" /><rect x=\"3176.1681250000015\" y=\"5.0\" width=\"40\" height=\"40\" stroke=\"black\" fill=\"white\" stroke-width=\"1\" /><text x=\"3196.1681250000015\" y=\"25.0\" dominant-baseline=\"middle\" text-anchor=\"middle\" font-size=\"18px\" font-family=\"Arial\">X</text><circle cx=\"3256.1681250000015\" cy=\"125.0\" r=\"10.0\" /><rect x=\"3236.1681250000015\" y=\"55.0\" width=\"40\" height=\"40\" stroke=\"black\" fill=\"white\" stroke-width=\"1\" /><text x=\"3256.1681250000015\" y=\"75.0\" dominant-baseline=\"middle\" text-anchor=\"middle\" font-size=\"18px\" font-family=\"Arial\">X</text><circle cx=\"3325.9760156250013\" cy=\"25.0\" r=\"10.0\" /><rect x=\"3296.1681250000015\" y=\"105.0\" width=\"59.61578125\" height=\"40\" stroke=\"black\" fill=\"white\" stroke-width=\"1\" /><text x=\"3325.9760156250013\" y=\"125.0\" dominant-baseline=\"middle\" text-anchor=\"middle\" font-size=\"14px\" font-family=\"Arial\">Rz(x_6)</text><circle cx=\"3405.5917968750014\" cy=\"75.0\" r=\"10.0\" /><rect x=\"3375.7839062500016\" y=\"155.0\" width=\"59.61578125\" height=\"40\" stroke=\"black\" fill=\"white\" stroke-width=\"1\" /><text x=\"3405.5917968750014\" y=\"175.0\" dominant-baseline=\"middle\" text-anchor=\"middle\" font-size=\"14px\" font-family=\"Arial\">Rz(x_6)</text><circle cx=\"3485.2075781250014\" cy=\"125.0\" r=\"10.0\" /><rect x=\"3455.3996875000016\" y=\"205.0\" width=\"59.61578125\" height=\"40\" stroke=\"black\" fill=\"white\" stroke-width=\"1\" /><text x=\"3485.2075781250014\" y=\"225.0\" dominant-baseline=\"middle\" text-anchor=\"middle\" font-size=\"14px\" font-family=\"Arial\">Rz(x_6)</text><circle cx=\"3564.8233593750015\" cy=\"175.0\" r=\"10.0\" /><rect x=\"3535.0154687500017\" y=\"255.0\" width=\"59.61578125\" height=\"40\" stroke=\"black\" fill=\"white\" stroke-width=\"1\" /><text x=\"3564.8233593750015\" y=\"275.0\" dominant-baseline=\"middle\" text-anchor=\"middle\" font-size=\"14px\" font-family=\"Arial\">Rz(x_6)</text><circle cx=\"3644.4391406250015\" cy=\"225.0\" r=\"10.0\" /><rect x=\"3614.6312500000017\" y=\"305.0\" width=\"59.61578125\" height=\"40\" stroke=\"black\" fill=\"white\" stroke-width=\"1\" /><text x=\"3644.4391406250015\" y=\"325.0\" dominant-baseline=\"middle\" text-anchor=\"middle\" font-size=\"14px\" font-family=\"Arial\">Rz(x_6)</text><circle cx=\"3724.0549218750016\" cy=\"275.0\" r=\"10.0\" /><rect x=\"3694.247031250002\" y=\"355.0\" width=\"59.61578125\" height=\"40\" stroke=\"black\" fill=\"white\" stroke-width=\"1\" /><text x=\"3724.0549218750016\" y=\"375.0\" dominant-baseline=\"middle\" text-anchor=\"middle\" font-size=\"14px\" font-family=\"Arial\">Rz(x_6)</text><circle cx=\"3803.6707031250016\" cy=\"325.0\" r=\"10.0\" /><rect x=\"3773.862812500002\" y=\"5.0\" width=\"59.61578125\" height=\"40\" stroke=\"black\" fill=\"white\" stroke-width=\"1\" /><text x=\"3803.6707031250016\" y=\"25.0\" dominant-baseline=\"middle\" text-anchor=\"middle\" font-size=\"14px\" font-family=\"Arial\">Rz(x_6)</text><circle cx=\"3883.2864843750017\" cy=\"375.0\" r=\"10.0\" /><rect x=\"3853.478593750002\" y=\"55.0\" width=\"59.61578125\" height=\"40\" stroke=\"black\" fill=\"white\" stroke-width=\"1\" /><text x=\"3883.2864843750017\" y=\"75.0\" dominant-baseline=\"middle\" text-anchor=\"middle\" font-size=\"14px\" font-family=\"Arial\">Rz(x_6)</text><circle cx=\"3962.9022656250017\" cy=\"25.0\" r=\"10.0\" /><rect x=\"3933.094375000002\" y=\"105.0\" width=\"59.61578125\" height=\"40\" stroke=\"black\" fill=\"white\" stroke-width=\"1\" /><text x=\"3962.9022656250017\" y=\"125.0\" dominant-baseline=\"middle\" text-anchor=\"middle\" font-size=\"14px\" font-family=\"Arial\">Rz(x_7)</text><circle cx=\"4042.518046875002\" cy=\"75.0\" r=\"10.0\" /><rect x=\"4012.710156250002\" y=\"155.0\" width=\"59.61578125\" height=\"40\" stroke=\"black\" fill=\"white\" stroke-width=\"1\" /><text x=\"4042.518046875002\" y=\"175.0\" dominant-baseline=\"middle\" text-anchor=\"middle\" font-size=\"14px\" font-family=\"Arial\">Rz(x_7)</text><circle cx=\"4122.133828125002\" cy=\"125.0\" r=\"10.0\" /><rect x=\"4092.325937500002\" y=\"205.0\" width=\"59.61578125\" height=\"40\" stroke=\"black\" fill=\"white\" stroke-width=\"1\" /><text x=\"4122.133828125002\" y=\"225.0\" dominant-baseline=\"middle\" text-anchor=\"middle\" font-size=\"14px\" font-family=\"Arial\">Rz(x_7)</text><circle cx=\"4201.749609375002\" cy=\"175.0\" r=\"10.0\" /><rect x=\"4171.941718750002\" y=\"255.0\" width=\"59.61578125\" height=\"40\" stroke=\"black\" fill=\"white\" stroke-width=\"1\" /><text x=\"4201.749609375002\" y=\"275.0\" dominant-baseline=\"middle\" text-anchor=\"middle\" font-size=\"14px\" font-family=\"Arial\">Rz(x_7)</text><circle cx=\"4281.365390625002\" cy=\"225.0\" r=\"10.0\" /><rect x=\"4251.557500000002\" y=\"305.0\" width=\"59.61578125\" height=\"40\" stroke=\"black\" fill=\"white\" stroke-width=\"1\" /><text x=\"4281.365390625002\" y=\"325.0\" dominant-baseline=\"middle\" text-anchor=\"middle\" font-size=\"14px\" font-family=\"Arial\">Rz(x_7)</text><circle cx=\"4360.981171875002\" cy=\"275.0\" r=\"10.0\" /><rect x=\"4331.173281250001\" y=\"355.0\" width=\"59.61578125\" height=\"40\" stroke=\"black\" fill=\"white\" stroke-width=\"1\" /><text x=\"4360.981171875002\" y=\"375.0\" dominant-baseline=\"middle\" text-anchor=\"middle\" font-size=\"14px\" font-family=\"Arial\">Rz(x_7)</text><circle cx=\"4440.596953125001\" cy=\"325.0\" r=\"10.0\" /><rect x=\"4410.789062500001\" y=\"5.0\" width=\"59.61578125\" height=\"40\" stroke=\"black\" fill=\"white\" stroke-width=\"1\" /><text x=\"4440.596953125001\" y=\"25.0\" dominant-baseline=\"middle\" text-anchor=\"middle\" font-size=\"14px\" font-family=\"Arial\">Rz(x_7)</text><circle cx=\"4520.212734375001\" cy=\"375.0\" r=\"10.0\" /><rect x=\"4490.4048437500005\" y=\"55.0\" width=\"59.61578125\" height=\"40\" stroke=\"black\" fill=\"white\" stroke-width=\"1\" /><text x=\"4520.212734375001\" y=\"75.0\" dominant-baseline=\"middle\" text-anchor=\"middle\" font-size=\"14px\" font-family=\"Arial\">Rz(x_7)</text><circle cx=\"4599.828515625\" cy=\"25.0\" r=\"10.0\" /><rect x=\"4570.020625\" y=\"55.0\" width=\"59.61578125\" height=\"40\" stroke=\"black\" fill=\"white\" stroke-width=\"1\" /><text x=\"4599.828515625\" y=\"75.0\" dominant-baseline=\"middle\" text-anchor=\"middle\" font-size=\"14px\" font-family=\"Arial\">Rz(x_8)</text><circle cx=\"4679.444296875\" cy=\"75.0\" r=\"10.0\" /><rect x=\"4649.63640625\" y=\"105.0\" width=\"59.61578125\" height=\"40\" stroke=\"black\" fill=\"white\" stroke-width=\"1\" /><text x=\"4679.444296875\" y=\"125.0\" dominant-baseline=\"middle\" text-anchor=\"middle\" font-size=\"14px\" font-family=\"Arial\">Rz(x_8)</text><circle cx=\"4759.060078125\" cy=\"125.0\" r=\"10.0\" /><rect x=\"4729.252187499999\" y=\"155.0\" width=\"59.61578125\" height=\"40\" stroke=\"black\" fill=\"white\" stroke-width=\"1\" /><text x=\"4759.060078125\" y=\"175.0\" dominant-baseline=\"middle\" text-anchor=\"middle\" font-size=\"14px\" font-family=\"Arial\">Rz(x_8)</text><circle cx=\"4838.675859374999\" cy=\"175.0\" r=\"10.0\" /><rect x=\"4808.867968749999\" y=\"205.0\" width=\"59.61578125\" height=\"40\" stroke=\"black\" fill=\"white\" stroke-width=\"1\" /><text x=\"4838.675859374999\" y=\"225.0\" dominant-baseline=\"middle\" text-anchor=\"middle\" font-size=\"14px\" font-family=\"Arial\">Rz(x_8)</text><circle cx=\"4918.291640624999\" cy=\"225.0\" r=\"10.0\" /><rect x=\"4888.4837499999985\" y=\"255.0\" width=\"59.61578125\" height=\"40\" stroke=\"black\" fill=\"white\" stroke-width=\"1\" /><text x=\"4918.291640624999\" y=\"275.0\" dominant-baseline=\"middle\" text-anchor=\"middle\" font-size=\"14px\" font-family=\"Arial\">Rz(x_8)</text><circle cx=\"4997.907421874998\" cy=\"275.0\" r=\"10.0\" /><rect x=\"4968.099531249998\" y=\"305.0\" width=\"59.61578125\" height=\"40\" stroke=\"black\" fill=\"white\" stroke-width=\"1\" /><text x=\"4997.907421874998\" y=\"325.0\" dominant-baseline=\"middle\" text-anchor=\"middle\" font-size=\"14px\" font-family=\"Arial\">Rz(x_8)</text><circle cx=\"5077.523203124998\" cy=\"325.0\" r=\"10.0\" /><rect x=\"5047.715312499998\" y=\"355.0\" width=\"59.61578125\" height=\"40\" stroke=\"black\" fill=\"white\" stroke-width=\"1\" /><text x=\"5077.523203124998\" y=\"375.0\" dominant-baseline=\"middle\" text-anchor=\"middle\" font-size=\"14px\" font-family=\"Arial\">Rz(x_8)</text><circle cx=\"5157.138984374998\" cy=\"375.0\" r=\"10.0\" /><rect x=\"5127.331093749997\" y=\"5.0\" width=\"59.61578125\" height=\"40\" stroke=\"black\" fill=\"white\" stroke-width=\"1\" /><text x=\"5157.138984374998\" y=\"25.0\" dominant-baseline=\"middle\" text-anchor=\"middle\" font-size=\"14px\" font-family=\"Arial\">Rz(x_8)</text><circle cx=\"5226.946874999997\" cy=\"375.0\" r=\"10.0\" /><rect x=\"5206.946874999997\" y=\"5.0\" width=\"40\" height=\"40\" stroke=\"black\" fill=\"white\" stroke-width=\"1\" /><text x=\"5226.946874999997\" y=\"25.0\" dominant-baseline=\"middle\" text-anchor=\"middle\" font-size=\"18px\" font-family=\"Arial\">X</text><circle cx=\"5286.946874999997\" cy=\"325.0\" r=\"10.0\" /><rect x=\"5266.946874999997\" y=\"55.0\" width=\"40\" height=\"40\" stroke=\"black\" fill=\"white\" stroke-width=\"1\" /><text x=\"5286.946874999997\" y=\"75.0\" dominant-baseline=\"middle\" text-anchor=\"middle\" font-size=\"18px\" font-family=\"Arial\">X</text><circle cx=\"5346.946874999997\" cy=\"275.0\" r=\"10.0\" /><rect x=\"5326.946874999997\" y=\"105.0\" width=\"40\" height=\"40\" stroke=\"black\" fill=\"white\" stroke-width=\"1\" /><text x=\"5346.946874999997\" y=\"125.0\" dominant-baseline=\"middle\" text-anchor=\"middle\" font-size=\"18px\" font-family=\"Arial\">X</text><circle cx=\"5406.946874999997\" cy=\"225.0\" r=\"10.0\" /><rect x=\"5386.946874999997\" y=\"155.0\" width=\"40\" height=\"40\" stroke=\"black\" fill=\"white\" stroke-width=\"1\" /><text x=\"5406.946874999997\" y=\"175.0\" dominant-baseline=\"middle\" text-anchor=\"middle\" font-size=\"18px\" font-family=\"Arial\">X</text><circle cx=\"5476.754765624997\" cy=\"25.0\" r=\"10.0\" /><rect x=\"5446.946874999997\" y=\"105.0\" width=\"59.61578125\" height=\"40\" stroke=\"black\" fill=\"white\" stroke-width=\"1\" /><text x=\"5476.754765624997\" y=\"125.0\" dominant-baseline=\"middle\" text-anchor=\"middle\" font-size=\"14px\" font-family=\"Arial\">Rz(x_9)</text><circle cx=\"5556.370546874997\" cy=\"75.0\" r=\"10.0\" /><rect x=\"5526.5626562499965\" y=\"155.0\" width=\"59.61578125\" height=\"40\" stroke=\"black\" fill=\"white\" stroke-width=\"1\" /><text x=\"5556.370546874997\" y=\"175.0\" dominant-baseline=\"middle\" text-anchor=\"middle\" font-size=\"14px\" font-family=\"Arial\">Rz(x_9)</text><circle cx=\"5635.986328124996\" cy=\"125.0\" r=\"10.0\" /><rect x=\"5606.178437499996\" y=\"5.0\" width=\"59.61578125\" height=\"40\" stroke=\"black\" fill=\"white\" stroke-width=\"1\" /><text x=\"5635.986328124996\" y=\"25.0\" dominant-baseline=\"middle\" text-anchor=\"middle\" font-size=\"14px\" font-family=\"Arial\">Rz(x_9)</text><circle cx=\"5715.602109374996\" cy=\"175.0\" r=\"10.0\" /><rect x=\"5685.794218749996\" y=\"55.0\" width=\"59.61578125\" height=\"40\" stroke=\"black\" fill=\"white\" stroke-width=\"1\" /><text x=\"5715.602109374996\" y=\"75.0\" dominant-baseline=\"middle\" text-anchor=\"middle\" font-size=\"14px\" font-family=\"Arial\">Rz(x_9)</text><circle cx=\"5799.671503906246\" cy=\"25.0\" r=\"10.0\" /><rect x=\"5765.409999999995\" y=\"105.0\" width=\"68.5230078125\" height=\"40\" stroke=\"black\" fill=\"white\" stroke-width=\"1\" /><text x=\"5799.671503906246\" y=\"125.0\" dominant-baseline=\"middle\" text-anchor=\"middle\" font-size=\"14px\" font-family=\"Arial\">Rz(x_10)</text><circle cx=\"5888.194511718745\" cy=\"75.0\" r=\"10.0\" /><rect x=\"5853.933007812495\" y=\"155.0\" width=\"68.5230078125\" height=\"40\" stroke=\"black\" fill=\"white\" stroke-width=\"1\" /><text x=\"5888.194511718745\" y=\"175.0\" dominant-baseline=\"middle\" text-anchor=\"middle\" font-size=\"14px\" font-family=\"Arial\">Rz(x_10)</text><circle cx=\"5976.717519531245\" cy=\"125.0\" r=\"10.0\" /><rect x=\"5942.4560156249945\" y=\"5.0\" width=\"68.5230078125\" height=\"40\" stroke=\"black\" fill=\"white\" stroke-width=\"1\" /><text x=\"5976.717519531245\" y=\"25.0\" dominant-baseline=\"middle\" text-anchor=\"middle\" font-size=\"14px\" font-family=\"Arial\">Rz(x_10)</text><circle cx=\"6065.240527343744\" cy=\"175.0\" r=\"10.0\" /><rect x=\"6030.979023437494\" y=\"55.0\" width=\"68.5230078125\" height=\"40\" stroke=\"black\" fill=\"white\" stroke-width=\"1\" /><text x=\"6065.240527343744\" y=\"75.0\" dominant-baseline=\"middle\" text-anchor=\"middle\" font-size=\"14px\" font-family=\"Arial\">Rz(x_10)</text><circle cx=\"6153.763535156244\" cy=\"25.0\" r=\"10.0\" /><rect x=\"6119.502031249994\" y=\"55.0\" width=\"68.5230078125\" height=\"40\" stroke=\"black\" fill=\"white\" stroke-width=\"1\" /><text x=\"6153.763535156244\" y=\"75.0\" dominant-baseline=\"middle\" text-anchor=\"middle\" font-size=\"14px\" font-family=\"Arial\">Rz(x_11)</text><circle cx=\"6242.286542968744\" cy=\"75.0\" r=\"10.0\" /><rect x=\"6208.025039062493\" y=\"105.0\" width=\"68.5230078125\" height=\"40\" stroke=\"black\" fill=\"white\" stroke-width=\"1\" /><text x=\"6242.286542968744\" y=\"125.0\" dominant-baseline=\"middle\" text-anchor=\"middle\" font-size=\"14px\" font-family=\"Arial\">Rz(x_11)</text><circle cx=\"6330.809550781243\" cy=\"125.0\" r=\"10.0\" /><rect x=\"6296.548046874993\" y=\"155.0\" width=\"68.5230078125\" height=\"40\" stroke=\"black\" fill=\"white\" stroke-width=\"1\" /><text x=\"6330.809550781243\" y=\"175.0\" dominant-baseline=\"middle\" text-anchor=\"middle\" font-size=\"14px\" font-family=\"Arial\">Rz(x_11)</text><circle cx=\"6419.332558593743\" cy=\"175.0\" r=\"10.0\" /><rect x=\"6385.0710546874925\" y=\"5.0\" width=\"68.5230078125\" height=\"40\" stroke=\"black\" fill=\"white\" stroke-width=\"1\" /><text x=\"6419.332558593743\" y=\"25.0\" dominant-baseline=\"middle\" text-anchor=\"middle\" font-size=\"14px\" font-family=\"Arial\">Rz(x_11)</text><circle cx=\"6493.594062499992\" cy=\"175.0\" r=\"10.0\" /><rect x=\"6473.594062499992\" y=\"5.0\" width=\"40\" height=\"40\" stroke=\"black\" fill=\"white\" stroke-width=\"1\" /><text x=\"6493.594062499992\" y=\"25.0\" dominant-baseline=\"middle\" text-anchor=\"middle\" font-size=\"18px\" font-family=\"Arial\">X</text><circle cx=\"6553.594062499992\" cy=\"125.0\" r=\"10.0\" /><rect x=\"6533.594062499992\" y=\"55.0\" width=\"40\" height=\"40\" stroke=\"black\" fill=\"white\" stroke-width=\"1\" /><text x=\"6553.594062499992\" y=\"75.0\" dominant-baseline=\"middle\" text-anchor=\"middle\" font-size=\"18px\" font-family=\"Arial\">X</text><circle cx=\"6627.855566406242\" cy=\"25.0\" r=\"10.0\" /><rect x=\"6593.594062499992\" y=\"105.0\" width=\"68.5230078125\" height=\"40\" stroke=\"black\" fill=\"white\" stroke-width=\"1\" /><text x=\"6627.855566406242\" y=\"125.0\" dominant-baseline=\"middle\" text-anchor=\"middle\" font-size=\"14px\" font-family=\"Arial\">Rz(x_12)</text><circle cx=\"6716.378574218742\" cy=\"75.0\" r=\"10.0\" /><rect x=\"6682.117070312492\" y=\"155.0\" width=\"68.5230078125\" height=\"40\" stroke=\"black\" fill=\"white\" stroke-width=\"1\" /><text x=\"6716.378574218742\" y=\"175.0\" dominant-baseline=\"middle\" text-anchor=\"middle\" font-size=\"14px\" font-family=\"Arial\">Rz(x_12)</text><circle cx=\"6804.901582031242\" cy=\"125.0\" r=\"10.0\" /><rect x=\"6770.640078124991\" y=\"205.0\" width=\"68.5230078125\" height=\"40\" stroke=\"black\" fill=\"white\" stroke-width=\"1\" /><text x=\"6804.901582031242\" y=\"225.0\" dominant-baseline=\"middle\" text-anchor=\"middle\" font-size=\"14px\" font-family=\"Arial\">Rz(x_12)</text><circle cx=\"6893.424589843741\" cy=\"175.0\" r=\"10.0\" /><rect x=\"6859.163085937491\" y=\"255.0\" width=\"68.5230078125\" height=\"40\" stroke=\"black\" fill=\"white\" stroke-width=\"1\" /><text x=\"6893.424589843741\" y=\"275.0\" dominant-baseline=\"middle\" text-anchor=\"middle\" font-size=\"14px\" font-family=\"Arial\">Rz(x_12)</text><circle cx=\"6981.947597656241\" cy=\"225.0\" r=\"10.0\" /><rect x=\"6947.6860937499905\" y=\"305.0\" width=\"68.5230078125\" height=\"40\" stroke=\"black\" fill=\"white\" stroke-width=\"1\" /><text x=\"6981.947597656241\" y=\"325.0\" dominant-baseline=\"middle\" text-anchor=\"middle\" font-size=\"14px\" font-family=\"Arial\">Rz(x_12)</text><circle cx=\"7070.47060546874\" cy=\"275.0\" r=\"10.0\" /><rect x=\"7036.20910156249\" y=\"355.0\" width=\"68.5230078125\" height=\"40\" stroke=\"black\" fill=\"white\" stroke-width=\"1\" /><text x=\"7070.47060546874\" y=\"375.0\" dominant-baseline=\"middle\" text-anchor=\"middle\" font-size=\"14px\" font-family=\"Arial\">Rz(x_12)</text><circle cx=\"7158.99361328124\" cy=\"325.0\" r=\"10.0\" /><rect x=\"7124.73210937499\" y=\"5.0\" width=\"68.5230078125\" height=\"40\" stroke=\"black\" fill=\"white\" stroke-width=\"1\" /><text x=\"7158.99361328124\" y=\"25.0\" dominant-baseline=\"middle\" text-anchor=\"middle\" font-size=\"14px\" font-family=\"Arial\">Rz(x_12)</text><circle cx=\"7247.51662109374\" cy=\"375.0\" r=\"10.0\" /><rect x=\"7213.255117187489\" y=\"55.0\" width=\"68.5230078125\" height=\"40\" stroke=\"black\" fill=\"white\" stroke-width=\"1\" /><text x=\"7247.51662109374\" y=\"75.0\" dominant-baseline=\"middle\" text-anchor=\"middle\" font-size=\"14px\" font-family=\"Arial\">Rz(x_12)</text><circle cx=\"7336.039628906239\" cy=\"25.0\" r=\"10.0\" /><rect x=\"7301.778124999989\" y=\"105.0\" width=\"68.5230078125\" height=\"40\" stroke=\"black\" fill=\"white\" stroke-width=\"1\" /><text x=\"7336.039628906239\" y=\"125.0\" dominant-baseline=\"middle\" text-anchor=\"middle\" font-size=\"14px\" font-family=\"Arial\">Rz(x_13)</text><circle cx=\"7424.562636718739\" cy=\"75.0\" r=\"10.0\" /><rect x=\"7390.3011328124885\" y=\"155.0\" width=\"68.5230078125\" height=\"40\" stroke=\"black\" fill=\"white\" stroke-width=\"1\" /><text x=\"7424.562636718739\" y=\"175.0\" dominant-baseline=\"middle\" text-anchor=\"middle\" font-size=\"14px\" font-family=\"Arial\">Rz(x_13)</text><circle cx=\"7513.085644531238\" cy=\"125.0\" r=\"10.0\" /><rect x=\"7478.824140624988\" y=\"205.0\" width=\"68.5230078125\" height=\"40\" stroke=\"black\" fill=\"white\" stroke-width=\"1\" /><text x=\"7513.085644531238\" y=\"225.0\" dominant-baseline=\"middle\" text-anchor=\"middle\" font-size=\"14px\" font-family=\"Arial\">Rz(x_13)</text><circle cx=\"7601.608652343738\" cy=\"175.0\" r=\"10.0\" /><rect x=\"7567.347148437488\" y=\"255.0\" width=\"68.5230078125\" height=\"40\" stroke=\"black\" fill=\"white\" stroke-width=\"1\" /><text x=\"7601.608652343738\" y=\"275.0\" dominant-baseline=\"middle\" text-anchor=\"middle\" font-size=\"14px\" font-family=\"Arial\">Rz(x_13)</text><circle cx=\"7690.131660156238\" cy=\"225.0\" r=\"10.0\" /><rect x=\"7655.870156249987\" y=\"305.0\" width=\"68.5230078125\" height=\"40\" stroke=\"black\" fill=\"white\" stroke-width=\"1\" /><text x=\"7690.131660156238\" y=\"325.0\" dominant-baseline=\"middle\" text-anchor=\"middle\" font-size=\"14px\" font-family=\"Arial\">Rz(x_13)</text><circle cx=\"7778.654667968737\" cy=\"275.0\" r=\"10.0\" /><rect x=\"7744.393164062487\" y=\"355.0\" width=\"68.5230078125\" height=\"40\" stroke=\"black\" fill=\"white\" stroke-width=\"1\" /><text x=\"7778.654667968737\" y=\"375.0\" dominant-baseline=\"middle\" text-anchor=\"middle\" font-size=\"14px\" font-family=\"Arial\">Rz(x_13)</text><circle cx=\"7867.177675781237\" cy=\"325.0\" r=\"10.0\" /><rect x=\"7832.9161718749865\" y=\"5.0\" width=\"68.5230078125\" height=\"40\" stroke=\"black\" fill=\"white\" stroke-width=\"1\" /><text x=\"7867.177675781237\" y=\"25.0\" dominant-baseline=\"middle\" text-anchor=\"middle\" font-size=\"14px\" font-family=\"Arial\">Rz(x_13)</text><circle cx=\"7955.700683593736\" cy=\"375.0\" r=\"10.0\" /><rect x=\"7921.439179687486\" y=\"55.0\" width=\"68.5230078125\" height=\"40\" stroke=\"black\" fill=\"white\" stroke-width=\"1\" /><text x=\"7955.700683593736\" y=\"75.0\" dominant-baseline=\"middle\" text-anchor=\"middle\" font-size=\"14px\" font-family=\"Arial\">Rz(x_13)</text><circle cx=\"8044.223691406236\" cy=\"25.0\" r=\"10.0\" /><rect x=\"8009.962187499986\" y=\"55.0\" width=\"68.5230078125\" height=\"40\" stroke=\"black\" fill=\"white\" stroke-width=\"1\" /><text x=\"8044.223691406236\" y=\"75.0\" dominant-baseline=\"middle\" text-anchor=\"middle\" font-size=\"14px\" font-family=\"Arial\">Rz(x_14)</text><circle cx=\"8132.746699218736\" cy=\"75.0\" r=\"10.0\" /><rect x=\"8098.485195312485\" y=\"105.0\" width=\"68.5230078125\" height=\"40\" stroke=\"black\" fill=\"white\" stroke-width=\"1\" /><text x=\"8132.746699218736\" y=\"125.0\" dominant-baseline=\"middle\" text-anchor=\"middle\" font-size=\"14px\" font-family=\"Arial\">Rz(x_14)</text><circle cx=\"8221.269707031235\" cy=\"125.0\" r=\"10.0\" /><rect x=\"8187.008203124985\" y=\"155.0\" width=\"68.5230078125\" height=\"40\" stroke=\"black\" fill=\"white\" stroke-width=\"1\" /><text x=\"8221.269707031235\" y=\"175.0\" dominant-baseline=\"middle\" text-anchor=\"middle\" font-size=\"14px\" font-family=\"Arial\">Rz(x_14)</text><circle cx=\"8309.792714843734\" cy=\"175.0\" r=\"10.0\" /><rect x=\"8275.531210937485\" y=\"205.0\" width=\"68.5230078125\" height=\"40\" stroke=\"black\" fill=\"white\" stroke-width=\"1\" /><text x=\"8309.792714843734\" y=\"225.0\" dominant-baseline=\"middle\" text-anchor=\"middle\" font-size=\"14px\" font-family=\"Arial\">Rz(x_14)</text><circle cx=\"8398.315722656234\" cy=\"225.0\" r=\"10.0\" /><rect x=\"8364.054218749985\" y=\"255.0\" width=\"68.5230078125\" height=\"40\" stroke=\"black\" fill=\"white\" stroke-width=\"1\" /><text x=\"8398.315722656234\" y=\"275.0\" dominant-baseline=\"middle\" text-anchor=\"middle\" font-size=\"14px\" font-family=\"Arial\">Rz(x_14)</text><circle cx=\"8486.838730468735\" cy=\"275.0\" r=\"10.0\" /><rect x=\"8452.577226562486\" y=\"305.0\" width=\"68.5230078125\" height=\"40\" stroke=\"black\" fill=\"white\" stroke-width=\"1\" /><text x=\"8486.838730468735\" y=\"325.0\" dominant-baseline=\"middle\" text-anchor=\"middle\" font-size=\"14px\" font-family=\"Arial\">Rz(x_14)</text><circle cx=\"8575.361738281235\" cy=\"325.0\" r=\"10.0\" /><rect x=\"8541.100234374986\" y=\"355.0\" width=\"68.5230078125\" height=\"40\" stroke=\"black\" fill=\"white\" stroke-width=\"1\" /><text x=\"8575.361738281235\" y=\"375.0\" dominant-baseline=\"middle\" text-anchor=\"middle\" font-size=\"14px\" font-family=\"Arial\">Rz(x_14)</text><circle cx=\"8663.884746093736\" cy=\"375.0\" r=\"10.0\" /><rect x=\"8629.623242187487\" y=\"5.0\" width=\"68.5230078125\" height=\"40\" stroke=\"black\" fill=\"white\" stroke-width=\"1\" /><text x=\"8663.884746093736\" y=\"25.0\" dominant-baseline=\"middle\" text-anchor=\"middle\" font-size=\"14px\" font-family=\"Arial\">Rz(x_14)</text><circle cx=\"8738.146249999987\" cy=\"375.0\" r=\"10.0\" /><rect x=\"8718.146249999987\" y=\"5.0\" width=\"40\" height=\"40\" stroke=\"black\" fill=\"white\" stroke-width=\"1\" /><text x=\"8738.146249999987\" y=\"25.0\" dominant-baseline=\"middle\" text-anchor=\"middle\" font-size=\"18px\" font-family=\"Arial\">X</text><circle cx=\"8798.146249999987\" cy=\"325.0\" r=\"10.0\" /><rect x=\"8778.146249999987\" y=\"55.0\" width=\"40\" height=\"40\" stroke=\"black\" fill=\"white\" stroke-width=\"1\" /><text x=\"8798.146249999987\" y=\"75.0\" dominant-baseline=\"middle\" text-anchor=\"middle\" font-size=\"18px\" font-family=\"Arial\">X</text><circle cx=\"8858.146249999987\" cy=\"275.0\" r=\"10.0\" /><rect x=\"8838.146249999987\" y=\"105.0\" width=\"40\" height=\"40\" stroke=\"black\" fill=\"white\" stroke-width=\"1\" /><text x=\"8858.146249999987\" y=\"125.0\" dominant-baseline=\"middle\" text-anchor=\"middle\" font-size=\"18px\" font-family=\"Arial\">X</text><circle cx=\"8918.146249999987\" cy=\"225.0\" r=\"10.0\" /><rect x=\"8898.146249999987\" y=\"155.0\" width=\"40\" height=\"40\" stroke=\"black\" fill=\"white\" stroke-width=\"1\" /><text x=\"8918.146249999987\" y=\"175.0\" dominant-baseline=\"middle\" text-anchor=\"middle\" font-size=\"18px\" font-family=\"Arial\">X</text><circle cx=\"8992.407753906236\" cy=\"25.0\" r=\"10.0\" /><rect x=\"8958.146249999987\" y=\"105.0\" width=\"68.5230078125\" height=\"40\" stroke=\"black\" fill=\"white\" stroke-width=\"1\" /><text x=\"8992.407753906236\" y=\"125.0\" dominant-baseline=\"middle\" text-anchor=\"middle\" font-size=\"14px\" font-family=\"Arial\">Rz(x_15)</text><circle cx=\"9080.930761718737\" cy=\"75.0\" r=\"10.0\" /><rect x=\"9046.669257812488\" y=\"155.0\" width=\"68.5230078125\" height=\"40\" stroke=\"black\" fill=\"white\" stroke-width=\"1\" /><text x=\"9080.930761718737\" y=\"175.0\" dominant-baseline=\"middle\" text-anchor=\"middle\" font-size=\"14px\" font-family=\"Arial\">Rz(x_15)</text><circle cx=\"9169.453769531237\" cy=\"125.0\" r=\"10.0\" /><rect x=\"9135.192265624988\" y=\"5.0\" width=\"68.5230078125\" height=\"40\" stroke=\"black\" fill=\"white\" stroke-width=\"1\" /><text x=\"9169.453769531237\" y=\"25.0\" dominant-baseline=\"middle\" text-anchor=\"middle\" font-size=\"14px\" font-family=\"Arial\">Rz(x_15)</text><circle cx=\"9257.976777343738\" cy=\"175.0\" r=\"10.0\" /><rect x=\"9223.715273437489\" y=\"55.0\" width=\"68.5230078125\" height=\"40\" stroke=\"black\" fill=\"white\" stroke-width=\"1\" /><text x=\"9257.976777343738\" y=\"75.0\" dominant-baseline=\"middle\" text-anchor=\"middle\" font-size=\"14px\" font-family=\"Arial\">Rz(x_15)</text><circle cx=\"9346.499785156238\" cy=\"25.0\" r=\"10.0\" /><rect x=\"9312.238281249989\" y=\"105.0\" width=\"68.5230078125\" height=\"40\" stroke=\"black\" fill=\"white\" stroke-width=\"1\" /><text x=\"9346.499785156238\" y=\"125.0\" dominant-baseline=\"middle\" text-anchor=\"middle\" font-size=\"14px\" font-family=\"Arial\">Rz(x_16)</text><circle cx=\"9435.022792968739\" cy=\"75.0\" r=\"10.0\" /><rect x=\"9400.76128906249\" y=\"155.0\" width=\"68.5230078125\" height=\"40\" stroke=\"black\" fill=\"white\" stroke-width=\"1\" /><text x=\"9435.022792968739\" y=\"175.0\" dominant-baseline=\"middle\" text-anchor=\"middle\" font-size=\"14px\" font-family=\"Arial\">Rz(x_16)</text><circle cx=\"9523.54580078124\" cy=\"125.0\" r=\"10.0\" /><rect x=\"9489.28429687499\" y=\"5.0\" width=\"68.5230078125\" height=\"40\" stroke=\"black\" fill=\"white\" stroke-width=\"1\" /><text x=\"9523.54580078124\" y=\"25.0\" dominant-baseline=\"middle\" text-anchor=\"middle\" font-size=\"14px\" font-family=\"Arial\">Rz(x_16)</text><circle cx=\"9612.06880859374\" cy=\"175.0\" r=\"10.0\" /><rect x=\"9577.80730468749\" y=\"55.0\" width=\"68.5230078125\" height=\"40\" stroke=\"black\" fill=\"white\" stroke-width=\"1\" /><text x=\"9612.06880859374\" y=\"75.0\" dominant-baseline=\"middle\" text-anchor=\"middle\" font-size=\"14px\" font-family=\"Arial\">Rz(x_16)</text><circle cx=\"9700.59181640624\" cy=\"25.0\" r=\"10.0\" /><rect x=\"9666.330312499991\" y=\"55.0\" width=\"68.5230078125\" height=\"40\" stroke=\"black\" fill=\"white\" stroke-width=\"1\" /><text x=\"9700.59181640624\" y=\"75.0\" dominant-baseline=\"middle\" text-anchor=\"middle\" font-size=\"14px\" font-family=\"Arial\">Rz(x_17)</text><circle cx=\"9789.114824218741\" cy=\"75.0\" r=\"10.0\" /><rect x=\"9754.853320312492\" y=\"105.0\" width=\"68.5230078125\" height=\"40\" stroke=\"black\" fill=\"white\" stroke-width=\"1\" /><text x=\"9789.114824218741\" y=\"125.0\" dominant-baseline=\"middle\" text-anchor=\"middle\" font-size=\"14px\" font-family=\"Arial\">Rz(x_17)</text><circle cx=\"9877.637832031241\" cy=\"125.0\" r=\"10.0\" /><rect x=\"9843.376328124992\" y=\"155.0\" width=\"68.5230078125\" height=\"40\" stroke=\"black\" fill=\"white\" stroke-width=\"1\" /><text x=\"9877.637832031241\" y=\"175.0\" dominant-baseline=\"middle\" text-anchor=\"middle\" font-size=\"14px\" font-family=\"Arial\">Rz(x_17)</text><circle cx=\"9966.160839843742\" cy=\"175.0\" r=\"10.0\" /><rect x=\"9931.899335937493\" y=\"5.0\" width=\"68.5230078125\" height=\"40\" stroke=\"black\" fill=\"white\" stroke-width=\"1\" /><text x=\"9966.160839843742\" y=\"25.0\" dominant-baseline=\"middle\" text-anchor=\"middle\" font-size=\"14px\" font-family=\"Arial\">Rz(x_17)</text><circle cx=\"10040.422343749993\" cy=\"175.0\" r=\"10.0\" /><rect x=\"10020.422343749993\" y=\"5.0\" width=\"40\" height=\"40\" stroke=\"black\" fill=\"white\" stroke-width=\"1\" /><text x=\"10040.422343749993\" y=\"25.0\" dominant-baseline=\"middle\" text-anchor=\"middle\" font-size=\"18px\" font-family=\"Arial\">X</text><circle cx=\"10100.422343749993\" cy=\"125.0\" r=\"10.0\" /><rect x=\"10080.422343749993\" y=\"55.0\" width=\"40\" height=\"40\" stroke=\"black\" fill=\"white\" stroke-width=\"1\" /><text x=\"10100.422343749993\" y=\"75.0\" dominant-baseline=\"middle\" text-anchor=\"middle\" font-size=\"18px\" font-family=\"Arial\">X</text><circle cx=\"10174.683847656243\" cy=\"25.0\" r=\"10.0\" /><rect x=\"10140.422343749993\" y=\"105.0\" width=\"68.5230078125\" height=\"40\" stroke=\"black\" fill=\"white\" stroke-width=\"1\" /><text x=\"10174.683847656243\" y=\"125.0\" dominant-baseline=\"middle\" text-anchor=\"middle\" font-size=\"14px\" font-family=\"Arial\">Rz(x_18)</text><circle cx=\"10263.206855468743\" cy=\"75.0\" r=\"10.0\" /><rect x=\"10228.945351562494\" y=\"155.0\" width=\"68.5230078125\" height=\"40\" stroke=\"black\" fill=\"white\" stroke-width=\"1\" /><text x=\"10263.206855468743\" y=\"175.0\" dominant-baseline=\"middle\" text-anchor=\"middle\" font-size=\"14px\" font-family=\"Arial\">Rz(x_18)</text><circle cx=\"10351.729863281244\" cy=\"125.0\" r=\"10.0\" /><rect x=\"10317.468359374994\" y=\"205.0\" width=\"68.5230078125\" height=\"40\" stroke=\"black\" fill=\"white\" stroke-width=\"1\" /><text x=\"10351.729863281244\" y=\"225.0\" dominant-baseline=\"middle\" text-anchor=\"middle\" font-size=\"14px\" font-family=\"Arial\">Rz(x_18)</text><circle cx=\"10440.252871093744\" cy=\"175.0\" r=\"10.0\" /><rect x=\"10405.991367187495\" y=\"255.0\" width=\"68.5230078125\" height=\"40\" stroke=\"black\" fill=\"white\" stroke-width=\"1\" /><text x=\"10440.252871093744\" y=\"275.0\" dominant-baseline=\"middle\" text-anchor=\"middle\" font-size=\"14px\" font-family=\"Arial\">Rz(x_18)</text><circle cx=\"10528.775878906245\" cy=\"225.0\" r=\"10.0\" /><rect x=\"10494.514374999995\" y=\"305.0\" width=\"68.5230078125\" height=\"40\" stroke=\"black\" fill=\"white\" stroke-width=\"1\" /><text x=\"10528.775878906245\" y=\"325.0\" dominant-baseline=\"middle\" text-anchor=\"middle\" font-size=\"14px\" font-family=\"Arial\">Rz(x_18)</text><circle cx=\"10617.298886718745\" cy=\"275.0\" r=\"10.0\" /><rect x=\"10583.037382812496\" y=\"355.0\" width=\"68.5230078125\" height=\"40\" stroke=\"black\" fill=\"white\" stroke-width=\"1\" /><text x=\"10617.298886718745\" y=\"375.0\" dominant-baseline=\"middle\" text-anchor=\"middle\" font-size=\"14px\" font-family=\"Arial\">Rz(x_18)</text><circle cx=\"10705.821894531246\" cy=\"325.0\" r=\"10.0\" /><rect x=\"10671.560390624996\" y=\"5.0\" width=\"68.5230078125\" height=\"40\" stroke=\"black\" fill=\"white\" stroke-width=\"1\" /><text x=\"10705.821894531246\" y=\"25.0\" dominant-baseline=\"middle\" text-anchor=\"middle\" font-size=\"14px\" font-family=\"Arial\">Rz(x_18)</text><circle cx=\"10794.344902343746\" cy=\"375.0\" r=\"10.0\" /><rect x=\"10760.083398437497\" y=\"55.0\" width=\"68.5230078125\" height=\"40\" stroke=\"black\" fill=\"white\" stroke-width=\"1\" /><text x=\"10794.344902343746\" y=\"75.0\" dominant-baseline=\"middle\" text-anchor=\"middle\" font-size=\"14px\" font-family=\"Arial\">Rz(x_18)</text><circle cx=\"10882.867910156247\" cy=\"25.0\" r=\"10.0\" /><rect x=\"10848.606406249997\" y=\"105.0\" width=\"68.5230078125\" height=\"40\" stroke=\"black\" fill=\"white\" stroke-width=\"1\" /><text x=\"10882.867910156247\" y=\"125.0\" dominant-baseline=\"middle\" text-anchor=\"middle\" font-size=\"14px\" font-family=\"Arial\">Rz(x_19)</text><circle cx=\"10971.390917968747\" cy=\"75.0\" r=\"10.0\" /><rect x=\"10937.129414062498\" y=\"155.0\" width=\"68.5230078125\" height=\"40\" stroke=\"black\" fill=\"white\" stroke-width=\"1\" /><text x=\"10971.390917968747\" y=\"175.0\" dominant-baseline=\"middle\" text-anchor=\"middle\" font-size=\"14px\" font-family=\"Arial\">Rz(x_19)</text><circle cx=\"11059.913925781248\" cy=\"125.0\" r=\"10.0\" /><rect x=\"11025.652421874998\" y=\"205.0\" width=\"68.5230078125\" height=\"40\" stroke=\"black\" fill=\"white\" stroke-width=\"1\" /><text x=\"11059.913925781248\" y=\"225.0\" dominant-baseline=\"middle\" text-anchor=\"middle\" font-size=\"14px\" font-family=\"Arial\">Rz(x_19)</text><circle cx=\"11148.436933593748\" cy=\"175.0\" r=\"10.0\" /><rect x=\"11114.175429687499\" y=\"255.0\" width=\"68.5230078125\" height=\"40\" stroke=\"black\" fill=\"white\" stroke-width=\"1\" /><text x=\"11148.436933593748\" y=\"275.0\" dominant-baseline=\"middle\" text-anchor=\"middle\" font-size=\"14px\" font-family=\"Arial\">Rz(x_19)</text><circle cx=\"11236.959941406249\" cy=\"225.0\" r=\"10.0\" /><rect x=\"11202.6984375\" y=\"305.0\" width=\"68.5230078125\" height=\"40\" stroke=\"black\" fill=\"white\" stroke-width=\"1\" /><text x=\"11236.959941406249\" y=\"325.0\" dominant-baseline=\"middle\" text-anchor=\"middle\" font-size=\"14px\" font-family=\"Arial\">Rz(x_19)</text><circle cx=\"11325.48294921875\" cy=\"275.0\" r=\"10.0\" /><rect x=\"11291.2214453125\" y=\"355.0\" width=\"68.5230078125\" height=\"40\" stroke=\"black\" fill=\"white\" stroke-width=\"1\" /><text x=\"11325.48294921875\" y=\"375.0\" dominant-baseline=\"middle\" text-anchor=\"middle\" font-size=\"14px\" font-family=\"Arial\">Rz(x_19)</text><circle cx=\"11414.00595703125\" cy=\"325.0\" r=\"10.0\" /><rect x=\"11379.744453125\" y=\"5.0\" width=\"68.5230078125\" height=\"40\" stroke=\"black\" fill=\"white\" stroke-width=\"1\" /><text x=\"11414.00595703125\" y=\"25.0\" dominant-baseline=\"middle\" text-anchor=\"middle\" font-size=\"14px\" font-family=\"Arial\">Rz(x_19)</text><circle cx=\"11502.52896484375\" cy=\"375.0\" r=\"10.0\" /><rect x=\"11468.2674609375\" y=\"55.0\" width=\"68.5230078125\" height=\"40\" stroke=\"black\" fill=\"white\" stroke-width=\"1\" /><text x=\"11502.52896484375\" y=\"75.0\" dominant-baseline=\"middle\" text-anchor=\"middle\" font-size=\"14px\" font-family=\"Arial\">Rz(x_19)</text><circle cx=\"11591.05197265625\" cy=\"25.0\" r=\"10.0\" /><rect x=\"11556.790468750001\" y=\"55.0\" width=\"68.5230078125\" height=\"40\" stroke=\"black\" fill=\"white\" stroke-width=\"1\" /><text x=\"11591.05197265625\" y=\"75.0\" dominant-baseline=\"middle\" text-anchor=\"middle\" font-size=\"14px\" font-family=\"Arial\">Rz(x_20)</text><circle cx=\"11679.574980468751\" cy=\"75.0\" r=\"10.0\" /><rect x=\"11645.313476562502\" y=\"105.0\" width=\"68.5230078125\" height=\"40\" stroke=\"black\" fill=\"white\" stroke-width=\"1\" /><text x=\"11679.574980468751\" y=\"125.0\" dominant-baseline=\"middle\" text-anchor=\"middle\" font-size=\"14px\" font-family=\"Arial\">Rz(x_20)</text><circle cx=\"11768.097988281252\" cy=\"125.0\" r=\"10.0\" /><rect x=\"11733.836484375002\" y=\"155.0\" width=\"68.5230078125\" height=\"40\" stroke=\"black\" fill=\"white\" stroke-width=\"1\" /><text x=\"11768.097988281252\" y=\"175.0\" dominant-baseline=\"middle\" text-anchor=\"middle\" font-size=\"14px\" font-family=\"Arial\">Rz(x_20)</text><circle cx=\"11856.620996093752\" cy=\"175.0\" r=\"10.0\" /><rect x=\"11822.359492187503\" y=\"205.0\" width=\"68.5230078125\" height=\"40\" stroke=\"black\" fill=\"white\" stroke-width=\"1\" /><text x=\"11856.620996093752\" y=\"225.0\" dominant-baseline=\"middle\" text-anchor=\"middle\" font-size=\"14px\" font-family=\"Arial\">Rz(x_20)</text><circle cx=\"11945.144003906253\" cy=\"225.0\" r=\"10.0\" /><rect x=\"11910.882500000003\" y=\"255.0\" width=\"68.5230078125\" height=\"40\" stroke=\"black\" fill=\"white\" stroke-width=\"1\" /><text x=\"11945.144003906253\" y=\"275.0\" dominant-baseline=\"middle\" text-anchor=\"middle\" font-size=\"14px\" font-family=\"Arial\">Rz(x_20)</text><circle cx=\"12033.667011718753\" cy=\"275.0\" r=\"10.0\" /><rect x=\"11999.405507812504\" y=\"305.0\" width=\"68.5230078125\" height=\"40\" stroke=\"black\" fill=\"white\" stroke-width=\"1\" /><text x=\"12033.667011718753\" y=\"325.0\" dominant-baseline=\"middle\" text-anchor=\"middle\" font-size=\"14px\" font-family=\"Arial\">Rz(x_20)</text><circle cx=\"12122.190019531254\" cy=\"325.0\" r=\"10.0\" /><rect x=\"12087.928515625004\" y=\"355.0\" width=\"68.5230078125\" height=\"40\" stroke=\"black\" fill=\"white\" stroke-width=\"1\" /><text x=\"12122.190019531254\" y=\"375.0\" dominant-baseline=\"middle\" text-anchor=\"middle\" font-size=\"14px\" font-family=\"Arial\">Rz(x_20)</text><circle cx=\"12210.713027343754\" cy=\"375.0\" r=\"10.0\" /><rect x=\"12176.451523437505\" y=\"5.0\" width=\"68.5230078125\" height=\"40\" stroke=\"black\" fill=\"white\" stroke-width=\"1\" /><text x=\"12210.713027343754\" y=\"25.0\" dominant-baseline=\"middle\" text-anchor=\"middle\" font-size=\"14px\" font-family=\"Arial\">Rz(x_20)</text><circle cx=\"12284.974531250005\" cy=\"375.0\" r=\"10.0\" /><rect x=\"12264.974531250005\" y=\"5.0\" width=\"40\" height=\"40\" stroke=\"black\" fill=\"white\" stroke-width=\"1\" /><text x=\"12284.974531250005\" y=\"25.0\" dominant-baseline=\"middle\" text-anchor=\"middle\" font-size=\"18px\" font-family=\"Arial\">X</text><circle cx=\"12344.974531250005\" cy=\"325.0\" r=\"10.0\" /><rect x=\"12324.974531250005\" y=\"55.0\" width=\"40\" height=\"40\" stroke=\"black\" fill=\"white\" stroke-width=\"1\" /><text x=\"12344.974531250005\" y=\"75.0\" dominant-baseline=\"middle\" text-anchor=\"middle\" font-size=\"18px\" font-family=\"Arial\">X</text><circle cx=\"12404.974531250005\" cy=\"275.0\" r=\"10.0\" /><rect x=\"12384.974531250005\" y=\"105.0\" width=\"40\" height=\"40\" stroke=\"black\" fill=\"white\" stroke-width=\"1\" /><text x=\"12404.974531250005\" y=\"125.0\" dominant-baseline=\"middle\" text-anchor=\"middle\" font-size=\"18px\" font-family=\"Arial\">X</text><circle cx=\"12464.974531250005\" cy=\"225.0\" r=\"10.0\" /><rect x=\"12444.974531250005\" y=\"155.0\" width=\"40\" height=\"40\" stroke=\"black\" fill=\"white\" stroke-width=\"1\" /><text x=\"12464.974531250005\" y=\"175.0\" dominant-baseline=\"middle\" text-anchor=\"middle\" font-size=\"18px\" font-family=\"Arial\">X</text><circle cx=\"12539.236035156255\" cy=\"25.0\" r=\"10.0\" /><rect x=\"12504.974531250005\" y=\"105.0\" width=\"68.5230078125\" height=\"40\" stroke=\"black\" fill=\"white\" stroke-width=\"1\" /><text x=\"12539.236035156255\" y=\"125.0\" dominant-baseline=\"middle\" text-anchor=\"middle\" font-size=\"14px\" font-family=\"Arial\">Rz(x_21)</text><circle cx=\"12627.759042968755\" cy=\"75.0\" r=\"10.0\" /><rect x=\"12593.497539062506\" y=\"155.0\" width=\"68.5230078125\" height=\"40\" stroke=\"black\" fill=\"white\" stroke-width=\"1\" /><text x=\"12627.759042968755\" y=\"175.0\" dominant-baseline=\"middle\" text-anchor=\"middle\" font-size=\"14px\" font-family=\"Arial\">Rz(x_21)</text><circle cx=\"12716.282050781256\" cy=\"125.0\" r=\"10.0\" /><rect x=\"12682.020546875006\" y=\"5.0\" width=\"68.5230078125\" height=\"40\" stroke=\"black\" fill=\"white\" stroke-width=\"1\" /><text x=\"12716.282050781256\" y=\"25.0\" dominant-baseline=\"middle\" text-anchor=\"middle\" font-size=\"14px\" font-family=\"Arial\">Rz(x_21)</text><circle cx=\"12804.805058593756\" cy=\"175.0\" r=\"10.0\" /><rect x=\"12770.543554687507\" y=\"55.0\" width=\"68.5230078125\" height=\"40\" stroke=\"black\" fill=\"white\" stroke-width=\"1\" /><text x=\"12804.805058593756\" y=\"75.0\" dominant-baseline=\"middle\" text-anchor=\"middle\" font-size=\"14px\" font-family=\"Arial\">Rz(x_21)</text><circle cx=\"12893.328066406257\" cy=\"25.0\" r=\"10.0\" /><rect x=\"12859.066562500007\" y=\"105.0\" width=\"68.5230078125\" height=\"40\" stroke=\"black\" fill=\"white\" stroke-width=\"1\" /><text x=\"12893.328066406257\" y=\"125.0\" dominant-baseline=\"middle\" text-anchor=\"middle\" font-size=\"14px\" font-family=\"Arial\">Rz(x_22)</text><circle cx=\"12981.851074218757\" cy=\"75.0\" r=\"10.0\" /><rect x=\"12947.589570312508\" y=\"155.0\" width=\"68.5230078125\" height=\"40\" stroke=\"black\" fill=\"white\" stroke-width=\"1\" /><text x=\"12981.851074218757\" y=\"175.0\" dominant-baseline=\"middle\" text-anchor=\"middle\" font-size=\"14px\" font-family=\"Arial\">Rz(x_22)</text><circle cx=\"13070.374082031258\" cy=\"125.0\" r=\"10.0\" /><rect x=\"13036.112578125008\" y=\"5.0\" width=\"68.5230078125\" height=\"40\" stroke=\"black\" fill=\"white\" stroke-width=\"1\" /><text x=\"13070.374082031258\" y=\"25.0\" dominant-baseline=\"middle\" text-anchor=\"middle\" font-size=\"14px\" font-family=\"Arial\">Rz(x_22)</text><circle cx=\"13158.897089843758\" cy=\"175.0\" r=\"10.0\" /><rect x=\"13124.635585937509\" y=\"55.0\" width=\"68.5230078125\" height=\"40\" stroke=\"black\" fill=\"white\" stroke-width=\"1\" /><text x=\"13158.897089843758\" y=\"75.0\" dominant-baseline=\"middle\" text-anchor=\"middle\" font-size=\"14px\" font-family=\"Arial\">Rz(x_22)</text><circle cx=\"13247.420097656259\" cy=\"25.0\" r=\"10.0\" /><rect x=\"13213.15859375001\" y=\"55.0\" width=\"68.5230078125\" height=\"40\" stroke=\"black\" fill=\"white\" stroke-width=\"1\" /><text x=\"13247.420097656259\" y=\"75.0\" dominant-baseline=\"middle\" text-anchor=\"middle\" font-size=\"14px\" font-family=\"Arial\">Rz(x_23)</text><circle cx=\"13335.94310546876\" cy=\"75.0\" r=\"10.0\" /><rect x=\"13301.68160156251\" y=\"105.0\" width=\"68.5230078125\" height=\"40\" stroke=\"black\" fill=\"white\" stroke-width=\"1\" /><text x=\"13335.94310546876\" y=\"125.0\" dominant-baseline=\"middle\" text-anchor=\"middle\" font-size=\"14px\" font-family=\"Arial\">Rz(x_23)</text><circle cx=\"13424.46611328126\" cy=\"125.0\" r=\"10.0\" /><rect x=\"13390.20460937501\" y=\"155.0\" width=\"68.5230078125\" height=\"40\" stroke=\"black\" fill=\"white\" stroke-width=\"1\" /><text x=\"13424.46611328126\" y=\"175.0\" dominant-baseline=\"middle\" text-anchor=\"middle\" font-size=\"14px\" font-family=\"Arial\">Rz(x_23)</text><circle cx=\"13512.98912109376\" cy=\"175.0\" r=\"10.0\" /><rect x=\"13478.727617187511\" y=\"5.0\" width=\"68.5230078125\" height=\"40\" stroke=\"black\" fill=\"white\" stroke-width=\"1\" /><text x=\"13512.98912109376\" y=\"25.0\" dominant-baseline=\"middle\" text-anchor=\"middle\" font-size=\"14px\" font-family=\"Arial\">Rz(x_23)</text><circle cx=\"13587.250625000011\" cy=\"175.0\" r=\"10.0\" /><rect x=\"13567.250625000011\" y=\"5.0\" width=\"40\" height=\"40\" stroke=\"black\" fill=\"white\" stroke-width=\"1\" /><text x=\"13587.250625000011\" y=\"25.0\" dominant-baseline=\"middle\" text-anchor=\"middle\" font-size=\"18px\" font-family=\"Arial\">X</text><circle cx=\"13647.250625000011\" cy=\"125.0\" r=\"10.0\" /><rect x=\"13627.250625000011\" y=\"55.0\" width=\"40\" height=\"40\" stroke=\"black\" fill=\"white\" stroke-width=\"1\" /><text x=\"13647.250625000011\" y=\"75.0\" dominant-baseline=\"middle\" text-anchor=\"middle\" font-size=\"18px\" font-family=\"Arial\">X</text><circle cx=\"13721.51212890626\" cy=\"25.0\" r=\"10.0\" /><rect x=\"13687.250625000011\" y=\"105.0\" width=\"68.5230078125\" height=\"40\" stroke=\"black\" fill=\"white\" stroke-width=\"1\" /><text x=\"13721.51212890626\" y=\"125.0\" dominant-baseline=\"middle\" text-anchor=\"middle\" font-size=\"14px\" font-family=\"Arial\">Rz(x_24)</text><circle cx=\"13810.035136718761\" cy=\"75.0\" r=\"10.0\" /><rect x=\"13775.773632812512\" y=\"155.0\" width=\"68.5230078125\" height=\"40\" stroke=\"black\" fill=\"white\" stroke-width=\"1\" /><text x=\"13810.035136718761\" y=\"175.0\" dominant-baseline=\"middle\" text-anchor=\"middle\" font-size=\"14px\" font-family=\"Arial\">Rz(x_24)</text><circle cx=\"13898.558144531262\" cy=\"125.0\" r=\"10.0\" /><rect x=\"13864.296640625013\" y=\"205.0\" width=\"68.5230078125\" height=\"40\" stroke=\"black\" fill=\"white\" stroke-width=\"1\" /><text x=\"13898.558144531262\" y=\"225.0\" dominant-baseline=\"middle\" text-anchor=\"middle\" font-size=\"14px\" font-family=\"Arial\">Rz(x_24)</text><circle cx=\"13987.081152343762\" cy=\"175.0\" r=\"10.0\" /><rect x=\"13952.819648437513\" y=\"255.0\" width=\"68.5230078125\" height=\"40\" stroke=\"black\" fill=\"white\" stroke-width=\"1\" /><text x=\"13987.081152343762\" y=\"275.0\" dominant-baseline=\"middle\" text-anchor=\"middle\" font-size=\"14px\" font-family=\"Arial\">Rz(x_24)</text><circle cx=\"14075.604160156263\" cy=\"225.0\" r=\"10.0\" /><rect x=\"14041.342656250014\" y=\"305.0\" width=\"68.5230078125\" height=\"40\" stroke=\"black\" fill=\"white\" stroke-width=\"1\" /><text x=\"14075.604160156263\" y=\"325.0\" dominant-baseline=\"middle\" text-anchor=\"middle\" font-size=\"14px\" font-family=\"Arial\">Rz(x_24)</text><circle cx=\"14164.127167968763\" cy=\"275.0\" r=\"10.0\" /><rect x=\"14129.865664062514\" y=\"355.0\" width=\"68.5230078125\" height=\"40\" stroke=\"black\" fill=\"white\" stroke-width=\"1\" /><text x=\"14164.127167968763\" y=\"375.0\" dominant-baseline=\"middle\" text-anchor=\"middle\" font-size=\"14px\" font-family=\"Arial\">Rz(x_24)</text><circle cx=\"14252.650175781264\" cy=\"325.0\" r=\"10.0\" /><rect x=\"14218.388671875015\" y=\"5.0\" width=\"68.5230078125\" height=\"40\" stroke=\"black\" fill=\"white\" stroke-width=\"1\" /><text x=\"14252.650175781264\" y=\"25.0\" dominant-baseline=\"middle\" text-anchor=\"middle\" font-size=\"14px\" font-family=\"Arial\">Rz(x_24)</text><circle cx=\"14341.173183593764\" cy=\"375.0\" r=\"10.0\" /><rect x=\"14306.911679687515\" y=\"55.0\" width=\"68.5230078125\" height=\"40\" stroke=\"black\" fill=\"white\" stroke-width=\"1\" /><text x=\"14341.173183593764\" y=\"75.0\" dominant-baseline=\"middle\" text-anchor=\"middle\" font-size=\"14px\" font-family=\"Arial\">Rz(x_24)</text><circle cx=\"14429.696191406265\" cy=\"25.0\" r=\"10.0\" /><rect x=\"14395.434687500016\" y=\"105.0\" width=\"68.5230078125\" height=\"40\" stroke=\"black\" fill=\"white\" stroke-width=\"1\" /><text x=\"14429.696191406265\" y=\"125.0\" dominant-baseline=\"middle\" text-anchor=\"middle\" font-size=\"14px\" font-family=\"Arial\">Rz(x_25)</text><circle cx=\"14518.219199218765\" cy=\"75.0\" r=\"10.0\" /><rect x=\"14483.957695312516\" y=\"155.0\" width=\"68.5230078125\" height=\"40\" stroke=\"black\" fill=\"white\" stroke-width=\"1\" /><text x=\"14518.219199218765\" y=\"175.0\" dominant-baseline=\"middle\" text-anchor=\"middle\" font-size=\"14px\" font-family=\"Arial\">Rz(x_25)</text><circle cx=\"14606.742207031266\" cy=\"125.0\" r=\"10.0\" /><rect x=\"14572.480703125017\" y=\"205.0\" width=\"68.5230078125\" height=\"40\" stroke=\"black\" fill=\"white\" stroke-width=\"1\" /><text x=\"14606.742207031266\" y=\"225.0\" dominant-baseline=\"middle\" text-anchor=\"middle\" font-size=\"14px\" font-family=\"Arial\">Rz(x_25)</text><circle cx=\"14695.265214843766\" cy=\"175.0\" r=\"10.0\" /><rect x=\"14661.003710937517\" y=\"255.0\" width=\"68.5230078125\" height=\"40\" stroke=\"black\" fill=\"white\" stroke-width=\"1\" /><text x=\"14695.265214843766\" y=\"275.0\" dominant-baseline=\"middle\" text-anchor=\"middle\" font-size=\"14px\" font-family=\"Arial\">Rz(x_25)</text><circle cx=\"14783.788222656267\" cy=\"225.0\" r=\"10.0\" /><rect x=\"14749.526718750018\" y=\"305.0\" width=\"68.5230078125\" height=\"40\" stroke=\"black\" fill=\"white\" stroke-width=\"1\" /><text x=\"14783.788222656267\" y=\"325.0\" dominant-baseline=\"middle\" text-anchor=\"middle\" font-size=\"14px\" font-family=\"Arial\">Rz(x_25)</text><circle cx=\"14872.311230468767\" cy=\"275.0\" r=\"10.0\" /><rect x=\"14838.049726562518\" y=\"355.0\" width=\"68.5230078125\" height=\"40\" stroke=\"black\" fill=\"white\" stroke-width=\"1\" /><text x=\"14872.311230468767\" y=\"375.0\" dominant-baseline=\"middle\" text-anchor=\"middle\" font-size=\"14px\" font-family=\"Arial\">Rz(x_25)</text><circle cx=\"14960.834238281268\" cy=\"325.0\" r=\"10.0\" /><rect x=\"14926.572734375019\" y=\"5.0\" width=\"68.5230078125\" height=\"40\" stroke=\"black\" fill=\"white\" stroke-width=\"1\" /><text x=\"14960.834238281268\" y=\"25.0\" dominant-baseline=\"middle\" text-anchor=\"middle\" font-size=\"14px\" font-family=\"Arial\">Rz(x_25)</text><circle cx=\"15049.357246093768\" cy=\"375.0\" r=\"10.0\" /><rect x=\"15015.09574218752\" y=\"55.0\" width=\"68.5230078125\" height=\"40\" stroke=\"black\" fill=\"white\" stroke-width=\"1\" /><text x=\"15049.357246093768\" y=\"75.0\" dominant-baseline=\"middle\" text-anchor=\"middle\" font-size=\"14px\" font-family=\"Arial\">Rz(x_25)</text><circle cx=\"15137.880253906269\" cy=\"25.0\" r=\"10.0\" /><rect x=\"15103.61875000002\" y=\"55.0\" width=\"68.5230078125\" height=\"40\" stroke=\"black\" fill=\"white\" stroke-width=\"1\" /><text x=\"15137.880253906269\" y=\"75.0\" dominant-baseline=\"middle\" text-anchor=\"middle\" font-size=\"14px\" font-family=\"Arial\">Rz(x_26)</text><circle cx=\"15226.40326171877\" cy=\"75.0\" r=\"10.0\" /><rect x=\"15192.14175781252\" y=\"105.0\" width=\"68.5230078125\" height=\"40\" stroke=\"black\" fill=\"white\" stroke-width=\"1\" /><text x=\"15226.40326171877\" y=\"125.0\" dominant-baseline=\"middle\" text-anchor=\"middle\" font-size=\"14px\" font-family=\"Arial\">Rz(x_26)</text><circle cx=\"15314.92626953127\" cy=\"125.0\" r=\"10.0\" /><rect x=\"15280.66476562502\" y=\"155.0\" width=\"68.5230078125\" height=\"40\" stroke=\"black\" fill=\"white\" stroke-width=\"1\" /><text x=\"15314.92626953127\" y=\"175.0\" dominant-baseline=\"middle\" text-anchor=\"middle\" font-size=\"14px\" font-family=\"Arial\">Rz(x_26)</text><circle cx=\"15403.44927734377\" cy=\"175.0\" r=\"10.0\" /><rect x=\"15369.187773437521\" y=\"205.0\" width=\"68.5230078125\" height=\"40\" stroke=\"black\" fill=\"white\" stroke-width=\"1\" /><text x=\"15403.44927734377\" y=\"225.0\" dominant-baseline=\"middle\" text-anchor=\"middle\" font-size=\"14px\" font-family=\"Arial\">Rz(x_26)</text><circle cx=\"15491.972285156271\" cy=\"225.0\" r=\"10.0\" /><rect x=\"15457.710781250022\" y=\"255.0\" width=\"68.5230078125\" height=\"40\" stroke=\"black\" fill=\"white\" stroke-width=\"1\" /><text x=\"15491.972285156271\" y=\"275.0\" dominant-baseline=\"middle\" text-anchor=\"middle\" font-size=\"14px\" font-family=\"Arial\">Rz(x_26)</text><circle cx=\"15580.495292968772\" cy=\"275.0\" r=\"10.0\" /><rect x=\"15546.233789062522\" y=\"305.0\" width=\"68.5230078125\" height=\"40\" stroke=\"black\" fill=\"white\" stroke-width=\"1\" /><text x=\"15580.495292968772\" y=\"325.0\" dominant-baseline=\"middle\" text-anchor=\"middle\" font-size=\"14px\" font-family=\"Arial\">Rz(x_26)</text><circle cx=\"15669.018300781272\" cy=\"325.0\" r=\"10.0\" /><rect x=\"15634.756796875023\" y=\"355.0\" width=\"68.5230078125\" height=\"40\" stroke=\"black\" fill=\"white\" stroke-width=\"1\" /><text x=\"15669.018300781272\" y=\"375.0\" dominant-baseline=\"middle\" text-anchor=\"middle\" font-size=\"14px\" font-family=\"Arial\">Rz(x_26)</text><circle cx=\"15757.541308593773\" cy=\"375.0\" r=\"10.0\" /><rect x=\"15723.279804687523\" y=\"5.0\" width=\"68.5230078125\" height=\"40\" stroke=\"black\" fill=\"white\" stroke-width=\"1\" /><text x=\"15757.541308593773\" y=\"25.0\" dominant-baseline=\"middle\" text-anchor=\"middle\" font-size=\"14px\" font-family=\"Arial\">Rz(x_26)</text><circle cx=\"15831.802812500024\" cy=\"375.0\" r=\"10.0\" /><rect x=\"15811.802812500024\" y=\"5.0\" width=\"40\" height=\"40\" stroke=\"black\" fill=\"white\" stroke-width=\"1\" /><text x=\"15831.802812500024\" y=\"25.0\" dominant-baseline=\"middle\" text-anchor=\"middle\" font-size=\"18px\" font-family=\"Arial\">X</text><circle cx=\"15891.802812500024\" cy=\"325.0\" r=\"10.0\" /><rect x=\"15871.802812500024\" y=\"55.0\" width=\"40\" height=\"40\" stroke=\"black\" fill=\"white\" stroke-width=\"1\" /><text x=\"15891.802812500024\" y=\"75.0\" dominant-baseline=\"middle\" text-anchor=\"middle\" font-size=\"18px\" font-family=\"Arial\">X</text><circle cx=\"15951.802812500024\" cy=\"275.0\" r=\"10.0\" /><rect x=\"15931.802812500024\" y=\"105.0\" width=\"40\" height=\"40\" stroke=\"black\" fill=\"white\" stroke-width=\"1\" /><text x=\"15951.802812500024\" y=\"125.0\" dominant-baseline=\"middle\" text-anchor=\"middle\" font-size=\"18px\" font-family=\"Arial\">X</text><circle cx=\"16011.802812500024\" cy=\"225.0\" r=\"10.0\" /><rect x=\"15991.802812500024\" y=\"155.0\" width=\"40\" height=\"40\" stroke=\"black\" fill=\"white\" stroke-width=\"1\" /><text x=\"16011.802812500024\" y=\"175.0\" dominant-baseline=\"middle\" text-anchor=\"middle\" font-size=\"18px\" font-family=\"Arial\">X</text><circle cx=\"16086.064316406273\" cy=\"25.0\" r=\"10.0\" /><rect x=\"16051.802812500024\" y=\"105.0\" width=\"68.5230078125\" height=\"40\" stroke=\"black\" fill=\"white\" stroke-width=\"1\" /><text x=\"16086.064316406273\" y=\"125.0\" dominant-baseline=\"middle\" text-anchor=\"middle\" font-size=\"14px\" font-family=\"Arial\">Rz(x_27)</text><circle cx=\"16174.587324218774\" cy=\"75.0\" r=\"10.0\" /><rect x=\"16140.325820312524\" y=\"155.0\" width=\"68.5230078125\" height=\"40\" stroke=\"black\" fill=\"white\" stroke-width=\"1\" /><text x=\"16174.587324218774\" y=\"175.0\" dominant-baseline=\"middle\" text-anchor=\"middle\" font-size=\"14px\" font-family=\"Arial\">Rz(x_27)</text><circle cx=\"16263.110332031274\" cy=\"125.0\" r=\"10.0\" /><rect x=\"16228.848828125025\" y=\"5.0\" width=\"68.5230078125\" height=\"40\" stroke=\"black\" fill=\"white\" stroke-width=\"1\" /><text x=\"16263.110332031274\" y=\"25.0\" dominant-baseline=\"middle\" text-anchor=\"middle\" font-size=\"14px\" font-family=\"Arial\">Rz(x_27)</text><circle cx=\"16351.633339843775\" cy=\"175.0\" r=\"10.0\" /><rect x=\"16317.371835937525\" y=\"55.0\" width=\"68.5230078125\" height=\"40\" stroke=\"black\" fill=\"white\" stroke-width=\"1\" /><text x=\"16351.633339843775\" y=\"75.0\" dominant-baseline=\"middle\" text-anchor=\"middle\" font-size=\"14px\" font-family=\"Arial\">Rz(x_27)</text><circle cx=\"16440.156347656277\" cy=\"25.0\" r=\"10.0\" /><rect x=\"16405.894843750026\" y=\"105.0\" width=\"68.5230078125\" height=\"40\" stroke=\"black\" fill=\"white\" stroke-width=\"1\" /><text x=\"16440.156347656277\" y=\"125.0\" dominant-baseline=\"middle\" text-anchor=\"middle\" font-size=\"14px\" font-family=\"Arial\">Rz(x_28)</text><circle cx=\"16528.679355468776\" cy=\"75.0\" r=\"10.0\" /><rect x=\"16494.417851562524\" y=\"155.0\" width=\"68.5230078125\" height=\"40\" stroke=\"black\" fill=\"white\" stroke-width=\"1\" /><text x=\"16528.679355468776\" y=\"175.0\" dominant-baseline=\"middle\" text-anchor=\"middle\" font-size=\"14px\" font-family=\"Arial\">Rz(x_28)</text><circle cx=\"16617.202363281274\" cy=\"125.0\" r=\"10.0\" /><rect x=\"16582.940859375023\" y=\"5.0\" width=\"68.5230078125\" height=\"40\" stroke=\"black\" fill=\"white\" stroke-width=\"1\" /><text x=\"16617.202363281274\" y=\"25.0\" dominant-baseline=\"middle\" text-anchor=\"middle\" font-size=\"14px\" font-family=\"Arial\">Rz(x_28)</text><circle cx=\"16705.725371093773\" cy=\"175.0\" r=\"10.0\" /><rect x=\"16671.463867187522\" y=\"55.0\" width=\"68.5230078125\" height=\"40\" stroke=\"black\" fill=\"white\" stroke-width=\"1\" /><text x=\"16705.725371093773\" y=\"75.0\" dominant-baseline=\"middle\" text-anchor=\"middle\" font-size=\"14px\" font-family=\"Arial\">Rz(x_28)</text><circle cx=\"16794.24837890627\" cy=\"25.0\" r=\"10.0\" /><rect x=\"16759.98687500002\" y=\"55.0\" width=\"68.5230078125\" height=\"40\" stroke=\"black\" fill=\"white\" stroke-width=\"1\" /><text x=\"16794.24837890627\" y=\"75.0\" dominant-baseline=\"middle\" text-anchor=\"middle\" font-size=\"14px\" font-family=\"Arial\">Rz(x_29)</text><circle cx=\"16882.77138671877\" cy=\"75.0\" r=\"10.0\" /><rect x=\"16848.50988281252\" y=\"105.0\" width=\"68.5230078125\" height=\"40\" stroke=\"black\" fill=\"white\" stroke-width=\"1\" /><text x=\"16882.77138671877\" y=\"125.0\" dominant-baseline=\"middle\" text-anchor=\"middle\" font-size=\"14px\" font-family=\"Arial\">Rz(x_29)</text><circle cx=\"16971.29439453127\" cy=\"125.0\" r=\"10.0\" /><rect x=\"16937.032890625018\" y=\"155.0\" width=\"68.5230078125\" height=\"40\" stroke=\"black\" fill=\"white\" stroke-width=\"1\" /><text x=\"16971.29439453127\" y=\"175.0\" dominant-baseline=\"middle\" text-anchor=\"middle\" font-size=\"14px\" font-family=\"Arial\">Rz(x_29)</text><circle cx=\"17059.817402343768\" cy=\"175.0\" r=\"10.0\" /><rect x=\"17025.555898437517\" y=\"5.0\" width=\"68.5230078125\" height=\"40\" stroke=\"black\" fill=\"white\" stroke-width=\"1\" /><text x=\"17059.817402343768\" y=\"25.0\" dominant-baseline=\"middle\" text-anchor=\"middle\" font-size=\"14px\" font-family=\"Arial\">Rz(x_29)</text><circle cx=\"17134.078906250015\" cy=\"175.0\" r=\"10.0\" /><rect x=\"17114.078906250015\" y=\"5.0\" width=\"40\" height=\"40\" stroke=\"black\" fill=\"white\" stroke-width=\"1\" /><text x=\"17134.078906250015\" y=\"25.0\" dominant-baseline=\"middle\" text-anchor=\"middle\" font-size=\"18px\" font-family=\"Arial\">X</text><circle cx=\"17194.078906250015\" cy=\"125.0\" r=\"10.0\" /><rect x=\"17174.078906250015\" y=\"55.0\" width=\"40\" height=\"40\" stroke=\"black\" fill=\"white\" stroke-width=\"1\" /><text x=\"17194.078906250015\" y=\"75.0\" dominant-baseline=\"middle\" text-anchor=\"middle\" font-size=\"18px\" font-family=\"Arial\">X</text></svg>"
      ],
      "text/plain": [
       "<cirq.contrib.svg.svg.SVGCircuit at 0x7fd50200b790>"
      ]
     },
     "execution_count": 13,
     "metadata": {},
     "output_type": "execute_result"
    }
   ],
   "source": [
    "from dynamic_qcnn import Qcnn_cirq as Qcnn\n",
    "from dynamic_qcnn import (\n",
    "    Qcnn,\n",
    "    Qfree,\n",
    "    Qconv,\n",
    "    Qpool,\n",
    "    Qdense,\n",
    "    binary_tree_r,\n",
    "    convert_graph_to_circuit_cirq,\n",
    "    plot_graph,\n",
    "    pretty_cirq_plot,\n",
    ")\n",
    "# qcnn = Qcnn(8)\n",
    "# QFree(8)+QConv()\n",
    "# qcnn = QFree(8)\n",
    "m1 = Qconv(1)+Qpool()\n",
    "m2 = Qconv(2) + Qconv(2)\n",
    "m3 = m2+m1+m2+m1\n",
    "m4 = Qfree(8) + m3\n",
    "m5 = m4*5\n",
    "# m3 = m2*6 + QFree(16) +QConv()\n",
    "# QFree(8)+QFree(16)\n",
    "circuit, symbols = convert_graph_to_circuit_cirq(m5)\n",
    "SVGCircuit(circuit)"
   ]
  },
  {
   "cell_type": "code",
   "execution_count": 14,
   "metadata": {},
   "outputs": [
    {
     "ename": "TypeError",
     "evalue": "can only concatenate tuple (not \"Qdense\") to tuple",
     "output_type": "error",
     "traceback": [
      "\u001b[0;31m---------------------------------------------------------------------------\u001b[0m",
      "\u001b[0;31mTypeError\u001b[0m                                 Traceback (most recent call last)",
      "Input \u001b[0;32mIn [14]\u001b[0m, in \u001b[0;36m<cell line: 6>\u001b[0;34m()\u001b[0m\n\u001b[1;32m      4\u001b[0m m2_1\u001b[38;5;241m=\u001b[39mm1_1\u001b[38;5;241m+\u001b[39mm1_2\n\u001b[1;32m      5\u001b[0m m2_3\u001b[38;5;241m=\u001b[39mm1_3\n\u001b[0;32m----> 6\u001b[0m m3_1\u001b[38;5;241m=\u001b[39m(\u001b[43mm2_1\u001b[49m\u001b[38;5;241;43m+\u001b[39;49m\u001b[43mm2_3\u001b[49m)\u001b[38;5;241m*\u001b[39m\u001b[38;5;241m3\u001b[39m\n",
      "\u001b[0;31mTypeError\u001b[0m: can only concatenate tuple (not \"Qdense\") to tuple"
     ]
    }
   ],
   "source": [
    "m1_1=Qconv()\n",
    "m1_2=Qpool()\n",
    "m1_3=Qdense()\n",
    "m2_1=m1_1+m1_2\n",
    "m2_3=m1_3\n",
    "m3_1=(m2_1+m2_3)*3\n"
   ]
  },
  {
   "cell_type": "code",
   "execution_count": 32,
   "metadata": {},
   "outputs": [
    {
     "data": {
      "text/plain": [
       "(<dynamic_qcnn.core.Qconv at 0x7fd5c09beeb0>,\n",
       " <dynamic_qcnn.core.Qpool at 0x7fd5c09bed30>,\n",
       " <dynamic_qcnn.core.Qconv at 0x7fd5c090f310>,\n",
       " <dynamic_qcnn.core.Qpool at 0x7fd5c09fe550>,\n",
       " <dynamic_qcnn.core.Qpool at 0x7fd5c09fe400>)"
      ]
     },
     "execution_count": 32,
     "metadata": {},
     "output_type": "execute_result"
    }
   ],
   "source": [
    "Qconv()+Qpool()+(Qconv(),Qpool(),Qpool())"
   ]
  },
  {
   "cell_type": "markdown",
   "metadata": {},
   "source": [
    "Build a simple 4 qubit QCNN"
   ]
  },
  {
   "cell_type": "code",
   "execution_count": 13,
   "metadata": {},
   "outputs": [
    {
     "ename": "TypeError",
     "evalue": "__init__() got an unexpected keyword argument 'pool_filter'",
     "output_type": "error",
     "traceback": [
      "\u001b[0;31m---------------------------------------------------------------------------\u001b[0m",
      "\u001b[0;31mTypeError\u001b[0m                                 Traceback (most recent call last)",
      "Input \u001b[0;32mIn [13]\u001b[0m, in \u001b[0;36m<cell line: 14>\u001b[0;34m()\u001b[0m\n\u001b[1;32m     12\u001b[0m nq \u001b[38;5;241m=\u001b[39m \u001b[38;5;241m2\u001b[39m\n\u001b[1;32m     13\u001b[0m qcnn \u001b[38;5;241m=\u001b[39m Qcnn(QFree(nq))\n\u001b[0;32m---> 14\u001b[0m motif_1 \u001b[38;5;241m=\u001b[39m QConv(\u001b[38;5;241m1\u001b[39m, convolution_mapping\u001b[38;5;241m=\u001b[39m (U, \u001b[38;5;241m2\u001b[39m)) \u001b[38;5;241m+\u001b[39m \u001b[43mQPool\u001b[49m\u001b[43m(\u001b[49m\u001b[43mpool_filter\u001b[49m\u001b[38;5;241;43m=\u001b[39;49m\u001b[38;5;124;43m\"\u001b[39;49m\u001b[38;5;124;43mright\u001b[39;49m\u001b[38;5;124;43m\"\u001b[39;49m\u001b[43m,\u001b[49m\u001b[43m \u001b[49m\u001b[43mpooling_mapping\u001b[49m\u001b[38;5;241;43m=\u001b[39;49m\u001b[43m(\u001b[49m\u001b[43mV\u001b[49m\u001b[43m,\u001b[49m\u001b[38;5;241;43m2\u001b[39;49m\u001b[43m)\u001b[49m\u001b[43m)\u001b[49m\n",
      "\u001b[0;31mTypeError\u001b[0m: __init__() got an unexpected keyword argument 'pool_filter'"
     ]
    }
   ],
   "source": [
    "from dynamic_qcnn import Qcnn_cirq as Qcnn\n",
    "from dynamic_qcnn import (\n",
    "    Qcnn,\n",
    "    QFree,\n",
    "    QConv,\n",
    "    QPool,\n",
    "    binary_tree_r,\n",
    "    convert_graph_to_circuit_cirq,\n",
    "    plot_graph,\n",
    "    pretty_cirq_plot,\n",
    ")\n",
    "nq = 2\n",
    "qcnn = Qcnn(QFree(nq))\n",
    "motif_1 = QConv(1, convolution_mapping= (U, 2)) + QPool(pool_filter=\"right\", pooling_mapping=(V,2))\n",
    "# motif_2 = QConv(2) + QPool(pool_filter=\"left\")\n",
    "# motif_3 = qcnn+motif_1+motif_2+motif_1\n",
    "# motif_4 = qcnn+motif_1+motif_1+motif_1\n",
    "# motif_2 = qcnn + motif_1*3\n",
    "# motif_3 = motif_2 + QFree(8) + QPool(pool_filter=\"10101000\")+QConv(2)\n",
    "# motif_4 = motif_3+motif_3+ QFree(8) + (QConv() + QPool(pool_filter=\"right\"))*3\n",
    "# motif_5 = motif_4 +motif_4 + motif_4\n",
    "# motif_6 = motif_3+motif_4+QFree(16)+motif_1*4+QFree(2)+QConv()+QPool(pool_filter=\"10\")+QFree([14,11])+QConv()\n",
    "# circuit, symbols = convert_graph_to_circuit_cirq(qcnn+motif_1, pretty=True)\n",
    "# SVGCircuit(circuit)"
   ]
  },
  {
   "cell_type": "code",
   "execution_count": null,
   "metadata": {},
   "outputs": [],
   "source": [
    "q = Qcnn(8)+QPool(pool_filter=\"inside\")\n",
    "\n",
    "a = plot_graph(q.tail.next)\n",
    "a.savefig(f\"/home/matt/dev/projects/latex_playground/circuit_diagrams/20220927-motif_levels/pool_inside_graph.svg\", transparent=True)"
   ]
  },
  {
   "cell_type": "code",
   "execution_count": null,
   "metadata": {},
   "outputs": [],
   "source": [
    "pretty_cirq_plot(circuit, \"/home/matt/dev/projects/latex_playground/circuit_diagrams/20220927-motif_levels/tmp.txt\")"
   ]
  },
  {
   "cell_type": "code",
   "execution_count": null,
   "metadata": {},
   "outputs": [],
   "source": [
    "from dynamic_qcnn import Qcnn_cirq as Qcnn\n",
    "from dynamic_qcnn import (\n",
    "    QConv,\n",
    "    QPool,\n",
    "    binary_tree_r,\n",
    "    convert_graph_to_circuit_cirq,\n",
    "    plot_graph,\n",
    ")\n",
    "\n",
    "head_graph, _ = binary_tree_r(4)\n",
    "circuit, symbols = convert_graph_to_circuit_cirq(head_graph)\n",
    "SVGCircuit(circuit)"
   ]
  },
  {
   "cell_type": "markdown",
   "metadata": {},
   "source": [
    "Scale up the same model, and alternate architectures"
   ]
  },
  {
   "cell_type": "code",
   "execution_count": null,
   "metadata": {},
   "outputs": [],
   "source": [
    "# head_graph, _ = binary_tree_r(8, s_c=1, s_p=0, pool_filter=\"right\")\n",
    "# head_graph, _ = binary_tree_r(8, s_c=1, s_p=0, pool_filter=\"left\")\n",
    "# head_graph, _ = binary_tree_r(8, s_c=3, s_p=2, pool_filter=\"left\")\n",
    "# head_graph, _ = binary_tree_r(8, s_c=1, s_p=0, pool_filter=\"inside\")\n",
    "head_graph, _ = binary_tree_r(8, s_c=1, s_p=0, pool_filter=\"outside\")\n",
    "circuit, symbols = convert_graph_to_circuit_cirq(head_graph)\n",
    "SVGCircuit(circuit)"
   ]
  },
  {
   "cell_type": "code",
   "execution_count": 29,
   "metadata": {},
   "outputs": [
    {
     "ename": "NameError",
     "evalue": "name 'QConv' is not defined",
     "output_type": "error",
     "traceback": [
      "\u001b[0;31m---------------------------------------------------------------------------\u001b[0m",
      "\u001b[0;31mNameError\u001b[0m                                 Traceback (most recent call last)",
      "Input \u001b[0;32mIn [29]\u001b[0m, in \u001b[0;36m<cell line: 2>\u001b[0;34m()\u001b[0m\n\u001b[1;32m      1\u001b[0m \u001b[38;5;66;03m# base = QConv(8)\u001b[39;00m\n\u001b[0;32m----> 2\u001b[0m base \u001b[38;5;241m=\u001b[39m \u001b[43mQConv\u001b[49m(\u001b[38;5;241m8\u001b[39m, stride\u001b[38;5;241m=\u001b[39m\u001b[38;5;241m3\u001b[39m)\n\u001b[1;32m      3\u001b[0m SVGCircuit(convert_graph_to_circuit_cirq(base)[\u001b[38;5;241m0\u001b[39m])\n",
      "\u001b[0;31mNameError\u001b[0m: name 'QConv' is not defined"
     ]
    }
   ],
   "source": [
    "# base = QConv(8)\n",
    "base = QConv(8, stride=3)\n",
    "SVGCircuit(convert_graph_to_circuit_cirq(base)[0])"
   ]
  },
  {
   "cell_type": "code",
   "execution_count": 22,
   "metadata": {},
   "outputs": [
    {
     "ename": "ValueError",
     "evalue": "Can't draw SVG diagram for empty circuits",
     "output_type": "error",
     "traceback": [
      "\u001b[0;31m---------------------------------------------------------------------------\u001b[0m",
      "\u001b[0;31mValueError\u001b[0m                                Traceback (most recent call last)",
      "File \u001b[0;32m~/.pyenv/versions/env_cirq/lib/python3.8/site-packages/IPython/core/formatters.py:343\u001b[0m, in \u001b[0;36mBaseFormatter.__call__\u001b[0;34m(self, obj)\u001b[0m\n\u001b[1;32m    341\u001b[0m     method \u001b[38;5;241m=\u001b[39m get_real_method(obj, \u001b[38;5;28mself\u001b[39m\u001b[38;5;241m.\u001b[39mprint_method)\n\u001b[1;32m    342\u001b[0m     \u001b[38;5;28;01mif\u001b[39;00m method \u001b[38;5;129;01mis\u001b[39;00m \u001b[38;5;129;01mnot\u001b[39;00m \u001b[38;5;28;01mNone\u001b[39;00m:\n\u001b[0;32m--> 343\u001b[0m         \u001b[38;5;28;01mreturn\u001b[39;00m \u001b[43mmethod\u001b[49m\u001b[43m(\u001b[49m\u001b[43m)\u001b[49m\n\u001b[1;32m    344\u001b[0m     \u001b[38;5;28;01mreturn\u001b[39;00m \u001b[38;5;28;01mNone\u001b[39;00m\n\u001b[1;32m    345\u001b[0m \u001b[38;5;28;01melse\u001b[39;00m:\n",
      "File \u001b[0;32m~/dev/repos/Cirq/cirq-core/cirq/contrib/svg/svg.py:273\u001b[0m, in \u001b[0;36mSVGCircuit._repr_svg_\u001b[0;34m(self)\u001b[0m\n\u001b[1;32m    271\u001b[0m \u001b[38;5;28;01mdef\u001b[39;00m \u001b[38;5;21m_repr_svg_\u001b[39m(\u001b[38;5;28mself\u001b[39m) \u001b[38;5;241m-\u001b[39m\u001b[38;5;241m>\u001b[39m \u001b[38;5;28mstr\u001b[39m:\n\u001b[1;32m    272\u001b[0m     \u001b[38;5;66;03m# coverage: ignore\u001b[39;00m\n\u001b[0;32m--> 273\u001b[0m     \u001b[38;5;28;01mreturn\u001b[39;00m \u001b[43mcircuit_to_svg\u001b[49m\u001b[43m(\u001b[49m\u001b[38;5;28;43mself\u001b[39;49m\u001b[38;5;241;43m.\u001b[39;49m\u001b[43mcircuit\u001b[49m\u001b[43m)\u001b[49m\n",
      "File \u001b[0;32m~/dev/repos/Cirq/cirq-core/cirq/contrib/svg/svg.py:278\u001b[0m, in \u001b[0;36mcircuit_to_svg\u001b[0;34m(circuit)\u001b[0m\n\u001b[1;32m    276\u001b[0m \u001b[38;5;28;01mdef\u001b[39;00m \u001b[38;5;21mcircuit_to_svg\u001b[39m(circuit: \u001b[38;5;124m'\u001b[39m\u001b[38;5;124mcirq.Circuit\u001b[39m\u001b[38;5;124m'\u001b[39m) \u001b[38;5;241m-\u001b[39m\u001b[38;5;241m>\u001b[39m \u001b[38;5;28mstr\u001b[39m:\n\u001b[1;32m    277\u001b[0m     \u001b[38;5;124;03m\"\"\"Render a circuit as SVG.\"\"\"\u001b[39;00m\n\u001b[0;32m--> 278\u001b[0m     \u001b[43m_validate_circuit\u001b[49m\u001b[43m(\u001b[49m\u001b[43mcircuit\u001b[49m\u001b[43m)\u001b[49m\n\u001b[1;32m    279\u001b[0m     tdd \u001b[38;5;241m=\u001b[39m circuit\u001b[38;5;241m.\u001b[39mto_text_diagram_drawer(transpose\u001b[38;5;241m=\u001b[39m\u001b[38;5;28;01mFalse\u001b[39;00m)\n\u001b[1;32m    280\u001b[0m     \u001b[38;5;28;01mif\u001b[39;00m \u001b[38;5;28mlen\u001b[39m(tdd\u001b[38;5;241m.\u001b[39mhorizontal_lines) \u001b[38;5;241m==\u001b[39m \u001b[38;5;241m0\u001b[39m:  \u001b[38;5;66;03m# in circuits with no non-empty moments,return a blank SVG\u001b[39;00m\n",
      "File \u001b[0;32m~/dev/repos/Cirq/cirq-core/cirq/contrib/svg/svg.py:255\u001b[0m, in \u001b[0;36m_validate_circuit\u001b[0;34m(circuit)\u001b[0m\n\u001b[1;32m    253\u001b[0m \u001b[38;5;28;01mdef\u001b[39;00m \u001b[38;5;21m_validate_circuit\u001b[39m(circuit: \u001b[38;5;124m'\u001b[39m\u001b[38;5;124mcirq.Circuit\u001b[39m\u001b[38;5;124m'\u001b[39m):\n\u001b[1;32m    254\u001b[0m     \u001b[38;5;28;01mif\u001b[39;00m \u001b[38;5;28mlen\u001b[39m(circuit) \u001b[38;5;241m==\u001b[39m \u001b[38;5;241m0\u001b[39m:\n\u001b[0;32m--> 255\u001b[0m         \u001b[38;5;28;01mraise\u001b[39;00m \u001b[38;5;167;01mValueError\u001b[39;00m(\u001b[38;5;124m\"\u001b[39m\u001b[38;5;124mCan\u001b[39m\u001b[38;5;124m'\u001b[39m\u001b[38;5;124mt draw SVG diagram for empty circuits\u001b[39m\u001b[38;5;124m\"\u001b[39m)\n",
      "\u001b[0;31mValueError\u001b[0m: Can't draw SVG diagram for empty circuits"
     ]
    },
    {
     "data": {
      "text/plain": [
       "<cirq.contrib.svg.svg.SVGCircuit at 0x7f8cd3b6eee0>"
      ]
     },
     "execution_count": 22,
     "metadata": {},
     "output_type": "execute_result"
    }
   ],
   "source": [
    "base = QConv(8)\n",
    "a = QPool(base)\n",
    "b=a(a)\n",
    "# QPool(QConv(QPool(QConv(base, stride=3), pool_filter=\"right\")),pool_filter=\"0001\", stride=2)\n",
    "# QPool(QConv(QPool(QConv(base, stride=3), pool_filter=\"right\")), pool_filter=\"0001\", stride=1)\n",
    "SVGCircuit(convert_graph_to_circuit_cirq(b)[0])"
   ]
  },
  {
   "cell_type": "code",
   "execution_count": 19,
   "metadata": {},
   "outputs": [
    {
     "ename": "TypeError",
     "evalue": "'QConv' object is not callable",
     "output_type": "error",
     "traceback": [
      "\u001b[0;31m---------------------------------------------------------------------------\u001b[0m",
      "\u001b[0;31mTypeError\u001b[0m                                 Traceback (most recent call last)",
      "Input \u001b[0;32mIn [19]\u001b[0m, in \u001b[0;36m<cell line: 1>\u001b[0;34m()\u001b[0m\n\u001b[0;32m----> 1\u001b[0m \u001b[43mbase\u001b[49m\u001b[43m(\u001b[49m\u001b[43m)\u001b[49m\n",
      "\u001b[0;31mTypeError\u001b[0m: 'QConv' object is not callable"
     ]
    }
   ],
   "source": [
    "base()"
   ]
  },
  {
   "cell_type": "code",
   "execution_count": 4,
   "metadata": {},
   "outputs": [],
   "source": [
    "import cirq\n",
    "# Default pooling circuit\n",
    "def V(bits, symbols=None):\n",
    "    circuit = cirq.Circuit()\n",
    "    q0, q1 = cirq.LineQubit(bits[0]), cirq.LineQubit(bits[1])\n",
    "    circuit += cirq.rz(symbols[0]).on(q1).controlled_by(q0)\n",
    "    circuit += cirq.X(q0)\n",
    "    circuit += cirq.rx(symbols[1]).on(q1).controlled_by(q0)\n",
    "    return circuit\n",
    "\n",
    "\n",
    "# Default convolution circuit\n",
    "def U(bits, symbols=None):\n",
    "    circuit = cirq.Circuit()\n",
    "    q0, q1 = cirq.LineQubit(bits[0]), cirq.LineQubit(bits[1])\n",
    "    circuit += cirq.rx(symbols[0]).on(q0)\n",
    "    circuit += cirq.rx(symbols[1]).on(q1)\n",
    "    circuit += cirq.rz(symbols[2]).on(q0)\n",
    "    circuit += cirq.rz(symbols[3]).on(q1)\n",
    "    circuit += cirq.rz(symbols[4]).on(q1).controlled_by(q0)\n",
    "    circuit += cirq.rz(symbols[5]).on(q0).controlled_by(q1)\n",
    "    circuit += cirq.rx(symbols[6]).on(q0)\n",
    "    circuit += cirq.rx(symbols[7]).on(q1)\n",
    "    circuit += cirq.rz(symbols[8]).on(q0)\n",
    "    circuit += cirq.rz(symbols[9]).on(q1)\n",
    "    return circuit"
   ]
  },
  {
   "cell_type": "code",
   "execution_count": null,
   "metadata": {},
   "outputs": [],
   "source": [
    "# head_graph, _ = binary_tree_r(8, convolution_mapping={1:(U,10)}, pooling_mapping={1:(V,2)})\n",
    "head_graph, _ = binary_tree_r(\n",
    "    8,\n",
    "    pool_filter=\"left\",\n",
    "    s_c=5,\n",
    "    convolution_mapping={1: (U, 10)},\n",
    "    pooling_mapping={1: (V, 2)},\n",
    ")\n",
    "circuit, symbols = convert_graph_to_circuit_cirq(head_graph)\n",
    "SVGCircuit(circuit)"
   ]
  },
  {
   "cell_type": "code",
   "execution_count": null,
   "metadata": {},
   "outputs": [],
   "source": [
    "base = QConv(8, stride=1)\n",
    "plot_graph(base)\n",
    "plot_graph(QPool(base,pool_filter=\"10000100\"))\n",
    "plot_graph(QConv(QPool(base,pool_filter=\"10000100\"), stride=2))\n",
    "plot_graph(QPool(QConv(QPool(base,pool_filter=\"10000100\")), pool_filter=\"odd\"))\n",
    "plot_graph(QConv(QPool(QConv(QPool(base,pool_filter=\"10000100\")), pool_filter=\"even\")))"
   ]
  },
  {
   "cell_type": "code",
   "execution_count": null,
   "metadata": {},
   "outputs": [],
   "source": [
    "# === Specify hyperparamaters ===\n",
    "# Number of qubits (since we're using qubit encoding ensure there is a one-one mapping between feature and qubit)\n",
    "n_q = 8\n",
    "# Convolution Stride\n",
    "s_c = 5\n",
    "# Pooling Stride\n",
    "s_p = 0\n",
    "# Pooling Filter, options: right, left, inside, outside, even, odd\n",
    "pool_filter = \"right\"\n",
    "\n",
    "head_graph, tail_graph = binary_tree_r(\n",
    "    n_q=n_q,\n",
    "    s_c=s_c,\n",
    "    s_p=s_p,\n",
    "    pool_filter=pool_filter,\n",
    "    convolution_mapping={1: (U, 10)},\n",
    "    pooling_mapping={1: (V, 2)},\n",
    ")\n",
    "readout = cirq.LineQubit(tail_graph.E[0][1])\n",
    "circuit, symbols = convert_graph_to_circuit_cirq(head_graph)\n",
    "\n",
    "model = tf.keras.Sequential(\n",
    "    [\n",
    "        # The Qcnn layer returns the expected value of the readout gate, range [-1,1]. By default readout is criq.Z and the model determines\n",
    "        # which qubit to measure based on the one that's left over\n",
    "        Qcnn(circuit=circuit, symbols=symbols, readout=readout),\n",
    "        # Convert expectation values to lie between 0 and 1\n",
    "        tf.keras.layers.Rescaling(1.0 / 2, offset=0.5),\n",
    "    ]\n",
    ")"
   ]
  },
  {
   "cell_type": "code",
   "execution_count": null,
   "metadata": {
    "scrolled": true,
    "tags": []
   },
   "outputs": [],
   "source": [
    "model.compile(\n",
    "    optimizer=\"Adam\",\n",
    "    loss=\"binary_crossentropy\",\n",
    "    metrics=[tf.keras.metrics.BinaryAccuracy(threshold=0.5)],\n",
    ")\n",
    "# model.run_eagerly = True\n",
    "model.fit(x=samples_encoded.X_train, y=samples_encoded.y_train, epochs=100)"
   ]
  },
  {
   "cell_type": "markdown",
   "metadata": {},
   "source": [
    "### Evaluate"
   ]
  },
  {
   "cell_type": "code",
   "execution_count": null,
   "metadata": {},
   "outputs": [],
   "source": [
    "model.summary()\n",
    "print(model.trainable_variables)\n",
    "\n",
    "qcnn_results = model.evaluate(samples_encoded.X_test, samples_encoded.y_test)\n",
    "# results.append([f\"{s_c}_{s_p}_{pool_filter}\", qcnn_results])\n",
    "print(qcnn_results)"
   ]
  },
  {
   "cell_type": "code",
   "execution_count": null,
   "metadata": {},
   "outputs": [],
   "source": [
    "SVGCircuit(circuit)"
   ]
  },
  {
   "cell_type": "code",
   "execution_count": null,
   "metadata": {},
   "outputs": [],
   "source": []
  }
 ],
 "metadata": {
  "kernelspec": {
   "display_name": "env_cirq",
   "language": "python",
   "name": "env_cirq"
  },
  "language_info": {
   "codemirror_mode": {
    "name": "ipython",
    "version": 3
   },
   "file_extension": ".py",
   "mimetype": "text/x-python",
   "name": "python",
   "nbconvert_exporter": "python",
   "pygments_lexer": "ipython3",
   "version": "3.8.1"
  }
 },
 "nbformat": 4,
 "nbformat_minor": 4
}
