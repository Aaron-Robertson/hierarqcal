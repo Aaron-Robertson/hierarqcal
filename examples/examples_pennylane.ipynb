{
 "cells": [
  {
   "cell_type": "markdown",
   "id": "55c5b911-523d-43cb-829d-1df2a22c40a4",
   "metadata": {},
   "source": [
    "# Example usage with pennylane\n",
    "This notebook shows some examples of generating Quantum Convolutional Neural Networks (QCNNs)"
   ]
  },
  {
   "cell_type": "markdown",
   "id": "1669c9a9-9853-49f3-86ca-765242d0670c",
   "metadata": {},
   "source": [
    "___\n",
    "*A cute robot building itself with artifical intelligence, pencil drawing -  generated with* [Dall$\\cdot$E 2](https://openai.com/dall-e-2/)\n",
    "\n",
    "<img src=\"../img/DALL·E 2022-08-17 11.48.32 - A cute robot building itself with artifical intelligence, pencil drawing.png\" alt=\"drawing\" width=\"200\"/>"
   ]
  },
  {
   "cell_type": "code",
   "execution_count": 1,
   "id": "0f4456dd-4514-485f-bbe0-75587f6e68b6",
   "metadata": {},
   "outputs": [],
   "source": [
    "# Load libraries\n",
    "import numpy as np\n",
    "import pennylane as qml"
   ]
  },
  {
   "cell_type": "code",
   "execution_count": 3,
   "id": "7cac0ecd-9088-4489-8f6a-8dcb9df99e28",
   "metadata": {
    "tags": []
   },
   "outputs": [],
   "source": [
    "from dynamic_qcnn.pennylane import convert_graph_to_circuit_pennylane \n",
    "from dynamic_qcnn import (\n",
    "    Qcnn,\n",
    "    Qfree,\n",
    "    Qconv,\n",
    "    Qpool,\n",
    "    Qdense,\n",
    "    plot_graph,\n",
    ")"
   ]
  },
  {
   "cell_type": "code",
   "execution_count": 4,
   "id": "8a2b1b8e-b7c9-45d5-969c-bd8d5f7efa59",
   "metadata": {},
   "outputs": [
    {
     "ename": "TypeError",
     "evalue": "convert_graph_to_circuit_pennylane() missing 1 required positional argument: 'symbols'",
     "output_type": "error",
     "traceback": [
      "\u001b[0;31m---------------------------------------------------------------------------\u001b[0m",
      "\u001b[0;31mTypeError\u001b[0m                                 Traceback (most recent call last)",
      "Cell \u001b[0;32mIn[4], line 3\u001b[0m\n\u001b[1;32m      1\u001b[0m m  \u001b[38;5;241m=\u001b[39m Qfree(\u001b[38;5;241m8\u001b[39m) \u001b[38;5;241m+\u001b[39m (Qconv(\u001b[38;5;241m1\u001b[39m) \u001b[38;5;241m+\u001b[39m Qpool(\u001b[38;5;28mfilter\u001b[39m\u001b[38;5;241m=\u001b[39m\u001b[38;5;124m\"\u001b[39m\u001b[38;5;124mright\u001b[39m\u001b[38;5;124m\"\u001b[39m))\u001b[38;5;241m*\u001b[39m\u001b[38;5;241m3\u001b[39m\n\u001b[0;32m----> 3\u001b[0m \u001b[43mconvert_graph_to_circuit_pennylane\u001b[49m\u001b[43m(\u001b[49m\u001b[43mm\u001b[49m\u001b[43m)\u001b[49m\n",
      "\u001b[0;31mTypeError\u001b[0m: convert_graph_to_circuit_pennylane() missing 1 required positional argument: 'symbols'"
     ]
    }
   ],
   "source": [
    "m  = Qfree(8) + (Qconv(1) + Qpool(filter=\"right\"))*3\n",
    "\n",
    "convert_graph_to_circuit_pennylane(m, symbols)\n"
   ]
  },
  {
   "cell_type": "markdown",
   "id": "9fe29eed-5173-435a-89dd-931a0638795e",
   "metadata": {},
   "source": [
    "## Reverse binary tree"
   ]
  },
  {
   "cell_type": "code",
   "execution_count": null,
   "id": "0b78d2c5-853f-448b-aacb-34b9073ba890",
   "metadata": {},
   "outputs": [],
   "source": [
    "### Reverse binary tree\n",
    "N = 8\n",
    "# level 1\n",
    "m1_1 = Qconv(stride=1)\n",
    "m1_2 = Qpool(filter=\"left\")\n",
    "# level 2\n",
    "m2_1 = m1_1 + m1_2\n",
    "# level 3\n",
    "m3_1 = Qfree(N) + m2_1 * int(np.log2(N))\n",
    "\n",
    "circuit, symbols = convert_graph_to_circuit_cirq(m3_1)\n",
    "# m3_1 + Qfree([1,3,5]) + Qconv(5)+m3_1)*4\n",
    "SVGCircuit(circuit)"
   ]
  },
  {
   "cell_type": "markdown",
   "id": "fb59dad1-078f-4604-8c27-5dc800f428e7",
   "metadata": {},
   "source": [
    "### More arbitrary examples to show what is possible"
   ]
  },
  {
   "cell_type": "code",
   "execution_count": null,
   "id": "cc563ad9-b1f1-49a0-ba6c-2a1b198d4035",
   "metadata": {},
   "outputs": [],
   "source": [
    "m1 = Qfree(6)+Qconv()\n",
    "m2 = m1 + Qpool(1, \"000101\")\n",
    "m3 = m2 + Qfree(8) + Qconv(1) + Qpool(2,\"11111110\")\n",
    "m4 = m3 + Qfree(4) + (Qconv(1)+Qpool(0,\"even\"))*2\n",
    "m5 = m4 + m4\n",
    "circuit, symbols = convert_graph_to_circuit_cirq(m5)\n",
    "SVGCircuit(circuit)"
   ]
  },
  {
   "cell_type": "code",
   "execution_count": null,
   "id": "b295f146-8fa5-4cd2-847f-db06b79f51f3",
   "metadata": {},
   "outputs": [],
   "source": [
    "N = 8\n",
    "# level 1\n",
    "m1_1 = Qconv(2)\n",
    "m1_2 = Qpool(filter=\"left\")\n",
    "# level 2\n",
    "m2_1 = m1_1 + m1_2\n",
    "# level 3\n",
    "m3_1 = Qfree(N) + m2_1 * int(np.log2(N))\n",
    "\n",
    "circuit, symbols = convert_graph_to_circuit_cirq(\n",
    "    (m3_1 + Qfree([1, 3, 5]) + Qconv(5) + m3_1) * 4\n",
    ")\n",
    "SVGCircuit(circuit)"
   ]
  },
  {
   "cell_type": "markdown",
   "id": "fd865c61-a965-4a02-9645-3f58841a8341",
   "metadata": {},
   "source": [
    "## Multiscale Entanglement Renormalization Ansatz (MERA)"
   ]
  },
  {
   "cell_type": "code",
   "execution_count": null,
   "id": "e7d55491-29fd-490c-9f43-719cd0a6d207",
   "metadata": {},
   "outputs": [],
   "source": [
    "### MERA like\n",
    "N = 8\n",
    "# level 1\n",
    "m1_1 = Qconv(1, 2)\n",
    "m1_2 = Qconv(1, 2, 1)\n",
    "m1_3 = Qpool(filter=\"1001\")\n",
    "m1_4 = Qpool(2, filter=\"001001\")\n",
    "m1_5 = Qpool(filter=\"outside\")\n",
    "# level 2\n",
    "m2_1 = m1_2 + m1_1\n",
    "m2_2 = m1_3 + m1_4\n",
    "m2_3 = m1_5\n",
    "# level 3\n",
    "m3_1 = Qfree(N) + (m2_1 + m2_2) * 2 + m2_1\n",
    "\n",
    "circuit, symbols = convert_graph_to_circuit_cirq(m3_1)\n",
    "SVGCircuit(circuit)"
   ]
  },
  {
   "cell_type": "markdown",
   "id": "bb88b1e8-1eeb-445e-9d17-cd1cfc5b59e7",
   "metadata": {},
   "source": [
    "## Random QCNNs"
   ]
  },
  {
   "cell_type": "code",
   "execution_count": null,
   "id": "1de73952-5198-4784-8c0c-34b44209569f",
   "metadata": {},
   "outputs": [],
   "source": [
    "# More structure\n",
    "import random\n",
    "import operator\n",
    "from functools import reduce\n",
    "from dynamic_qcnn import Qmotifs\n",
    "\n",
    "N = 8\n",
    "M = Qcnn(N)\n",
    "n = len(M.tail.Q_avail)\n",
    "while n > 1:\n",
    "    p = [\n",
    "        Qpool(s_p, filter=i_filter)\n",
    "        for i_filter in (\"right\", \"left\", \"even\", \"odd\", \"inside\", \"outside\")\n",
    "        for s_p in range(n)\n",
    "    ]\n",
    "    c = [\n",
    "        Qconv(stride=s_c, step=s_t, offset=s_o)\n",
    "        for s_c in range(1, n, 1)\n",
    "        for s_t in range(1, 2, 1)\n",
    "        for s_o in range(n)\n",
    "    ]# + [Qdense()]\n",
    "    M = M + random.choice(c) + random.choice(p)\n",
    "    n = len(M.head.Q_avail)\n",
    "\n",
    "circuit, symbols = convert_graph_to_circuit_cirq(M)\n",
    "SVGCircuit(circuit)"
   ]
  },
  {
   "cell_type": "code",
   "execution_count": null,
   "id": "05e3ba8c-5f7c-462c-9990-41b50f4ced68",
   "metadata": {},
   "outputs": [],
   "source": [
    "# loose\n",
    "import random\n",
    "import operator\n",
    "from functools import reduce\n",
    "from dynamic_qcnn import Qmotifs\n",
    "\n",
    "N = 8\n",
    "M = Qcnn(N)\n",
    "n = len(M.tail.Q_avail)\n",
    "while n > 1:\n",
    "    p = [Qpool(s_p, filter=i_filter) for i_filter in (\"right\", \"left\", \"even\", \"odd\", \"inside\", \"outside\") for s_p in range(n)]\n",
    "    c = [Qconv(stride=s_c, step=s_t, offset=s_o) for s_c in range(1, n, 1) for s_t in range(1, 2, 1) for s_o in range(n)]+ [Qdense()]\n",
    "    M = M + random.choice(c) + random.choice(p)\n",
    "    n = len(M.head.Q_avail)\n",
    "\n",
    "circuit, symbols = convert_graph_to_circuit_cirq(M)\n",
    "SVGCircuit(circuit)"
   ]
  },
  {
   "cell_type": "markdown",
   "id": "bede20f2-cee9-47a1-ad28-6a7fca604625",
   "metadata": {},
   "source": [
    "## Specifying unitaries"
   ]
  },
  {
   "cell_type": "code",
   "execution_count": null,
   "id": "5a2332df-b595-43be-b5a6-b1c57c466d09",
   "metadata": {},
   "outputs": [],
   "source": [
    "# Pooling circuit\n",
    "def V(bits, symbols=None):\n",
    "    circuit = cirq.Circuit()\n",
    "    q0, q1 = cirq.LineQubit(bits[0]), cirq.LineQubit(bits[1])\n",
    "    circuit += cirq.rz(symbols[0]).on(q1)\n",
    "    circuit += cirq.CNOT(q1, q0)\n",
    "    circuit += cirq.rz(symbols[1]).on(q0)\n",
    "    circuit += cirq.ry(symbols[2]).on(q1)\n",
    "    circuit += cirq.CNOT(q0, q1)\n",
    "    circuit += cirq.ry(symbols[3]).on(q1)\n",
    "    return circuit\n",
    "\n",
    "\n",
    "# Convolution circuit\n",
    "def U(bits, symbols=None):\n",
    "    circuit = cirq.Circuit()\n",
    "    q0, q1 = cirq.LineQubit(bits[0]), cirq.LineQubit(bits[1])\n",
    "    circuit += cirq.rz(symbols[0]).on(q1)\n",
    "    circuit += cirq.CNOT(q1, q0)\n",
    "    circuit += cirq.rz(symbols[1]).on(q0)\n",
    "    circuit += cirq.ry(symbols[2]).on(q1)\n",
    "    circuit += cirq.CNOT(q0, q1)\n",
    "    circuit += cirq.ry(symbols[3]).on(q1)\n",
    "    circuit += cirq.CNOT(q1, q0)\n",
    "    circuit += cirq.rz(symbols[4]).on(q0)\n",
    "    return circuit"
   ]
  },
  {
   "cell_type": "code",
   "execution_count": null,
   "id": "c7a98534-f932-4cdf-95ae-695e1ab9dca6",
   "metadata": {},
   "outputs": [],
   "source": [
    "M = Qfree(8) + (Qconv(1, convolution_mapping=(U, 5)) + Qpool(filter=\"left\", pooling_mapping=(V, 4)))* 3\n",
    "circuit, symbols = convert_graph_to_circuit_cirq(M)"
   ]
  },
  {
   "cell_type": "code",
   "execution_count": null,
   "id": "42506c87-eec7-438d-b953-d75c754ce9d0",
   "metadata": {},
   "outputs": [],
   "source": [
    "SVGCircuit(circuit)"
   ]
  },
  {
   "cell_type": "markdown",
   "id": "36f659c8-5857-4b44-bfbf-18378b89ac6c",
   "metadata": {},
   "source": [
    "### Cycle through unitary ansatzes"
   ]
  },
  {
   "cell_type": "code",
   "execution_count": null,
   "id": "f387216f-df07-45c7-b32e-c5df465fffde",
   "metadata": {},
   "outputs": [],
   "source": [
    "# Pooling circuit\n",
    "def V_1(bits, symbols=None): # 1\n",
    "    circuit = cirq.Circuit()\n",
    "    q0, q1 = cirq.LineQubit(bits[0]), cirq.LineQubit(bits[1])\n",
    "    circuit += cirq.rx(symbols[0]).on(q1).controlled_by(q0)\n",
    "\n",
    "    return circuit\n",
    "def V_2(bits, symbols=None): # 0\n",
    "    circuit = cirq.Circuit()\n",
    "    q0, q1 = cirq.LineQubit(bits[0]), cirq.LineQubit(bits[1])\n",
    "    circuit += cirq.CNOT(q0, q1)\n",
    "    return circuit\n",
    "\n",
    "\n",
    "# Convolution circuit\n",
    "def U_1(bits, symbols=None): # 1\n",
    "    circuit = cirq.Circuit()\n",
    "    q0, q1 = cirq.LineQubit(bits[0]), cirq.LineQubit(bits[1])\n",
    "    circuit += cirq.rz(symbols[0]).on(q1).controlled_by(q0)\n",
    "    return circuit\n",
    "\n",
    "def U_2(bits, symbols=None): # 1\n",
    "    circuit = cirq.Circuit()\n",
    "    q0, q1 = cirq.LineQubit(bits[0]), cirq.LineQubit(bits[1])\n",
    "    circuit += cirq.ry(symbols[0]).on(q1).controlled_by(q0)\n",
    "    return circuit\n",
    "function_mappings = {\"convolution\":[(U_1,1), (U_2,1)], \"pooling\":[(V_1,1),(V_2,0)]}\n",
    "\n"
   ]
  },
  {
   "cell_type": "code",
   "execution_count": null,
   "id": "b14455f0-7b64-4b9f-a35b-314832982e95",
   "metadata": {},
   "outputs": [],
   "source": [
    "qcnn = Qcnn(16, function_mappings=function_mappings)\n",
    "\n",
    "qcnn = qcnn + (Qconv(2)+Qpool(1,\"outside\"))*4 \n",
    "circuit, symbols = convert_graph_to_circuit_cirq(qcnn)\n",
    "SVGCircuit(circuit)"
   ]
  },
  {
   "cell_type": "code",
   "execution_count": null,
   "id": "c4832803-0919-4e44-a20c-1e7c8845c211",
   "metadata": {},
   "outputs": [],
   "source": []
  }
 ],
 "metadata": {
  "kernelspec": {
   "display_name": "test14",
   "language": "python",
   "name": "test14"
  },
  "language_info": {
   "codemirror_mode": {
    "name": "ipython",
    "version": 3
   },
   "file_extension": ".py",
   "mimetype": "text/x-python",
   "name": "python",
   "nbconvert_exporter": "python",
   "pygments_lexer": "ipython3",
   "version": "3.8.1"
  }
 },
 "nbformat": 4,
 "nbformat_minor": 5
}
