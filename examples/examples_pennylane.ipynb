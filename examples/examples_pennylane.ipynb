{
 "cells": [
  {
   "cell_type": "markdown",
   "id": "55c5b911-523d-43cb-829d-1df2a22c40a4",
   "metadata": {},
   "source": [
    "# Example usage with pennylane\n",
    "This notebook shows some examples of generating Quantum Convolutional Neural Networks (QCNNs)"
   ]
  },
  {
   "cell_type": "markdown",
   "id": "1669c9a9-9853-49f3-86ca-765242d0670c",
   "metadata": {},
   "source": [
    "___\n",
    "*A cute robot building itself with artifical intelligence, pencil drawing -  generated with* [Dall$\\cdot$E 2](https://openai.com/dall-e-2/)\n",
    "\n",
    "<img src=\"../img/DALL·E 2022-08-17 11.48.32 - A cute robot building itself with artifical intelligence, pencil drawing.png\" alt=\"drawing\" width=\"200\"/>"
   ]
  },
  {
   "cell_type": "code",
   "execution_count": 1,
   "id": "0f4456dd-4514-485f-bbe0-75587f6e68b6",
   "metadata": {},
   "outputs": [],
   "source": [
    "# Load libraries\n",
    "import sympy\n",
    "import numpy as np\n",
    "import cirq\n",
    "from cirq.contrib.svg import SVGCircuit"
   ]
  },
  {
   "cell_type": "code",
   "execution_count": 2,
   "id": "7cac0ecd-9088-4489-8f6a-8dcb9df99e28",
   "metadata": {
    "tags": []
   },
   "outputs": [],
   "source": [
    "from dynamic_qcnn.cirq import convert_graph_to_circuit_cirq \n",
    "from dynamic_qcnn import (\n",
    "    Qcnn,\n",
    "    Qfree,\n",
    "    Qconv,\n",
    "    Qpool,\n",
    "    Qdense,\n",
    "    plot_graph,\n",
    "    pretty_cirq_plot,\n",
    ")"
   ]
  },
  {
   "cell_type": "code",
   "execution_count": 3,
   "id": "8a2b1b8e-b7c9-45d5-969c-bd8d5f7efa59",
   "metadata": {},
   "outputs": [
    {
     "name": "stderr",
     "output_type": "stream",
     "text": [
      "findfont: Font family 'Arial' not found.\n",
      "findfont: Font family 'Arial' not found.\n",
      "findfont: Font family 'Arial' not found.\n",
      "findfont: Font family 'Arial' not found.\n",
      "findfont: Font family 'Arial' not found.\n",
      "findfont: Font family 'Arial' not found.\n",
      "findfont: Font family 'Arial' not found.\n",
      "findfont: Font family 'Arial' not found.\n",
      "findfont: Font family 'Arial' not found.\n",
      "findfont: Font family 'Arial' not found.\n",
      "findfont: Font family 'Arial' not found.\n",
      "findfont: Font family 'Arial' not found.\n",
      "findfont: Font family 'Arial' not found.\n",
      "findfont: Font family 'Arial' not found.\n",
      "findfont: Font family 'Arial' not found.\n",
      "findfont: Font family 'Arial' not found.\n",
      "findfont: Font family 'Arial' not found.\n",
      "findfont: Font family 'Arial' not found.\n",
      "findfont: Font family 'Arial' not found.\n",
      "findfont: Font family 'Arial' not found.\n",
      "findfont: Font family 'Arial' not found.\n",
      "findfont: Font family 'Arial' not found.\n",
      "findfont: Font family 'Arial' not found.\n",
      "findfont: Font family 'Arial' not found.\n",
      "findfont: Font family 'Arial' not found.\n",
      "findfont: Font family 'Arial' not found.\n",
      "findfont: Font family 'Arial' not found.\n",
      "findfont: Font family 'Arial' not found.\n",
      "findfont: Font family 'Arial' not found.\n",
      "findfont: Font family 'Arial' not found.\n",
      "findfont: Font family 'Arial' not found.\n",
      "findfont: Font family 'Arial' not found.\n",
      "findfont: Font family 'Arial' not found.\n",
      "findfont: Font family 'Arial' not found.\n",
      "findfont: Font family 'Arial' not found.\n",
      "findfont: Font family 'Arial' not found.\n",
      "findfont: Font family 'Arial' not found.\n",
      "findfont: Font family 'Arial' not found.\n",
      "findfont: Font family 'Arial' not found.\n",
      "findfont: Font family 'Arial' not found.\n",
      "findfont: Font family 'Arial' not found.\n",
      "findfont: Font family 'Arial' not found.\n",
      "findfont: Font family 'Arial' not found.\n",
      "findfont: Font family 'Arial' not found.\n",
      "findfont: Font family 'Arial' not found.\n",
      "findfont: Font family 'Arial' not found.\n",
      "findfont: Font family 'Arial' not found.\n",
      "findfont: Font family 'Arial' not found.\n"
     ]
    },
    {
     "data": {
      "image/svg+xml": [
       "<svg xmlns=\"http://www.w3.org/2000/svg\" width=\"1555.0051562500003\" height=\"400.0\"><line x1=\"30.0\" x2=\"1525.0051562500003\" y1=\"25.0\" y2=\"25.0\" stroke=\"#1967d2\" stroke-width=\"1\" /><line x1=\"30.0\" x2=\"1525.0051562500003\" y1=\"75.0\" y2=\"75.0\" stroke=\"#1967d2\" stroke-width=\"1\" /><line x1=\"30.0\" x2=\"1525.0051562500003\" y1=\"125.0\" y2=\"125.0\" stroke=\"#1967d2\" stroke-width=\"1\" /><line x1=\"30.0\" x2=\"1525.0051562500003\" y1=\"175.0\" y2=\"175.0\" stroke=\"#1967d2\" stroke-width=\"1\" /><line x1=\"30.0\" x2=\"1525.0051562500003\" y1=\"225.0\" y2=\"225.0\" stroke=\"#1967d2\" stroke-width=\"1\" /><line x1=\"30.0\" x2=\"1525.0051562500003\" y1=\"275.0\" y2=\"275.0\" stroke=\"#1967d2\" stroke-width=\"1\" /><line x1=\"30.0\" x2=\"1525.0051562500003\" y1=\"325.0\" y2=\"325.0\" stroke=\"#1967d2\" stroke-width=\"1\" /><line x1=\"30.0\" x2=\"1525.0051562500003\" y1=\"375.0\" y2=\"375.0\" stroke=\"#1967d2\" stroke-width=\"1\" /><line x1=\"99.807890625\" x2=\"99.807890625\" y1=\"25.0\" y2=\"75.0\" stroke=\"black\" stroke-width=\"3\" /><line x1=\"179.423671875\" x2=\"179.423671875\" y1=\"75.0\" y2=\"125.0\" stroke=\"black\" stroke-width=\"3\" /><line x1=\"259.039453125\" x2=\"259.039453125\" y1=\"125.0\" y2=\"175.0\" stroke=\"black\" stroke-width=\"3\" /><line x1=\"338.65523437499996\" x2=\"338.65523437499996\" y1=\"175.0\" y2=\"225.0\" stroke=\"black\" stroke-width=\"3\" /><line x1=\"418.271015625\" x2=\"418.271015625\" y1=\"225.0\" y2=\"275.0\" stroke=\"black\" stroke-width=\"3\" /><line x1=\"497.88679687499996\" x2=\"497.88679687499996\" y1=\"275.0\" y2=\"325.0\" stroke=\"black\" stroke-width=\"3\" /><line x1=\"577.502578125\" x2=\"577.502578125\" y1=\"325.0\" y2=\"375.0\" stroke=\"black\" stroke-width=\"3\" /><line x1=\"657.118359375\" x2=\"657.118359375\" y1=\"25.0\" y2=\"375.0\" stroke=\"black\" stroke-width=\"3\" /><line x1=\"726.92625\" x2=\"726.92625\" y1=\"25.0\" y2=\"375.0\" stroke=\"black\" stroke-width=\"3\" /><line x1=\"786.92625\" x2=\"786.92625\" y1=\"75.0\" y2=\"325.0\" stroke=\"black\" stroke-width=\"3\" /><line x1=\"846.92625\" x2=\"846.92625\" y1=\"125.0\" y2=\"275.0\" stroke=\"black\" stroke-width=\"3\" /><line x1=\"906.92625\" x2=\"906.92625\" y1=\"175.0\" y2=\"225.0\" stroke=\"black\" stroke-width=\"3\" /><line x1=\"976.734140625\" x2=\"976.734140625\" y1=\"25.0\" y2=\"75.0\" stroke=\"black\" stroke-width=\"3\" /><line x1=\"1056.349921875\" x2=\"1056.349921875\" y1=\"75.0\" y2=\"125.0\" stroke=\"black\" stroke-width=\"3\" /><line x1=\"1135.9657031250001\" x2=\"1135.9657031250001\" y1=\"125.0\" y2=\"175.0\" stroke=\"black\" stroke-width=\"3\" /><line x1=\"1215.5814843750002\" x2=\"1215.5814843750002\" y1=\"25.0\" y2=\"175.0\" stroke=\"black\" stroke-width=\"3\" /><line x1=\"1285.3893750000002\" x2=\"1285.3893750000002\" y1=\"25.0\" y2=\"175.0\" stroke=\"black\" stroke-width=\"3\" /><line x1=\"1345.3893750000002\" x2=\"1345.3893750000002\" y1=\"75.0\" y2=\"125.0\" stroke=\"black\" stroke-width=\"3\" /><line x1=\"1415.1972656250002\" x2=\"1415.1972656250002\" y1=\"25.0\" y2=\"75.0\" stroke=\"black\" stroke-width=\"3\" /><line x1=\"1485.0051562500003\" x2=\"1485.0051562500003\" y1=\"25.0\" y2=\"75.0\" stroke=\"black\" stroke-width=\"3\" /><rect x=\"10.0\" y=\"5.0\" width=\"40\" height=\"40\" stroke=\"black\" fill=\"white\" stroke-width=\"0\" /><text x=\"30.0\" y=\"25.0\" dominant-baseline=\"middle\" text-anchor=\"middle\" font-size=\"14px\" font-family=\"Arial\">1: </text><rect x=\"10.0\" y=\"55.0\" width=\"40\" height=\"40\" stroke=\"black\" fill=\"white\" stroke-width=\"0\" /><text x=\"30.0\" y=\"75.0\" dominant-baseline=\"middle\" text-anchor=\"middle\" font-size=\"14px\" font-family=\"Arial\">2: </text><rect x=\"10.0\" y=\"105.0\" width=\"40\" height=\"40\" stroke=\"black\" fill=\"white\" stroke-width=\"0\" /><text x=\"30.0\" y=\"125.0\" dominant-baseline=\"middle\" text-anchor=\"middle\" font-size=\"14px\" font-family=\"Arial\">3: </text><rect x=\"10.0\" y=\"155.0\" width=\"40\" height=\"40\" stroke=\"black\" fill=\"white\" stroke-width=\"0\" /><text x=\"30.0\" y=\"175.0\" dominant-baseline=\"middle\" text-anchor=\"middle\" font-size=\"14px\" font-family=\"Arial\">4: </text><rect x=\"10.0\" y=\"205.0\" width=\"40\" height=\"40\" stroke=\"black\" fill=\"white\" stroke-width=\"0\" /><text x=\"30.0\" y=\"225.0\" dominant-baseline=\"middle\" text-anchor=\"middle\" font-size=\"14px\" font-family=\"Arial\">5: </text><rect x=\"10.0\" y=\"255.0\" width=\"40\" height=\"40\" stroke=\"black\" fill=\"white\" stroke-width=\"0\" /><text x=\"30.0\" y=\"275.0\" dominant-baseline=\"middle\" text-anchor=\"middle\" font-size=\"14px\" font-family=\"Arial\">6: </text><rect x=\"10.0\" y=\"305.0\" width=\"40\" height=\"40\" stroke=\"black\" fill=\"white\" stroke-width=\"0\" /><text x=\"30.0\" y=\"325.0\" dominant-baseline=\"middle\" text-anchor=\"middle\" font-size=\"14px\" font-family=\"Arial\">7: </text><rect x=\"10.0\" y=\"355.0\" width=\"40\" height=\"40\" stroke=\"black\" fill=\"white\" stroke-width=\"0\" /><text x=\"30.0\" y=\"375.0\" dominant-baseline=\"middle\" text-anchor=\"middle\" font-size=\"14px\" font-family=\"Arial\">8: </text><circle cx=\"99.807890625\" cy=\"25.0\" r=\"10.0\" /><rect x=\"70.0\" y=\"55.0\" width=\"59.61578125\" height=\"40\" stroke=\"black\" fill=\"white\" stroke-width=\"1\" /><text x=\"99.807890625\" y=\"75.0\" dominant-baseline=\"middle\" text-anchor=\"middle\" font-size=\"14px\" font-family=\"Arial\">Rz(x_0)</text><circle cx=\"179.423671875\" cy=\"75.0\" r=\"10.0\" /><rect x=\"149.61578125\" y=\"105.0\" width=\"59.61578125\" height=\"40\" stroke=\"black\" fill=\"white\" stroke-width=\"1\" /><text x=\"179.423671875\" y=\"125.0\" dominant-baseline=\"middle\" text-anchor=\"middle\" font-size=\"14px\" font-family=\"Arial\">Rz(x_0)</text><circle cx=\"259.039453125\" cy=\"125.0\" r=\"10.0\" /><rect x=\"229.23156250000002\" y=\"155.0\" width=\"59.61578125\" height=\"40\" stroke=\"black\" fill=\"white\" stroke-width=\"1\" /><text x=\"259.039453125\" y=\"175.0\" dominant-baseline=\"middle\" text-anchor=\"middle\" font-size=\"14px\" font-family=\"Arial\">Rz(x_0)</text><circle cx=\"338.65523437499996\" cy=\"175.0\" r=\"10.0\" /><rect x=\"308.84734374999994\" y=\"205.0\" width=\"59.61578125\" height=\"40\" stroke=\"black\" fill=\"white\" stroke-width=\"1\" /><text x=\"338.65523437499996\" y=\"225.0\" dominant-baseline=\"middle\" text-anchor=\"middle\" font-size=\"14px\" font-family=\"Arial\">Rz(x_0)</text><circle cx=\"418.271015625\" cy=\"225.0\" r=\"10.0\" /><rect x=\"388.463125\" y=\"255.0\" width=\"59.61578125\" height=\"40\" stroke=\"black\" fill=\"white\" stroke-width=\"1\" /><text x=\"418.271015625\" y=\"275.0\" dominant-baseline=\"middle\" text-anchor=\"middle\" font-size=\"14px\" font-family=\"Arial\">Rz(x_0)</text><circle cx=\"497.88679687499996\" cy=\"275.0\" r=\"10.0\" /><rect x=\"468.07890624999993\" y=\"305.0\" width=\"59.61578125\" height=\"40\" stroke=\"black\" fill=\"white\" stroke-width=\"1\" /><text x=\"497.88679687499996\" y=\"325.0\" dominant-baseline=\"middle\" text-anchor=\"middle\" font-size=\"14px\" font-family=\"Arial\">Rz(x_0)</text><circle cx=\"577.502578125\" cy=\"325.0\" r=\"10.0\" /><rect x=\"547.6946875\" y=\"355.0\" width=\"59.61578125\" height=\"40\" stroke=\"black\" fill=\"white\" stroke-width=\"1\" /><text x=\"577.502578125\" y=\"375.0\" dominant-baseline=\"middle\" text-anchor=\"middle\" font-size=\"14px\" font-family=\"Arial\">Rz(x_0)</text><circle cx=\"657.118359375\" cy=\"375.0\" r=\"10.0\" /><rect x=\"627.3104687499999\" y=\"5.0\" width=\"59.61578125\" height=\"40\" stroke=\"black\" fill=\"white\" stroke-width=\"1\" /><text x=\"657.118359375\" y=\"25.0\" dominant-baseline=\"middle\" text-anchor=\"middle\" font-size=\"14px\" font-family=\"Arial\">Rz(x_0)</text><circle cx=\"726.92625\" cy=\"375.0\" r=\"10.0\" /><rect x=\"706.92625\" y=\"5.0\" width=\"40\" height=\"40\" stroke=\"black\" fill=\"white\" stroke-width=\"1\" /><text x=\"726.92625\" y=\"25.0\" dominant-baseline=\"middle\" text-anchor=\"middle\" font-size=\"18px\" font-family=\"Arial\">X</text><circle cx=\"786.92625\" cy=\"325.0\" r=\"10.0\" /><rect x=\"766.92625\" y=\"55.0\" width=\"40\" height=\"40\" stroke=\"black\" fill=\"white\" stroke-width=\"1\" /><text x=\"786.92625\" y=\"75.0\" dominant-baseline=\"middle\" text-anchor=\"middle\" font-size=\"18px\" font-family=\"Arial\">X</text><circle cx=\"846.92625\" cy=\"275.0\" r=\"10.0\" /><rect x=\"826.92625\" y=\"105.0\" width=\"40\" height=\"40\" stroke=\"black\" fill=\"white\" stroke-width=\"1\" /><text x=\"846.92625\" y=\"125.0\" dominant-baseline=\"middle\" text-anchor=\"middle\" font-size=\"18px\" font-family=\"Arial\">X</text><circle cx=\"906.92625\" cy=\"225.0\" r=\"10.0\" /><rect x=\"886.92625\" y=\"155.0\" width=\"40\" height=\"40\" stroke=\"black\" fill=\"white\" stroke-width=\"1\" /><text x=\"906.92625\" y=\"175.0\" dominant-baseline=\"middle\" text-anchor=\"middle\" font-size=\"18px\" font-family=\"Arial\">X</text><circle cx=\"976.734140625\" cy=\"25.0\" r=\"10.0\" /><rect x=\"946.92625\" y=\"55.0\" width=\"59.61578125\" height=\"40\" stroke=\"black\" fill=\"white\" stroke-width=\"1\" /><text x=\"976.734140625\" y=\"75.0\" dominant-baseline=\"middle\" text-anchor=\"middle\" font-size=\"14px\" font-family=\"Arial\">Rz(x_1)</text><circle cx=\"1056.349921875\" cy=\"75.0\" r=\"10.0\" /><rect x=\"1026.54203125\" y=\"105.0\" width=\"59.61578125\" height=\"40\" stroke=\"black\" fill=\"white\" stroke-width=\"1\" /><text x=\"1056.349921875\" y=\"125.0\" dominant-baseline=\"middle\" text-anchor=\"middle\" font-size=\"14px\" font-family=\"Arial\">Rz(x_1)</text><circle cx=\"1135.9657031250001\" cy=\"125.0\" r=\"10.0\" /><rect x=\"1106.1578125\" y=\"155.0\" width=\"59.61578125\" height=\"40\" stroke=\"black\" fill=\"white\" stroke-width=\"1\" /><text x=\"1135.9657031250001\" y=\"175.0\" dominant-baseline=\"middle\" text-anchor=\"middle\" font-size=\"14px\" font-family=\"Arial\">Rz(x_1)</text><circle cx=\"1215.5814843750002\" cy=\"175.0\" r=\"10.0\" /><rect x=\"1185.7735937500001\" y=\"5.0\" width=\"59.61578125\" height=\"40\" stroke=\"black\" fill=\"white\" stroke-width=\"1\" /><text x=\"1215.5814843750002\" y=\"25.0\" dominant-baseline=\"middle\" text-anchor=\"middle\" font-size=\"14px\" font-family=\"Arial\">Rz(x_1)</text><circle cx=\"1285.3893750000002\" cy=\"175.0\" r=\"10.0\" /><rect x=\"1265.3893750000002\" y=\"5.0\" width=\"40\" height=\"40\" stroke=\"black\" fill=\"white\" stroke-width=\"1\" /><text x=\"1285.3893750000002\" y=\"25.0\" dominant-baseline=\"middle\" text-anchor=\"middle\" font-size=\"18px\" font-family=\"Arial\">X</text><circle cx=\"1345.3893750000002\" cy=\"125.0\" r=\"10.0\" /><rect x=\"1325.3893750000002\" y=\"55.0\" width=\"40\" height=\"40\" stroke=\"black\" fill=\"white\" stroke-width=\"1\" /><text x=\"1345.3893750000002\" y=\"75.0\" dominant-baseline=\"middle\" text-anchor=\"middle\" font-size=\"18px\" font-family=\"Arial\">X</text><circle cx=\"1415.1972656250002\" cy=\"25.0\" r=\"10.0\" /><rect x=\"1385.3893750000002\" y=\"55.0\" width=\"59.61578125\" height=\"40\" stroke=\"black\" fill=\"white\" stroke-width=\"1\" /><text x=\"1415.1972656250002\" y=\"75.0\" dominant-baseline=\"middle\" text-anchor=\"middle\" font-size=\"14px\" font-family=\"Arial\">Rz(x_2)</text><circle cx=\"1485.0051562500003\" cy=\"75.0\" r=\"10.0\" /><rect x=\"1465.0051562500003\" y=\"5.0\" width=\"40\" height=\"40\" stroke=\"black\" fill=\"white\" stroke-width=\"1\" /><text x=\"1485.0051562500003\" y=\"25.0\" dominant-baseline=\"middle\" text-anchor=\"middle\" font-size=\"18px\" font-family=\"Arial\">X</text></svg>"
      ],
      "text/plain": [
       "<cirq.contrib.svg.svg.SVGCircuit at 0x7f5167d4eca0>"
      ]
     },
     "execution_count": 3,
     "metadata": {},
     "output_type": "execute_result"
    }
   ],
   "source": [
    "m  = Qfree(8) + (Qconv(1) + Qpool(filter=\"right\"))*3\n",
    "\n",
    "circuit, symbols = convert_graph_to_circuit_cirq(m)\n",
    "SVGCircuit(circuit)"
   ]
  },
  {
   "cell_type": "markdown",
   "id": "9fe29eed-5173-435a-89dd-931a0638795e",
   "metadata": {},
   "source": [
    "## Reverse binary tree"
   ]
  },
  {
   "cell_type": "code",
   "execution_count": null,
   "id": "0b78d2c5-853f-448b-aacb-34b9073ba890",
   "metadata": {},
   "outputs": [],
   "source": [
    "### Reverse binary tree\n",
    "N = 8\n",
    "# level 1\n",
    "m1_1 = Qconv(stride=1)\n",
    "m1_2 = Qpool(filter=\"left\")\n",
    "# level 2\n",
    "m2_1 = m1_1 + m1_2\n",
    "# level 3\n",
    "m3_1 = Qfree(N) + m2_1 * int(np.log2(N))\n",
    "\n",
    "circuit, symbols = convert_graph_to_circuit_cirq(m3_1)\n",
    "# m3_1 + Qfree([1,3,5]) + Qconv(5)+m3_1)*4\n",
    "SVGCircuit(circuit)"
   ]
  },
  {
   "cell_type": "markdown",
   "id": "fb59dad1-078f-4604-8c27-5dc800f428e7",
   "metadata": {},
   "source": [
    "### More arbitrary examples to show what is possible"
   ]
  },
  {
   "cell_type": "code",
   "execution_count": null,
   "id": "cc563ad9-b1f1-49a0-ba6c-2a1b198d4035",
   "metadata": {},
   "outputs": [],
   "source": [
    "m1 = Qfree(6)+Qconv()\n",
    "m2 = m1 + Qpool(1, \"000101\")\n",
    "m3 = m2 + Qfree(8) + Qconv(1) + Qpool(2,\"11111110\")\n",
    "m4 = m3 + Qfree(4) + (Qconv(1)+Qpool(0,\"even\"))*2\n",
    "m5 = m4 + m4\n",
    "circuit, symbols = convert_graph_to_circuit_cirq(m5)\n",
    "SVGCircuit(circuit)"
   ]
  },
  {
   "cell_type": "code",
   "execution_count": null,
   "id": "b295f146-8fa5-4cd2-847f-db06b79f51f3",
   "metadata": {},
   "outputs": [],
   "source": [
    "N = 8\n",
    "# level 1\n",
    "m1_1 = Qconv(2)\n",
    "m1_2 = Qpool(filter=\"left\")\n",
    "# level 2\n",
    "m2_1 = m1_1 + m1_2\n",
    "# level 3\n",
    "m3_1 = Qfree(N) + m2_1 * int(np.log2(N))\n",
    "\n",
    "circuit, symbols = convert_graph_to_circuit_cirq(\n",
    "    (m3_1 + Qfree([1, 3, 5]) + Qconv(5) + m3_1) * 4\n",
    ")\n",
    "SVGCircuit(circuit)"
   ]
  },
  {
   "cell_type": "markdown",
   "id": "fd865c61-a965-4a02-9645-3f58841a8341",
   "metadata": {},
   "source": [
    "## Multiscale Entanglement Renormalization Ansatz (MERA)"
   ]
  },
  {
   "cell_type": "code",
   "execution_count": null,
   "id": "e7d55491-29fd-490c-9f43-719cd0a6d207",
   "metadata": {},
   "outputs": [],
   "source": [
    "### MERA like\n",
    "N = 8\n",
    "# level 1\n",
    "m1_1 = Qconv(1, 2)\n",
    "m1_2 = Qconv(1, 2, 1)\n",
    "m1_3 = Qpool(filter=\"1001\")\n",
    "m1_4 = Qpool(2, filter=\"001001\")\n",
    "m1_5 = Qpool(filter=\"outside\")\n",
    "# level 2\n",
    "m2_1 = m1_2 + m1_1\n",
    "m2_2 = m1_3 + m1_4\n",
    "m2_3 = m1_5\n",
    "# level 3\n",
    "m3_1 = Qfree(N) + (m2_1 + m2_2) * 2 + m2_1\n",
    "\n",
    "circuit, symbols = convert_graph_to_circuit_cirq(m3_1)\n",
    "SVGCircuit(circuit)"
   ]
  },
  {
   "cell_type": "markdown",
   "id": "bb88b1e8-1eeb-445e-9d17-cd1cfc5b59e7",
   "metadata": {},
   "source": [
    "## Random QCNNs"
   ]
  },
  {
   "cell_type": "code",
   "execution_count": null,
   "id": "1de73952-5198-4784-8c0c-34b44209569f",
   "metadata": {},
   "outputs": [],
   "source": [
    "# More structure\n",
    "import random\n",
    "import operator\n",
    "from functools import reduce\n",
    "from dynamic_qcnn import Qmotifs\n",
    "\n",
    "N = 8\n",
    "M = Qcnn(N)\n",
    "n = len(M.tail.Q_avail)\n",
    "while n > 1:\n",
    "    p = [\n",
    "        Qpool(s_p, filter=i_filter)\n",
    "        for i_filter in (\"right\", \"left\", \"even\", \"odd\", \"inside\", \"outside\")\n",
    "        for s_p in range(n)\n",
    "    ]\n",
    "    c = [\n",
    "        Qconv(stride=s_c, step=s_t, offset=s_o)\n",
    "        for s_c in range(1, n, 1)\n",
    "        for s_t in range(1, 2, 1)\n",
    "        for s_o in range(n)\n",
    "    ]# + [Qdense()]\n",
    "    M = M + random.choice(c) + random.choice(p)\n",
    "    n = len(M.head.Q_avail)\n",
    "\n",
    "circuit, symbols = convert_graph_to_circuit_cirq(M)\n",
    "SVGCircuit(circuit)"
   ]
  },
  {
   "cell_type": "code",
   "execution_count": null,
   "id": "05e3ba8c-5f7c-462c-9990-41b50f4ced68",
   "metadata": {},
   "outputs": [],
   "source": [
    "# loose\n",
    "import random\n",
    "import operator\n",
    "from functools import reduce\n",
    "from dynamic_qcnn import Qmotifs\n",
    "\n",
    "N = 8\n",
    "M = Qcnn(N)\n",
    "n = len(M.tail.Q_avail)\n",
    "while n > 1:\n",
    "    p = [Qpool(s_p, filter=i_filter) for i_filter in (\"right\", \"left\", \"even\", \"odd\", \"inside\", \"outside\") for s_p in range(n)]\n",
    "    c = [Qconv(stride=s_c, step=s_t, offset=s_o) for s_c in range(1, n, 1) for s_t in range(1, 2, 1) for s_o in range(n)]+ [Qdense()]\n",
    "    M = M + random.choice(c) + random.choice(p)\n",
    "    n = len(M.head.Q_avail)\n",
    "\n",
    "circuit, symbols = convert_graph_to_circuit_cirq(M)\n",
    "SVGCircuit(circuit)"
   ]
  },
  {
   "cell_type": "markdown",
   "id": "bede20f2-cee9-47a1-ad28-6a7fca604625",
   "metadata": {},
   "source": [
    "## Specifying unitaries"
   ]
  },
  {
   "cell_type": "code",
   "execution_count": null,
   "id": "5a2332df-b595-43be-b5a6-b1c57c466d09",
   "metadata": {},
   "outputs": [],
   "source": [
    "# Pooling circuit\n",
    "def V(bits, symbols=None):\n",
    "    circuit = cirq.Circuit()\n",
    "    q0, q1 = cirq.LineQubit(bits[0]), cirq.LineQubit(bits[1])\n",
    "    circuit += cirq.rz(symbols[0]).on(q1)\n",
    "    circuit += cirq.CNOT(q1, q0)\n",
    "    circuit += cirq.rz(symbols[1]).on(q0)\n",
    "    circuit += cirq.ry(symbols[2]).on(q1)\n",
    "    circuit += cirq.CNOT(q0, q1)\n",
    "    circuit += cirq.ry(symbols[3]).on(q1)\n",
    "    return circuit\n",
    "\n",
    "\n",
    "# Convolution circuit\n",
    "def U(bits, symbols=None):\n",
    "    circuit = cirq.Circuit()\n",
    "    q0, q1 = cirq.LineQubit(bits[0]), cirq.LineQubit(bits[1])\n",
    "    circuit += cirq.rz(symbols[0]).on(q1)\n",
    "    circuit += cirq.CNOT(q1, q0)\n",
    "    circuit += cirq.rz(symbols[1]).on(q0)\n",
    "    circuit += cirq.ry(symbols[2]).on(q1)\n",
    "    circuit += cirq.CNOT(q0, q1)\n",
    "    circuit += cirq.ry(symbols[3]).on(q1)\n",
    "    circuit += cirq.CNOT(q1, q0)\n",
    "    circuit += cirq.rz(symbols[4]).on(q0)\n",
    "    return circuit"
   ]
  },
  {
   "cell_type": "code",
   "execution_count": null,
   "id": "c7a98534-f932-4cdf-95ae-695e1ab9dca6",
   "metadata": {},
   "outputs": [],
   "source": [
    "M = Qfree(8) + (Qconv(1, convolution_mapping=(U, 5)) + Qpool(filter=\"left\", pooling_mapping=(V, 4)))* 3\n",
    "circuit, symbols = convert_graph_to_circuit_cirq(M)"
   ]
  },
  {
   "cell_type": "code",
   "execution_count": null,
   "id": "42506c87-eec7-438d-b953-d75c754ce9d0",
   "metadata": {},
   "outputs": [],
   "source": [
    "SVGCircuit(circuit)"
   ]
  },
  {
   "cell_type": "markdown",
   "id": "36f659c8-5857-4b44-bfbf-18378b89ac6c",
   "metadata": {},
   "source": [
    "### Cycle through unitary ansatzes"
   ]
  },
  {
   "cell_type": "code",
   "execution_count": null,
   "id": "f387216f-df07-45c7-b32e-c5df465fffde",
   "metadata": {},
   "outputs": [],
   "source": [
    "# Pooling circuit\n",
    "def V_1(bits, symbols=None): # 1\n",
    "    circuit = cirq.Circuit()\n",
    "    q0, q1 = cirq.LineQubit(bits[0]), cirq.LineQubit(bits[1])\n",
    "    circuit += cirq.rx(symbols[0]).on(q1).controlled_by(q0)\n",
    "\n",
    "    return circuit\n",
    "def V_2(bits, symbols=None): # 0\n",
    "    circuit = cirq.Circuit()\n",
    "    q0, q1 = cirq.LineQubit(bits[0]), cirq.LineQubit(bits[1])\n",
    "    circuit += cirq.CNOT(q0, q1)\n",
    "    return circuit\n",
    "\n",
    "\n",
    "# Convolution circuit\n",
    "def U_1(bits, symbols=None): # 1\n",
    "    circuit = cirq.Circuit()\n",
    "    q0, q1 = cirq.LineQubit(bits[0]), cirq.LineQubit(bits[1])\n",
    "    circuit += cirq.rz(symbols[0]).on(q1).controlled_by(q0)\n",
    "    return circuit\n",
    "\n",
    "def U_2(bits, symbols=None): # 1\n",
    "    circuit = cirq.Circuit()\n",
    "    q0, q1 = cirq.LineQubit(bits[0]), cirq.LineQubit(bits[1])\n",
    "    circuit += cirq.ry(symbols[0]).on(q1).controlled_by(q0)\n",
    "    return circuit\n",
    "function_mappings = {\"convolution\":[(U_1,1), (U_2,1)], \"pooling\":[(V_1,1),(V_2,0)]}\n",
    "\n"
   ]
  },
  {
   "cell_type": "code",
   "execution_count": null,
   "id": "b14455f0-7b64-4b9f-a35b-314832982e95",
   "metadata": {},
   "outputs": [],
   "source": [
    "qcnn = Qcnn(16, function_mappings=function_mappings)\n",
    "\n",
    "qcnn = qcnn + (Qconv(2)+Qpool(1,\"outside\"))*4 \n",
    "circuit, symbols = convert_graph_to_circuit_cirq(qcnn)\n",
    "SVGCircuit(circuit)"
   ]
  },
  {
   "cell_type": "code",
   "execution_count": null,
   "id": "c4832803-0919-4e44-a20c-1e7c8845c211",
   "metadata": {},
   "outputs": [],
   "source": []
  }
 ],
 "metadata": {
  "kernelspec": {
   "display_name": "test10",
   "language": "python",
   "name": "test10"
  },
  "language_info": {
   "codemirror_mode": {
    "name": "ipython",
    "version": 3
   },
   "file_extension": ".py",
   "mimetype": "text/x-python",
   "name": "python",
   "nbconvert_exporter": "python",
   "pygments_lexer": "ipython3",
   "version": "3.8.1"
  }
 },
 "nbformat": 4,
 "nbformat_minor": 5
}
