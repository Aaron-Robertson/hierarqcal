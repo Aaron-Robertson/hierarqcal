{
 "cells": [
  {
   "cell_type": "markdown",
   "id": "55c5b911-523d-43cb-829d-1df2a22c40a4",
   "metadata": {},
   "source": [
    "# Example usage with pennylane\n",
    "This notebook shows some examples of generating Quantum Convolutional Neural Networks (QCNNs)"
   ]
  },
  {
   "cell_type": "markdown",
   "id": "1669c9a9-9853-49f3-86ca-765242d0670c",
   "metadata": {},
   "source": [
    "___\n",
    "*A cute robot building itself with artifical intelligence, pencil drawing -  generated with* [Dall$\\cdot$E 2](https://openai.com/dall-e-2/)\n",
    "\n",
    "<img src=\"../img/DALL·E 2022-08-17 11.48.32 - A cute robot building itself with artifical intelligence, pencil drawing.png\" alt=\"drawing\" width=\"200\"/>"
   ]
  },
  {
   "cell_type": "code",
   "execution_count": 19,
   "id": "0f4456dd-4514-485f-bbe0-75587f6e68b6",
   "metadata": {},
   "outputs": [],
   "source": [
    "# Load libraries\n",
    "import numpy as np\n",
    "from sympy import symbols,lambdify\n",
    "import pennylane as qml"
   ]
  },
  {
   "cell_type": "code",
   "execution_count": 2,
   "id": "7cac0ecd-9088-4489-8f6a-8dcb9df99e28",
   "metadata": {
    "tags": []
   },
   "outputs": [],
   "source": [
    "from dynamic_qcnn.pennylane import get_param_info_pennylane, execute_circuit_pennylane \n",
    "from dynamic_qcnn import (\n",
    "    Qcnn,\n",
    "    Qfree,\n",
    "    Qconv,\n",
    "    Qpool,\n",
    "    Qdense,\n",
    "    plot_graph,\n",
    ")"
   ]
  },
  {
   "cell_type": "code",
   "execution_count": 24,
   "id": "ec6f5a32-33b9-454d-8806-39f4991207a6",
   "metadata": {},
   "outputs": [],
   "source": [
    "sweep = lambdify(symbol_coef, [x for x in symbol_coef])"
   ]
  },
  {
   "cell_type": "code",
   "execution_count": 25,
   "id": "8a2b1b8e-b7c9-45d5-969c-bd8d5f7efa59",
   "metadata": {},
   "outputs": [
    {
     "name": "stdout",
     "output_type": "stream",
     "text": [
      "(x0, x1, x2)\n",
      "3\n",
      "{0: range(0, 1), 1: None, 2: range(1, 2), 3: None, 4: range(2, 3), 5: None}\n"
     ]
    }
   ],
   "source": [
    "m  = Qfree(8) + (Qconv(1) + Qpool(filter=\"right\"))*3\n",
    "\n",
    "symbol_coef, total_coef_count, coef_indices  = get_param_info_pennylane(m)\n",
    "print(symbol_coef)\n",
    "print(total_coef_count)\n",
    "print(coef_indices)"
   ]
  },
  {
   "cell_type": "code",
   "execution_count": 23,
   "id": "7feedb9f-0ee9-499d-af83-8e44090c800b",
   "metadata": {},
   "outputs": [
    {
     "data": {
      "text/plain": [
       "[1, 2, 3]"
      ]
     },
     "execution_count": 23,
     "metadata": {},
     "output_type": "execute_result"
    }
   ],
   "source": [
    "sweep = lambdify(symbol_coef, [x for x in symbol_coef])\n",
    "f(1,2,3)"
   ]
  },
  {
   "cell_type": "code",
   "execution_count": 33,
   "id": "5b7b0d9e-a416-4eda-90e6-4c0c3831e979",
   "metadata": {},
   "outputs": [
    {
     "ename": "TypeError",
     "evalue": "Cannot convert expression to float",
     "output_type": "error",
     "traceback": [
      "\u001b[0;31m---------------------------------------------------------------------------\u001b[0m",
      "\u001b[0;31mTypeError\u001b[0m                                 Traceback (most recent call last)",
      "Cell \u001b[0;32mIn[33], line 2\u001b[0m\n\u001b[1;32m      1\u001b[0m np\u001b[38;5;241m.\u001b[39mrandom\u001b[38;5;241m.\u001b[39muniform(\u001b[38;5;241m0\u001b[39m,np\u001b[38;5;241m.\u001b[39mpi,n_symbols)\n\u001b[0;32m----> 2\u001b[0m \u001b[43mnp\u001b[49m\u001b[38;5;241;43m.\u001b[39;49m\u001b[43marray\u001b[49m\u001b[43m(\u001b[49m\u001b[43msymbols\u001b[49m\u001b[43m(\u001b[49m\u001b[38;5;124;43mf\u001b[39;49m\u001b[38;5;124;43m'\u001b[39;49m\u001b[38;5;124;43mx0:3\u001b[39;49m\u001b[38;5;124;43m'\u001b[39;49m\u001b[43m)\u001b[49m\u001b[43m,\u001b[49m\u001b[43m \u001b[49m\u001b[43mdtype\u001b[49m\u001b[38;5;241;43m=\u001b[39;49m\u001b[43mnp\u001b[49m\u001b[38;5;241;43m.\u001b[39;49m\u001b[43mfloat32\u001b[49m\u001b[43m)\u001b[49m\n",
      "File \u001b[0;32m~/.pyenv/versions/test14/lib/python3.8/site-packages/sympy/core/expr.py:351\u001b[0m, in \u001b[0;36mExpr.__float__\u001b[0;34m(self)\u001b[0m\n\u001b[1;32m    349\u001b[0m \u001b[38;5;28;01mif\u001b[39;00m result\u001b[38;5;241m.\u001b[39mis_number \u001b[38;5;129;01mand\u001b[39;00m result\u001b[38;5;241m.\u001b[39mas_real_imag()[\u001b[38;5;241m1\u001b[39m]:\n\u001b[1;32m    350\u001b[0m     \u001b[38;5;28;01mraise\u001b[39;00m \u001b[38;5;167;01mTypeError\u001b[39;00m(\u001b[38;5;124m\"\u001b[39m\u001b[38;5;124mCannot convert complex to float\u001b[39m\u001b[38;5;124m\"\u001b[39m)\n\u001b[0;32m--> 351\u001b[0m \u001b[38;5;28;01mraise\u001b[39;00m \u001b[38;5;167;01mTypeError\u001b[39;00m(\u001b[38;5;124m\"\u001b[39m\u001b[38;5;124mCannot convert expression to float\u001b[39m\u001b[38;5;124m\"\u001b[39m)\n",
      "\u001b[0;31mTypeError\u001b[0m: Cannot convert expression to float"
     ]
    }
   ],
   "source": [
    "np.random.uniform(0,np.pi,n_symbols)\n",
    "np.array(symbols(f'x0:3', ), dtype=np.float32)"
   ]
  },
  {
   "cell_type": "code",
   "execution_count": 28,
   "id": "f08396be-d039-46b8-bc32-0c8056a5da5e",
   "metadata": {},
   "outputs": [
    {
     "ename": "NameError",
     "evalue": "name 'get_symbol_indices_pennylane' is not defined",
     "output_type": "error",
     "traceback": [
      "\u001b[0;31m---------------------------------------------------------------------------\u001b[0m",
      "\u001b[0;31mNameError\u001b[0m                                 Traceback (most recent call last)",
      "Cell \u001b[0;32mIn[28], line 13\u001b[0m\n\u001b[1;32m     10\u001b[0m params \u001b[38;5;241m=\u001b[39m sweep(\u001b[38;5;241m0.1\u001b[39m,\u001b[38;5;241m0.4\u001b[39m,\u001b[38;5;241m0.2\u001b[39m)\n\u001b[1;32m     12\u001b[0m qml\u001b[38;5;241m.\u001b[39mdrawer\u001b[38;5;241m.\u001b[39muse_style(\u001b[38;5;124m\"\u001b[39m\u001b[38;5;124mblack_white\u001b[39m\u001b[38;5;124m\"\u001b[39m)\n\u001b[0;32m---> 13\u001b[0m fig, ax \u001b[38;5;241m=\u001b[39m \u001b[43mqml\u001b[49m\u001b[38;5;241;43m.\u001b[39;49m\u001b[43mdraw_mpl\u001b[49m\u001b[43m(\u001b[49m\u001b[43mcircuit\u001b[49m\u001b[43m)\u001b[49m\u001b[43m(\u001b[49m\u001b[43mparams\u001b[49m\u001b[43m)\u001b[49m\n\u001b[1;32m     14\u001b[0m plt\u001b[38;5;241m.\u001b[39mshow()\n\u001b[1;32m     17\u001b[0m \u001b[38;5;66;03m# drawer = qml.draw(circuit)\u001b[39;00m\n\u001b[1;32m     18\u001b[0m \u001b[38;5;66;03m# print(drawer(params))\u001b[39;00m\n\u001b[1;32m     19\u001b[0m \u001b[38;5;66;03m# print(circuit(params))\u001b[39;00m\n",
      "File \u001b[0;32m~/.pyenv/versions/test14/lib/python3.8/site-packages/pennylane/drawer/draw.py:440\u001b[0m, in \u001b[0;36mdraw_mpl.<locals>.wrapper\u001b[0;34m(*args, **kwargs_qnode)\u001b[0m\n\u001b[1;32m    438\u001b[0m \u001b[38;5;28;01mtry\u001b[39;00m:\n\u001b[1;32m    439\u001b[0m     qnode\u001b[38;5;241m.\u001b[39mexpansion_strategy \u001b[38;5;241m=\u001b[39m expansion_strategy \u001b[38;5;129;01mor\u001b[39;00m original_expansion_strategy\n\u001b[0;32m--> 440\u001b[0m     \u001b[43mqnode\u001b[49m\u001b[38;5;241;43m.\u001b[39;49m\u001b[43mconstruct\u001b[49m\u001b[43m(\u001b[49m\u001b[43margs\u001b[49m\u001b[43m,\u001b[49m\u001b[43m \u001b[49m\u001b[43mkwargs_qnode\u001b[49m\u001b[43m)\u001b[49m\n\u001b[1;32m    441\u001b[0m \u001b[38;5;28;01mfinally\u001b[39;00m:\n\u001b[1;32m    442\u001b[0m     qnode\u001b[38;5;241m.\u001b[39mexpansion_strategy \u001b[38;5;241m=\u001b[39m original_expansion_strategy\n",
      "File \u001b[0;32m~/.pyenv/versions/test14/lib/python3.8/site-packages/pennylane/qnode.py:528\u001b[0m, in \u001b[0;36mQNode.construct\u001b[0;34m(self, args, kwargs)\u001b[0m\n\u001b[1;32m    525\u001b[0m \u001b[38;5;28mself\u001b[39m\u001b[38;5;241m.\u001b[39m_tape \u001b[38;5;241m=\u001b[39m qml\u001b[38;5;241m.\u001b[39mtape\u001b[38;5;241m.\u001b[39mQuantumTape()\n\u001b[1;32m    527\u001b[0m \u001b[38;5;28;01mwith\u001b[39;00m \u001b[38;5;28mself\u001b[39m\u001b[38;5;241m.\u001b[39mtape:\n\u001b[0;32m--> 528\u001b[0m     \u001b[38;5;28mself\u001b[39m\u001b[38;5;241m.\u001b[39m_qfunc_output \u001b[38;5;241m=\u001b[39m \u001b[38;5;28;43mself\u001b[39;49m\u001b[38;5;241;43m.\u001b[39;49m\u001b[43mfunc\u001b[49m\u001b[43m(\u001b[49m\u001b[38;5;241;43m*\u001b[39;49m\u001b[43margs\u001b[49m\u001b[43m,\u001b[49m\u001b[43m \u001b[49m\u001b[38;5;241;43m*\u001b[39;49m\u001b[38;5;241;43m*\u001b[39;49m\u001b[43mkwargs\u001b[49m\u001b[43m)\u001b[49m\n\u001b[1;32m    529\u001b[0m \u001b[38;5;28mself\u001b[39m\u001b[38;5;241m.\u001b[39m_tape\u001b[38;5;241m.\u001b[39m_qfunc_output \u001b[38;5;241m=\u001b[39m \u001b[38;5;28mself\u001b[39m\u001b[38;5;241m.\u001b[39m_qfunc_output\n\u001b[1;32m    531\u001b[0m params \u001b[38;5;241m=\u001b[39m \u001b[38;5;28mself\u001b[39m\u001b[38;5;241m.\u001b[39mtape\u001b[38;5;241m.\u001b[39mget_parameters(trainable_only\u001b[38;5;241m=\u001b[39m\u001b[38;5;28;01mFalse\u001b[39;00m)\n",
      "Cell \u001b[0;32mIn[28], line 5\u001b[0m, in \u001b[0;36mcircuit\u001b[0;34m(params)\u001b[0m\n\u001b[1;32m      3\u001b[0m \u001b[38;5;129m@qml\u001b[39m\u001b[38;5;241m.\u001b[39mqnode(dev)\n\u001b[1;32m      4\u001b[0m \u001b[38;5;28;01mdef\u001b[39;00m \u001b[38;5;21mcircuit\u001b[39m(params):\n\u001b[0;32m----> 5\u001b[0m     \u001b[43mexecute_circuit_pennylane\u001b[49m\u001b[43m(\u001b[49m\u001b[43mm\u001b[49m\u001b[43m,\u001b[49m\u001b[43m \u001b[49m\u001b[43mparams\u001b[49m\u001b[43m)\u001b[49m\n\u001b[1;32m      6\u001b[0m     \u001b[38;5;28;01mreturn\u001b[39;00m qml\u001b[38;5;241m.\u001b[39mexpval(qml\u001b[38;5;241m.\u001b[39mPauliZ(\u001b[38;5;241m1\u001b[39m))\n",
      "File \u001b[0;32m~/dev/projects/dynamic-qcnn/dynamic_qcnn/pennylane/pennylane_helper.py:49\u001b[0m, in \u001b[0;36mexecute_circuit_pennylane\u001b[0;34m(qcnn, symbols, coef_indices)\u001b[0m\n\u001b[1;32m     47\u001b[0m ind \u001b[38;5;241m=\u001b[39m \u001b[38;5;241m0\u001b[39m\n\u001b[1;32m     48\u001b[0m \u001b[38;5;28;01mif\u001b[39;00m coef_indices \u001b[38;5;241m==\u001b[39m \u001b[38;5;28;01mNone\u001b[39;00m:\n\u001b[0;32m---> 49\u001b[0m     coef_indices \u001b[38;5;241m=\u001b[39m \u001b[43mget_symbol_indices_pennylane\u001b[49m(qcnn\u001b[38;5;241m=\u001b[39mqcnn)\n\u001b[1;32m     50\u001b[0m \u001b[38;5;28;01mfor\u001b[39;00m layer \u001b[38;5;129;01min\u001b[39;00m qcnn:\n\u001b[1;32m     51\u001b[0m     \u001b[38;5;28;01mif\u001b[39;00m layer\u001b[38;5;241m.\u001b[39mis_default_mapping \u001b[38;5;129;01mand\u001b[39;00m layer\u001b[38;5;241m.\u001b[39mfunction_mapping \u001b[38;5;241m==\u001b[39m \u001b[38;5;28;01mNone\u001b[39;00m:\n",
      "\u001b[0;31mNameError\u001b[0m: name 'get_symbol_indices_pennylane' is not defined"
     ]
    }
   ],
   "source": [
    "dev = qml.device(\"default.qubit\", wires=[i+1 for i in range(8)])\n",
    "\n",
    "@qml.qnode(dev)\n",
    "def circuit(params):\n",
    "    execute_circuit_pennylane(m, params)\n",
    "    return qml.expval(qml.PauliZ(1))\n",
    "\n",
    "import matplotlib.pyplot as plt\n",
    "# params = np.random.uniform(0,np.pi,total_coef_count)\n",
    "params = sweep(0.1,0.4,0.2)\n",
    "\n",
    "qml.drawer.use_style(\"black_white\")\n",
    "fig, ax = qml.draw_mpl(circuit)(params)\n",
    "plt.show()\n",
    "\n",
    "\n",
    "# drawer = qml.draw(circuit)\n",
    "# print(drawer(params))\n",
    "# print(circuit(params))"
   ]
  },
  {
   "cell_type": "markdown",
   "id": "9fe29eed-5173-435a-89dd-931a0638795e",
   "metadata": {},
   "source": [
    "## Reverse binary tree"
   ]
  },
  {
   "cell_type": "code",
   "execution_count": null,
   "id": "0b78d2c5-853f-448b-aacb-34b9073ba890",
   "metadata": {},
   "outputs": [],
   "source": [
    "### Reverse binary tree\n",
    "N = 8\n",
    "# level 1\n",
    "m1_1 = Qconv(stride=1)\n",
    "m1_2 = Qpool(filter=\"left\")\n",
    "# level 2\n",
    "m2_1 = m1_1 + m1_2\n",
    "# level 3\n",
    "m3_1 = Qfree(N) + m2_1 * int(np.log2(N))\n",
    "\n",
    "circuit, symbols = convert_graph_to_circuit_cirq(m3_1)\n",
    "# m3_1 + Qfree([1,3,5]) + Qconv(5)+m3_1)*4\n",
    "SVGCircuit(circuit)"
   ]
  },
  {
   "cell_type": "markdown",
   "id": "fb59dad1-078f-4604-8c27-5dc800f428e7",
   "metadata": {},
   "source": [
    "### More arbitrary examples to show what is possible"
   ]
  },
  {
   "cell_type": "code",
   "execution_count": null,
   "id": "cc563ad9-b1f1-49a0-ba6c-2a1b198d4035",
   "metadata": {},
   "outputs": [],
   "source": [
    "m1 = Qfree(6)+Qconv()\n",
    "m2 = m1 + Qpool(1, \"000101\")\n",
    "m3 = m2 + Qfree(8) + Qconv(1) + Qpool(2,\"11111110\")\n",
    "m4 = m3 + Qfree(4) + (Qconv(1)+Qpool(0,\"even\"))*2\n",
    "m5 = m4 + m4\n",
    "circuit, symbols = convert_graph_to_circuit_cirq(m5)\n",
    "SVGCircuit(circuit)"
   ]
  },
  {
   "cell_type": "code",
   "execution_count": null,
   "id": "b295f146-8fa5-4cd2-847f-db06b79f51f3",
   "metadata": {},
   "outputs": [],
   "source": [
    "N = 8\n",
    "# level 1\n",
    "m1_1 = Qconv(2)\n",
    "m1_2 = Qpool(filter=\"left\")\n",
    "# level 2\n",
    "m2_1 = m1_1 + m1_2\n",
    "# level 3\n",
    "m3_1 = Qfree(N) + m2_1 * int(np.log2(N))\n",
    "\n",
    "circuit, symbols = convert_graph_to_circuit_cirq(\n",
    "    (m3_1 + Qfree([1, 3, 5]) + Qconv(5) + m3_1) * 4\n",
    ")\n",
    "SVGCircuit(circuit)"
   ]
  },
  {
   "cell_type": "markdown",
   "id": "fd865c61-a965-4a02-9645-3f58841a8341",
   "metadata": {},
   "source": [
    "## Multiscale Entanglement Renormalization Ansatz (MERA)"
   ]
  },
  {
   "cell_type": "code",
   "execution_count": null,
   "id": "e7d55491-29fd-490c-9f43-719cd0a6d207",
   "metadata": {},
   "outputs": [],
   "source": [
    "### MERA like\n",
    "N = 8\n",
    "# level 1\n",
    "m1_1 = Qconv(1, 2)\n",
    "m1_2 = Qconv(1, 2, 1)\n",
    "m1_3 = Qpool(filter=\"1001\")\n",
    "m1_4 = Qpool(2, filter=\"001001\")\n",
    "m1_5 = Qpool(filter=\"outside\")\n",
    "# level 2\n",
    "m2_1 = m1_2 + m1_1\n",
    "m2_2 = m1_3 + m1_4\n",
    "m2_3 = m1_5\n",
    "# level 3\n",
    "m3_1 = Qfree(N) + (m2_1 + m2_2) * 2 + m2_1\n",
    "\n",
    "circuit, symbols = convert_graph_to_circuit_cirq(m3_1)\n",
    "SVGCircuit(circuit)"
   ]
  },
  {
   "cell_type": "markdown",
   "id": "bb88b1e8-1eeb-445e-9d17-cd1cfc5b59e7",
   "metadata": {},
   "source": [
    "## Random QCNNs"
   ]
  },
  {
   "cell_type": "code",
   "execution_count": null,
   "id": "1de73952-5198-4784-8c0c-34b44209569f",
   "metadata": {},
   "outputs": [],
   "source": [
    "# More structure\n",
    "import random\n",
    "import operator\n",
    "from functools import reduce\n",
    "from dynamic_qcnn import Qmotifs\n",
    "\n",
    "N = 8\n",
    "M = Qcnn(N)\n",
    "n = len(M.tail.Q_avail)\n",
    "while n > 1:\n",
    "    p = [\n",
    "        Qpool(s_p, filter=i_filter)\n",
    "        for i_filter in (\"right\", \"left\", \"even\", \"odd\", \"inside\", \"outside\")\n",
    "        for s_p in range(n)\n",
    "    ]\n",
    "    c = [\n",
    "        Qconv(stride=s_c, step=s_t, offset=s_o)\n",
    "        for s_c in range(1, n, 1)\n",
    "        for s_t in range(1, 2, 1)\n",
    "        for s_o in range(n)\n",
    "    ]# + [Qdense()]\n",
    "    M = M + random.choice(c) + random.choice(p)\n",
    "    n = len(M.head.Q_avail)\n",
    "\n",
    "circuit, symbols = convert_graph_to_circuit_cirq(M)\n",
    "SVGCircuit(circuit)"
   ]
  },
  {
   "cell_type": "code",
   "execution_count": null,
   "id": "05e3ba8c-5f7c-462c-9990-41b50f4ced68",
   "metadata": {},
   "outputs": [],
   "source": [
    "# loose\n",
    "import random\n",
    "import operator\n",
    "from functools import reduce\n",
    "from dynamic_qcnn import Qmotifs\n",
    "\n",
    "N = 8\n",
    "M = Qcnn(N)\n",
    "n = len(M.tail.Q_avail)\n",
    "while n > 1:\n",
    "    p = [Qpool(s_p, filter=i_filter) for i_filter in (\"right\", \"left\", \"even\", \"odd\", \"inside\", \"outside\") for s_p in range(n)]\n",
    "    c = [Qconv(stride=s_c, step=s_t, offset=s_o) for s_c in range(1, n, 1) for s_t in range(1, 2, 1) for s_o in range(n)]+ [Qdense()]\n",
    "    M = M + random.choice(c) + random.choice(p)\n",
    "    n = len(M.head.Q_avail)\n",
    "\n",
    "circuit, symbols = convert_graph_to_circuit_cirq(M)\n",
    "SVGCircuit(circuit)"
   ]
  },
  {
   "cell_type": "markdown",
   "id": "bede20f2-cee9-47a1-ad28-6a7fca604625",
   "metadata": {},
   "source": [
    "## Specifying unitaries"
   ]
  },
  {
   "cell_type": "code",
   "execution_count": null,
   "id": "5a2332df-b595-43be-b5a6-b1c57c466d09",
   "metadata": {},
   "outputs": [],
   "source": [
    "# Pooling circuit\n",
    "def V(bits, symbols=None):\n",
    "    circuit = cirq.Circuit()\n",
    "    q0, q1 = cirq.LineQubit(bits[0]), cirq.LineQubit(bits[1])\n",
    "    circuit += cirq.rz(symbols[0]).on(q1)\n",
    "    circuit += cirq.CNOT(q1, q0)\n",
    "    circuit += cirq.rz(symbols[1]).on(q0)\n",
    "    circuit += cirq.ry(symbols[2]).on(q1)\n",
    "    circuit += cirq.CNOT(q0, q1)\n",
    "    circuit += cirq.ry(symbols[3]).on(q1)\n",
    "    return circuit\n",
    "\n",
    "\n",
    "# Convolution circuit\n",
    "def U(bits, symbols=None):\n",
    "    circuit = cirq.Circuit()\n",
    "    q0, q1 = cirq.LineQubit(bits[0]), cirq.LineQubit(bits[1])\n",
    "    circuit += cirq.rz(symbols[0]).on(q1)\n",
    "    circuit += cirq.CNOT(q1, q0)\n",
    "    circuit += cirq.rz(symbols[1]).on(q0)\n",
    "    circuit += cirq.ry(symbols[2]).on(q1)\n",
    "    circuit += cirq.CNOT(q0, q1)\n",
    "    circuit += cirq.ry(symbols[3]).on(q1)\n",
    "    circuit += cirq.CNOT(q1, q0)\n",
    "    circuit += cirq.rz(symbols[4]).on(q0)\n",
    "    return circuit"
   ]
  },
  {
   "cell_type": "code",
   "execution_count": null,
   "id": "c7a98534-f932-4cdf-95ae-695e1ab9dca6",
   "metadata": {},
   "outputs": [],
   "source": [
    "M = Qfree(8) + (Qconv(1, convolution_mapping=(U, 5)) + Qpool(filter=\"left\", pooling_mapping=(V, 4)))* 3\n",
    "circuit, symbols = convert_graph_to_circuit_cirq(M)"
   ]
  },
  {
   "cell_type": "code",
   "execution_count": null,
   "id": "42506c87-eec7-438d-b953-d75c754ce9d0",
   "metadata": {},
   "outputs": [],
   "source": [
    "SVGCircuit(circuit)"
   ]
  },
  {
   "cell_type": "markdown",
   "id": "36f659c8-5857-4b44-bfbf-18378b89ac6c",
   "metadata": {},
   "source": [
    "### Cycle through unitary ansatzes"
   ]
  },
  {
   "cell_type": "code",
   "execution_count": null,
   "id": "f387216f-df07-45c7-b32e-c5df465fffde",
   "metadata": {},
   "outputs": [],
   "source": [
    "# Pooling circuit\n",
    "def V_1(bits, symbols=None): # 1\n",
    "    circuit = cirq.Circuit()\n",
    "    q0, q1 = cirq.LineQubit(bits[0]), cirq.LineQubit(bits[1])\n",
    "    circuit += cirq.rx(symbols[0]).on(q1).controlled_by(q0)\n",
    "\n",
    "    return circuit\n",
    "def V_2(bits, symbols=None): # 0\n",
    "    circuit = cirq.Circuit()\n",
    "    q0, q1 = cirq.LineQubit(bits[0]), cirq.LineQubit(bits[1])\n",
    "    circuit += cirq.CNOT(q0, q1)\n",
    "    return circuit\n",
    "\n",
    "\n",
    "# Convolution circuit\n",
    "def U_1(bits, symbols=None): # 1\n",
    "    circuit = cirq.Circuit()\n",
    "    q0, q1 = cirq.LineQubit(bits[0]), cirq.LineQubit(bits[1])\n",
    "    circuit += cirq.rz(symbols[0]).on(q1).controlled_by(q0)\n",
    "    return circuit\n",
    "\n",
    "def U_2(bits, symbols=None): # 1\n",
    "    circuit = cirq.Circuit()\n",
    "    q0, q1 = cirq.LineQubit(bits[0]), cirq.LineQubit(bits[1])\n",
    "    circuit += cirq.ry(symbols[0]).on(q1).controlled_by(q0)\n",
    "    return circuit\n",
    "function_mappings = {\"convolution\":[(U_1,1), (U_2,1)], \"pooling\":[(V_1,1),(V_2,0)]}\n",
    "\n"
   ]
  },
  {
   "cell_type": "code",
   "execution_count": null,
   "id": "b14455f0-7b64-4b9f-a35b-314832982e95",
   "metadata": {},
   "outputs": [],
   "source": [
    "qcnn = Qcnn(16, function_mappings=function_mappings)\n",
    "\n",
    "qcnn = qcnn + (Qconv(2)+Qpool(1,\"outside\"))*4 \n",
    "circuit, symbols = convert_graph_to_circuit_cirq(qcnn)\n",
    "SVGCircuit(circuit)"
   ]
  },
  {
   "cell_type": "code",
   "execution_count": null,
   "id": "c4832803-0919-4e44-a20c-1e7c8845c211",
   "metadata": {},
   "outputs": [],
   "source": []
  }
 ],
 "metadata": {
  "kernelspec": {
   "display_name": "test14",
   "language": "python",
   "name": "test14"
  },
  "language_info": {
   "codemirror_mode": {
    "name": "ipython",
    "version": 3
   },
   "file_extension": ".py",
   "mimetype": "text/x-python",
   "name": "python",
   "nbconvert_exporter": "python",
   "pygments_lexer": "ipython3",
   "version": "3.8.1"
  }
 },
 "nbformat": 4,
 "nbformat_minor": 5
}
