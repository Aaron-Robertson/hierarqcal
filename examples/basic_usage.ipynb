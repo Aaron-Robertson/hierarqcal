{
 "cells": [
  {
   "cell_type": "code",
   "execution_count": null,
   "id": "c092e322-8680-4f10-9469-c9a0f70638d4",
   "metadata": {},
   "outputs": [],
   "source": []
  }
 ],
 "metadata": {
  "kernelspec": {
   "display_name": "env_cirq",
   "language": "python",
   "name": "env_cirq"
  },
  "language_info": {
   "codemirror_mode": {
    "name": "ipython",
    "version": 3
   },
   "file_extension": ".py",
   "mimetype": "text/x-python",
   "name": "python",
   "nbconvert_exporter": "python",
   "pygments_lexer": "ipython3",
   "version": "3.8.1"
  }
 },
 "nbformat": 4,
 "nbformat_minor": 5
}
